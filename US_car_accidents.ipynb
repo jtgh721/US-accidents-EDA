{
  "nbformat": 4,
  "nbformat_minor": 0,
  "metadata": {
    "colab": {
      "name": "US_car_accidents.ipynb",
      "provenance": []
    },
    "kernelspec": {
      "name": "python3",
      "display_name": "Python 3"
    },
    "language_info": {
      "name": "python"
    }
  },
  "cells": [
    {
      "cell_type": "code",
      "execution_count": null,
      "metadata": {
        "colab": {
          "base_uri": "https://localhost:8080/"
        },
        "id": "80yk13C3zRnn",
        "outputId": "72c7f94b-01ba-4a2e-c0f5-e51ac5339b70"
      },
      "outputs": [
        {
          "output_type": "stream",
          "name": "stdout",
          "text": [
            "Looking in indexes: https://pypi.org/simple, https://us-python.pkg.dev/colab-wheels/public/simple/\n",
            "Collecting opendatasets\n",
            "  Downloading opendatasets-0.1.22-py3-none-any.whl (15 kB)\n",
            "Requirement already satisfied: kaggle in /usr/local/lib/python3.7/dist-packages (from opendatasets) (1.5.12)\n",
            "Requirement already satisfied: click in /usr/local/lib/python3.7/dist-packages (from opendatasets) (7.1.2)\n",
            "Requirement already satisfied: tqdm in /usr/local/lib/python3.7/dist-packages (from opendatasets) (4.64.0)\n",
            "Requirement already satisfied: six>=1.10 in /usr/local/lib/python3.7/dist-packages (from kaggle->opendatasets) (1.15.0)\n",
            "Requirement already satisfied: certifi in /usr/local/lib/python3.7/dist-packages (from kaggle->opendatasets) (2022.6.15)\n",
            "Requirement already satisfied: requests in /usr/local/lib/python3.7/dist-packages (from kaggle->opendatasets) (2.23.0)\n",
            "Requirement already satisfied: urllib3 in /usr/local/lib/python3.7/dist-packages (from kaggle->opendatasets) (1.24.3)\n",
            "Requirement already satisfied: python-dateutil in /usr/local/lib/python3.7/dist-packages (from kaggle->opendatasets) (2.8.2)\n",
            "Requirement already satisfied: python-slugify in /usr/local/lib/python3.7/dist-packages (from kaggle->opendatasets) (6.1.2)\n",
            "Requirement already satisfied: text-unidecode>=1.3 in /usr/local/lib/python3.7/dist-packages (from python-slugify->kaggle->opendatasets) (1.3)\n",
            "Requirement already satisfied: idna<3,>=2.5 in /usr/local/lib/python3.7/dist-packages (from requests->kaggle->opendatasets) (2.10)\n",
            "Requirement already satisfied: chardet<4,>=3.0.2 in /usr/local/lib/python3.7/dist-packages (from requests->kaggle->opendatasets) (3.0.4)\n",
            "Installing collected packages: opendatasets\n",
            "Successfully installed opendatasets-0.1.22\n"
          ]
        }
      ],
      "source": [
        "pip install opendatasets --upgrade\n"
      ]
    },
    {
      "cell_type": "markdown",
      "source": [
        "##Download the data"
      ],
      "metadata": {
        "id": "kvcmmaRC3A-s"
      }
    },
    {
      "cell_type": "code",
      "source": [
        "import opendatasets as od\n",
        "\n",
        "download_url = 'https://www.kaggle.com/sobhanmoosavi/us-accidents'\n",
        "\n",
        "od.download(download_url)"
      ],
      "metadata": {
        "colab": {
          "base_uri": "https://localhost:8080/"
        },
        "id": "Ona4fPRN3ACl",
        "outputId": "85bbb30e-ee6b-41b4-c751-4400934e4e5d"
      },
      "execution_count": null,
      "outputs": [
        {
          "output_type": "stream",
          "name": "stdout",
          "text": [
            "Please provide your Kaggle credentials to download this dataset. Learn more: http://bit.ly/kaggle-creds\n",
            "Your Kaggle username: jtgh721\n",
            "Your Kaggle Key: ··········\n",
            "Downloading us-accidents.zip to ./us-accidents\n"
          ]
        },
        {
          "output_type": "stream",
          "name": "stderr",
          "text": [
            "100%|██████████| 269M/269M [00:02<00:00, 132MB/s]\n"
          ]
        },
        {
          "output_type": "stream",
          "name": "stdout",
          "text": [
            "\n"
          ]
        }
      ]
    },
    {
      "cell_type": "code",
      "source": [
        "data_filename = './us-accidents/US_Accidents_Dec21_updated.csv'\n"
      ],
      "metadata": {
        "id": "_IMJbgyC7RQq"
      },
      "execution_count": null,
      "outputs": []
    },
    {
      "cell_type": "markdown",
      "source": [
        "##Data preparation and cleaning\n",
        "\n",
        "\n",
        "- Load the file using Pandas\n",
        "- Look at some information about the data & the columns\n",
        "- Fix any missing or incorrect values\n",
        "\n",
        "df.head(10)\n",
        "df.info()\n",
        "df.describe()\n",
        "df.select_dtypes()\n"
      ],
      "metadata": {
        "id": "Nm3h-w687pz2"
      }
    },
    {
      "cell_type": "code",
      "source": [
        "import pandas as pd\n",
        "\n",
        "df = pd.read_csv(data_filename)\n",
        "\n",
        "df"
      ],
      "metadata": {
        "colab": {
          "base_uri": "https://localhost:8080/",
          "height": 939
        },
        "id": "C_Eupte27tvS",
        "outputId": "3b679b80-3a49-4e68-f2f1-96dfd19ec578"
      },
      "execution_count": null,
      "outputs": [
        {
          "output_type": "execute_result",
          "data": {
            "text/plain": [
              "                ID  Severity           Start_Time             End_Time  \\\n",
              "0              A-1         3  2016-02-08 00:37:08  2016-02-08 06:37:08   \n",
              "1              A-2         2  2016-02-08 05:56:20  2016-02-08 11:56:20   \n",
              "2              A-3         2  2016-02-08 06:15:39  2016-02-08 12:15:39   \n",
              "3              A-4         2  2016-02-08 06:51:45  2016-02-08 12:51:45   \n",
              "4              A-5         3  2016-02-08 07:53:43  2016-02-08 13:53:43   \n",
              "...            ...       ...                  ...                  ...   \n",
              "2845337  A-2845338         2  2019-08-23 18:03:25  2019-08-23 18:32:01   \n",
              "2845338  A-2845339         2  2019-08-23 19:11:30  2019-08-23 19:38:23   \n",
              "2845339  A-2845340         2  2019-08-23 19:00:21  2019-08-23 19:28:49   \n",
              "2845340  A-2845341         2  2019-08-23 19:00:21  2019-08-23 19:29:42   \n",
              "2845341  A-2845342         2  2019-08-23 18:52:06  2019-08-23 19:21:31   \n",
              "\n",
              "         Start_Lat   Start_Lng    End_Lat     End_Lng  Distance(mi)  \\\n",
              "0        40.108910  -83.092860  40.112060  -83.031870         3.230   \n",
              "1        39.865420  -84.062800  39.865010  -84.048730         0.747   \n",
              "2        39.102660  -84.524680  39.102090  -84.523960         0.055   \n",
              "3        41.062130  -81.537840  41.062170  -81.535470         0.123   \n",
              "4        39.172393  -84.492792  39.170476  -84.501798         0.500   \n",
              "...            ...         ...        ...         ...           ...   \n",
              "2845337  34.002480 -117.379360  33.998880 -117.370940         0.543   \n",
              "2845338  32.766960 -117.148060  32.765550 -117.153630         0.338   \n",
              "2845339  33.775450 -117.847790  33.777400 -117.857270         0.561   \n",
              "2845340  33.992460 -118.403020  33.983110 -118.395650         0.772   \n",
              "2845341  34.133930 -117.230920  34.137360 -117.239340         0.537   \n",
              "\n",
              "                                               Description  ...  Roundabout  \\\n",
              "0        Between Sawmill Rd/Exit 20 and OH-315/Olentang...  ...       False   \n",
              "1                       At OH-4/OH-235/Exit 41 - Accident.  ...       False   \n",
              "2                         At I-71/US-50/Exit 1 - Accident.  ...       False   \n",
              "3                          At Dart Ave/Exit 21 - Accident.  ...       False   \n",
              "4                       At Mitchell Ave/Exit 6 - Accident.  ...       False   \n",
              "...                                                    ...  ...         ...   \n",
              "2845337                           At Market St - Accident.  ...       False   \n",
              "2845338    At Camino Del Rio/Mission Center Rd - Accident.  ...       False   \n",
              "2845339  At Glassell St/Grand Ave - Accident. in the ri...  ...       False   \n",
              "2845340     At CA-90/Marina Fwy/Jefferson Blvd - Accident.  ...       False   \n",
              "2845341              At Highland Ave/Arden Ave - Accident.  ...       False   \n",
              "\n",
              "        Station   Stop Traffic_Calming Traffic_Signal Turning_Loop  \\\n",
              "0         False  False           False          False        False   \n",
              "1         False  False           False          False        False   \n",
              "2         False  False           False          False        False   \n",
              "3         False  False           False          False        False   \n",
              "4         False  False           False          False        False   \n",
              "...         ...    ...             ...            ...          ...   \n",
              "2845337   False  False           False          False        False   \n",
              "2845338   False  False           False          False        False   \n",
              "2845339   False  False           False          False        False   \n",
              "2845340   False  False           False          False        False   \n",
              "2845341   False  False           False          False        False   \n",
              "\n",
              "        Sunrise_Sunset Civil_Twilight Nautical_Twilight Astronomical_Twilight  \n",
              "0                Night          Night             Night                 Night  \n",
              "1                Night          Night             Night                 Night  \n",
              "2                Night          Night             Night                   Day  \n",
              "3                Night          Night               Day                   Day  \n",
              "4                  Day            Day               Day                   Day  \n",
              "...                ...            ...               ...                   ...  \n",
              "2845337            Day            Day               Day                   Day  \n",
              "2845338            Day            Day               Day                   Day  \n",
              "2845339            Day            Day               Day                   Day  \n",
              "2845340            Day            Day               Day                   Day  \n",
              "2845341            Day            Day               Day                   Day  \n",
              "\n",
              "[2845342 rows x 47 columns]"
            ],
            "text/html": [
              "\n",
              "  <div id=\"df-77c59d8f-f9b8-4b68-9daa-74c1a045074b\">\n",
              "    <div class=\"colab-df-container\">\n",
              "      <div>\n",
              "<style scoped>\n",
              "    .dataframe tbody tr th:only-of-type {\n",
              "        vertical-align: middle;\n",
              "    }\n",
              "\n",
              "    .dataframe tbody tr th {\n",
              "        vertical-align: top;\n",
              "    }\n",
              "\n",
              "    .dataframe thead th {\n",
              "        text-align: right;\n",
              "    }\n",
              "</style>\n",
              "<table border=\"1\" class=\"dataframe\">\n",
              "  <thead>\n",
              "    <tr style=\"text-align: right;\">\n",
              "      <th></th>\n",
              "      <th>ID</th>\n",
              "      <th>Severity</th>\n",
              "      <th>Start_Time</th>\n",
              "      <th>End_Time</th>\n",
              "      <th>Start_Lat</th>\n",
              "      <th>Start_Lng</th>\n",
              "      <th>End_Lat</th>\n",
              "      <th>End_Lng</th>\n",
              "      <th>Distance(mi)</th>\n",
              "      <th>Description</th>\n",
              "      <th>...</th>\n",
              "      <th>Roundabout</th>\n",
              "      <th>Station</th>\n",
              "      <th>Stop</th>\n",
              "      <th>Traffic_Calming</th>\n",
              "      <th>Traffic_Signal</th>\n",
              "      <th>Turning_Loop</th>\n",
              "      <th>Sunrise_Sunset</th>\n",
              "      <th>Civil_Twilight</th>\n",
              "      <th>Nautical_Twilight</th>\n",
              "      <th>Astronomical_Twilight</th>\n",
              "    </tr>\n",
              "  </thead>\n",
              "  <tbody>\n",
              "    <tr>\n",
              "      <th>0</th>\n",
              "      <td>A-1</td>\n",
              "      <td>3</td>\n",
              "      <td>2016-02-08 00:37:08</td>\n",
              "      <td>2016-02-08 06:37:08</td>\n",
              "      <td>40.108910</td>\n",
              "      <td>-83.092860</td>\n",
              "      <td>40.112060</td>\n",
              "      <td>-83.031870</td>\n",
              "      <td>3.230</td>\n",
              "      <td>Between Sawmill Rd/Exit 20 and OH-315/Olentang...</td>\n",
              "      <td>...</td>\n",
              "      <td>False</td>\n",
              "      <td>False</td>\n",
              "      <td>False</td>\n",
              "      <td>False</td>\n",
              "      <td>False</td>\n",
              "      <td>False</td>\n",
              "      <td>Night</td>\n",
              "      <td>Night</td>\n",
              "      <td>Night</td>\n",
              "      <td>Night</td>\n",
              "    </tr>\n",
              "    <tr>\n",
              "      <th>1</th>\n",
              "      <td>A-2</td>\n",
              "      <td>2</td>\n",
              "      <td>2016-02-08 05:56:20</td>\n",
              "      <td>2016-02-08 11:56:20</td>\n",
              "      <td>39.865420</td>\n",
              "      <td>-84.062800</td>\n",
              "      <td>39.865010</td>\n",
              "      <td>-84.048730</td>\n",
              "      <td>0.747</td>\n",
              "      <td>At OH-4/OH-235/Exit 41 - Accident.</td>\n",
              "      <td>...</td>\n",
              "      <td>False</td>\n",
              "      <td>False</td>\n",
              "      <td>False</td>\n",
              "      <td>False</td>\n",
              "      <td>False</td>\n",
              "      <td>False</td>\n",
              "      <td>Night</td>\n",
              "      <td>Night</td>\n",
              "      <td>Night</td>\n",
              "      <td>Night</td>\n",
              "    </tr>\n",
              "    <tr>\n",
              "      <th>2</th>\n",
              "      <td>A-3</td>\n",
              "      <td>2</td>\n",
              "      <td>2016-02-08 06:15:39</td>\n",
              "      <td>2016-02-08 12:15:39</td>\n",
              "      <td>39.102660</td>\n",
              "      <td>-84.524680</td>\n",
              "      <td>39.102090</td>\n",
              "      <td>-84.523960</td>\n",
              "      <td>0.055</td>\n",
              "      <td>At I-71/US-50/Exit 1 - Accident.</td>\n",
              "      <td>...</td>\n",
              "      <td>False</td>\n",
              "      <td>False</td>\n",
              "      <td>False</td>\n",
              "      <td>False</td>\n",
              "      <td>False</td>\n",
              "      <td>False</td>\n",
              "      <td>Night</td>\n",
              "      <td>Night</td>\n",
              "      <td>Night</td>\n",
              "      <td>Day</td>\n",
              "    </tr>\n",
              "    <tr>\n",
              "      <th>3</th>\n",
              "      <td>A-4</td>\n",
              "      <td>2</td>\n",
              "      <td>2016-02-08 06:51:45</td>\n",
              "      <td>2016-02-08 12:51:45</td>\n",
              "      <td>41.062130</td>\n",
              "      <td>-81.537840</td>\n",
              "      <td>41.062170</td>\n",
              "      <td>-81.535470</td>\n",
              "      <td>0.123</td>\n",
              "      <td>At Dart Ave/Exit 21 - Accident.</td>\n",
              "      <td>...</td>\n",
              "      <td>False</td>\n",
              "      <td>False</td>\n",
              "      <td>False</td>\n",
              "      <td>False</td>\n",
              "      <td>False</td>\n",
              "      <td>False</td>\n",
              "      <td>Night</td>\n",
              "      <td>Night</td>\n",
              "      <td>Day</td>\n",
              "      <td>Day</td>\n",
              "    </tr>\n",
              "    <tr>\n",
              "      <th>4</th>\n",
              "      <td>A-5</td>\n",
              "      <td>3</td>\n",
              "      <td>2016-02-08 07:53:43</td>\n",
              "      <td>2016-02-08 13:53:43</td>\n",
              "      <td>39.172393</td>\n",
              "      <td>-84.492792</td>\n",
              "      <td>39.170476</td>\n",
              "      <td>-84.501798</td>\n",
              "      <td>0.500</td>\n",
              "      <td>At Mitchell Ave/Exit 6 - Accident.</td>\n",
              "      <td>...</td>\n",
              "      <td>False</td>\n",
              "      <td>False</td>\n",
              "      <td>False</td>\n",
              "      <td>False</td>\n",
              "      <td>False</td>\n",
              "      <td>False</td>\n",
              "      <td>Day</td>\n",
              "      <td>Day</td>\n",
              "      <td>Day</td>\n",
              "      <td>Day</td>\n",
              "    </tr>\n",
              "    <tr>\n",
              "      <th>...</th>\n",
              "      <td>...</td>\n",
              "      <td>...</td>\n",
              "      <td>...</td>\n",
              "      <td>...</td>\n",
              "      <td>...</td>\n",
              "      <td>...</td>\n",
              "      <td>...</td>\n",
              "      <td>...</td>\n",
              "      <td>...</td>\n",
              "      <td>...</td>\n",
              "      <td>...</td>\n",
              "      <td>...</td>\n",
              "      <td>...</td>\n",
              "      <td>...</td>\n",
              "      <td>...</td>\n",
              "      <td>...</td>\n",
              "      <td>...</td>\n",
              "      <td>...</td>\n",
              "      <td>...</td>\n",
              "      <td>...</td>\n",
              "      <td>...</td>\n",
              "    </tr>\n",
              "    <tr>\n",
              "      <th>2845337</th>\n",
              "      <td>A-2845338</td>\n",
              "      <td>2</td>\n",
              "      <td>2019-08-23 18:03:25</td>\n",
              "      <td>2019-08-23 18:32:01</td>\n",
              "      <td>34.002480</td>\n",
              "      <td>-117.379360</td>\n",
              "      <td>33.998880</td>\n",
              "      <td>-117.370940</td>\n",
              "      <td>0.543</td>\n",
              "      <td>At Market St - Accident.</td>\n",
              "      <td>...</td>\n",
              "      <td>False</td>\n",
              "      <td>False</td>\n",
              "      <td>False</td>\n",
              "      <td>False</td>\n",
              "      <td>False</td>\n",
              "      <td>False</td>\n",
              "      <td>Day</td>\n",
              "      <td>Day</td>\n",
              "      <td>Day</td>\n",
              "      <td>Day</td>\n",
              "    </tr>\n",
              "    <tr>\n",
              "      <th>2845338</th>\n",
              "      <td>A-2845339</td>\n",
              "      <td>2</td>\n",
              "      <td>2019-08-23 19:11:30</td>\n",
              "      <td>2019-08-23 19:38:23</td>\n",
              "      <td>32.766960</td>\n",
              "      <td>-117.148060</td>\n",
              "      <td>32.765550</td>\n",
              "      <td>-117.153630</td>\n",
              "      <td>0.338</td>\n",
              "      <td>At Camino Del Rio/Mission Center Rd - Accident.</td>\n",
              "      <td>...</td>\n",
              "      <td>False</td>\n",
              "      <td>False</td>\n",
              "      <td>False</td>\n",
              "      <td>False</td>\n",
              "      <td>False</td>\n",
              "      <td>False</td>\n",
              "      <td>Day</td>\n",
              "      <td>Day</td>\n",
              "      <td>Day</td>\n",
              "      <td>Day</td>\n",
              "    </tr>\n",
              "    <tr>\n",
              "      <th>2845339</th>\n",
              "      <td>A-2845340</td>\n",
              "      <td>2</td>\n",
              "      <td>2019-08-23 19:00:21</td>\n",
              "      <td>2019-08-23 19:28:49</td>\n",
              "      <td>33.775450</td>\n",
              "      <td>-117.847790</td>\n",
              "      <td>33.777400</td>\n",
              "      <td>-117.857270</td>\n",
              "      <td>0.561</td>\n",
              "      <td>At Glassell St/Grand Ave - Accident. in the ri...</td>\n",
              "      <td>...</td>\n",
              "      <td>False</td>\n",
              "      <td>False</td>\n",
              "      <td>False</td>\n",
              "      <td>False</td>\n",
              "      <td>False</td>\n",
              "      <td>False</td>\n",
              "      <td>Day</td>\n",
              "      <td>Day</td>\n",
              "      <td>Day</td>\n",
              "      <td>Day</td>\n",
              "    </tr>\n",
              "    <tr>\n",
              "      <th>2845340</th>\n",
              "      <td>A-2845341</td>\n",
              "      <td>2</td>\n",
              "      <td>2019-08-23 19:00:21</td>\n",
              "      <td>2019-08-23 19:29:42</td>\n",
              "      <td>33.992460</td>\n",
              "      <td>-118.403020</td>\n",
              "      <td>33.983110</td>\n",
              "      <td>-118.395650</td>\n",
              "      <td>0.772</td>\n",
              "      <td>At CA-90/Marina Fwy/Jefferson Blvd - Accident.</td>\n",
              "      <td>...</td>\n",
              "      <td>False</td>\n",
              "      <td>False</td>\n",
              "      <td>False</td>\n",
              "      <td>False</td>\n",
              "      <td>False</td>\n",
              "      <td>False</td>\n",
              "      <td>Day</td>\n",
              "      <td>Day</td>\n",
              "      <td>Day</td>\n",
              "      <td>Day</td>\n",
              "    </tr>\n",
              "    <tr>\n",
              "      <th>2845341</th>\n",
              "      <td>A-2845342</td>\n",
              "      <td>2</td>\n",
              "      <td>2019-08-23 18:52:06</td>\n",
              "      <td>2019-08-23 19:21:31</td>\n",
              "      <td>34.133930</td>\n",
              "      <td>-117.230920</td>\n",
              "      <td>34.137360</td>\n",
              "      <td>-117.239340</td>\n",
              "      <td>0.537</td>\n",
              "      <td>At Highland Ave/Arden Ave - Accident.</td>\n",
              "      <td>...</td>\n",
              "      <td>False</td>\n",
              "      <td>False</td>\n",
              "      <td>False</td>\n",
              "      <td>False</td>\n",
              "      <td>False</td>\n",
              "      <td>False</td>\n",
              "      <td>Day</td>\n",
              "      <td>Day</td>\n",
              "      <td>Day</td>\n",
              "      <td>Day</td>\n",
              "    </tr>\n",
              "  </tbody>\n",
              "</table>\n",
              "<p>2845342 rows × 47 columns</p>\n",
              "</div>\n",
              "      <button class=\"colab-df-convert\" onclick=\"convertToInteractive('df-77c59d8f-f9b8-4b68-9daa-74c1a045074b')\"\n",
              "              title=\"Convert this dataframe to an interactive table.\"\n",
              "              style=\"display:none;\">\n",
              "        \n",
              "  <svg xmlns=\"http://www.w3.org/2000/svg\" height=\"24px\"viewBox=\"0 0 24 24\"\n",
              "       width=\"24px\">\n",
              "    <path d=\"M0 0h24v24H0V0z\" fill=\"none\"/>\n",
              "    <path d=\"M18.56 5.44l.94 2.06.94-2.06 2.06-.94-2.06-.94-.94-2.06-.94 2.06-2.06.94zm-11 1L8.5 8.5l.94-2.06 2.06-.94-2.06-.94L8.5 2.5l-.94 2.06-2.06.94zm10 10l.94 2.06.94-2.06 2.06-.94-2.06-.94-.94-2.06-.94 2.06-2.06.94z\"/><path d=\"M17.41 7.96l-1.37-1.37c-.4-.4-.92-.59-1.43-.59-.52 0-1.04.2-1.43.59L10.3 9.45l-7.72 7.72c-.78.78-.78 2.05 0 2.83L4 21.41c.39.39.9.59 1.41.59.51 0 1.02-.2 1.41-.59l7.78-7.78 2.81-2.81c.8-.78.8-2.07 0-2.86zM5.41 20L4 18.59l7.72-7.72 1.47 1.35L5.41 20z\"/>\n",
              "  </svg>\n",
              "      </button>\n",
              "      \n",
              "  <style>\n",
              "    .colab-df-container {\n",
              "      display:flex;\n",
              "      flex-wrap:wrap;\n",
              "      gap: 12px;\n",
              "    }\n",
              "\n",
              "    .colab-df-convert {\n",
              "      background-color: #E8F0FE;\n",
              "      border: none;\n",
              "      border-radius: 50%;\n",
              "      cursor: pointer;\n",
              "      display: none;\n",
              "      fill: #1967D2;\n",
              "      height: 32px;\n",
              "      padding: 0 0 0 0;\n",
              "      width: 32px;\n",
              "    }\n",
              "\n",
              "    .colab-df-convert:hover {\n",
              "      background-color: #E2EBFA;\n",
              "      box-shadow: 0px 1px 2px rgba(60, 64, 67, 0.3), 0px 1px 3px 1px rgba(60, 64, 67, 0.15);\n",
              "      fill: #174EA6;\n",
              "    }\n",
              "\n",
              "    [theme=dark] .colab-df-convert {\n",
              "      background-color: #3B4455;\n",
              "      fill: #D2E3FC;\n",
              "    }\n",
              "\n",
              "    [theme=dark] .colab-df-convert:hover {\n",
              "      background-color: #434B5C;\n",
              "      box-shadow: 0px 1px 3px 1px rgba(0, 0, 0, 0.15);\n",
              "      filter: drop-shadow(0px 1px 2px rgba(0, 0, 0, 0.3));\n",
              "      fill: #FFFFFF;\n",
              "    }\n",
              "  </style>\n",
              "\n",
              "      <script>\n",
              "        const buttonEl =\n",
              "          document.querySelector('#df-77c59d8f-f9b8-4b68-9daa-74c1a045074b button.colab-df-convert');\n",
              "        buttonEl.style.display =\n",
              "          google.colab.kernel.accessAllowed ? 'block' : 'none';\n",
              "\n",
              "        async function convertToInteractive(key) {\n",
              "          const element = document.querySelector('#df-77c59d8f-f9b8-4b68-9daa-74c1a045074b');\n",
              "          const dataTable =\n",
              "            await google.colab.kernel.invokeFunction('convertToInteractive',\n",
              "                                                     [key], {});\n",
              "          if (!dataTable) return;\n",
              "\n",
              "          const docLinkHtml = 'Like what you see? Visit the ' +\n",
              "            '<a target=\"_blank\" href=https://colab.research.google.com/notebooks/data_table.ipynb>data table notebook</a>'\n",
              "            + ' to learn more about interactive tables.';\n",
              "          element.innerHTML = '';\n",
              "          dataTable['output_type'] = 'display_data';\n",
              "          await google.colab.output.renderOutput(dataTable, element);\n",
              "          const docLink = document.createElement('div');\n",
              "          docLink.innerHTML = docLinkHtml;\n",
              "          element.appendChild(docLink);\n",
              "        }\n",
              "      </script>\n",
              "    </div>\n",
              "  </div>\n",
              "  "
            ]
          },
          "metadata": {},
          "execution_count": 5
        }
      ]
    },
    {
      "cell_type": "code",
      "source": [
        "from google.colab import drive\n",
        "drive.mount('/content/drive')"
      ],
      "metadata": {
        "id": "vga2b0yshmn9"
      },
      "execution_count": null,
      "outputs": []
    },
    {
      "cell_type": "code",
      "source": [
        "df.info()"
      ],
      "metadata": {
        "colab": {
          "base_uri": "https://localhost:8080/"
        },
        "id": "7QsF3tk89Gx1",
        "outputId": "096a8fb4-27cd-4fb0-a065-a2b1b22959af"
      },
      "execution_count": null,
      "outputs": [
        {
          "output_type": "stream",
          "name": "stdout",
          "text": [
            "<class 'pandas.core.frame.DataFrame'>\n",
            "RangeIndex: 2845342 entries, 0 to 2845341\n",
            "Data columns (total 47 columns):\n",
            " #   Column                 Dtype  \n",
            "---  ------                 -----  \n",
            " 0   ID                     object \n",
            " 1   Severity               int64  \n",
            " 2   Start_Time             object \n",
            " 3   End_Time               object \n",
            " 4   Start_Lat              float64\n",
            " 5   Start_Lng              float64\n",
            " 6   End_Lat                float64\n",
            " 7   End_Lng                float64\n",
            " 8   Distance(mi)           float64\n",
            " 9   Description            object \n",
            " 10  Number                 float64\n",
            " 11  Street                 object \n",
            " 12  Side                   object \n",
            " 13  City                   object \n",
            " 14  County                 object \n",
            " 15  State                  object \n",
            " 16  Zipcode                object \n",
            " 17  Country                object \n",
            " 18  Timezone               object \n",
            " 19  Airport_Code           object \n",
            " 20  Weather_Timestamp      object \n",
            " 21  Temperature(F)         float64\n",
            " 22  Wind_Chill(F)          float64\n",
            " 23  Humidity(%)            float64\n",
            " 24  Pressure(in)           float64\n",
            " 25  Visibility(mi)         float64\n",
            " 26  Wind_Direction         object \n",
            " 27  Wind_Speed(mph)        float64\n",
            " 28  Precipitation(in)      float64\n",
            " 29  Weather_Condition      object \n",
            " 30  Amenity                bool   \n",
            " 31  Bump                   bool   \n",
            " 32  Crossing               bool   \n",
            " 33  Give_Way               bool   \n",
            " 34  Junction               bool   \n",
            " 35  No_Exit                bool   \n",
            " 36  Railway                bool   \n",
            " 37  Roundabout             bool   \n",
            " 38  Station                bool   \n",
            " 39  Stop                   bool   \n",
            " 40  Traffic_Calming        bool   \n",
            " 41  Traffic_Signal         bool   \n",
            " 42  Turning_Loop           bool   \n",
            " 43  Sunrise_Sunset         object \n",
            " 44  Civil_Twilight         object \n",
            " 45  Nautical_Twilight      object \n",
            " 46  Astronomical_Twilight  object \n",
            "dtypes: bool(13), float64(13), int64(1), object(20)\n",
            "memory usage: 773.4+ MB\n"
          ]
        }
      ]
    },
    {
      "cell_type": "code",
      "source": [
        "df.describe()"
      ],
      "metadata": {
        "colab": {
          "base_uri": "https://localhost:8080/",
          "height": 364
        },
        "id": "rEBeVH62DB_E",
        "outputId": "2edbdb1c-7c46-49f5-b6d2-d131f33c91ef"
      },
      "execution_count": null,
      "outputs": [
        {
          "output_type": "execute_result",
          "data": {
            "text/plain": [
              "           Severity     Start_Lat     Start_Lng       End_Lat       End_Lng  \\\n",
              "count  2.845342e+06  2.845342e+06  2.845342e+06  2.845342e+06  2.845342e+06   \n",
              "mean   2.137572e+00  3.624520e+01 -9.711463e+01  3.624532e+01 -9.711439e+01   \n",
              "std    4.787216e-01  5.363797e+00  1.831782e+01  5.363873e+00  1.831763e+01   \n",
              "min    1.000000e+00  2.456603e+01 -1.245481e+02  2.456601e+01 -1.245457e+02   \n",
              "25%    2.000000e+00  3.344517e+01 -1.180331e+02  3.344628e+01 -1.180333e+02   \n",
              "50%    2.000000e+00  3.609861e+01 -9.241808e+01  3.609799e+01 -9.241772e+01   \n",
              "75%    2.000000e+00  4.016024e+01 -8.037243e+01  4.016105e+01 -8.037338e+01   \n",
              "max    4.000000e+00  4.900058e+01 -6.711317e+01  4.907500e+01 -6.710924e+01   \n",
              "\n",
              "       Distance(mi)        Number  Temperature(F)  Wind_Chill(F)  \\\n",
              "count  2.845342e+06  1.101431e+06    2.776068e+06   2.375699e+06   \n",
              "mean   7.026779e-01  8.089408e+03    6.179356e+01   5.965823e+01   \n",
              "std    1.560361e+00  1.836009e+04    1.862263e+01   2.116097e+01   \n",
              "min    0.000000e+00  0.000000e+00   -8.900000e+01  -8.900000e+01   \n",
              "25%    5.200000e-02  1.270000e+03    5.000000e+01   4.600000e+01   \n",
              "50%    2.440000e-01  4.007000e+03    6.400000e+01   6.300000e+01   \n",
              "75%    7.640000e-01  9.567000e+03    7.600000e+01   7.600000e+01   \n",
              "max    1.551860e+02  9.999997e+06    1.960000e+02   1.960000e+02   \n",
              "\n",
              "        Humidity(%)  Pressure(in)  Visibility(mi)  Wind_Speed(mph)  \\\n",
              "count  2.772250e+06  2.786142e+06    2.774796e+06     2.687398e+06   \n",
              "mean   6.436545e+01  2.947234e+01    9.099391e+00     7.395044e+00   \n",
              "std    2.287457e+01  1.045286e+00    2.717546e+00     5.527454e+00   \n",
              "min    1.000000e+00  0.000000e+00    0.000000e+00     0.000000e+00   \n",
              "25%    4.800000e+01  2.931000e+01    1.000000e+01     3.500000e+00   \n",
              "50%    6.700000e+01  2.982000e+01    1.000000e+01     7.000000e+00   \n",
              "75%    8.300000e+01  3.001000e+01    1.000000e+01     1.000000e+01   \n",
              "max    1.000000e+02  5.890000e+01    1.400000e+02     1.087000e+03   \n",
              "\n",
              "       Precipitation(in)  \n",
              "count       2.295884e+06  \n",
              "mean        7.016940e-03  \n",
              "std         9.348831e-02  \n",
              "min         0.000000e+00  \n",
              "25%         0.000000e+00  \n",
              "50%         0.000000e+00  \n",
              "75%         0.000000e+00  \n",
              "max         2.400000e+01  "
            ],
            "text/html": [
              "\n",
              "  <div id=\"df-519d76ca-0a10-4b32-b65a-55b0cc87ba74\">\n",
              "    <div class=\"colab-df-container\">\n",
              "      <div>\n",
              "<style scoped>\n",
              "    .dataframe tbody tr th:only-of-type {\n",
              "        vertical-align: middle;\n",
              "    }\n",
              "\n",
              "    .dataframe tbody tr th {\n",
              "        vertical-align: top;\n",
              "    }\n",
              "\n",
              "    .dataframe thead th {\n",
              "        text-align: right;\n",
              "    }\n",
              "</style>\n",
              "<table border=\"1\" class=\"dataframe\">\n",
              "  <thead>\n",
              "    <tr style=\"text-align: right;\">\n",
              "      <th></th>\n",
              "      <th>Severity</th>\n",
              "      <th>Start_Lat</th>\n",
              "      <th>Start_Lng</th>\n",
              "      <th>End_Lat</th>\n",
              "      <th>End_Lng</th>\n",
              "      <th>Distance(mi)</th>\n",
              "      <th>Number</th>\n",
              "      <th>Temperature(F)</th>\n",
              "      <th>Wind_Chill(F)</th>\n",
              "      <th>Humidity(%)</th>\n",
              "      <th>Pressure(in)</th>\n",
              "      <th>Visibility(mi)</th>\n",
              "      <th>Wind_Speed(mph)</th>\n",
              "      <th>Precipitation(in)</th>\n",
              "    </tr>\n",
              "  </thead>\n",
              "  <tbody>\n",
              "    <tr>\n",
              "      <th>count</th>\n",
              "      <td>2.845342e+06</td>\n",
              "      <td>2.845342e+06</td>\n",
              "      <td>2.845342e+06</td>\n",
              "      <td>2.845342e+06</td>\n",
              "      <td>2.845342e+06</td>\n",
              "      <td>2.845342e+06</td>\n",
              "      <td>1.101431e+06</td>\n",
              "      <td>2.776068e+06</td>\n",
              "      <td>2.375699e+06</td>\n",
              "      <td>2.772250e+06</td>\n",
              "      <td>2.786142e+06</td>\n",
              "      <td>2.774796e+06</td>\n",
              "      <td>2.687398e+06</td>\n",
              "      <td>2.295884e+06</td>\n",
              "    </tr>\n",
              "    <tr>\n",
              "      <th>mean</th>\n",
              "      <td>2.137572e+00</td>\n",
              "      <td>3.624520e+01</td>\n",
              "      <td>-9.711463e+01</td>\n",
              "      <td>3.624532e+01</td>\n",
              "      <td>-9.711439e+01</td>\n",
              "      <td>7.026779e-01</td>\n",
              "      <td>8.089408e+03</td>\n",
              "      <td>6.179356e+01</td>\n",
              "      <td>5.965823e+01</td>\n",
              "      <td>6.436545e+01</td>\n",
              "      <td>2.947234e+01</td>\n",
              "      <td>9.099391e+00</td>\n",
              "      <td>7.395044e+00</td>\n",
              "      <td>7.016940e-03</td>\n",
              "    </tr>\n",
              "    <tr>\n",
              "      <th>std</th>\n",
              "      <td>4.787216e-01</td>\n",
              "      <td>5.363797e+00</td>\n",
              "      <td>1.831782e+01</td>\n",
              "      <td>5.363873e+00</td>\n",
              "      <td>1.831763e+01</td>\n",
              "      <td>1.560361e+00</td>\n",
              "      <td>1.836009e+04</td>\n",
              "      <td>1.862263e+01</td>\n",
              "      <td>2.116097e+01</td>\n",
              "      <td>2.287457e+01</td>\n",
              "      <td>1.045286e+00</td>\n",
              "      <td>2.717546e+00</td>\n",
              "      <td>5.527454e+00</td>\n",
              "      <td>9.348831e-02</td>\n",
              "    </tr>\n",
              "    <tr>\n",
              "      <th>min</th>\n",
              "      <td>1.000000e+00</td>\n",
              "      <td>2.456603e+01</td>\n",
              "      <td>-1.245481e+02</td>\n",
              "      <td>2.456601e+01</td>\n",
              "      <td>-1.245457e+02</td>\n",
              "      <td>0.000000e+00</td>\n",
              "      <td>0.000000e+00</td>\n",
              "      <td>-8.900000e+01</td>\n",
              "      <td>-8.900000e+01</td>\n",
              "      <td>1.000000e+00</td>\n",
              "      <td>0.000000e+00</td>\n",
              "      <td>0.000000e+00</td>\n",
              "      <td>0.000000e+00</td>\n",
              "      <td>0.000000e+00</td>\n",
              "    </tr>\n",
              "    <tr>\n",
              "      <th>25%</th>\n",
              "      <td>2.000000e+00</td>\n",
              "      <td>3.344517e+01</td>\n",
              "      <td>-1.180331e+02</td>\n",
              "      <td>3.344628e+01</td>\n",
              "      <td>-1.180333e+02</td>\n",
              "      <td>5.200000e-02</td>\n",
              "      <td>1.270000e+03</td>\n",
              "      <td>5.000000e+01</td>\n",
              "      <td>4.600000e+01</td>\n",
              "      <td>4.800000e+01</td>\n",
              "      <td>2.931000e+01</td>\n",
              "      <td>1.000000e+01</td>\n",
              "      <td>3.500000e+00</td>\n",
              "      <td>0.000000e+00</td>\n",
              "    </tr>\n",
              "    <tr>\n",
              "      <th>50%</th>\n",
              "      <td>2.000000e+00</td>\n",
              "      <td>3.609861e+01</td>\n",
              "      <td>-9.241808e+01</td>\n",
              "      <td>3.609799e+01</td>\n",
              "      <td>-9.241772e+01</td>\n",
              "      <td>2.440000e-01</td>\n",
              "      <td>4.007000e+03</td>\n",
              "      <td>6.400000e+01</td>\n",
              "      <td>6.300000e+01</td>\n",
              "      <td>6.700000e+01</td>\n",
              "      <td>2.982000e+01</td>\n",
              "      <td>1.000000e+01</td>\n",
              "      <td>7.000000e+00</td>\n",
              "      <td>0.000000e+00</td>\n",
              "    </tr>\n",
              "    <tr>\n",
              "      <th>75%</th>\n",
              "      <td>2.000000e+00</td>\n",
              "      <td>4.016024e+01</td>\n",
              "      <td>-8.037243e+01</td>\n",
              "      <td>4.016105e+01</td>\n",
              "      <td>-8.037338e+01</td>\n",
              "      <td>7.640000e-01</td>\n",
              "      <td>9.567000e+03</td>\n",
              "      <td>7.600000e+01</td>\n",
              "      <td>7.600000e+01</td>\n",
              "      <td>8.300000e+01</td>\n",
              "      <td>3.001000e+01</td>\n",
              "      <td>1.000000e+01</td>\n",
              "      <td>1.000000e+01</td>\n",
              "      <td>0.000000e+00</td>\n",
              "    </tr>\n",
              "    <tr>\n",
              "      <th>max</th>\n",
              "      <td>4.000000e+00</td>\n",
              "      <td>4.900058e+01</td>\n",
              "      <td>-6.711317e+01</td>\n",
              "      <td>4.907500e+01</td>\n",
              "      <td>-6.710924e+01</td>\n",
              "      <td>1.551860e+02</td>\n",
              "      <td>9.999997e+06</td>\n",
              "      <td>1.960000e+02</td>\n",
              "      <td>1.960000e+02</td>\n",
              "      <td>1.000000e+02</td>\n",
              "      <td>5.890000e+01</td>\n",
              "      <td>1.400000e+02</td>\n",
              "      <td>1.087000e+03</td>\n",
              "      <td>2.400000e+01</td>\n",
              "    </tr>\n",
              "  </tbody>\n",
              "</table>\n",
              "</div>\n",
              "      <button class=\"colab-df-convert\" onclick=\"convertToInteractive('df-519d76ca-0a10-4b32-b65a-55b0cc87ba74')\"\n",
              "              title=\"Convert this dataframe to an interactive table.\"\n",
              "              style=\"display:none;\">\n",
              "        \n",
              "  <svg xmlns=\"http://www.w3.org/2000/svg\" height=\"24px\"viewBox=\"0 0 24 24\"\n",
              "       width=\"24px\">\n",
              "    <path d=\"M0 0h24v24H0V0z\" fill=\"none\"/>\n",
              "    <path d=\"M18.56 5.44l.94 2.06.94-2.06 2.06-.94-2.06-.94-.94-2.06-.94 2.06-2.06.94zm-11 1L8.5 8.5l.94-2.06 2.06-.94-2.06-.94L8.5 2.5l-.94 2.06-2.06.94zm10 10l.94 2.06.94-2.06 2.06-.94-2.06-.94-.94-2.06-.94 2.06-2.06.94z\"/><path d=\"M17.41 7.96l-1.37-1.37c-.4-.4-.92-.59-1.43-.59-.52 0-1.04.2-1.43.59L10.3 9.45l-7.72 7.72c-.78.78-.78 2.05 0 2.83L4 21.41c.39.39.9.59 1.41.59.51 0 1.02-.2 1.41-.59l7.78-7.78 2.81-2.81c.8-.78.8-2.07 0-2.86zM5.41 20L4 18.59l7.72-7.72 1.47 1.35L5.41 20z\"/>\n",
              "  </svg>\n",
              "      </button>\n",
              "      \n",
              "  <style>\n",
              "    .colab-df-container {\n",
              "      display:flex;\n",
              "      flex-wrap:wrap;\n",
              "      gap: 12px;\n",
              "    }\n",
              "\n",
              "    .colab-df-convert {\n",
              "      background-color: #E8F0FE;\n",
              "      border: none;\n",
              "      border-radius: 50%;\n",
              "      cursor: pointer;\n",
              "      display: none;\n",
              "      fill: #1967D2;\n",
              "      height: 32px;\n",
              "      padding: 0 0 0 0;\n",
              "      width: 32px;\n",
              "    }\n",
              "\n",
              "    .colab-df-convert:hover {\n",
              "      background-color: #E2EBFA;\n",
              "      box-shadow: 0px 1px 2px rgba(60, 64, 67, 0.3), 0px 1px 3px 1px rgba(60, 64, 67, 0.15);\n",
              "      fill: #174EA6;\n",
              "    }\n",
              "\n",
              "    [theme=dark] .colab-df-convert {\n",
              "      background-color: #3B4455;\n",
              "      fill: #D2E3FC;\n",
              "    }\n",
              "\n",
              "    [theme=dark] .colab-df-convert:hover {\n",
              "      background-color: #434B5C;\n",
              "      box-shadow: 0px 1px 3px 1px rgba(0, 0, 0, 0.15);\n",
              "      filter: drop-shadow(0px 1px 2px rgba(0, 0, 0, 0.3));\n",
              "      fill: #FFFFFF;\n",
              "    }\n",
              "  </style>\n",
              "\n",
              "      <script>\n",
              "        const buttonEl =\n",
              "          document.querySelector('#df-519d76ca-0a10-4b32-b65a-55b0cc87ba74 button.colab-df-convert');\n",
              "        buttonEl.style.display =\n",
              "          google.colab.kernel.accessAllowed ? 'block' : 'none';\n",
              "\n",
              "        async function convertToInteractive(key) {\n",
              "          const element = document.querySelector('#df-519d76ca-0a10-4b32-b65a-55b0cc87ba74');\n",
              "          const dataTable =\n",
              "            await google.colab.kernel.invokeFunction('convertToInteractive',\n",
              "                                                     [key], {});\n",
              "          if (!dataTable) return;\n",
              "\n",
              "          const docLinkHtml = 'Like what you see? Visit the ' +\n",
              "            '<a target=\"_blank\" href=https://colab.research.google.com/notebooks/data_table.ipynb>data table notebook</a>'\n",
              "            + ' to learn more about interactive tables.';\n",
              "          element.innerHTML = '';\n",
              "          dataTable['output_type'] = 'display_data';\n",
              "          await google.colab.output.renderOutput(dataTable, element);\n",
              "          const docLink = document.createElement('div');\n",
              "          docLink.innerHTML = docLinkHtml;\n",
              "          element.appendChild(docLink);\n",
              "        }\n",
              "      </script>\n",
              "    </div>\n",
              "  </div>\n",
              "  "
            ]
          },
          "metadata": {},
          "execution_count": 19
        }
      ]
    },
    {
      "cell_type": "code",
      "source": [
        "# get numeric columns\n",
        "\n",
        "numerics = ['int16', 'int32', 'int64', 'float16', 'float32', 'float64']\n",
        "\n",
        "numeric_df = df.select_dtypes(include=numerics)\n",
        "len(numeric_df.columns)"
      ],
      "metadata": {
        "colab": {
          "base_uri": "https://localhost:8080/"
        },
        "id": "e8djoqTYDB4E",
        "outputId": "fb416aa5-8c46-4812-c19d-053606583f81"
      },
      "execution_count": null,
      "outputs": [
        {
          "output_type": "execute_result",
          "data": {
            "text/plain": [
              "14"
            ]
          },
          "metadata": {},
          "execution_count": 20
        }
      ]
    },
    {
      "cell_type": "markdown",
      "source": [
        "Percentage of missing values per column\n",
        "\n"
      ],
      "metadata": {
        "id": "BWKKAieOrw-e"
      }
    },
    {
      "cell_type": "code",
      "source": [
        "missing_percentages = df.isna().sum().sort_values(ascending=False) / len(df)\n",
        "missing_percentages\n"
      ],
      "metadata": {
        "colab": {
          "base_uri": "https://localhost:8080/"
        },
        "id": "Qri0fF-mK6vY",
        "outputId": "ca780f5b-d2d1-40e9-a286-eb104a77c00c"
      },
      "execution_count": null,
      "outputs": [
        {
          "output_type": "execute_result",
          "data": {
            "text/plain": [
              "Number                   6.129003e-01\n",
              "Precipitation(in)        1.931079e-01\n",
              "Wind_Chill(F)            1.650568e-01\n",
              "Wind_Speed(mph)          5.550967e-02\n",
              "Wind_Direction           2.592834e-02\n",
              "Humidity(%)              2.568830e-02\n",
              "Weather_Condition        2.482514e-02\n",
              "Visibility(mi)           2.479350e-02\n",
              "Temperature(F)           2.434646e-02\n",
              "Pressure(in)             2.080593e-02\n",
              "Weather_Timestamp        1.783125e-02\n",
              "Airport_Code             3.356011e-03\n",
              "Timezone                 1.285961e-03\n",
              "Nautical_Twilight        1.007612e-03\n",
              "Civil_Twilight           1.007612e-03\n",
              "Sunrise_Sunset           1.007612e-03\n",
              "Astronomical_Twilight    1.007612e-03\n",
              "Zipcode                  4.635647e-04\n",
              "City                     4.814887e-05\n",
              "Street                   7.029032e-07\n",
              "Country                  0.000000e+00\n",
              "Junction                 0.000000e+00\n",
              "Start_Time               0.000000e+00\n",
              "End_Time                 0.000000e+00\n",
              "Start_Lat                0.000000e+00\n",
              "Turning_Loop             0.000000e+00\n",
              "Traffic_Signal           0.000000e+00\n",
              "Traffic_Calming          0.000000e+00\n",
              "Stop                     0.000000e+00\n",
              "Station                  0.000000e+00\n",
              "Roundabout               0.000000e+00\n",
              "Railway                  0.000000e+00\n",
              "No_Exit                  0.000000e+00\n",
              "Crossing                 0.000000e+00\n",
              "Give_Way                 0.000000e+00\n",
              "Bump                     0.000000e+00\n",
              "Amenity                  0.000000e+00\n",
              "Start_Lng                0.000000e+00\n",
              "End_Lat                  0.000000e+00\n",
              "End_Lng                  0.000000e+00\n",
              "Distance(mi)             0.000000e+00\n",
              "Description              0.000000e+00\n",
              "Severity                 0.000000e+00\n",
              "Side                     0.000000e+00\n",
              "County                   0.000000e+00\n",
              "State                    0.000000e+00\n",
              "ID                       0.000000e+00\n",
              "dtype: float64"
            ]
          },
          "metadata": {},
          "execution_count": 21
        }
      ]
    },
    {
      "cell_type": "code",
      "source": [
        "type(missing_percentages)"
      ],
      "metadata": {
        "colab": {
          "base_uri": "https://localhost:8080/"
        },
        "id": "uqhDkWHitIjT",
        "outputId": "e13e95e2-f02c-4578-b24c-5dfaa795bef1"
      },
      "execution_count": null,
      "outputs": [
        {
          "output_type": "execute_result",
          "data": {
            "text/plain": [
              "pandas.core.series.Series"
            ]
          },
          "metadata": {},
          "execution_count": 22
        }
      ]
    },
    {
      "cell_type": "code",
      "source": [
        "missing_percentages[missing_percentages != 0].plot(kind='barh')"
      ],
      "metadata": {
        "colab": {
          "base_uri": "https://localhost:8080/",
          "height": 282
        },
        "id": "0r8p4eB4K6sg",
        "outputId": "3e8ab003-1407-429b-f18e-56b6ce7f957e"
      },
      "execution_count": null,
      "outputs": [
        {
          "output_type": "execute_result",
          "data": {
            "text/plain": [
              "<matplotlib.axes._subplots.AxesSubplot at 0x7fc3e2377ad0>"
            ]
          },
          "metadata": {},
          "execution_count": 23
        },
        {
          "output_type": "display_data",
          "data": {
            "text/plain": [
              "<Figure size 432x288 with 1 Axes>"
            ],
            "image/png": "[encoded data removed]"
          },
          "metadata": {
            "needs_background": "light"
          }
        }
      ]
    },
    {
      "cell_type": "markdown",
      "source": [
        "Consider removing columns with over 50% of missing data."
      ],
      "metadata": {
        "id": "sBePCzpkt3ut"
      }
    },
    {
      "cell_type": "markdown",
      "source": [
        "# Exploratory and Visualization\n",
        "\n",
        "Columns analyze:\n",
        "\n",
        "1.   City\n",
        "2.   Missing States\n",
        "1.   New York City\n",
        "3.   Start Time\n",
        "4.   Start_Lat, Start_Lng\n",
        "5.   Temperature\n",
        "6.   Weather Condition\n",
        "\n",
        "\n",
        "\n",
        "\n",
        "\n"
      ],
      "metadata": {
        "id": "n-tFE360uKic"
      }
    },
    {
      "cell_type": "markdown",
      "source": [
        "## 1. City"
      ],
      "metadata": {
        "id": "LsoTb8RxMy80"
      }
    },
    {
      "cell_type": "code",
      "source": [
        "# number of uniqe cities in City feild\n",
        "\n",
        "cities = df.City.unique()\n",
        "len(cities)"
      ],
      "metadata": {
        "colab": {
          "base_uri": "https://localhost:8080/"
        },
        "id": "9QsG2ydw269z",
        "outputId": "27382e5e-5334-4c85-d615-a1d0761ae7ef"
      },
      "execution_count": null,
      "outputs": [
        {
          "output_type": "execute_result",
          "data": {
            "text/plain": [
              "11682"
            ]
          },
          "metadata": {},
          "execution_count": 38
        }
      ]
    },
    {
      "cell_type": "code",
      "source": [
        "# 1. Accidents among Cities\n",
        "\n",
        "cities_by_accident = df.County.value_counts()\n",
        "cities_by_accident[:30]"
      ],
      "metadata": {
        "colab": {
          "base_uri": "https://localhost:8080/"
        },
        "id": "XowDGsqJuLqd",
        "outputId": "d29e0f12-a494-4633-9100-13a3f86c2816"
      },
      "execution_count": null,
      "outputs": [
        {
          "output_type": "execute_result",
          "data": {
            "text/plain": [
              "Los Angeles         234122\n",
              "Miami-Dade          143939\n",
              "Orange              114917\n",
              "San Bernardino       55018\n",
              "Dallas               50050\n",
              "San Diego            48366\n",
              "Sacramento           46708\n",
              "Harris               42559\n",
              "Riverside            42176\n",
              "Montgomery           41476\n",
              "Alameda              38997\n",
              "Mecklenburg          35191\n",
              "Maricopa             33539\n",
              "Wake                 31662\n",
              "Santa Clara          27415\n",
              "Hennepin             26560\n",
              "Davidson             26259\n",
              "Lake                 23584\n",
              "Marion               22437\n",
              "Cook                 21335\n",
              "Kern                 21310\n",
              "Broward              21217\n",
              "Jackson              20832\n",
              "Travis               20689\n",
              "Hillsborough         20499\n",
              "Salt Lake            20059\n",
              "Contra Costa         19726\n",
              "Multnomah            19303\n",
              "East Baton Rouge     19021\n",
              "Fairfax County       17948\n",
              "Name: County, dtype: int64"
            ]
          },
          "metadata": {},
          "execution_count": 20
        }
      ]
    },
    {
      "cell_type": "code",
      "source": [
        "type(cities_by_accident)"
      ],
      "metadata": {
        "colab": {
          "base_uri": "https://localhost:8080/"
        },
        "id": "p-4efuELfK4k",
        "outputId": "8037b063-d6d5-4138-dd43-4b581bfdeaec"
      },
      "execution_count": null,
      "outputs": [
        {
          "output_type": "execute_result",
          "data": {
            "text/plain": [
              "pandas.core.series.Series"
            ]
          },
          "metadata": {},
          "execution_count": 131
        }
      ]
    },
    {
      "cell_type": "code",
      "source": [
        "cities_by_accident[:30].plot(kind='barh')"
      ],
      "metadata": {
        "colab": {
          "base_uri": "https://localhost:8080/",
          "height": 283
        },
        "id": "MTkDVxZhckGo",
        "outputId": "2d25ec5a-4fe5-4f1a-ebfb-1bcdbdce14ae"
      },
      "execution_count": null,
      "outputs": [
        {
          "output_type": "execute_result",
          "data": {
            "text/plain": [
              "<matplotlib.axes._subplots.AxesSubplot at 0x7f3a50e45610>"
            ]
          },
          "metadata": {},
          "execution_count": 133
        },
        {
          "output_type": "display_data",
          "data": {
            "text/plain": [
              "<Figure size 432x288 with 1 Axes>"
            ],
            "image/png": "[encoded data removed]"
          },
          "metadata": {
            "needs_background": "light"
          }
        }
      ]
    },
    {
      "cell_type": "code",
      "source": [
        "import seaborn as sns\n",
        "sns.set_style(\"darkgrid\")"
      ],
      "metadata": {
        "id": "oOSTsRz7Vk1x"
      },
      "execution_count": null,
      "outputs": []
    },
    {
      "cell_type": "code",
      "source": [
        "sns.histplot(cities_by_accident, log_scale=True)\n"
      ],
      "metadata": {
        "colab": {
          "base_uri": "https://localhost:8080/",
          "height": 302
        },
        "id": "rwWvAuAAVllr",
        "outputId": "830a6cbc-72ff-440b-f625-bb6d3fae8669"
      },
      "execution_count": null,
      "outputs": [
        {
          "output_type": "execute_result",
          "data": {
            "text/plain": [
              "<matplotlib.axes._subplots.AxesSubplot at 0x7f3a42abab90>"
            ]
          },
          "metadata": {},
          "execution_count": 163
        },
        {
          "output_type": "display_data",
          "data": {
            "text/plain": [
              "<Figure size 432x288 with 1 Axes>"
            ],
            "image/png": "[encoded data removed]"
          },
          "metadata": {}
        }
      ]
    },
    {
      "cell_type": "code",
      "source": [
        "cities_by_accident[cities_by_accident <= 1 ].sum()"
      ],
      "metadata": {
        "colab": {
          "base_uri": "https://localhost:8080/"
        },
        "id": "dPpMOkc7V2Ht",
        "outputId": "2e351d50-6bfe-42fd-a62d-3e4fc856fef6"
      },
      "execution_count": null,
      "outputs": [
        {
          "output_type": "execute_result",
          "data": {
            "text/plain": [
              "66"
            ]
          },
          "metadata": {},
          "execution_count": 180
        }
      ]
    },
    {
      "cell_type": "code",
      "source": [
        ""
      ],
      "metadata": {
        "id": "fdY63-1DQ_45"
      },
      "execution_count": null,
      "outputs": []
    },
    {
      "cell_type": "markdown",
      "source": [
        "## 2.   Missing States\n"
      ],
      "metadata": {
        "id": "aXbaeA37MrYh"
      }
    },
    {
      "cell_type": "code",
      "source": [
        "df['State'].unique()"
      ],
      "metadata": {
        "colab": {
          "base_uri": "https://localhost:8080/"
        },
        "id": "OGDUrFoGi1hp",
        "outputId": "bffeb404-195c-4a73-8ece-45544a34e6a9"
      },
      "execution_count": null,
      "outputs": [
        {
          "output_type": "execute_result",
          "data": {
            "text/plain": [
              "array(['OH', 'IN', 'KY', 'WV', 'MI', 'PA', 'CA', 'NV', 'MN', 'TX', 'MO',\n",
              "       'CO', 'OK', 'LA', 'KS', 'WI', 'IA', 'MS', 'NE', 'ND', 'WY', 'SD',\n",
              "       'MT', 'NM', 'AR', 'IL', 'NJ', 'GA', 'FL', 'NY', 'CT', 'RI', 'SC',\n",
              "       'NC', 'MD', 'MA', 'TN', 'VA', 'DE', 'DC', 'ME', 'AL', 'NH', 'VT',\n",
              "       'AZ', 'UT', 'ID', 'OR', 'WA'], dtype=object)"
            ]
          },
          "metadata": {},
          "execution_count": 82
        }
      ]
    },
    {
      "cell_type": "code",
      "source": [
        "pd.Series(df['State'].unique()).count()\n"
      ],
      "metadata": {
        "colab": {
          "base_uri": "https://localhost:8080/"
        },
        "id": "uH9IFCdMkMRt",
        "outputId": "a4101ad0-a116-4eab-e0fb-d9720fcc962a"
      },
      "execution_count": null,
      "outputs": [
        {
          "output_type": "execute_result",
          "data": {
            "text/plain": [
              "49"
            ]
          },
          "metadata": {},
          "execution_count": 22
        }
      ]
    },
    {
      "cell_type": "code",
      "source": [
        "# import data for comparing missing States\n",
        "\n",
        "all_50_states= [ 'AK', 'AL', 'AR', 'AZ', 'CA', 'CO', 'CT', 'DC', 'DE', 'FL', 'GA',\n",
        "'HI', 'IA', 'ID', 'IL', 'IN', 'KS', 'KY', 'LA', 'MA', 'MD', 'ME',\n",
        "'MI', 'MN', 'MO', 'MS', 'MT', 'NC', 'ND', 'NE', 'NH', 'NJ', 'NM',\n",
        "'NV', 'NY', 'OH', 'OK', 'OR', 'PA', 'RI', 'SC', 'SD', 'TN', 'TX',\n",
        "'UT', 'VA', 'VT', 'WA', 'WI', 'WV', 'WY']\n",
        "\n",
        "from numpy.ma.core import count\n",
        "count(all_50_states)\n"
      ],
      "metadata": {
        "colab": {
          "base_uri": "https://localhost:8080/"
        },
        "id": "87pjpLHwnkN-",
        "outputId": "9830ea91-8502-4c0c-ed3a-3ee5f6a636da"
      },
      "execution_count": null,
      "outputs": [
        {
          "output_type": "execute_result",
          "data": {
            "text/plain": [
              "51"
            ]
          },
          "metadata": {},
          "execution_count": 31
        }
      ]
    },
    {
      "cell_type": "code",
      "source": [
        "import numpy as np\n",
        "\n",
        "df1 = pd.Series({'col1': all_50_states})\n",
        "df2 = pd.Series({'col2': df['State'].unique()})\n",
        "\n",
        "print(\"df.State is missing\",np.setdiff1d(df1['col1'], df2['col2']))"
      ],
      "metadata": {
        "colab": {
          "base_uri": "https://localhost:8080/"
        },
        "id": "jSBXgG9c4FQO",
        "outputId": "e95ccc79-9b69-4b72-de66-e5652437f4d7"
      },
      "execution_count": null,
      "outputs": [
        {
          "output_type": "stream",
          "name": "stdout",
          "text": [
            "df.State is missing ['AK' 'HI']\n"
          ]
        }
      ]
    },
    {
      "cell_type": "markdown",
      "source": [
        "## 3. Number of accidents New York City"
      ],
      "metadata": {
        "id": "BX9Fj1g2TI6t"
      }
    },
    {
      "cell_type": "code",
      "source": [
        "# Accidents in New York City (5 Boroughs)\n",
        "\n",
        "NYC_county = ['Bronx', 'New York', 'Kings', 'Richmond','Queens']\n",
        "\n",
        "Accidents_NY = df[df['State']=='NY']\n",
        "\n",
        "Accidents_NY[Accidents_NY['County'].isin(NYC_county)]['County'].value_counts()\n"
      ],
      "metadata": {
        "colab": {
          "base_uri": "https://localhost:8080/"
        },
        "id": "1Tf9b_FdPbzx",
        "outputId": "0baf3e77-9427-46d6-ada1-6c4c71f5a4e1"
      },
      "execution_count": null,
      "outputs": [
        {
          "output_type": "execute_result",
          "data": {
            "text/plain": [
              "Queens      12556\n",
              "Bronx        9461\n",
              "New York     7155\n",
              "Kings        5983\n",
              "Richmond     1561\n",
              "Name: County, dtype: int64"
            ]
          },
          "metadata": {},
          "execution_count": 24
        }
      ]
    },
    {
      "cell_type": "code",
      "source": [
        "Accidents_NY[Accidents_NY['County'].isin(NYC_county)]['County'].count()\n"
      ],
      "metadata": {
        "colab": {
          "base_uri": "https://localhost:8080/"
        },
        "id": "7k1RS6O-R5CF",
        "outputId": "4c6c0d34-995f-4413-b0b4-bc2c639fbe25"
      },
      "execution_count": null,
      "outputs": [
        {
          "output_type": "execute_result",
          "data": {
            "text/plain": [
              "36716"
            ]
          },
          "metadata": {},
          "execution_count": 25
        }
      ]
    },
    {
      "cell_type": "markdown",
      "source": [
        "## 4. Start Time"
      ],
      "metadata": {
        "id": "dtSnjTuVYNjG"
      }
    },
    {
      "cell_type": "code",
      "source": [
        "df.Start_Time\n"
      ],
      "metadata": {
        "colab": {
          "base_uri": "https://localhost:8080/"
        },
        "id": "H2UFwTfMYOj5",
        "outputId": "577bcbac-e7d7-4974-aed8-e7a86d51ab29"
      },
      "execution_count": null,
      "outputs": [
        {
          "output_type": "execute_result",
          "data": {
            "text/plain": [
              "0          2016-02-08 00:37:08\n",
              "1          2016-02-08 05:56:20\n",
              "2          2016-02-08 06:15:39\n",
              "3          2016-02-08 06:51:45\n",
              "4          2016-02-08 07:53:43\n",
              "                  ...         \n",
              "2845337    2019-08-23 18:03:25\n",
              "2845338    2019-08-23 19:11:30\n",
              "2845339    2019-08-23 19:00:21\n",
              "2845340    2019-08-23 19:00:21\n",
              "2845341    2019-08-23 18:52:06\n",
              "Name: Start_Time, Length: 2845342, dtype: object"
            ]
          },
          "metadata": {},
          "execution_count": 26
        }
      ]
    },
    {
      "cell_type": "code",
      "source": [
        "# covert 'Start_Time' to datetime \n",
        "df.Start_Time = pd.to_datetime(df.Start_Time)\n",
        "\n",
        "import seaborn as sns\n",
        "\n",
        "sns.distplot(df.Start_Time.dt.hour, bins=24, kde=False, norm_hist=True)\n"
      ],
      "metadata": {
        "colab": {
          "base_uri": "https://localhost:8080/",
          "height": 352
        },
        "id": "rz7TWt95YY2K",
        "outputId": "f897ba4b-bf42-429f-aa55-2e24ed111105"
      },
      "execution_count": null,
      "outputs": [
        {
          "output_type": "stream",
          "name": "stderr",
          "text": [
            "/usr/local/lib/python3.7/dist-packages/seaborn/distributions.py:2619: FutureWarning: `distplot` is a deprecated function and will be removed in a future version. Please adapt your code to use either `displot` (a figure-level function with similar flexibility) or `histplot` (an axes-level function for histograms).\n",
            "  warnings.warn(msg, FutureWarning)\n"
          ]
        },
        {
          "output_type": "execute_result",
          "data": {
            "text/plain": [
              "<matplotlib.axes._subplots.AxesSubplot at 0x7f36f23b5890>"
            ]
          },
          "metadata": {},
          "execution_count": 11
        },
        {
          "output_type": "display_data",
          "data": {
            "text/plain": [
              "<Figure size 432x288 with 1 Axes>"
            ],
            "image/png": "[encoded data removed]"
          },
          "metadata": {
            "needs_background": "light"
          }
        }
      ]
    },
    {
      "cell_type": "markdown",
      "source": [
        "1. A high % of accidents occur between 2pm to 6pm (probably people in a hurry to get back home)\n",
        "2. Next higest percentage is 7am to 9am."
      ],
      "metadata": {
        "id": "KHNWMWNgae76"
      }
    },
    {
      "cell_type": "code",
      "source": [
        "# how about accidents occurance during a week?\n",
        "# 0 - 6 indicates Monday to Sunday\n",
        "\n",
        "sns.distplot(df.Start_Time.dt.dayofweek, bins=7, kde=False, norm_hist=True)\n"
      ],
      "metadata": {
        "colab": {
          "base_uri": "https://localhost:8080/",
          "height": 352
        },
        "id": "7KMYpSSMbNkj",
        "outputId": "a8f8aa46-7337-4581-9022-2412d5b14135"
      },
      "execution_count": null,
      "outputs": [
        {
          "output_type": "stream",
          "name": "stderr",
          "text": [
            "/usr/local/lib/python3.7/dist-packages/seaborn/distributions.py:2619: FutureWarning: `distplot` is a deprecated function and will be removed in a future version. Please adapt your code to use either `displot` (a figure-level function with similar flexibility) or `histplot` (an axes-level function for histograms).\n",
            "  warnings.warn(msg, FutureWarning)\n"
          ]
        },
        {
          "output_type": "execute_result",
          "data": {
            "text/plain": [
              "<matplotlib.axes._subplots.AxesSubplot at 0x7f8d6aee6710>"
            ]
          },
          "metadata": {},
          "execution_count": 34
        },
        {
          "output_type": "display_data",
          "data": {
            "text/plain": [
              "<Figure size 432x288 with 1 Axes>"
            ],
            "image/png": "[encoded data removed]"
          },
          "metadata": {
            "needs_background": "light"
          }
        }
      ]
    },
    {
      "cell_type": "code",
      "source": [
        "# on Saturday\n",
        "\n",
        "weekends_start_time = df.Start_Time[df.Start_Time.dt.dayofweek == 5&6]\n",
        "sns.distplot(weekends_start_time.dt.hour, bins=24, kde=False, norm_hist=True)"
      ],
      "metadata": {
        "colab": {
          "base_uri": "https://localhost:8080/",
          "height": 352
        },
        "id": "YHG0huTFb0Vj",
        "outputId": "143195af-e620-4e70-ec40-1c2143312b86"
      },
      "execution_count": null,
      "outputs": [
        {
          "output_type": "stream",
          "name": "stderr",
          "text": [
            "/usr/local/lib/python3.7/dist-packages/seaborn/distributions.py:2619: FutureWarning: `distplot` is a deprecated function and will be removed in a future version. Please adapt your code to use either `displot` (a figure-level function with similar flexibility) or `histplot` (an axes-level function for histograms).\n",
            "  warnings.warn(msg, FutureWarning)\n"
          ]
        },
        {
          "output_type": "execute_result",
          "data": {
            "text/plain": [
              "<matplotlib.axes._subplots.AxesSubplot at 0x7f8d65c79290>"
            ]
          },
          "metadata": {},
          "execution_count": 40
        },
        {
          "output_type": "display_data",
          "data": {
            "text/plain": [
              "<Figure size 432x288 with 1 Axes>"
            ],
            "image/png": "[encoded data removed]"
          },
          "metadata": {
            "needs_background": "light"
          }
        }
      ]
    },
    {
      "cell_type": "markdown",
      "source": [
        "accident in thorught out a year in months\n",
        "\n"
      ],
      "metadata": {
        "id": "wsb3ZZxY-Mcb"
      }
    },
    {
      "cell_type": "code",
      "source": [
        "sns.distplot(df.Start_Time.dt.month, bins=12, kde=False, norm_hist=True)\n"
      ],
      "metadata": {
        "colab": {
          "base_uri": "https://localhost:8080/",
          "height": 352
        },
        "id": "c-bifo02-L-v",
        "outputId": "2b3cb3e1-6bd0-4500-b6d5-661cb7cffab9"
      },
      "execution_count": null,
      "outputs": [
        {
          "output_type": "stream",
          "name": "stderr",
          "text": [
            "/usr/local/lib/python3.7/dist-packages/seaborn/distributions.py:2619: FutureWarning: `distplot` is a deprecated function and will be removed in a future version. Please adapt your code to use either `displot` (a figure-level function with similar flexibility) or `histplot` (an axes-level function for histograms).\n",
            "  warnings.warn(msg, FutureWarning)\n"
          ]
        },
        {
          "output_type": "execute_result",
          "data": {
            "text/plain": [
              "<matplotlib.axes._subplots.AxesSubplot at 0x7f371a9e4a90>"
            ]
          },
          "metadata": {},
          "execution_count": 12
        },
        {
          "output_type": "display_data",
          "data": {
            "text/plain": [
              "<Figure size 432x288 with 1 Axes>"
            ],
            "image/png": "[encoded data removed]"
          },
          "metadata": {
            "needs_background": "light"
          }
        }
      ]
    },
    {
      "cell_type": "markdown",
      "source": [
        ""
      ],
      "metadata": {
        "id": "vyXSSQC7_ao4"
      }
    },
    {
      "cell_type": "code",
      "source": [
        "# df_2019 = \n",
        "# df[df.Start_Time.dt.year == 2021].count()\n",
        "# df_2019_Bing = df_2019[df_2019.Source == 'MapQuest']\n",
        "# sns.distplot(df_2019.Start_Time.dt.month, bins=12, kde=False, norm_hist=True)\n",
        "\n",
        "df.Timezone.count_values()\n"
      ],
      "metadata": {
        "colab": {
          "base_uri": "https://localhost:8080/"
        },
        "id": "B5spJutF_Y76",
        "outputId": "6c28733c-a984-4f37-89ad-65330105c00a"
      },
      "execution_count": null,
      "outputs": [
        {
          "output_type": "execute_result",
          "data": {
            "text/plain": [
              "Index(['ID', 'Severity', 'Start_Time', 'End_Time', 'Start_Lat', 'Start_Lng',\n",
              "       'End_Lat', 'End_Lng', 'Distance(mi)', 'Description', 'Number', 'Street',\n",
              "       'Side', 'City', 'County', 'State', 'Zipcode', 'Country', 'Timezone',\n",
              "       'Airport_Code', 'Weather_Timestamp', 'Temperature(F)', 'Wind_Chill(F)',\n",
              "       'Humidity(%)', 'Pressure(in)', 'Visibility(mi)', 'Wind_Direction',\n",
              "       'Wind_Speed(mph)', 'Precipitation(in)', 'Weather_Condition', 'Amenity',\n",
              "       'Bump', 'Crossing', 'Give_Way', 'Junction', 'No_Exit', 'Railway',\n",
              "       'Roundabout', 'Station', 'Stop', 'Traffic_Calming', 'Traffic_Signal',\n",
              "       'Turning_Loop', 'Sunrise_Sunset', 'Civil_Twilight', 'Nautical_Twilight',\n",
              "       'Astronomical_Twilight'],\n",
              "      dtype='object')"
            ]
          },
          "metadata": {},
          "execution_count": 33
        }
      ]
    },
    {
      "cell_type": "markdown",
      "source": [
        "## 5. Start Latitude & Longitude\n"
      ],
      "metadata": {
        "id": "krJNoyLJNCy1"
      }
    },
    {
      "cell_type": "code",
      "source": [
        "df.Start_Lat"
      ],
      "metadata": {
        "colab": {
          "base_uri": "https://localhost:8080/"
        },
        "id": "ASVaaMp9NE2l",
        "outputId": "ffa6c045-4c77-49e5-e984-4ee1986eba59"
      },
      "execution_count": null,
      "outputs": [
        {
          "output_type": "execute_result",
          "data": {
            "text/plain": [
              "0          40.108910\n",
              "1          39.865420\n",
              "2          39.102660\n",
              "3          41.062130\n",
              "4          39.172393\n",
              "             ...    \n",
              "2845337    34.002480\n",
              "2845338    32.766960\n",
              "2845339    33.775450\n",
              "2845340    33.992460\n",
              "2845341    34.133930\n",
              "Name: Start_Lat, Length: 2845342, dtype: float64"
            ]
          },
          "metadata": {},
          "execution_count": 44
        }
      ]
    },
    {
      "cell_type": "code",
      "source": [
        "df.Start_Lng\n"
      ],
      "metadata": {
        "colab": {
          "base_uri": "https://localhost:8080/"
        },
        "id": "oiFlewIGPW-V",
        "outputId": "1b787277-d1bb-4125-b704-d767af5e4553"
      },
      "execution_count": null,
      "outputs": [
        {
          "output_type": "execute_result",
          "data": {
            "text/plain": [
              "0          -83.092860\n",
              "1          -84.062800\n",
              "2          -84.524680\n",
              "3          -81.537840\n",
              "4          -84.492792\n",
              "              ...    \n",
              "2845337   -117.379360\n",
              "2845338   -117.148060\n",
              "2845339   -117.847790\n",
              "2845340   -118.403020\n",
              "2845341   -117.230920\n",
              "Name: Start_Lng, Length: 2845342, dtype: float64"
            ]
          },
          "metadata": {},
          "execution_count": 45
        }
      ]
    },
    {
      "cell_type": "code",
      "source": [
        "sample_df = df.sample(int(0.1 * len(df)))\n",
        "\n",
        "sns.scatterplot(x=sample_df.Start_Lng, y=sample_df.Start_Lat, size=0.001)\n"
      ],
      "metadata": {
        "colab": {
          "base_uri": "https://localhost:8080/",
          "height": 299
        },
        "id": "8l9x_Q1WPW8Y",
        "outputId": "2bcf802d-5e24-4535-8987-1c8a62705ca2"
      },
      "execution_count": null,
      "outputs": [
        {
          "output_type": "execute_result",
          "data": {
            "text/plain": [
              "<matplotlib.axes._subplots.AxesSubplot at 0x7f36d9193e50>"
            ]
          },
          "metadata": {},
          "execution_count": 47
        },
        {
          "output_type": "display_data",
          "data": {
            "text/plain": [
              "<Figure size 432x288 with 1 Axes>"
            ],
            "image/png": "[encoded data removed]"
          },
          "metadata": {
            "needs_background": "light"
          }
        }
      ]
    },
    {
      "cell_type": "code",
      "source": [
        "for x in df[['Start_Lat', 'Start_Lng']].sample(100).iteritems():\n",
        "    print(x[1])"
      ],
      "metadata": {
        "colab": {
          "base_uri": "https://localhost:8080/"
        },
        "id": "rS5VsszHPW5i",
        "outputId": "7da0836b-48c0-4bad-a5e5-cf4356c4b904"
      },
      "execution_count": null,
      "outputs": [
        {
          "output_type": "stream",
          "name": "stdout",
          "text": [
            "2266021    40.861880\n",
            "537802     38.842903\n",
            "2094795    38.596377\n",
            "349514     32.856192\n",
            "702343     35.964352\n",
            "             ...    \n",
            "2069621    41.801830\n",
            "1211547    30.205403\n",
            "1792776    36.988472\n",
            "545075     34.075030\n",
            "1384306    37.584156\n",
            "Name: Start_Lat, Length: 100, dtype: float64\n",
            "2266021    -73.912560\n",
            "537802     -77.008656\n",
            "2094795   -121.443656\n",
            "349514     -96.904798\n",
            "702343    -119.152082\n",
            "              ...    \n",
            "2069621    -88.069080\n",
            "1211547    -97.758230\n",
            "1792776   -119.893673\n",
            "545075     -80.946074\n",
            "1384306   -122.328289\n",
            "Name: Start_Lng, Length: 100, dtype: float64\n"
          ]
        }
      ]
    },
    {
      "cell_type": "code",
      "source": [
        "# create a list of list with lat & lng\n",
        "zip(list(df.Start_Lat), list(df.Start_Lng))"
      ],
      "metadata": {
        "colab": {
          "base_uri": "https://localhost:8080/"
        },
        "id": "utnhoeNapaW8",
        "outputId": "8bcb690c-225e-45ff-d043-fe2128930d0f"
      },
      "execution_count": null,
      "outputs": [
        {
          "output_type": "execute_result",
          "data": {
            "text/plain": [
              "<zip at 0x7f6bd4599730>"
            ]
          },
          "metadata": {},
          "execution_count": 13
        }
      ]
    },
    {
      "cell_type": "code",
      "source": [
        "# put lat & lng on a actual map\n",
        "import folium\n",
        "from folium.plugins import HeatMap\n",
        "\n",
        "# get 0.1% of all data point\n",
        "sample_df = df.sample(int(0.001 * len(df))) \n",
        "\n",
        "# create a list of list with lat & lng\n",
        "lat_lon_pairs = list(zip(list(sample_df.Start_Lat), list(sample_df.Start_Lng)))\n",
        "\n",
        "# center the map with mean Lat and Lng\n",
        "m = folium.Map(location=[df.Start_Lat.mean(), df.Start_Lng.mean()], zoom_start=4)\n",
        "\n",
        "# Heatmap\n",
        "HeatMap(lat_lon_pairs).add_to(m)\n",
        "\n",
        "m\n"
      ],
      "metadata": {
        "colab": {
          "base_uri": "https://localhost:8080/",
          "height": 516
        },
        "id": "P600j0c9TFN3",
        "outputId": "065755dd-92cd-457b-d0af-72309cbcd2dc"
      },
      "execution_count": null,
      "outputs": [
        {
          "output_type": "execute_result",
          "data": {
            "text/plain": [
              "<folium.folium.Map at 0x7f6bd39314d0>"
            ],
            "text/html": [
              "<div style=\"width:100%;\"><div style=\"position:relative;width:100%;height:0;padding-bottom:60%;\"><span style=\"color:#565656\">Make this Notebook Trusted to load map: File -> Trust Notebook</span><iframe srcdoc=\"&lt;!DOCTYPE html&gt;\n",
              "&lt;head&gt;    \n",
              "    &lt;meta http-equiv=&quot;content-type&quot; content=&quot;text/html; charset=UTF-8&quot; /&gt;\n",
              "    &lt;script&gt;L_PREFER_CANVAS=false; L_NO_TOUCH=false; L_DISABLE_3D=false;&lt;/script&gt;\n",
              "    &lt;script src=&quot;https://cdn.jsdelivr.net/npm/leaflet@1.4.0/dist/leaflet.js&quot;&gt;&lt;/script&gt;\n",
              "    &lt;script src=&quot;https://code.jquery.com/jquery-1.12.4.min.js&quot;&gt;&lt;/script&gt;\n",
              "    &lt;script src=&quot;https://maxcdn.bootstrapcdn.com/bootstrap/3.2.0/js/bootstrap.min.js&quot;&gt;&lt;/script&gt;\n",
              "    &lt;script src=&quot;https://cdnjs.cloudflare.com/ajax/libs/Leaflet.awesome-markers/2.0.2/leaflet.awesome-markers.js&quot;&gt;&lt;/script&gt;\n",
              "    &lt;link rel=&quot;stylesheet&quot; href=&quot;https://cdn.jsdelivr.net/npm/leaflet@1.4.0/dist/leaflet.css&quot;/&gt;\n",
              "    &lt;link rel=&quot;stylesheet&quot; href=&quot;https://maxcdn.bootstrapcdn.com/bootstrap/3.2.0/css/bootstrap.min.css&quot;/&gt;\n",
              "    &lt;link rel=&quot;stylesheet&quot; href=&quot;https://maxcdn.bootstrapcdn.com/bootstrap/3.2.0/css/bootstrap-theme.min.css&quot;/&gt;\n",
              "    &lt;link rel=&quot;stylesheet&quot; href=&quot;https://maxcdn.bootstrapcdn.com/font-awesome/4.6.3/css/font-awesome.min.css&quot;/&gt;\n",
              "    &lt;link rel=&quot;stylesheet&quot; href=&quot;https://cdnjs.cloudflare.com/ajax/libs/Leaflet.awesome-markers/2.0.2/leaflet.awesome-markers.css&quot;/&gt;\n",
              "    &lt;link rel=&quot;stylesheet&quot; href=&quot;https://rawcdn.githack.com/python-visualization/folium/master/folium/templates/leaflet.awesome.rotate.css&quot;/&gt;\n",
              "    &lt;style&gt;html, body {width: 100%;height: 100%;margin: 0;padding: 0;}&lt;/style&gt;\n",
              "    &lt;style&gt;#map {position:absolute;top:0;bottom:0;right:0;left:0;}&lt;/style&gt;\n",
              "    \n",
              "    &lt;meta name=&quot;viewport&quot; content=&quot;width=device-width,\n",
              "        initial-scale=1.0, maximum-scale=1.0, user-scalable=no&quot; /&gt;\n",
              "    &lt;style&gt;#map_047637b0601722efd8532de8164e950e {\n",
              "        position: relative;\n",
              "        width: 100.0%;\n",
              "        height: 100.0%;\n",
              "        left: 0.0%;\n",
              "        top: 0.0%;\n",
              "        }\n",
              "    &lt;/style&gt;\n",
              "    &lt;script src=&quot;https://leaflet.github.io/Leaflet.heat/dist/leaflet-heat.js&quot;&gt;&lt;/script&gt;\n",
              "&lt;/head&gt;\n",
              "&lt;body&gt;    \n",
              "    \n",
              "    &lt;div class=&quot;folium-map&quot; id=&quot;map_047637b0601722efd8532de8164e950e&quot; &gt;&lt;/div&gt;\n",
              "&lt;/body&gt;\n",
              "&lt;script&gt;    \n",
              "    \n",
              "    \n",
              "        var bounds = null;\n",
              "    \n",
              "\n",
              "    var map_047637b0601722efd8532de8164e950e = L.map(\n",
              "        &#x27;map_047637b0601722efd8532de8164e950e&#x27;, {\n",
              "        center: [36.245200541858935, -97.11463289012661],\n",
              "        zoom: 4,\n",
              "        maxBounds: bounds,\n",
              "        layers: [],\n",
              "        worldCopyJump: false,\n",
              "        crs: L.CRS.EPSG3857,\n",
              "        zoomControl: true,\n",
              "        });\n",
              "\n",
              "\n",
              "    \n",
              "    var tile_layer_526878093d854782da08fb08d28842b6 = L.tileLayer(\n",
              "        &#x27;https://{s}.tile.openstreetmap.org/{z}/{x}/{y}.png&#x27;,\n",
              "        {\n",
              "        &quot;attribution&quot;: null,\n",
              "        &quot;detectRetina&quot;: false,\n",
              "        &quot;maxNativeZoom&quot;: 18,\n",
              "        &quot;maxZoom&quot;: 18,\n",
              "        &quot;minZoom&quot;: 0,\n",
              "        &quot;noWrap&quot;: false,\n",
              "        &quot;opacity&quot;: 1,\n",
              "        &quot;subdomains&quot;: &quot;abc&quot;,\n",
              "        &quot;tms&quot;: false\n",
              "}).addTo(map_047637b0601722efd8532de8164e950e);\n",
              "    \n",
              "            var heat_map_38c1b10e301e1094bb4e083688b098af = L.heatLayer(\n",
              "                [[32.928111, -96.803616], [45.887181, -119.519075], [38.73675, -77.19289], [37.609431, -120.990235], [40.658857, -86.127825], [41.536391, -75.936571], [34.00015, -117.35263], [33.78266, -118.20654], [40.489423, -111.893124], [37.51584, -77.44353000000002], [37.76268, -77.4605], [34.347021000000005, -117.476956], [37.475524, -120.853533], [41.77726, -87.63006999999998], [35.801746, -78.58095], [29.717724, -95.522148], [33.194355, -117.263201], [33.023990000000005, -96.710103], [36.08989, -95.88663], [39.341788, -120.323269], [38.937262, -77.059497], [40.7276, -74.02104], [32.251734, -81.52627], [30.337866, -81.668872], [34.733426, -118.130803], [33.803705, -117.967573], [34.067519, -117.555245], [44.506849, -95.117815], [40.72513, -74.00699], [35.165367, -78.70949399999998], [45.209043, -93.653813], [33.314248, -117.195035], [25.85225, -80.20814], [36.972473, -121.431971], [37.654251, -77.450784], [40.845722, -73.929606], [38.85113, -77.407933], [40.510745, -111.941136], [38.235179, -77.49847], [32.991809, -80.184528], [25.585023, -80.331891], [36.867011, -76.432339], [27.882598, -82.85048], [26.57241, -81.661626], [34.455513, -82.625973], [34.709831, -82.178083], [33.532, -84.259225], [38.270566, -120.877424], [41.775141, -124.199918], [25.86921700000001, -80.234444], [41.87173, -87.75], [30.468662, -97.587135], [33.866235, -118.290531], [40.771091, -73.83364], [45.695312, -121.337951], [28.42491, -81.47440999999998], [33.596751, -117.175743], [33.94119, -118.09653], [29.377774, -82.251538], [38.81913, -76.91499], [44.06162, -123.02798], [38.25972, -85.767351], [27.719203000000004, -82.678561], [39.010725, -76.861864], [42.52376, -122.81914], [41.88991, -87.927141], [47.790093, -122.2051], [34.309862, -117.472761], [43.00168, -84.835975], [42.95287, -85.672259], [40.704324, -73.994502], [34.028558000000004, -117.331037], [40.298882, -75.411773], [40.764966, -74.06945], [44.858751, -93.661102], [34.089963, -117.87261], [41.685776, -76.271927], [38.6355, -90.41047], [38.369658, -79.00703399999998], [34.027458, -117.570029], [42.477047, -83.104697], [33.93371, -86.59936], [38.26073, -122.0606], [45.937839, -94.354737], [33.268571, -117.112182], [33.881856, -79.11174], [29.845258, -95.398401], [37.13434, -113.24096000000002], [25.58005, -80.31886300000002], [44.8619, -93.29488], [34.687779, -120.157547], [39.08645, -94.54127], [35.419715999999994, -119.097046], [38.15194, -122.56723], [36.14902100000001, -86.85789399999999], [42.777049, -117.851173], [44.76976, -93.21757], [33.9846, -118.13381], [33.668440999999994, -117.892434], [25.926733, -80.293339], [40.78435, -73.94199], [28.546886, -81.41382], [38.07247, -122.228965], [38.311375, -85.575932], [29.73528300000001, -95.500914], [29.736238, -95.521025], [39.063546, -76.835307], [25.768571, -80.369064], [43.174882, -77.633185], [40.79706, -111.91839], [40.853949, -73.96451], [37.94475, -120.84377], [29.74695800000001, -82.486475], [33.98913, -118.29147], [33.66819, -112.19323], [45.37365, -92.889761], [34.228855, -79.661855], [41.81928, -71.38756], [39.945253, -76.74179699999998], [44.954373, -93.271146], [35.374207, -118.96801299999998], [38.739982, -120.696735], [41.80175, -88.16736999999998], [40.99088, -74.343227], [34.710074, -82.50376], [33.77565, -118.27986], [25.94102, -80.24525], [39.27599, -84.34398], [43.9578, -70.56354], [36.744747, -121.692862], [36.75036, -119.775954], [35.450787, -82.541687], [34.22843, -117.288182], [38.882581, -77.022716], [33.88749, -117.306926], [45.374703, -122.203696], [34.886695, -118.904174], [33.854157, -117.954199], [33.700593, -117.732378], [40.602291, -74.057765], [38.344135, -120.863257], [37.93658, -120.440822], [28.975374, -82.363138], [27.110642, -82.342647], [40.18508, -75.09456], [25.651378, -80.330732], [33.74971, -118.01095], [25.702429, -80.33314200000002], [40.687331, -120.662697], [45.437103, -122.756778], [41.033796, -111.947518], [39.847481, -75.70917800000002], [37.70113, -121.822191], [40.03795, -83.12533], [34.134596, -117.674463], [44.94356, -93.27458], [46.355241, -98.711222], [34.909641, -114.644479], [43.110388, -75.25887900000002], [28.42075800000001, -81.369831], [42.778741, -73.924462], [40.58776, -111.963882], [26.11696, -80.16858], [40.76653, -73.83825], [38.617361, -121.420179], [29.405239, -98.562716], [34.21625, -118.408814], [34.081982, -117.710276], [34.409294, -118.576588], [37.40788, -77.656], [39.564639, -104.91494], [37.63864, -121.016425], [34.08164, -117.71925], [27.044053, -80.23955600000002], [39.02536, -122.659982], [45.15073, -122.703652], [42.308239, -87.855143], [40.658608, -78.081625], [42.345398, -88.06761999999998], [25.928151, -80.200342], [29.719666, -95.53915], [37.290212, -80.11101500000002], [38.363453, -76.983235], [38.03058, -78.659759], [30.481857, -81.643749], [34.212617, -118.348893], [34.055640000000004, -118.19666], [40.73752, -73.85096], [28.13561, -82.547761], [40.852364, -73.955754], [42.69415, -84.50327], [44.98587, -93.28851], [33.694861, -111.92534], [33.55819, -112.11347], [38.24428, -85.73395], [39.00058, -94.357228], [25.56908, -80.37881], [30.281712, -97.728024], [37.885486, -79.150739], [37.37849, -122.0678], [33.922090000000004, -117.88031], [36.739669, -79.936318], [44.27259, -121.16988], [30.419641, -91.162764], [36.073436, -86.692159], [33.84377, -117.251], [30.215031, -97.829657], [31.771669, -106.44585], [41.11535, -74.10847], [32.651649, -117.067978], [42.15076, -88.0138], [36.985183, -122.023333], [37.261194, -119.701446], [45.773437, -123.381931], [34.216586, -80.53520300000002], [37.321875, -121.89929], [30.458368, -91.167911], [34.067877, -80.922547], [36.128649, -86.906513], [28.26368, -81.43200999999998], [45.124102, -93.330899], [42.30615, -88.02917], [34.143809999999995, -117.261137], [40.081073, -76.334014], [38.951286, -76.71713199999998], [38.77636500000001, -121.238605], [34.43157, -118.397029], [30.49262, -97.773094], [39.07569, -94.68062], [47.395441, -122.291638], [32.66574, -97.2409], [36.8274, -76.195198], [38.868195, -77.047359], [39.19076, -84.59936], [41.5353, -72.76538599999998], [34.239549, -117.429274], [34.119908, -117.716653], [44.09443, -121.30393], [35.55099000000001, -117.713694], [35.22042000000001, -80.87021999999997], [38.820542, -77.46464499999998], [47.230232, -122.4509], [39.928626, -74.95648800000002], [35.494991, -80.56661700000002], [37.34171, -121.901253], [38.948307, -120.082186], [38.129303, -122.226432], [36.076944, -120.997778], [37.77444000000001, -122.23194], [32.87451, -96.68299], [33.925083, -118.177882], [40.73128, -74.12518], [37.34932, -76.72731], [44.9535, -93.08991], [40.096815, -75.297498], [39.451911, -76.319365], [43.674662, -90.838928], [44.966423, -93.22547], [25.796832, -80.321573], [29.723662, -95.494035], [38.574766, -121.380826], [42.92236, -74.19407], [38.580357, -121.304732], [42.254921, -122.784881], [40.976461, -73.69984000000002], [33.489047, -111.887953], [33.772106, -118.037829], [42.15297, -87.88374], [34.344897, -117.454175], [32.68269, -97.24062], [43.626512, -116.354622], [26.552706, -81.91189399999998], [40.110824, -75.165104], [44.94651500000001, -93.079051], [42.37043, -87.88154], [44.91566, -93.27464], [33.989293, -118.259827], [43.354361, -124.311998], [28.525089, -81.376439], [44.824816, -121.368982], [30.48848, -84.16363], [40.091203, -75.127183], [38.125918, -122.228371], [33.736917, -117.822982], [34.623015, -82.205167], [36.02918, -79.7916], [35.75987, -78.74903], [36.194769, -86.776167], [43.145806, -123.380605], [47.671581, -117.207976], [30.534193, -87.313125], [39.206569, -75.565102], [47.510558, -111.34651], [38.012813, -102.613302], [42.225807, -88.765762], [39.02232, -84.61618], [40.987458, -73.68044], [35.3021, -80.80275999999998], [28.578123, -81.47614499999997], [29.48402, -98.4036], [40.616288, -74.285011], [35.069985, -85.289266], [34.229933, -117.415856], [36.19668, -86.74226], [29.493494, -98.555343], [34.953538, -120.465492], [38.644974, -121.388252], [44.052654, -123.291867], [38.633858, -77.290586], [26.594407, -81.871985], [30.442581, -91.102078], [28.468802, -81.417358], [33.462671, -112.231575], [34.087151, -117.680551], [35.74990800000001, -120.700017], [41.801, -88.07751999999998], [43.18381, -124.20852], [44.977737, -93.524454], [27.87911, -82.71217], [37.093718, -81.774839], [33.989215, -118.241834], [34.825641, -83.131736], [35.841073, -78.579516], [37.613601, -122.071691], [38.68156, -90.49326], [40.412961, -120.758146], [28.354449, -81.49475799999998], [40.66764000000001, -73.99632], [33.231314000000005, -80.44325699999997], [37.80811, -122.36719], [33.462070000000004, -112.258826], [32.876683, -96.685169], [41.880429, -74.05811899999998], [33.536445, -117.674615], [43.010496, -83.676812], [30.342341, -97.613169], [28.449909, -81.48013900000002], [40.69942, -111.91694], [45.73273, -120.1886], [28.553844, -81.270385], [44.932279, -93.07159], [39.60628, -104.89135], [36.04414000000001, -86.65718000000004], [33.261097, -111.952303], [43.974641, -116.832648], [28.567763, -81.290194], [34.196925, -79.704474], [29.662063, -95.317104], [42.38769, -83.01624], [34.067406, -81.14235500000002], [25.81206, -80.22955999999998], [37.35929, -77.43134], [33.277692, -87.624587], [41.744989, -107.624205], [36.149844, -95.968561], [27.839292, -82.764618], [38.819836, -77.15169300000002], [36.156604, -81.779344], [40.440561, -122.309775], [35.31281, -80.70561], [34.06776, -117.53934], [41.180065, -95.938758], [34.583715999999995, -82.795688], [37.15834, -77.3519], [25.747524, -80.33769000000002], [32.758083, -117.109001], [33.7309, -117.135643], [25.94736, -80.150153], [44.02956, -91.62225], [28.363932, -81.50194300000003], [33.48884, -86.91803], [36.16707, -86.61117], [34.43966, -119.831839], [44.576177, -92.968133], [37.8913, -122.06119], [32.86001, -96.90217], [42.66554, -123.37746], [43.149464, -123.372136], [29.14027, -82.056237], [33.686925, -78.956862], [35.292109, -113.04319], [33.684986, -117.175553], [42.003088, -121.889341], [38.247868, -122.073078], [32.150236, -80.758394], [40.54139, -74.38933], [33.80353, -84.2496], [43.184645, -77.583955], [41.574279, -87.473389], [30.50866, -87.164316], [40.790879, -73.974641], [33.843611, -118.0912], [38.668048, -120.938827], [39.641579, -75.937703], [38.16696, -121.630191], [30.342476, -91.056186], [28.412364, -81.423507], [40.49225300000001, -111.412625], [40.856019, -73.971816], [42.34398, -123.567277], [42.945625, -85.71144], [27.444533000000003, -82.46624399999997], [40.73098, -73.87383], [38.894101, -77.014042], [36.060702, -95.961299], [34.01828, -117.518815], [32.352469, -93.828673], [33.881917, -118.160987], [25.684798, -80.431106], [43.03208, -87.95458], [36.254163, -86.84614], [34.00387, -81.11020699999997], [43.02886, -77.96961999999998], [30.209386, -97.903775], [33.77209000000001, -112.24372], [33.298464, -111.817675], [41.139864, -112.025161], [45.623229, -123.376319], [25.784618, -80.242065], [38.272258, -85.70118000000002], [29.67429000000001, -95.57293], [33.959938, -118.225847], [33.0536, -117.28892], [38.541158, -121.46761399999998], [42.35636, -71.12974], [34.004597, -118.28271399999998], [39.01804, -77.20895], [37.547214, -121.919707], [40.91052, -74.04001], [32.67776, -97.38663], [42.05604, -88.01859], [42.397688, -87.976536], [33.901878, -118.286894], [25.878498, -80.323596], [35.981372, -83.918563], [39.305938, -76.792448], [38.186915, -78.99845400000002], [37.99033, -122.06766], [29.75514, -95.55764], [42.437597, -82.92059499999998], [40.7416, -73.83748], [45.065048, -93.972069], [45.354779, -94.812067], [34.928802000000005, -82.338773], [25.879935, -80.357455], [37.95488, -78.66082800000002], [40.4758, -75.45741], [33.0339, -96.99741], [30.04465, -95.43013], [39.100302, -76.81704599999998], [28.048147, -82.73844799999998], [39.171295, -123.21142], [35.41931, -84.696038], [37.46178, -77.49789100000002], [28.174835, -82.740386], [32.878378000000005, -96.897922], [27.52656, -82.428839], [36.264614, -84.19245699999998], [39.167901, -76.969298], [34.014109999999995, -118.419771], [33.856381, -79.082829], [34.019824, -118.04998], [33.941888, -117.555761], [34.020212, -117.814998], [36.233643, -86.767883], [39.848872, -75.17737], [42.35561, -71.18999000000002], [37.609428, -120.993582], [44.96987100000001, -93.308972], [47.15620300000001, -104.704598], [34.068378, -117.800136], [33.820115, -118.207013], [34.109158, -117.981146], [25.869628, -80.242642], [35.821049, -78.623406], [36.842405, -121.457708], [25.627579, -80.414624], [45.115609, -93.188368], [28.421362, -81.403312], [47.20255, -122.25687], [42.385566, -83.24869100000002], [34.385454, -118.483067], [34.196571, -79.68409], [39.86907, -75.30736999999998], [28.54768300000001, -80.85174599999998], [28.39765, -81.24945], [44.812642, -93.225592], [33.983058, -81.192828], [28.087801, -81.967345], [39.286669, -77.53101099999998], [35.51144, -97.56566], [32.798609, -96.81975], [30.61418, -81.64794], [42.31389, -88.00379000000002], [38.794829, -77.136147], [38.682142, -121.335164], [25.839902, -80.315701], [30.32771, -81.52917], [44.550566, -94.37588], [39.24588, -84.3038], [39.683121, -77.760103], [32.7001, -117.0947], [27.475232, -82.546672], [25.933097, -80.121872], [41.429409, -81.64710699999998], [42.787516, -124.494294], [27.431834, -82.385749], [35.88597, -78.52586], [29.777516, -95.357752], [30.628691, -84.886647], [48.28644600000001, -94.553586], [41.654657, -78.795836], [34.956764, -81.239324], [35.81514, -78.60342], [41.6626, -87.68753000000002], [44.85221, -122.86561], [33.624655, -117.934917], [38.87201, -77.29238000000002], [45.65644, -92.99213], [38.87522, -75.43951899999998], [36.883999, -121.746987], [32.8374, -97.11765], [26.708001, -80.077292], [41.105606, -73.425485], [44.741553, -124.055747], [26.232381, -80.126014], [25.760882, -80.39381800000002], [35.0599, -80.812893], [33.797081, -118.107811], [32.514542, -93.768921], [37.325168, -121.886239], [25.642714, -80.334553], [42.48103, -83.254233], [28.957199, -81.256964], [33.98266, -118.39496], [33.858318, -118.202366], [35.97448400000001, -78.872233], [44.20987, -92.10445], [26.088249, -80.16828000000002], [44.384926, -93.4842], [33.72665, -117.834738], [33.770524, -78.77359799999998], [30.271335, -97.732626], [34.96359, -82.039751], [25.64944, -80.391196], [30.570097, -87.291116], [37.47542, -122.210902], [47.602783, -122.326208], [44.888497, -123.328701], [38.515177, -121.451022], [40.582455, -111.900247], [36.919566, -76.274996], [28.59931, -81.54919], [47.265127, -122.32199], [34.800573, -82.425788], [34.325197, -118.502773], [38.34066, -121.334256], [29.60426, -95.20873], [35.753093, -78.624142], [41.412872, -73.616101], [28.553131, -81.360955], [40.114034, -76.322856], [33.62839, -117.72043], [40.73685, -73.83681999999997], [33.94577, -118.09436], [33.846693, -78.741359], [39.26840900000001, -76.56008299999998], [34.01868, -117.5155], [34.072806, -118.466716], [33.833867, -117.875972], [37.638626, -121.012497], [44.890464, -93.399761], [25.733202, -80.334764], [25.956453, -80.153999], [34.148007, -118.078437], [34.705287, -80.696923], [44.72119, -94.49427], [43.659678, -93.183256], [32.750729, -117.19666], [36.057327, -115.139406], [34.068603, -117.335669], [28.4385, -81.41305], [29.40692, -98.58131], [42.813903, -73.767324], [47.054733, -94.497431], [42.355833, -87.873655], [26.05793, -80.16251], [33.12146, -117.10221], [37.704319, -122.39423], [33.891897, -118.265244], [36.007894, -87.400821], [25.897513, -80.324483], [35.325938, -80.801929], [25.686512, -80.382542], [34.861023, -82.26165], [27.998163, -82.32141], [36.260359, -86.712863], [40.092379, -75.28829], [31.78863, -106.4328], [34.07353, -118.38972], [40.065504, -75.331873], [39.09576, -94.554551], [36.4128, -121.320475], [45.38268, -122.75267], [29.706178, -95.288795], [42.4102, -87.87824], [33.964366, -118.370088], [37.60269, -77.35642], [35.382118, -118.949759], [33.319927, -111.94561000000002], [46.57726, -92.58533], [33.740534000000004, -117.833811], [33.940426, -117.87814], [28.75085, -82.1043], [36.273926, -82.31882900000002], [37.82506, -122.31199], [40.87013, -123.958572], [28.346685, -82.699276], [45.38085, -122.58032], [43.990543, -123.006187], [32.20641, -110.8411], [36.16299, -86.7468], [34.202568, -117.415271], [29.356123, -82.22184], [45.306566, -121.813533], [40.80023900000001, -73.793562], [36.277779, -86.734545], [36.260229, -119.360228], [34.471267, -85.304392], [39.938789, -75.45885899999998], [43.129202, -77.55338], [39.783639, -105.043957], [38.414844, -77.42766], [34.106481, -117.880571], [40.66634000000001, -87.03808000000002], [37.480071, -122.407467], [34.432851, -118.384378], [36.150974, -86.864165], [32.801178, -96.785287], [28.117029, -82.739798], [33.772031, -117.909179], [38.769282, -121.249483], [38.77865900000001, -94.93152], [40.893722, -111.872393], [43.153669, -77.500354], [32.663415, -96.7236], [27.791916, -82.336061], [29.519373, -98.554841], [37.706742, -121.083853], [39.512532, -77.594536], [33.44565, -111.968785], [25.686577, -80.37529], [28.608742, -81.30809], [45.047303, -93.110643], [40.849818, -124.164252], [34.823006, -82.313369], [33.772240000000004, -117.90885], [40.75072, -73.75209], [33.926320000000004, -117.42152], [34.002704, -112.140059], [30.443782, -91.170162], [41.884368, -75.84342099999998], [34.219826, -119.080027], [33.16789, -117.344494], [33.978924, -117.917507], [47.002037, -93.269908], [33.983912, -117.907678], [33.648095, -78.976434], [40.953345, -76.464414], [37.533885, -77.429724], [44.948846, -92.924688], [42.90754, -78.84373000000002], [27.99612, -82.50565], [34.19628, -117.419159], [39.482566, -75.131224], [26.545156, -81.839239], [25.945914, -80.205394], [45.624622, -112.673882], [34.031188, -81.10760400000002], [42.13647, -88.482539], [36.05842, -80.21048], [45.657774, -110.76711], [39.93382, -75.08296999999997], [39.04731500000001, -77.07571], [32.870938, -96.821322], [44.09075, -123.17118], [38.470136, -122.722707], [34.439499, -110.620784], [39.104729, -75.454026], [38.54279, -121.73248999999998], [34.77102, -86.58575], [34.137838, -83.791635], [35.889789, -78.562477], [35.12918, -85.24336], [28.684905, -81.226376], [30.210753000000004, -97.669312], [25.810399, -80.15480500000002], [30.38951, -91.092246], [37.367924, -79.922822], [39.725462, -105.087357], [45.452066, -122.579053], [40.904313, -74.11475899999998], [38.635465, -121.224493], [42.310346, -88.190763], [37.01047, -76.45926], [35.251697, -92.38738], [29.851012, -95.237097], [30.448249, -91.153789], [38.436259, -77.40405600000003], [37.945369, -122.058286], [34.860095, -118.163383], [35.026057, -85.173468], [25.806357, -80.321414], [29.69881, -95.15356], [45.80978, -119.949427], [34.081632, -117.702817], [39.589109, -106.431409], [41.544528, -81.617355], [29.811446000000004, -95.492359], [30.433081, -91.110752], [37.697886, -120.99446100000002], [41.520833, -74.010201], [39.947222, -74.934815], [32.745457, -96.812704], [30.592138, -86.10973100000002], [41.945799, -124.19376499999998], [35.7814, -78.64496], [34.421336, -119.650981], [27.491792, -82.562784], [37.246211, -77.39321], [30.315729, -81.740961], [33.861268, -118.096879], [25.94174, -80.205074], [25.925896, -80.188148], [43.949104, -93.264728], [30.320871, -81.720336], [26.937788, -82.350729], [33.98076, -117.84163], [38.68678, -76.872374], [34.004090999999995, -117.383748], [25.787296, -80.210633], [34.07134, -118.2354], [38.003358, -122.042918], [30.168547, -97.784912], [37.17819, -121.67959], [34.425284000000005, -118.423635], [30.07753, -90.404758], [34.220357, -117.402383], [36.210737, -119.136252], [32.76418, -117.16], [45.20681, -93.02929], [38.794151, -76.998549], [33.933351, -118.368504], [34.150027, -81.202386], [40.471403, -78.284351], [28.59504, -81.38455], [35.162912, -92.6366], [33.96385, -118.36992], [33.686798, -78.957127], [33.90195, -118.268641], [30.256511, -97.746169], [40.70764000000001, -74.1546], [38.04813400000001, -122.532168], [38.673147, -77.242609], [33.960007, -118.286764], [41.96744, -87.74721], [30.625602, -88.121241], [40.81044, -74.09496999999998], [37.25943400000001, -121.952973], [28.268901, -81.605328], [35.719996, -78.84333000000002], [36.19441, -86.77234], [45.38214, -93.860318], [35.791922, -78.743916], [41.53922, -81.63348], [33.774146, -84.390096], [38.98895, -76.88351999999998], [38.72418, -121.29119], [37.6646, -121.32447], [39.2653, -84.43965], [40.732165, -73.843027], [41.739499, -72.436239], [38.582814, -76.95089200000002], [38.820023, -76.92143], [29.715861, -95.416657], [34.095040000000004, -80.87720999999998], [26.35685, -80.11933], [39.12832, -121.517244], [44.86248, -93.20491], [39.07066, -76.63573000000002], [35.120285, -81.082604], [33.960145000000004, -118.237392], [32.191871, -110.832342], [33.857682000000004, -118.210991], [37.763528, -121.418744], [39.09574, -94.5547], [27.806490000000004, -82.67961], [43.84824, -123.02237], [45.61239000000001, -123.05551], [33.68662, -117.766], [34.24689, -118.4249], [33.908889, -118.265306], [33.432234, -112.187087], [25.942303, -80.310106], [28.482981, -81.457262], [38.897, -104.74707], [37.68301, -113.07953], [29.948425, -90.040727], [33.969808, -118.454629], [45.488438, -122.80418600000002], [34.08262, -83.99618000000002], [25.627596, -80.377561], [25.685729, -80.40204399999998], [36.327011, -119.301292], [41.62736, -71.48728], [40.70629, -73.83225], [34.021271, -118.196132], [34.1207, -117.8247], [36.601969, -120.581907], [34.2721, -118.35299], [35.76201, -119.053226], [35.534703, -80.86159], [34.030277000000005, -117.660498], [29.8346, -95.38534], [37.710098, -122.123388], [37.701913, -121.91048700000002], [39.9354, -75.199751], [41.319161, -72.89386800000003], [43.61131, -93.3425], [35.70338800000001, -119.168604], [43.076098, -82.76553], [42.38378400000001, -83.176288], [38.816317, -77.220937], [37.31395, -120.5222], [38.55392, -121.37605], [38.85895, -77.07007], [37.250451, -121.914958], [37.421143, -122.092497], [33.385725, -111.935152], [40.54037, -75.41391], [38.610688, -121.427405], [35.428611, -78.97746], [37.516898, -77.255977], [28.878432, -82.092536], [40.588191, -75.56405], [33.941251, -118.292568], [25.68402, -80.387637], [41.134767, -73.29312], [43.002509, -83.72836600000002], [26.387029, -81.80891], [37.155421, -119.731658], [34.00490300000001, -117.930245], [37.552988, -77.48010699999998], [42.86447, -73.77577], [34.172009, -118.471597], [28.275117, -82.62339200000002], [40.76544000000001, -111.93914], [42.20224, -87.83431], [32.917064, -117.115797], [32.744868, -117.156432], [29.369312, -95.264448], [25.942232, -80.303853], [34.478179, -118.614915], [40.117578, -75.35072199999998], [42.26892, -84.48156999999998], [33.738218, -117.113998], [43.440273, -84.046965], [28.089269, -82.459726], [40.260463, -76.30724599999998], [25.823117, -80.206385], [45.380991, -122.949988], [25.685749, -80.406082], [35.83872, -78.675063], [39.019475, -77.044138], [41.72977, -87.9774], [44.84594, -93.123901], [40.98998, -73.67551], [41.842466, -88.029106], [44.1552, -94.06811], [30.432338, -91.175496], [38.02468, -121.96412], [32.81328, -96.64808], [25.748028, -80.315616], [40.610317, -74.033254], [45.673715, -118.760252], [34.222251, -117.40974], [42.470007, -83.75619300000002], [40.78062, -73.63620999999998], [40.700547, -73.503238], [44.233207, -121.462986], [32.367376, -86.29285899999998], [33.658665, -117.74596], [42.960474, -78.696985], [26.456826, -80.08944100000002], [43.952168, -92.054411], [39.709506, -122.631589], [25.749454, -80.335813], [39.047006, -121.050476], [38.626898, -121.401792], [28.5054, -81.42251], [38.988073, -94.551964], [30.23292600000001, -97.800732], [29.992012, -90.07328], [38.032939, -122.267101], [45.756794, -108.489083], [44.970394, -93.321229], [34.202424, -118.340166], [41.37132, -71.97676], [30.26101, -82.7513], [25.626326, -80.382214], [39.204791, -121.204827], [42.249808, -122.778658], [28.566762, -81.286012], [39.096805, -104.86376], [42.37685, -83.03948000000003], [45.606606, -94.488816], [32.366971, -86.320409], [34.11854, -117.8654], [42.360019, -83.119349], [25.899797, -80.20967900000002], [47.78088, -122.31694], [38.810212, -77.05041899999998], [38.81908, -76.91456], [34.122551, -118.382805], [42.34324, -83.04281], [39.096275, -94.574807], [32.298721, -86.20019599999998], [32.949278, -117.10497], [34.948241, -119.689719], [45.511385, -94.279816], [25.80591, -80.32101], [44.425485, -121.708946], [33.626887, -117.425968], [39.652479, -77.9158], [25.765896, -80.263423], [33.97647, -118.235073], [41.330531, -73.81791], [39.768987, -122.196666], [37.71807, -121.665998], [34.1237, -84.74075], [44.09025, -123.09485], [43.137186, -77.597513], [40.56265, -74.2593], [27.894572, -82.788359], [33.707284, -117.344911], [32.220692, -110.993823], [34.544141, -118.108431], [34.19390300000001, -118.47418799999998], [39.2653, -84.43965], [34.275192, -118.536193], [29.971768, -90.064996], [45.516839, -122.66725], [33.872552, -118.274127], [29.77746, -95.42557], [33.62281, -112.11619], [38.724367, -121.364602], [39.538818, -122.212107], [34.060759999999995, -118.215218], [41.08901, -73.45572], [36.240155, -119.345713], [47.14964000000001, -122.500187], [34.735198, -86.61669300000001], [40.69621400000001, -73.97641899999998], [37.42262, -120.766342], [30.450679, -91.141098], [33.774474, -118.063902], [25.90507, -80.24382], [35.196335, -80.91644000000002], [38.91588, -121.041001], [34.08838, -118.30482], [39.713894, -121.611873], [34.004353, -118.063689], [29.649471, -98.195446], [37.157778, -77.35220699999998], [34.105512, -117.26392], [33.318861, -80.548464], [30.011762, -95.427879], [40.18125, -74.10127], [25.692634, -80.327842], [32.774190000000004, -96.79287], [37.756218, -112.562136], [40.757591, -86.179096], [32.756509, -97.318927], [25.967918, -80.254094], [34.036997, -118.283991], [40.770038, -111.986957], [36.921637, -80.008623], [25.884512, -80.24322], [32.942601, -80.052319], [32.76463, -117.16168], [34.639071, -86.848957], [43.598478, -116.546079], [39.397183, -76.430661], [42.91982, -83.726043], [40.248413, -75.295191], [35.761667, -78.59569599999998], [33.8736, -118.21441000000002], [36.982635, -121.558233], [36.926222, -76.269242], [25.884041, -80.18016800000002], [41.77196, -72.59792], [29.709594, -95.418329], [43.83104, -75.44915], [33.712821000000005, -84.243184], [38.683554, -121.590791], [40.989432, -73.674651], [37.606243, -77.522013], [41.87124, -87.83788], [47.548286, -122.334308], [30.379375, -91.061736], [25.827057, -80.32159200000002], [25.767173, -80.36882800000002], [41.43661, -72.1097], [34.033815000000004, -117.650614], [37.72305, -121.10104], [29.656041, -95.577654], [33.876515999999995, -118.131268], [32.795996, -96.833931], [45.04212, -93.10123], [28.260711, -81.436278], [43.12785, -122.131002], [37.38754, -121.98358], [44.035912, -91.645144], [41.84196, -88.49382], [36.793172, -119.700406], [34.12042, -118.27126], [37.824393, -122.303999], [44.748419, -93.283871], [35.75631, -78.60096800000002], [41.29958900000001, -72.39105500000002], [34.077684999999995, -118.283477], [32.710517, -117.084965], [39.105267, -94.716699], [45.50745, -122.66991000000002], [40.776847, -74.04525600000002], [32.921113, -96.848113], [41.742428, -71.445044], [32.684658, -117.089613], [34.066832, -117.9878], [45.627883, -92.992089], [32.991842, -111.75677], [44.85936, -93.39432], [34.01852, -117.51941], [25.747258, -80.303534], [34.288707, -118.408361], [41.65049000000001, -93.7714], [38.030322, -122.737852], [36.06451, -80.23588000000002], [39.12522, -77.02769], [45.36055, -122.82549], [38.688189, -76.904418], [39.295725, -76.742521], [28.415111, -81.422667], [41.027626, -73.820954], [40.906458, -73.8562], [41.87386, -87.64562], [38.209477, -81.466932], [34.066934, -117.559386], [33.843721, -117.535107], [37.694764, -120.182822], [40.725899, -112.017513], [39.581618, -77.728431], [33.686, -117.87493], [34.005401, -117.413052], [38.855095, -77.637845], [26.680752, -82.150737], [45.430163, -122.606561], [39.65222, -106.96013], [28.202878, -82.249032], [33.892645, -98.496561], [34.256837, -82.185745], [41.999006, -124.208312], [40.745759, -73.972311], [34.028152, -117.717695], [41.63331, -87.57836], [41.771827, -72.668772], [33.88178, -117.582655], [25.948629, -80.35169], [34.002524, -117.379077], [34.863525, -118.30891], [38.924282, -76.85391], [33.005977, -80.814131], [30.75431, -85.37471], [33.980079, -118.136471], [40.220172, -75.247979], [28.56832600000001, -81.294413], [33.913940000000004, -84.47998], [34.037664, -118.440814], [33.462070000000004, -112.07012], [43.955457, -92.234401], [30.31427, -81.77322], [36.692235, -119.758824], [37.403994, -121.877313], [36.571475, -121.808156], [42.275487, -123.217216], [40.69987, -111.87134], [40.61535, -122.519735], [38.511504, -90.33571], [25.729522, -80.391552], [45.50675, -122.71337], [39.09791, -94.603632], [41.75671, -88.0356], [28.519091, -81.509185], [38.93513, -94.70478], [44.89053, -93.29271], [34.013593, -117.446132], [37.352688, -77.40476], [40.865932, -74.008487], [34.051876, -118.224221], [34.076564000000005, -119.023697], [34.119726, -117.748793], [33.78785, -118.20762], [41.67291, -72.84514], [34.1364, -117.54255], [30.012699, -81.392149], [33.699133, -117.936171], [45.579904, -118.62091399999998], [38.858264, -77.371464], [35.77105, -78.58325], [41.616886, -87.041662], [34.293965, -117.45391], [33.482123, -91.440897], [38.124607, -79.043637], [30.011762, -95.427879], [41.255049, -121.829618], [34.076285, -117.435692], [28.550739, -81.28590799999998], [33.725891, -117.292451], [27.852516, -82.828113], [25.928809, -80.18356899999998], [34.154553, -118.272695], [41.185351, -80.28075799999998], [37.588517, -77.478813], [45.2273, -93.552296], [34.923076, -82.082267], [32.880567, -117.107723], [33.782519, -78.98939200000002], [39.08947, -122.79525], [41.727372, -72.612386], [36.15521, -80.27873000000002], [40.364359, -78.434067], [34.055001000000004, -117.299073], [36.107807, -95.958044], [33.974646, -118.28544], [37.274771, -121.933866], [28.067598, -82.749718], [34.631072, -118.152983], [32.918326, -96.766518], [25.799372, -80.250907], [33.222495, -111.922477], [33.561805, -113.303731], [47.65714000000001, -117.2398], [42.235914, -87.994169], [36.167532, -86.778577], [34.500339000000004, -82.6479], [39.012264, -77.06376999999998], [42.509568, -73.79082], [41.546179, -72.108743], [44.95094, -93.10525], [40.021737, -76.18908], [29.962495, -90.101011], [45.168726, -109.269659], [28.97457600000001, -82.131815], [37.391733, -121.833646], [34.15105, -118.0896], [37.339427, -121.852009], [38.452633, -81.992349], [39.88778, -83.04329], [37.803888, -122.301972], [48.240406, -114.33053], [35.311898, -80.7584], [41.95352000000001, -87.85664], [34.152279, -118.093781], [37.562502, -120.923842], [29.688819, -95.547008], [37.97295, -122.31945], [34.853514000000004, -117.084978], [40.281211, -76.819807], [30.105792, -97.752835], [45.613151, -123.423516], [27.453414, -82.575384], [39.362462, -77.178312], [44.98766, -93.28859], [40.752598, -73.967026], [36.996059, -121.717127], [37.616922, -122.398446], [27.05077, -80.2354], [35.11932, -92.46724], [40.10641, -75.147624], [40.462777, -111.91404], [40.24902700000001, -76.812564], [42.272195, -83.440883], [35.22781, -80.86148], [34.154224, -118.311059], [37.875398, -122.5101], [37.733241, -122.41191], [41.06541, -73.86451], [38.00335, -121.837831], [32.909484, -96.724929], [39.93647, -83.00944], [37.91601, -121.29081], [30.581229, -85.643615], [34.05628, -118.21352], [40.044447, -75.400789], [35.338442, -92.410646], [35.90987, -78.744964], [38.550856, -121.422653], [44.238722, -95.645447], [35.430787, -119.021191], [40.15472000000001, -75.1217], [34.121571, -117.694827], [33.758578, -81.24515600000002], [32.220937, -110.849529], [33.96736, -118.37113], [25.732167, -80.380358], [45.69123, -120.430094], [34.235589000000004, -118.472957], [26.45773, -80.13094], [37.40794, -122.0043], [40.053668, -74.220703], [32.745940000000004, -97.222428], [39.017718, -122.571782], [38.430122, -121.488028], [37.679347, -122.126826], [34.311254, -117.472564], [25.696427, -80.300551], [32.65217, -117.06859], [25.654291, -80.415635], [34.087454, -117.650839], [39.145721, -121.913305], [37.743051, -121.343495], [45.674339, -121.870554], [45.24736, -93.02597], [40.481129, -104.737802], [34.07145, -117.86818999999998], [40.726861, -73.97991], [44.459153, -121.19951], [42.463735, -87.903429], [40.773677, -73.042502], [34.7796, -92.264], [35.89237199999999, -78.558448], [36.924919, -121.37748899999998], [34.01852, -117.51941], [25.74292, -80.22985], [28.264298, -81.581775], [44.291587, -121.485592], [34.018935, -118.15033], [44.861437, -93.307324], [33.642605, -117.604005], [40.544256, -111.900841], [45.054706, -123.493355], [30.329329, -98.020528], [42.197386, -88.061458], [40.530012, -80.072125], [33.46305, -112.18034], [40.418691, -78.36604799999998], [38.523038, -121.769076], [37.992793, -122.03962], [40.275042, -74.706163], [33.682391, -117.892873], [34.473773, -81.89433000000002], [37.711736, -120.848328], [33.85601, -117.99405], [46.316481, -95.43747], [40.910431, -77.078412], [40.650287, -73.868287], [32.778890000000004, -117.10433], [40.745908, -73.91232099999998], [33.89775, -117.47803], [44.06163, -92.49796], [33.65153, -117.74075], [29.728717, -95.460223], [34.064451, -118.005491], [43.197051, -75.451987], [44.662697, -123.059687], [25.92733, -80.217706], [32.367643, -86.311458], [40.248457, -75.245826], [38.627167, -90.186284], [38.683822, -121.456895], [43.01422, -85.68881999999998], [38.838137, -77.218581], [30.524322, -82.98092], [32.718862, -117.155642], [35.087886, -85.063811], [29.688626, -82.369679], [39.007569, -76.862229], [33.955384, -80.993655], [32.64947, -117.06381], [34.258323, -79.315962], [34.1347, -117.62949], [40.800888, -73.929234], [37.167074, -122.074093], [45.58112, -122.6613], [29.746937, -95.3271], [39.05167, -84.55689], [45.43322, -122.74408], [37.820103, -122.340943], [39.95439, -82.97565999999998], [32.947837, -80.156329], [32.915420000000005, -79.88608], [40.61784, -111.280637], [34.023917, -117.748621], [38.371692, -119.194847], [33.213208, -80.310002], [34.03778, -118.27414], [40.501323, -80.131241], [30.552446000000003, -91.035656], [28.280115, -82.619271], [38.982697, -122.999063], [45.511288, -122.786694], [33.974758, -118.252058], [46.539766, -111.935321], [25.477341, -80.460909], [34.05801, -118.24418], [37.00244, -122.02072], [39.08666, -104.86144], [33.03514000000001, -80.14535], [38.610644, -121.401418], [33.511823, -86.79289399999998], [41.11058, -112.054651], [38.35275, -122.71322], [30.50921, -87.184637], [39.015744, -77.09734], [33.833867, -117.875972], [28.344222, -81.534701], [30.629618, -87.1644], [38.871721, -91.368173], [33.543759, -84.582463], [28.497348, -81.39694], [28.59758900000001, -81.21583199999998], [35.847379, -78.64433100000002], [34.078886, -118.288915], [39.447723, -77.38786999999998], [40.745561, -73.734876], [45.057, -122.96851], [37.042199, -122.080444], [37.179762, -121.994558], [35.065644, -91.921287], [33.99494, -117.90761299999998], [39.899213, -75.17695400000002], [42.163542, -87.87400600000002], [40.1126, -111.6718], [25.92487, -80.30417], [40.948492, -111.882289], [37.091171, -77.475737], [27.877284000000003, -82.762417], [45.196414, -94.31668], [34.06899, -118.46328], [41.26373, -73.68382], [25.688837, -80.365891], [34.158003, -118.15873], [30.497687, -87.258601], [39.987601, -74.88585400000002], [28.547034000000004, -81.499602], [25.847222, -80.154404], [39.015593, -78.293254], [34.024693, -117.757156], [25.736216, -80.262152], [28.449871, -81.468882], [34.072990999999995, -117.784262], [35.82959, -78.75954], [30.468672, -84.36115600000002], [38.22667, -85.5054], [37.929124, -122.515671], [36.04435, -83.341115], [33.846999, -112.143276], [32.674131, -97.137317], [37.14623, -121.98619], [46.38316, -94.14544], [45.88171, -123.95871], [34.152339000000005, -118.094172], [37.957583, -77.484542], [26.172334, -80.903471], [33.928187, -118.367315], [35.26125, -80.8369], [25.57281, -80.372323], [34.023706, -118.436611], [37.309795, -76.68777800000002], [34.281751, -118.695271], [30.410308, -97.7169], [30.392237, -91.157654], [39.08901, -84.47495], [37.61646, -122.07373], [40.30244, -104.98061], [42.933876, -85.671914], [32.235895, -110.980662], [32.660764, -117.076866], [40.57992700000001, -75.828135], [36.78927, -76.28482], [37.562116, -120.957058], [38.834599, -77.097533], [33.83243, -117.53018], [44.946921, -92.842829], [33.938563, -79.92719], [29.485708, -82.491483], [39.088136, -76.811298], [27.791702, -82.339907], [44.882787, -93.16124], [33.907219, -117.091604], [36.08643, -86.648909], [35.689204, -118.0539], [43.24415, -124.287782], [42.973419, -76.812297], [33.249621999999995, -117.271037], [41.84566, -87.98301], [32.750715, -117.100907], [37.699387, -122.107644], [40.01814, -78.62416], [37.155901, -121.655141], [34.183868, -118.132398], [42.352173, -73.705072], [35.338157, -82.437629], [41.843932, -74.059229], [37.86749, -121.6384], [36.837512, -76.100717], [37.32132, -121.8345], [35.022842, -85.198308], [25.924496, -80.296453], [41.944023, -91.736857], [33.967742, -118.163242], [41.713296, -87.80117800000002], [32.86913, -96.913053], [27.791702, -82.339907], [35.074644, -85.168022], [38.550161, -121.47386000000002], [43.843579, -122.628881], [32.2871, -110.9439], [39.21893, -76.65815], [38.421982, -77.421419], [38.15858400000001, -79.271977], [47.357994, -122.24454], [38.971112, -77.149997], [34.063562, -117.286653], [32.792522, -96.797742], [25.688238, -80.329539], [28.423429, -81.404779], [33.218651, -80.67796700000002], [44.968922, -93.088529], [40.69851, -74.1558], [28.63925200000001, -81.443614], [39.95662700000001, -75.180378], [33.465662, -80.779557], [41.7593, -72.65326], [29.654951, -95.568807], [32.893313, -80.01848100000002], [39.75524, -86.143637], [44.981529, -93.088655], [30.161821000000003, -97.687973], [25.944226, -80.121195], [34.042288, -117.698257], [36.054945, -119.142034], [45.24211, -122.327573], [35.77105, -78.58325], [34.949304, -82.43772], [44.79602, -122.72493], [38.034957, -78.60714499999997], [34.772446, -82.71948], [34.12145, -117.30263], [29.605398, -95.477399], [35.317883, -78.62939], [37.808253, -122.366974], [42.87376, -72.222868], [40.784522, -111.911963], [37.494557, -77.161579], [44.533846, -73.197835], [35.12761500000001, -90.076064], [34.345632, -118.109754], [39.27999000000001, -76.47756], [44.77347, -93.21721], [34.190729, -80.160251], [31.30115300000001, -81.481379], [40.089276, -75.379148], [37.689231, -122.103563], [34.913453999999994, -82.23701899999998], [27.924255, -82.40187900000002], [25.442035, -80.475131], [37.80771, -122.36764], [29.4859, -98.59089], [33.913217, -118.116679], [40.05755, -86.49364], [38.359247, -122.713047], [38.54676, -77.34494000000002], [38.928562, -76.930185], [38.92265, -77.235168], [32.282964, -110.961067], [44.607083, -121.159919], [40.6869, -73.59444], [43.8181, -94.42808], [36.170812, -86.746774], [38.77331, -76.02695], [37.588644, -121.870838], [28.31798, -81.55996999999998], [35.107040000000005, -106.62954], [39.04724, -76.62167], [30.489128000000004, -91.107305], [42.07962, -73.97379000000002], [41.668731, -72.844148], [33.494099, -112.264106], [29.842691, -95.390893], [37.970372, -120.28165], [37.379891, -121.956889], [26.330444, -81.817113], [42.17576, -87.9894], [35.151423, -119.448649], [43.61953, -116.351918], [39.955799, -75.180633], [33.9677, -81.203188], [43.222485, -77.63887199999998], [30.397182, -91.164042], [39.098625, -94.602191], [33.91326, -118.135374], [40.257842, -76.78593599999998], [45.657774, -110.76711], [34.338840000000005, -118.50721], [33.410243, -117.600575], [34.03964000000001, -118.07989], [35.064607, -80.767266], [34.645539, -80.038664], [45.28868, -93.552306], [32.759685, -117.203859], [32.917492, -96.744729], [39.653402, -77.74780799999998], [45.67844, -118.853169], [34.46618, -93.143009], [45.915912, -119.288471], [28.495335, -81.396918], [43.121253, -75.225525], [34.075605, -118.02196399999998], [39.860907, -75.099776], [27.439472, -82.530264], [34.003725, -118.286382], [35.450681, -94.320255], [35.66588, -78.563565], [33.435026, -117.141092], [27.717440000000003, -82.38355], [43.15449, -77.68115999999998], [38.681901, -77.229567], [39.27956500000001, -76.727389], [33.682482, -117.763152], [30.474537, -88.399651], [28.361134000000003, -80.700138], [35.344101, -94.37436], [25.670941, -80.414505], [32.475472, -85.039558], [36.722263, -121.658402], [25.782827, -80.336761], [42.740546, -73.911262], [44.887872, -93.373693], [37.719157, -122.448254], [27.809444, -82.646772], [44.861579, -93.54744], [33.859918, -118.294605], [44.097071, -123.155375], [39.74191, -84.30296], [27.300553000000004, -82.451621], [45.205494, -122.828553], [40.83435, -73.87406899999998], [34.068808000000004, -117.93811200000002], [38.29587, -85.62777], [35.80632, -78.42351], [38.709647, -77.151267], [33.990086, -85.250843], [45.69329000000001, -120.383938], [34.971419, -120.42543899999998], [47.623125, -122.328718], [35.85053, -78.61448], [30.340940000000003, -97.96862], [33.412667, -79.187911], [25.93459, -80.215162], [44.09759, -123.118646], [38.818919, -76.92952700000002], [39.64011, -84.28958], [29.714895, -95.571334], [36.808498, -119.802629], [44.95409, -93.04153], [41.114268, -76.903562], [33.759541, -117.861328], [38.829846, -77.11405], [33.615023, -112.116808], [27.44727, -82.53024], [38.84095, -121.015144], [38.476223, -121.388067], [40.685571, -74.165588], [37.296387, -80.088815], [37.370622, -121.824462], [33.961358000000004, -81.231442], [43.448994, -88.54267800000002], [39.19325, -94.58994], [25.927231, -80.293364], [30.427219, -86.86701], [43.61953, -116.351918], [32.7258, -117.07357], [33.558238, -117.644732], [28.56736, -81.286006], [44.3607, -93.958801], [38.13999, -120.45506], [25.682681, -80.416411], [32.8375, -79.85805], [40.166758, -75.55619300000002], [44.86128, -93.17595], [42.20023, -87.88688], [38.785902, -121.225576], [41.20801, -73.094583], [39.092305, -94.628688], [35.873648, -81.792546], [32.805264, -109.707705], [29.550916, -82.496312], [32.77018, -117.13856], [35.155445, -89.88038399999998], [25.883587, -80.21260600000002], [34.110587, -118.263446], [37.456374, -120.849058], [29.438551, -98.460539], [39.9824, -75.33842], [42.636469, -73.788224], [34.151676, -118.155428], [33.932882, -118.358805], [40.212399, -79.74146999999998], [36.08642, -80.22892], [34.769353, -117.321291], [42.72584000000001, -84.51004300000002], [44.059905, -121.303933], [40.772104, -74.061654], [34.377390000000005, -81.67831], [38.04622, -121.75124], [36.365779, -84.234258], [40.051493, -76.32091899999998], [42.77916, -85.66894], [44.933075, -123.029098], [38.858052, -105.986105], [37.048183, -76.40297], [34.936849, -81.947885], [40.721265, -75.283459], [40.201109, -74.58979699999998], [34.087394, -117.677971], [41.995428, -93.038793], [30.191341, -81.69559100000002], [29.931773, -95.402201], [42.23693, -85.589539], [42.971017, -73.792741], [35.16141, -78.713661], [40.748103, -74.16749], [28.577875, -81.45242900000002], [29.966483, -90.111034], [40.041612, -79.940499], [34.025458, -117.74892], [29.806627, -95.337284], [34.492574, -118.179922], [44.21375, -89.48196999999998], [37.80644, -121.99085], [40.86681, -74.04378], [25.759338, -80.336014], [30.307127, -97.750371], [44.45098, -118.75187], [35.842493, -78.682011], [41.043621, -73.571833], [42.358243, -83.07737], [45.34332, -118.103189], [39.060956, -76.83675799999997], [40.714635, -80.303514], [33.907655, -117.882353], [27.878831, -82.68804300000002], [37.773873, -122.431586], [32.743485, -96.822835], [31.78932, -106.39837], [39.098497, -94.592648], [29.957353, -90.093817], [37.799528, -122.27772], [29.854839, -95.291556], [25.76972300000001, -80.324597], [33.631244, -117.844485], [37.51691, -122.25971], [28.085665, -82.454464], [35.93315, -119.573111], [35.72335, -78.82466], [33.986670000000004, -118.169918], [33.992034000000004, -117.931843], [40.479856, -122.397492], [36.844786, -76.170433], [41.072585, -73.474918], [33.88901, -117.880695], [32.868609, -96.770687], [25.808804, -80.24979], [34.10673, -118.25564], [37.023899, -76.321366], [36.255583, -119.887411], [39.60568, -77.72584], [38.686301, -121.341458], [43.03426, -123.32834], [37.14250300000001, -121.98516200000002], [37.899924, -121.262294], [25.963482, -80.14865400000002], [34.378827, -117.418838], [30.479036, -91.160348], [40.480102, -79.965609], [33.74125, -111.926], [28.42564, -81.39774], [39.78277, -86.15973100000002], [35.120285, -81.082604], [25.885187, -80.16494200000002], [33.79273, -118.10248], [41.71355, -87.60114], [30.314744, -91.835864], [36.351485, -119.412534], [28.538533, -81.285678], [40.03235, -75.761718], [33.984886, -117.843099], [26.547965, -81.83930600000002], [34.006968, -81.354938], [40.834119, -74.437071], [42.29533, -88.06656], [34.412511, -119.857299], [34.918851000000004, -81.985885], [36.117898, -86.72581600000002], [34.027751, -118.427672], [33.605258, -86.232091], [40.115257, -75.341373], [34.60749000000001, -111.208502], [39.265447, -76.592935], [35.79372, -78.64165], [37.250488, -121.90624], [34.732097, -92.302773], [25.924424, -80.31085300000002], [33.787837, -117.830826], [34.145411, -117.291809], [33.48512, -112.264], [42.362401, -123.518395], [30.317122, -81.676988], [44.752291, -93.285954], [33.45124000000001, -111.92646], [41.823999, -93.571021], [29.620078000000003, -95.392987], [35.885419, -90.789512], [25.72873, -80.430652], [34.05262800000001, -80.922814], [38.015305, -121.941928], [47.411828, -92.521098], [29.085756, -82.185148], [39.692114, -86.21784699999998], [42.49143, -83.059201], [37.944041, -88.031305], [36.098247, -119.039999], [29.639299, -95.25654], [36.930596, -76.406869], [43.406464, -118.58933], [40.067561, -75.34269], [40.75726, -73.32739000000002], [28.583193, -81.207826], [38.79421, -76.83621], [44.888787, -124.025401], [34.010065000000004, -118.131687], [34.072608, -117.808974], [34.087166, -117.674068], [35.36468499999999, -120.82657], [40.74006, -73.78995], [30.003209, -82.499638], [30.446548, -91.23938], [41.687589, -91.798163], [37.631431, -122.084667], [34.13793, -117.2414], [33.25112, -111.94459], [37.600279, -122.061929], [35.910512, -78.733274], [32.74792, -83.71646], [32.72951, -117.06535], [33.69565, -117.93471], [30.013222, -89.993532], [41.570089, -87.296065], [29.60015, -95.33126], [39.2319, -76.64903000000002], [36.090892, -86.734654], [32.70538, -96.814531], [29.6506, -95.38756], [33.773298, -118.037743], [40.736493, -77.013374], [40.437399, -74.300853], [33.43994, -112.134588], [25.7644, -80.38803100000001], [33.918997999999995, -118.196151], [28.450246000000003, -81.406704], [33.859286, -80.40525], [29.966483, -90.111034], [38.275476, -122.047709], [38.948836, -76.065729], [35.0159, -85.25404], [30.350471, -81.66849], [42.42843, -73.689], [33.674938, -117.884373], [33.858019, -117.38794], [34.078971, -118.227839], [36.161854, -86.777733], [33.974111, -118.224101], [32.30878, -110.87497], [32.31043, -80.98054], [40.731629, -111.904791], [27.654958, -80.881401], [35.074277, -90.003612], [45.60178, -122.68333], [41.408464, -74.345903], [29.770814, -95.212798], [30.25136, -81.47209000000002], [40.388349, -74.177745], [47.46234000000001, -122.25001], [40.738328, -73.903176], [36.443325, -81.518127], [40.90665, -74.09838], [41.608075, -112.082118], [38.106261, -79.06389300000002], [38.63969, -121.48505], [45.053483, -122.970432], [39.013622, -77.047237], [34.226744000000004, -118.38768799999998], [38.640364, -121.477729], [33.795259, -83.713307], [44.954844, -93.07821], [32.768201, -117.153997], [33.831592, -118.287232], [42.63898, -73.753771], [45.92385, -94.87733], [40.27601, -75.60838000000003], [35.028351, -80.54056700000002], [30.269723, -81.772245], [44.00008, -95.94373], [34.006996, -117.965023], [33.252942, -117.156122], [33.65826, -117.37575], [34.035868, -118.099322], [38.369094, -75.537508], [32.295116, -106.805251], [47.60173, -122.32246], [25.715057, -80.39801800000002], [38.95244, -77.0964], [42.19039, -88.13545], [34.406149, -117.396244], [37.063192, -122.080481], [33.897739, -118.26527], [34.026403, -118.235139], [38.787352, -77.089935], [33.880966, -117.651718], [34.004563, -117.830246], [38.00449, -122.03885], [41.79045, -87.87015], [34.35434, -118.986838], [42.747877, -123.366841], [37.787349, -122.247952], [44.787731, -93.288588], [26.0101, -80.20761], [35.96534000000001, -78.510593], [27.446272, -82.503715], [40.282584, -79.415477], [34.03968, -118.052015], [38.963696, -121.112673], [33.938686, -117.877179], [41.850209, -88.052839], [33.947788, -118.165559], [38.021758, -121.966033], [42.49662, -83.75776], [38.17961, -85.78325], [33.930984, -118.344737], [28.482248, -81.396664], [37.927218, -122.376955], [36.345165, -84.230664], [34.234979, -118.412147], [38.490261, -121.514203], [36.274903, -86.797432], [28.56191, -81.30735], [39.93658, -83.00941999999998], [33.77533, -117.848743], [32.731951, -96.612492], [41.756615, -81.11575500000002], [32.86821, -117.22972], [42.375383, -83.043476], [44.76398, -123.04684], [29.826135, -95.325766], [30.376414, -81.76082199999998], [29.865674, -95.487789], [34.219744, -117.401391], [40.068796, -76.309662], [28.532878000000004, -81.285624], [35.12277, -80.85444], [45.22959, -123.862399], [45.6391, -118.68473], [48.384037, -122.226039], [42.40505, -121.34886000000002], [38.160526, -121.694593], [25.685056, -80.384522], [39.096521, -94.591638], [37.02785, -81.11020400000002], [37.856665, -121.004394], [33.978593, -81.197661], [43.59946, -116.5085], [28.416305, -81.423851], [25.86838, -80.327608], [26.676174, -80.074047], [41.71642, -72.3256], [39.097653, -94.573172], [33.92564, -118.32161], [40.541768, -75.702749], [44.674788, -123.851223], [25.797134, -80.317589], [30.236679, -81.51402900000002], [35.19574799999999, -80.764184], [34.265871999999995, -118.467431], [40.255633, -76.829656], [44.39852, -123.84669], [26.696971, -81.98912299999998], [39.375675, -77.233103], [33.880246, -117.603349], [41.044921, -73.81495799999998], [40.739264, -74.078266], [27.451238, -82.57539200000002], [25.788635, -80.20586999999998], [39.65522, -104.85304], [36.602676, -119.658424], [32.701656, -96.877977], [28.493522, -81.255112], [39.10229, -94.67264], [28.45045, -81.42753], [38.791404, -119.93254], [31.79293, -106.3718], [40.720841, -73.784812], [40.043739, -75.0029], [34.200278999999995, -118.18779], [29.977914, -90.065823], [37.60887, -77.45102], [34.077307, -117.5462], [42.94876, -73.790094], [33.689362, -117.767801], [40.978833, -73.69550600000002], [30.415721, -91.069192], [32.379714, -95.335492], [38.574957, -121.380142], [33.598624, -117.174544], [33.641715999999995, -117.684166], [34.018968, -81.136404], [34.417294, -80.8681], [41.320477, -72.311135], [36.263258, -86.713818], [41.76531, -72.65446], [46.19087, -123.75763], [29.702466, -82.277523], [35.20213, -80.78862], [44.313892, -93.965917], [41.373814, -72.19595699999998], [39.38396, -120.08368], [41.03749000000001, -81.56546999999998], [27.374838, -82.529034], [44.96439, -93.23352], [35.813193, -78.651065], [40.110462, -76.44086], [36.533907, -119.29579], [45.571141, -122.549811], [36.14169, -86.67039], [33.914003, -118.114184], [38.563847, -121.636669], [32.28954, -106.739599], [26.051948, -80.16224799999998], [28.38574, -81.502617], [37.804373, -77.461134], [39.063445, -74.833298], [25.930556, -80.293503], [27.989986, -82.73647199999998], [31.75141, -81.38341], [38.748296, -77.294257], [25.686523, -80.38215600000002], [33.418603999999995, -117.605058], [28.564318, -81.207224], [25.782307, -80.23074], [44.676557, -123.880022], [29.120896, -82.18494], [32.51619, -80.927679], [39.02396, -77.01123], [33.982374, -118.280422], [39.093789, -84.52245], [40.67425, -111.830784], [33.321949, -117.483762], [41.284536, -72.873088], [44.08837, -121.30098999999998], [39.236967, -120.021785], [45.831602, -95.220576], [27.791833, -82.337406], [33.865882, -117.260974], [40.034394, -111.52082], [33.494869, -112.082553], [38.02368900000001, -121.972104], [33.574551, -84.27606899999998], [32.823075, -96.629585], [37.632061, -122.110026], [30.001566, -82.600712], [44.78196, -93.11498], [45.497719, -118.418171], [38.644422, -121.350053], [37.52933, -122.2737], [40.633148, -73.990496], [37.638304, -121.269424], [45.533847, -122.580483], [32.70267, -96.82533], [36.141759, -86.71418800000002], [36.869294, -119.743173], [42.567619, -87.952842], [32.83149, -96.78093], [42.47847, -123.353], [36.72738, -121.65852], [44.290438, -94.077707], [36.73669500000001, -119.636955], [32.352491, -90.623689], [25.939197, -80.295275], [40.413961, -76.980414], [26.578904, -81.896986], [25.81711, -80.20644], [33.779107, -117.887452], [36.019106, -83.61101], [30.48872, -87.250636], [41.87082, -87.87013], [45.160702, -93.855577], [34.8186, -82.290774], [33.69656, -84.40527], [25.92446, -80.154219], [40.844845, -73.925979], [33.18666, -96.63938], [35.235288, -80.838252], [45.504889, -118.424279], [45.903556, -123.84653], [40.76697, -73.7157], [33.842042, -118.286251], [39.31205300000001, -120.501877], [35.872664, -78.712897], [41.170866, -84.958686], [37.36256, -121.887828], [41.63596, -79.701984], [27.38881, -82.4558], [40.74698, -111.7246], [37.185415, -93.269738], [29.84276, -95.18606], [41.34588, -73.65203000000002], [28.148914, -82.407878], [35.38541400000001, -119.252094], [28.02167, -82.25048000000002], [29.70176, -95.37461], [41.23304, -73.06945], [39.183185, -94.492777], [38.880544, -77.23670200000002], [35.63983, -78.56579599999998], [41.87963, -71.37799], [35.781494, -83.109115], [34.39778, -117.403116], [28.477941, -81.330682], [26.679111, -80.156189], [39.324563, -77.01110200000002], [47.104836, -96.957918], [40.116513, -75.34464200000002], [40.384441, -111.831369], [40.877138, -73.92312], [34.171964, -80.865462], [42.415475, -88.073077], [38.49291, -121.44275], [43.662982, -116.356482], [29.71833, -95.37784], [34.401990999999995, -118.801767], [40.742871, -111.893933], [33.904097, -81.273471], [39.061017, -77.073288], [38.847236, -77.427595], [39.752946, -86.220055], [43.41606, -83.93540899999998], [25.910075, -80.32494399999999], [26.027571, -80.16627], [33.752066, -117.980991], [30.530609, -83.805851], [40.044101, -76.308901], [34.43678, -118.372328], [33.737793, -117.82581299999998], [25.783919, -80.308126], [37.040822, -76.39205799999998], [30.341679, -81.667992], [31.76063, -106.26827], [40.66575, -73.74944], [36.698647, -120.033775], [31.759389, -106.491635], [41.79717, -88.30357], [40.75089000000001, -111.6098], [38.65844, -90.44844], [25.929953, -80.21064399999999], [47.071776, -114.061193], [32.899306, -80.493339], [42.888364, -73.772829], [35.25861300000001, -112.144821], [25.938205, -80.277363], [32.780359000000004, -117.083755], [34.33988, -118.51888], [33.888984, -117.790509], [41.366819, -72.204669], [25.831296, -80.239112], [27.269849, -82.497668], [33.730682, -117.811603], [34.354808, -117.437859], [33.550523, -84.567341], [38.019089, -121.946589], [40.866451, -73.90900400000002], [36.084822, -86.728143], [39.585987, -76.676582], [32.209494, -110.956211], [36.066151, -79.472061], [34.042947, -118.272641], [25.687189, -80.356573], [44.97027, -93.32179], [29.135301, -82.095373], [33.982375, -118.281093], [39.396527, -76.922072], [33.922607, -117.654233], [40.775, -111.94908], [41.85348, -88.03923], [28.686356, -81.388508], [39.67474, -104.81003], [47.589154, -122.18046499999998], [38.483649, -121.415169], [32.846753, -96.773307], [33.605136, -117.69111200000002], [34.825188, -82.447367], [36.872625, -80.770771], [34.441785, -119.805529], [35.759229, -119.053228], [37.342411, -120.558761], [32.761024, -97.063288], [39.19269, -84.46123], [32.654140000000005, -96.877295], [37.82722, -122.29661000000002], [34.038070000000005, -118.169911], [37.769553, -122.416136], [33.788634, -84.39149], [34.031127000000005, -118.260011], [28.56232, -81.37853], [25.583487, -80.379751], [33.91585, -79.795712], [25.65615, -80.417012], [25.939197, -80.295275], [32.786901, -117.207035], [26.246381, -80.136448], [43.15105, -87.91626], [45.48352, -118.40506], [37.774121, -122.218574], [48.850075, -122.578765], [45.194717, -121.690567], [38.943024, -77.361398], [38.976753, -77.312495], [35.552412, -78.579486], [34.778749, -92.227008], [25.80995, -80.336619], [40.73635, -74.08508], [34.080195, -117.740032], [33.776746, -117.840031], [26.101977, -80.201286], [41.293534, -73.870855], [38.003695, -121.837444], [40.687351, -74.273641], [43.25338, -123.35972], [28.48624, -81.44006], [38.495212, -77.38305], [34.030505, -117.588096], [36.18657, -86.63211], [38.804925, -77.503724], [33.297253999999995, -117.202087], [44.739757, -93.282024], [43.635373, -122.166595], [36.933347, -121.816406], [42.43171, -71.25956], [46.907908, -100.930397], [39.345353, -76.73478399999998], [40.748995, -74.212438], [36.860625, -121.622567], [42.81692, -71.49679], [32.320749, -95.282174], [36.259391, -86.713204], [44.87311, -93.396572], [38.663812, -121.27543], [34.601878, -118.153028], [34.167986, -118.614123], [41.925272, -122.578833], [26.248569, -80.13646899999998], [37.74121, -121.55971], [39.202405, -74.701484], [35.258676, -111.552003], [35.865057, -78.7156], [31.852895, -81.579526], [30.444236, -91.151776], [38.522609, -109.497749], [45.538898, -122.66996], [29.854213, -81.322887], [34.509655, -80.51544], [40.142824, -75.311856], [46.18317, -123.86051], [25.846146, -80.240804], [37.088086, -121.572355], [39.918209, -77.656688], [40.824834, -73.23161400000002], [47.314606, -122.297967], [38.91723, -76.97801], [25.865091, -80.209783], [39.129842, -121.561007], [25.934316, -80.162462], [41.748777, -87.799809], [30.362064, -97.694915], [36.045788, -96.004382], [34.034202, -117.324648], [38.875065, -75.82494799999998], [33.177064, -117.351139], [35.248467, -80.78915], [25.844305, -80.225328], [33.783581, -117.750301], [27.324283, -82.529742], [38.640002, -121.482452], [40.28016, -79.64801999999997], [33.68343, -117.85897], [33.45945, -112.0076], [32.417038, -90.147038], [41.297164, -72.744702], [28.289784, -81.590603], [34.400378, -118.572644], [25.924467, -80.293314], [25.691427, -80.306696], [34.145990000000005, -117.189456], [45.716117, -120.237239], [32.669041, -96.71248], [38.019705, -121.258281], [36.923857, -120.056008], [34.071015, -118.000174], [40.386761, -111.83272], [42.27502, -120.35362], [35.91247, -78.78206999999998], [28.54018, -81.39725], [30.438834000000003, -87.21624200000002], [45.535637, -122.691653], [28.553135, -81.376869], [43.02243, -83.59544], [26.47352, -81.55915], [28.368941, -81.430588], [29.39317, -98.51135], [39.76021, -105.00605], [36.8625, -121.5825], [37.835122, -121.652759], [39.375911, -76.452924], [42.225276, -121.75883600000002], [36.1005, -86.76428299999998], [34.897903, -82.019271], [34.089027, -80.94645], [40.74092, -73.837298], [34.067681, -117.981357], [39.12716, -77.20271], [27.492211, -82.478528], [37.677966, -120.335], [40.003076, -74.850915], [45.728391, -121.520987], [32.907539, -96.896935], [32.729284, -117.106957], [42.702219, -84.669859], [39.118204, -121.634623], [33.698451, -117.861378], [30.238429, -97.718787], [26.02489, -80.20936400000002], [39.145017, -122.078597], [33.899055, -118.275903], [28.423555, -82.190627], [29.501021, -98.549541], [32.792346, -97.243372], [44.0977, -123.11736], [33.914838, -118.077915], [40.674662, -111.907201], [34.067884, -117.835997], [44.892851, -93.189886], [33.894356, -117.557476], [37.700839, -121.794374], [34.067707, -117.590347], [32.865634, -96.819778], [33.947436, -118.279297], [45.276267, -93.738051], [36.000566, -119.107436], [38.8773, -104.77821], [38.510338, -121.460052], [44.765324, -93.379529], [34.278040000000004, -119.30238], [41.63655, -83.49812], [33.408349, -81.865936], [34.134613, -117.64656200000002], [32.912431, -96.736775], [43.126938, -77.549027], [35.65192000000001, -117.79812], [33.802581, -118.120146], [33.883942, -117.525289], [34.054248, -118.237831], [30.904635, -88.200986], [25.684756, -80.437157], [33.960934, -117.854573], [39.81602700000001, -84.183591], [39.838233, -76.570406], [35.208182, -80.85532099999998], [28.546135, -81.414783], [34.756910999999995, -120.294381], [29.717725, -95.539939], [45.542191, -122.49899], [42.32871, -83.15735], [45.50711, -122.77326], [35.84414500000001, -78.680541], [35.791016, -78.715262], [30.13811, -97.79692], [27.446506, -82.492016], [25.732173, -80.33572099999998], [34.244242, -118.319284], [35.213352, -80.819226], [41.206985, -95.949142], [42.710075, -73.861739], [45.745797, -108.576182], [38.541206, -121.473732], [34.558342, -111.907521], [38.296345, -119.310608], [41.694735, -88.030132], [35.443364, -82.537997], [28.732426, -81.115148], [38.877501, -77.274762], [40.288378, -112.400125], [32.811746, -96.817306], [39.82748, -86.03294], [26.53311, -81.87138], [30.311558, -97.709256], [47.23257, -122.43411], [37.558118, -77.413883], [45.60307, -122.55122], [40.57778, -75.55213], [40.819032, -74.44423], [37.807184, -122.475274], [38.78135, -112.53727], [42.210792, -122.69978600000002], [26.331671000000004, -81.806088], [34.877098, -82.213256], [38.04711, -122.12818], [38.044137, -78.818156], [28.358138, -81.24045799999998], [27.515028000000004, -81.49503299999998], [43.11252, -87.91769000000002], [33.886181, -118.032678], [34.134532, -117.652834], [45.320241, -121.626406], [25.872554, -80.121534], [34.093266, -117.915612], [32.924985, -117.239381], [37.41152, -122.07663], [34.725457, -92.278787], [39.207791, -94.487389], [34.067366, -117.563705], [40.884438, -73.898379], [30.35021, -81.66854000000002], [43.85768, -121.41166], [32.365753999999995, -86.278649], [34.488871, -120.226276], [40.775381, -74.03951500000002], [30.426448, -97.657201], [36.09032, -95.94013], [25.897842, -80.124444], [34.228, -117.29], [40.12838, -74.70543], [39.127307, -77.787887], [38.578583, -119.511331], [26.04269, -80.16289], [34.656575, -84.984945], [39.20744000000001, -120.809594], [39.04746, -94.4519], [41.042486, -73.573926], [39.344412, -76.49369300000002], [37.65083, -77.61219], [34.067840999999994, -117.517179], [35.830749, -78.62871700000002], [36.455554, -118.887321], [38.467139, -122.760046], [40.83497, -84.20524], [33.33027, -111.97208], [34.076692, -118.219389], [28.679592, -81.388626], [29.39905, -98.53077], [43.17522, -123.37064], [40.82503, -73.88613000000002], [39.923683, -86.22337399999998], [39.10614, -94.742965], [40.87229, -111.889973], [39.79834, -104.93092], [25.900899, -80.385474], [26.13729, -80.21721], [36.605364, -119.649211], [37.78852, -122.25139], [33.399079, -79.31819399999998], [35.093951000000004, -80.932577], [26.315563, -81.74596], [42.47163, -83.110164], [39.613409, -74.829813], [37.141851, -93.238936], [30.474494, -87.222502], [44.95161, -93.14649], [39.220815, -76.655141], [36.921506, -119.793956], [27.967942, -82.708974], [37.81146, -121.57724], [34.030476, -117.584593], [38.85958, -77.21984], [38.49601, -121.44307], [26.165173, -80.24188199999998], [33.71408, -84.23563], [30.020641, -90.082061], [41.557664, -73.780369], [32.707468, -117.097102], [44.097265, -123.132694], [41.86979, -87.88005], [25.942303, -80.30865], [45.56716, -108.851675], [33.95985, -118.114354], [38.228621, -78.9768], [40.61976, -74.02334], [33.765491, -117.920225], [25.764969, -80.303967], [32.80757, -96.84208], [28.475207, -81.369648], [33.194235, -117.258442], [30.473555, -83.89224499999997], [38.539444, -121.453005], [40.900398, -74.145459], [40.159479, -111.64656], [39.90943, -86.1165], [38.382084000000006, -78.025222], [32.735240000000005, -97.22665], [40.69063, -73.58079000000002], [45.544091, -122.238253], [37.328879, -121.870253], [39.60533, -76.57802], [40.88121, -111.896535], [30.388868, -97.722605], [33.567513, -112.14935], [29.703812, -95.573408], [34.019957, -118.181117], [37.074533, -76.47506800000002], [34.148555, -118.066352], [34.048688, -117.94597], [38.725834000000006, -94.676186], [39.88737800000001, -75.414537], [39.750633, -121.997581], [40.68428, -79.33126700000003], [40.889793, -74.069856], [42.897126, -85.780661], [33.65491, -117.865308], [32.343724, -95.308981], [28.48275, -81.44471999999998], [39.013843, -121.430233], [41.90448, -88.03105], [28.346928, -81.612691], [40.666251, -73.793293], [39.023792, -121.634743], [34.724778, -92.287849], [35.451436, -108.951748], [28.574386, -81.389483], [37.571719, -77.455213], [39.9557, -75.56598000000002], [30.359398, -89.419173], [30.004921000000003, -90.025992], [40.792151, -124.132221], [42.773333, -124.496657], [33.791664000000004, -117.8903], [37.05779, -121.941654], [36.882019, -76.431156], [26.308271, -80.118657], [41.439292, -122.432625], [45.258102, -122.942366], [29.79659, -95.579627], [40.76527700000001, -104.79135], [36.01031, -79.85323000000002], [38.615731, -121.418725], [40.286747, -79.532271], [40.12551, -75.2265], [34.238473, -117.657333], [33.925253000000005, -82.045496], [33.84206, -84.32983399999998], [40.809262, -73.210241], [44.865442, -123.006407], [41.05188, -76.86214], [36.532448, -120.48986], [35.353333, -119.039444], [43.657801, -123.76701], [36.196399, -119.600311], [40.94142, -83.39882], [37.47696, -120.644577], [44.590247, -123.06213], [30.55603, -91.08254], [33.687447, -117.874647], [47.55945, -122.28597], [41.81103, -71.44057], [45.68308, -123.19749], [36.451252, -87.442835], [25.913412, -80.17549100000002], [25.67628, -80.434089], [35.87980200000001, -78.572784], [42.75613900000001, -73.932141], [37.935843, -120.35191299999998], [35.111156, -120.563632], [38.60996, -90.45151], [33.803259999999995, -118.13723], [26.05567000000001, -80.35282], [26.547989, -81.763308], [41.96666, -87.75392], [34.275192, -118.536193], [44.37325300000001, -93.294085], [39.005668, -77.07740600000002], [40.748645, -111.704961], [39.908399, -82.892199], [37.336596, -121.85723], [44.298061, -92.810783], [33.908243, -117.453312], [39.910455, -74.94074300000003], [37.234113, -76.627388], [40.636629, -111.280728], [40.738819, -74.06166999999998], [28.404303, -81.237577], [33.01229, -96.83196], [33.452886, -83.252002], [37.731572, -122.423414], [40.058345, -82.903989], [36.735727, -119.609988], [26.70777, -80.1462], [38.645411, -121.242911], [40.921535, -111.891972], [35.63058200000001, -120.686584], [32.720408, -96.830212], [43.186687, -77.75343000000002], [33.778271000000004, -117.897422], [43.089774, -75.213096], [38.6409, -121.47466], [26.330538, -81.807037], [35.336357, -87.706838], [34.150153, -84.514721], [29.86229, -95.40392], [42.954326, -75.225655], [34.075077, -118.274297], [29.823543, -95.392045], [33.757628000000004, -117.159656], [38.563781, -121.353846], [36.148356, -86.780372], [40.31792700000001, -122.068316], [33.944994, -118.295648], [37.194456, -122.145533], [34.025768, -118.275323], [30.985661, -87.704812], [44.97062, -93.29813], [34.01627, -117.34208], [26.53474000000001, -80.073359], [28.486998, -81.416443], [41.94826, -74.034194], [44.14558, -121.33127], [33.65294, -84.4975], [44.992899, -93.400158], [39.17393, -77.203489], [34.253934, -118.47239], [32.36587, -95.337078], [32.693817, -96.82309], [34.803914, -80.73522], [38.355779, -81.63168], [47.223343, -122.463164], [35.554086, -80.857939], [32.721755, -96.874385], [35.18369000000001, -80.75156], [29.964594, -90.088113], [38.233526, -121.281691], [34.051444000000004, -117.925558], [45.035501, -92.900272], [33.386522, -111.595029], [42.761417, -73.698531], [44.063748, -123.101044], [34.055206, -118.239716], [34.869494, -89.942549], [33.765316, -117.920223], [32.474182, -93.748131], [40.74099, -73.82132], [25.757263, -80.315727], [41.402594, -73.46453100000002], [39.41617, -76.62969], [30.203272, -82.665864], [38.665706, -121.27223700000002], [25.535075, -80.40365], [39.737023, -110.845474], [30.497687, -87.258601], [32.698712, -117.12096499999998], [42.03871, -87.97928], [37.817274, -77.458526], [34.659611, -118.214464], [41.75059, -72.65886], [38.069118, -122.182999], [35.225654, -118.568454], [26.560057, -80.172891], [34.067409000000005, -117.52403], [30.518053, -91.146611], [33.780134999999994, -117.489507], [34.892540999999994, -82.292393], [28.007165000000004, -82.502193], [33.525756, -117.16493], [32.922945, -96.899734], [34.40422, -118.45219], [34.036084, -118.321241], [25.95802, -80.17108], [40.194157, -75.364028], [30.021682, -89.955184], [32.925557, -96.803043], [39.78, -104.95549], [37.69933, -121.93086], [39.128826, -77.172614], [40.544396, -111.891089], [33.390484, -80.88519699999998], [40.786107, -77.78594], [38.674532, -121.7409], [41.93443, -87.69768], [47.819755, -91.805138], [29.99758, -90.04417], [33.87112800000001, -118.006702], [34.64182, -82.583387], [45.63335900000001, -123.361051], [30.256727, -81.601857], [34.111806, -81.18830200000002], [45.55062, -122.67855], [33.99041, -117.905497], [28.449833, -81.471783], [36.284369, -119.13616299999998], [45.57722800000001, -122.661273], [26.16219, -80.16230999999998], [39.317123, -77.775786], [33.462331, -112.139573], [33.974657, -118.283392], [29.864235, -95.405033], [37.29026, -122.02298], [30.516562, -87.272033], [38.481653, -121.413318], [33.91426, -84.35101999999998], [38.062466, -112.591956], [25.747826, -80.331836], [40.68716, -74.27345], [37.948099, -122.512891], [39.09383, -94.88166], [39.742924, -121.655188], [26.381, -80.111136], [32.891, -96.708782], [38.493899, -121.44908999999998], [39.824461, -104.965081], [28.3326, -81.57693], [40.67432, -111.8883], [33.514452, -113.031806], [44.62081, -93.753236], [27.88025, -82.82004], [33.49496, -112.15171], [33.939170000000004, -117.221399], [33.555505, -117.14003999999998], [45.386764, -122.578443], [33.385509000000006, -111.920675], [43.09685, -77.76714], [39.004127, -76.863791], [34.019446, -118.172218], [35.738193, -78.589704], [38.639198, -121.273337], [35.235868, -80.839086], [38.229621, -79.168821], [28.04842, -82.70909], [34.121559000000005, -117.696732], [37.565967, -121.066659], [42.07094, -88.34775], [40.302611, -75.291306], [42.34216, -121.82813], [40.457555, -111.94038700000002], [41.420515, -72.131842], [35.73135300000001, -78.657852], [40.275481, -76.81744599999998], [41.81081, -88.16739], [33.98768, -117.363041], [42.47215, -83.11028], [36.05871, -79.08665], [33.73087, -117.98655], [25.890398, -80.183704], [25.800215, -80.25201899999998], [30.442499, -91.007591], [32.93609, -117.2318], [34.036838, -118.377971], [40.01786, -82.99506], [40.130037, -75.43599300000002], [33.88341, -117.53907], [30.476728, -91.167265], [42.241581, -87.944793], [38.381887, -75.067563], [25.68706700000001, -80.364859], [34.91747, -81.977809], [34.451638, -119.819102], [40.811644, -74.446867], [37.64607, -121.01671], [28.5795, -81.55733000000002], [38.879226, -77.255859], [40.170594, -104.979598], [40.757063, -73.96002299999998], [38.01913, -121.93727], [33.71715, -117.79135], [34.743061, -92.393549], [45.500122, -122.578698], [28.577014, -81.41629300000002], [39.84495, -104.98484], [40.012734, -120.097659], [38.54576, -90.29265], [40.72774, -73.88713], [25.882637, -80.25867099999998], [33.352946, -86.646658], [45.404605, -122.744242], [29.785190000000004, -95.77402], [33.667141, -117.684034], [28.141683, -81.893709], [36.764136, -119.951833], [40.83042, -73.93220500000002], [39.818872, -86.030922], [33.415447, -117.603434], [41.353672, -122.232027], [35.005144, -85.216107], [41.96943, -87.75883], [34.21734, -80.59755], [39.243839, -94.500328], [34.070781, -118.099454], [45.768474, -95.039406], [43.5988, -116.55292], [32.713292, -117.141585], [38.255733, -122.06446499999998], [37.341392, -119.697531], [40.168352, -120.361832], [42.0094, -88.14471], [34.062428999999995, -118.248879], [36.874339, -76.208023], [33.63605, -117.760409], [38.918219, -76.915615], [40.138285, -75.552787], [42.955536, -85.63614799999998], [32.307156, -80.97013199999998], [32.348277, -86.221859], [34.936646, -82.22921099999998], [37.026468, -76.331559], [33.982909, -80.073691], [29.869957, -82.541931], [37.933101, -122.326205], [34.42627, -118.585063], [34.041496, -118.169191], [39.089156, -94.571209], [33.956691, -81.092759], [44.737807, -121.038977], [35.090771000000004, -86.568694], [40.78862, -112.828871], [33.614681, -117.707783], [40.902432, -74.134916], [30.498514, -84.44479399999999], [28.37299, -81.541208], [34.047242, -118.26008600000002], [42.26317, -71.5631], [30.440551, -91.177951], [25.683856, -80.460222], [26.18858, -80.21365], [33.856856, -118.028743], [33.73121, -79.02431999999997], [32.715106, -117.102876], [28.774822, -80.894755], [37.296148, -119.648762], [39.62401, -75.648358], [33.971931, -118.080765], [37.33219, -122.01766], [39.26672, -76.61475], [41.628394, -72.87828499999998], [34.46674, -118.32592], [32.800185, -117.118287], [42.47567, -83.13786], [39.20302, -84.54768], [40.500063, -76.18288299999998], [35.254221, -80.792839], [28.004490000000004, -82.33015], [40.372685, -76.680482], [37.602546, -77.435699], [37.512892, -77.34954499999998], [32.792178, -96.814323], [36.92541, -76.25247], [45.019005, -93.051704], [40.70771, -73.4254], [37.516395, -77.52835999999998], [37.524225, -77.428061], [42.963187, -85.707875], [33.967599, -118.161907], [27.575865000000004, -81.620661], [32.6685, -96.92197], [35.134122999999995, -85.07757600000002], [38.358002, -122.76961], [44.87477, -93.06057], [33.990190000000005, -118.282665], [35.259751, -90.226474], [38.768024, -120.819888], [42.939194, -85.678628], [30.466777, -97.804215], [26.06576, -80.23210999999998], [35.054876, -118.174536], [26.62223, -80.06739], [33.69892, -84.27089000000002], [32.934441, -117.24124], [25.92478, -80.154122], [32.741467, -96.700211], [34.0183, -118.168144], [34.664584000000005, -120.369692], [26.269243, -80.125833], [38.509811, -121.45951], [40.640476, -74.20525400000002], [34.32197, -78.50032], [41.671824, -72.82204899999998], [42.28075, -87.97394], [40.77174, -73.87563], [30.449062, -81.614253], [44.919667, -93.274493], [34.168208, -117.304864], [37.836152, -79.369815], [36.699861, -81.97763], [40.608594, -74.03859399999997], [34.218157, -117.410699], [32.790894, -96.792033], [42.69592100000001, -73.560034], [44.041557, -123.875455], [34.051891, -118.090571], [33.006847, -80.235798], [25.688182, -80.365879], [30.257469, -97.750609], [34.127601, -117.918158], [45.80166, -108.53339], [32.706358, -117.136011], [41.08785, -73.45718000000002], [40.738262, -73.802166], [40.74545, -111.94911], [41.7404, -87.6251], [39.29566, -77.838639], [41.170374, -75.426346], [34.581992, -112.348379], [33.960007, -118.286764], [39.70047, -86.107311], [33.852058, -118.094776], [29.873307, -95.429713], [36.74952800000001, -120.059951], [47.92456, -122.28624], [36.962792, -76.27172900000002], [47.13936, -122.52091], [29.476509000000004, -81.539489], [25.689627, -80.382521]],\n",
              "                {\n",
              "                    minOpacity: 0.5,\n",
              "                    maxZoom: 18,\n",
              "                    max: 1.0,\n",
              "                    radius: 25,\n",
              "                    blur: 15,\n",
              "                    gradient: null\n",
              "                    })\n",
              "                .addTo(map_047637b0601722efd8532de8164e950e);\n",
              "        \n",
              "&lt;/script&gt;\" style=\"position:absolute;width:100%;height:100%;left:0;top:0;border:none !important;\" allowfullscreen webkitallowfullscreen mozallowfullscreen></iframe></div></div>"
            ]
          },
          "metadata": {},
          "execution_count": 34
        }
      ]
    },
    {
      "cell_type": "code",
      "source": [
        "# comparing distribution with heatmap and different zones\n",
        "\n",
        "Time_zone = df.groupby('Timezone')[\"ID\"].count().sort_values(ascending=False)\n",
        "\n",
        "Time_zone"
      ],
      "metadata": {
        "colab": {
          "base_uri": "https://localhost:8080/"
        },
        "id": "CCWUf1niD-PS",
        "outputId": "ea254205-a429-4c69-bfe3-c2c2f39f1f75"
      },
      "execution_count": null,
      "outputs": [
        {
          "output_type": "execute_result",
          "data": {
            "text/plain": [
              "Timezone\n",
              "US/Eastern     1221927\n",
              "US/Pacific      967094\n",
              "US/Central      488065\n",
              "US/Mountain     164597\n",
              "Name: ID, dtype: int64"
            ]
          },
          "metadata": {},
          "execution_count": 31
        }
      ]
    },
    {
      "cell_type": "code",
      "source": [
        "# dTime_zonef['%'] = scaler.fit_transform(df[[\"TOTAL\"]])\n",
        "\n",
        "Time_zone/Time_zone.sum()*100\n"
      ],
      "metadata": {
        "colab": {
          "base_uri": "https://localhost:8080/"
        },
        "id": "4APYcKbQ0PT2",
        "outputId": "996dcd14-15d7-47cf-991c-d784576fcfb1"
      },
      "execution_count": null,
      "outputs": [
        {
          "output_type": "execute_result",
          "data": {
            "text/plain": [
              "Timezone\n",
              "US/Eastern     43.000116\n",
              "US/Pacific     34.032438\n",
              "US/Central     17.175209\n",
              "US/Mountain     5.792237\n",
              "Name: ID, dtype: float64"
            ]
          },
          "metadata": {},
          "execution_count": 33
        }
      ]
    },
    {
      "cell_type": "markdown",
      "source": [
        "## 6. Temperature"
      ],
      "metadata": {
        "id": "Ko_U7t5exuVj"
      }
    },
    {
      "cell_type": "code",
      "source": [
        ""
      ],
      "metadata": {
        "id": "WqVu1LlxPWu-"
      },
      "execution_count": null,
      "outputs": []
    },
    {
      "cell_type": "markdown",
      "source": [
        "# Ask and Answer question \n",
        "- are there more accidents in warmer or colder area ?\n",
        "- which 5 states have the highest number of accidents/per capita? (needs population from other DB) \n",
        "- Among the top 100 cities in the # of accidents, which state have higher frequency? \n",
        "- New York City is splited into different neighbours, calculate population vs 3 of accidents is difficult\n",
        "- 'AK' 'HI' \n",
        "- What time of the day are accidents most frequent in? - ANSWERED\n",
        "- Which days of the week have the most accidents?\n",
        "- Which months have the most accidents?\n",
        "- What is the trend of accidents year over year (decreasing/increasing?) ? in New York?\n",
        "When is accidents per unit of traffic the highest.\n",
        "\n"
      ],
      "metadata": {
        "id": "XT2ThBJkB2k2"
      }
    },
    {
      "cell_type": "markdown",
      "source": [
        "# Summary and conclusion\n",
        "- data on 2016 is not complete !"
      ],
      "metadata": {
        "id": "U4iNenKf7mKz"
      }
    }
  ]
}