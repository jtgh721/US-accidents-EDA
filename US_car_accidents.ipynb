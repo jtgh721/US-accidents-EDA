{
  "nbformat": 4,
  "nbformat_minor": 0,
  "metadata": {
    "colab": {
      "name": "US_car_accidents.ipynb",
      "provenance": [],
      "authorship_tag": "ABX9TyPrgkht7STv/tIQa1wBPrV+",
      "include_colab_link": true
    },
    "kernelspec": {
      "name": "python3",
      "display_name": "Python 3"
    },
    "language_info": {
      "name": "python"
    }
  },
  "cells": [
    {
      "cell_type": "markdown",
      "metadata": {
        "id": "view-in-github",
        "colab_type": "text"
      },
      "source": [
        "<a href=\"https://colab.research.google.com/github/jtgh721/US-accidents-EDA/blob/main/US_car_accidents.ipynb\" target=\"_parent\"><img src=\"https://colab.research.google.com/assets/colab-badge.svg\" alt=\"Open In Colab\"/></a>"
      ]
    },
    {
      "cell_type": "code",
      "execution_count": 2,
      "metadata": {
        "colab": {
          "base_uri": "https://localhost:8080/"
        },
        "id": "80yk13C3zRnn",
        "outputId": "d326fd2a-4cdb-49c3-a5f6-7a71dffd01d4"
      },
      "outputs": [
        {
          "output_type": "stream",
          "name": "stdout",
          "text": [
            "Looking in indexes: https://pypi.org/simple, https://us-python.pkg.dev/colab-wheels/public/simple/\n",
            "Collecting opendatasets\n",
            "  Downloading opendatasets-0.1.22-py3-none-any.whl (15 kB)\n",
            "Requirement already satisfied: click in /usr/local/lib/python3.7/dist-packages (from opendatasets) (7.1.2)\n",
            "Requirement already satisfied: tqdm in /usr/local/lib/python3.7/dist-packages (from opendatasets) (4.64.0)\n",
            "Requirement already satisfied: kaggle in /usr/local/lib/python3.7/dist-packages (from opendatasets) (1.5.12)\n",
            "Requirement already satisfied: python-slugify in /usr/local/lib/python3.7/dist-packages (from kaggle->opendatasets) (6.1.2)\n",
            "Requirement already satisfied: six>=1.10 in /usr/local/lib/python3.7/dist-packages (from kaggle->opendatasets) (1.15.0)\n",
            "Requirement already satisfied: requests in /usr/local/lib/python3.7/dist-packages (from kaggle->opendatasets) (2.23.0)\n",
            "Requirement already satisfied: python-dateutil in /usr/local/lib/python3.7/dist-packages (from kaggle->opendatasets) (2.8.2)\n",
            "Requirement already satisfied: urllib3 in /usr/local/lib/python3.7/dist-packages (from kaggle->opendatasets) (1.24.3)\n",
            "Requirement already satisfied: certifi in /usr/local/lib/python3.7/dist-packages (from kaggle->opendatasets) (2022.6.15)\n",
            "Requirement already satisfied: text-unidecode>=1.3 in /usr/local/lib/python3.7/dist-packages (from python-slugify->kaggle->opendatasets) (1.3)\n",
            "Requirement already satisfied: idna<3,>=2.5 in /usr/local/lib/python3.7/dist-packages (from requests->kaggle->opendatasets) (2.10)\n",
            "Requirement already satisfied: chardet<4,>=3.0.2 in /usr/local/lib/python3.7/dist-packages (from requests->kaggle->opendatasets) (3.0.4)\n",
            "Installing collected packages: opendatasets\n",
            "Successfully installed opendatasets-0.1.22\n"
          ]
        }
      ],
      "source": [
        "pip install opendatasets --upgrade\n"
      ]
    },
    {
      "cell_type": "markdown",
      "source": [
        "##Download the data"
      ],
      "metadata": {
        "id": "kvcmmaRC3A-s"
      }
    },
    {
      "cell_type": "code",
      "source": [
        "import opendatasets as od\n",
        "\n",
        "download_url = 'https://www.kaggle.com/sobhanmoosavi/us-accidents'\n",
        "\n",
        "od.download(download_url)"
      ],
      "metadata": {
        "colab": {
          "base_uri": "https://localhost:8080/"
        },
        "id": "Ona4fPRN3ACl",
        "outputId": "53c49c06-c75c-43fc-8939-10591ff6bf7f"
      },
      "execution_count": 3,
      "outputs": [
        {
          "output_type": "stream",
          "name": "stdout",
          "text": [
            "Please provide your Kaggle credentials to download this dataset. Learn more: http://bit.ly/kaggle-creds\n",
            "Your Kaggle username: jtgh721\n",
            "Your Kaggle Key: ··········\n",
            "Downloading us-accidents.zip to ./us-accidents\n"
          ]
        },
        {
          "output_type": "stream",
          "name": "stderr",
          "text": [
            "100%|██████████| 269M/269M [00:02<00:00, 131MB/s]\n"
          ]
        },
        {
          "output_type": "stream",
          "name": "stdout",
          "text": [
            "\n"
          ]
        }
      ]
    },
    {
      "cell_type": "code",
      "source": [
        "data_filename = './us-accidents/US_Accidents_Dec21_updated.csv'\n"
      ],
      "metadata": {
        "id": "_IMJbgyC7RQq"
      },
      "execution_count": 4,
      "outputs": []
    },
    {
      "cell_type": "markdown",
      "source": [
        "##Data preparation and cleaning\n",
        "\n",
        "\n",
        "- Load the file using Pandas\n",
        "- Look at some information about the data & the columns\n",
        "- Fix any missing or incorrect values\n",
        "\n",
        "df.head(10)\n",
        "df.info()\n",
        "df.describe()\n",
        "df.select_dtypes()\n"
      ],
      "metadata": {
        "id": "Nm3h-w687pz2"
      }
    },
    {
      "cell_type": "code",
      "source": [
        "import pandas as pd\n",
        "\n",
        "df = pd.read_csv(data_filename)\n",
        "\n",
        "df"
      ],
      "metadata": {
        "colab": {
          "base_uri": "https://localhost:8080/",
          "height": 939
        },
        "id": "C_Eupte27tvS",
        "outputId": "eaf4c836-fb6d-40d9-f957-442cd54c61af"
      },
      "execution_count": 5,
      "outputs": [
        {
          "output_type": "execute_result",
          "data": {
            "text/plain": [
              "                ID  Severity           Start_Time             End_Time  \\\n",
              "0              A-1         3  2016-02-08 00:37:08  2016-02-08 06:37:08   \n",
              "1              A-2         2  2016-02-08 05:56:20  2016-02-08 11:56:20   \n",
              "2              A-3         2  2016-02-08 06:15:39  2016-02-08 12:15:39   \n",
              "3              A-4         2  2016-02-08 06:51:45  2016-02-08 12:51:45   \n",
              "4              A-5         3  2016-02-08 07:53:43  2016-02-08 13:53:43   \n",
              "...            ...       ...                  ...                  ...   \n",
              "2845337  A-2845338         2  2019-08-23 18:03:25  2019-08-23 18:32:01   \n",
              "2845338  A-2845339         2  2019-08-23 19:11:30  2019-08-23 19:38:23   \n",
              "2845339  A-2845340         2  2019-08-23 19:00:21  2019-08-23 19:28:49   \n",
              "2845340  A-2845341         2  2019-08-23 19:00:21  2019-08-23 19:29:42   \n",
              "2845341  A-2845342         2  2019-08-23 18:52:06  2019-08-23 19:21:31   \n",
              "\n",
              "         Start_Lat   Start_Lng    End_Lat     End_Lng  Distance(mi)  \\\n",
              "0        40.108910  -83.092860  40.112060  -83.031870         3.230   \n",
              "1        39.865420  -84.062800  39.865010  -84.048730         0.747   \n",
              "2        39.102660  -84.524680  39.102090  -84.523960         0.055   \n",
              "3        41.062130  -81.537840  41.062170  -81.535470         0.123   \n",
              "4        39.172393  -84.492792  39.170476  -84.501798         0.500   \n",
              "...            ...         ...        ...         ...           ...   \n",
              "2845337  34.002480 -117.379360  33.998880 -117.370940         0.543   \n",
              "2845338  32.766960 -117.148060  32.765550 -117.153630         0.338   \n",
              "2845339  33.775450 -117.847790  33.777400 -117.857270         0.561   \n",
              "2845340  33.992460 -118.403020  33.983110 -118.395650         0.772   \n",
              "2845341  34.133930 -117.230920  34.137360 -117.239340         0.537   \n",
              "\n",
              "                                               Description  ...  Roundabout  \\\n",
              "0        Between Sawmill Rd/Exit 20 and OH-315/Olentang...  ...       False   \n",
              "1                       At OH-4/OH-235/Exit 41 - Accident.  ...       False   \n",
              "2                         At I-71/US-50/Exit 1 - Accident.  ...       False   \n",
              "3                          At Dart Ave/Exit 21 - Accident.  ...       False   \n",
              "4                       At Mitchell Ave/Exit 6 - Accident.  ...       False   \n",
              "...                                                    ...  ...         ...   \n",
              "2845337                           At Market St - Accident.  ...       False   \n",
              "2845338    At Camino Del Rio/Mission Center Rd - Accident.  ...       False   \n",
              "2845339  At Glassell St/Grand Ave - Accident. in the ri...  ...       False   \n",
              "2845340     At CA-90/Marina Fwy/Jefferson Blvd - Accident.  ...       False   \n",
              "2845341              At Highland Ave/Arden Ave - Accident.  ...       False   \n",
              "\n",
              "        Station   Stop Traffic_Calming Traffic_Signal Turning_Loop  \\\n",
              "0         False  False           False          False        False   \n",
              "1         False  False           False          False        False   \n",
              "2         False  False           False          False        False   \n",
              "3         False  False           False          False        False   \n",
              "4         False  False           False          False        False   \n",
              "...         ...    ...             ...            ...          ...   \n",
              "2845337   False  False           False          False        False   \n",
              "2845338   False  False           False          False        False   \n",
              "2845339   False  False           False          False        False   \n",
              "2845340   False  False           False          False        False   \n",
              "2845341   False  False           False          False        False   \n",
              "\n",
              "        Sunrise_Sunset Civil_Twilight Nautical_Twilight Astronomical_Twilight  \n",
              "0                Night          Night             Night                 Night  \n",
              "1                Night          Night             Night                 Night  \n",
              "2                Night          Night             Night                   Day  \n",
              "3                Night          Night               Day                   Day  \n",
              "4                  Day            Day               Day                   Day  \n",
              "...                ...            ...               ...                   ...  \n",
              "2845337            Day            Day               Day                   Day  \n",
              "2845338            Day            Day               Day                   Day  \n",
              "2845339            Day            Day               Day                   Day  \n",
              "2845340            Day            Day               Day                   Day  \n",
              "2845341            Day            Day               Day                   Day  \n",
              "\n",
              "[2845342 rows x 47 columns]"
            ],
            "text/html": [
              "\n",
              "  <div id=\"df-990b6fc8-119e-4b20-8da7-1bf794974d35\">\n",
              "    <div class=\"colab-df-container\">\n",
              "      <div>\n",
              "<style scoped>\n",
              "    .dataframe tbody tr th:only-of-type {\n",
              "        vertical-align: middle;\n",
              "    }\n",
              "\n",
              "    .dataframe tbody tr th {\n",
              "        vertical-align: top;\n",
              "    }\n",
              "\n",
              "    .dataframe thead th {\n",
              "        text-align: right;\n",
              "    }\n",
              "</style>\n",
              "<table border=\"1\" class=\"dataframe\">\n",
              "  <thead>\n",
              "    <tr style=\"text-align: right;\">\n",
              "      <th></th>\n",
              "      <th>ID</th>\n",
              "      <th>Severity</th>\n",
              "      <th>Start_Time</th>\n",
              "      <th>End_Time</th>\n",
              "      <th>Start_Lat</th>\n",
              "      <th>Start_Lng</th>\n",
              "      <th>End_Lat</th>\n",
              "      <th>End_Lng</th>\n",
              "      <th>Distance(mi)</th>\n",
              "      <th>Description</th>\n",
              "      <th>...</th>\n",
              "      <th>Roundabout</th>\n",
              "      <th>Station</th>\n",
              "      <th>Stop</th>\n",
              "      <th>Traffic_Calming</th>\n",
              "      <th>Traffic_Signal</th>\n",
              "      <th>Turning_Loop</th>\n",
              "      <th>Sunrise_Sunset</th>\n",
              "      <th>Civil_Twilight</th>\n",
              "      <th>Nautical_Twilight</th>\n",
              "      <th>Astronomical_Twilight</th>\n",
              "    </tr>\n",
              "  </thead>\n",
              "  <tbody>\n",
              "    <tr>\n",
              "      <th>0</th>\n",
              "      <td>A-1</td>\n",
              "      <td>3</td>\n",
              "      <td>2016-02-08 00:37:08</td>\n",
              "      <td>2016-02-08 06:37:08</td>\n",
              "      <td>40.108910</td>\n",
              "      <td>-83.092860</td>\n",
              "      <td>40.112060</td>\n",
              "      <td>-83.031870</td>\n",
              "      <td>3.230</td>\n",
              "      <td>Between Sawmill Rd/Exit 20 and OH-315/Olentang...</td>\n",
              "      <td>...</td>\n",
              "      <td>False</td>\n",
              "      <td>False</td>\n",
              "      <td>False</td>\n",
              "      <td>False</td>\n",
              "      <td>False</td>\n",
              "      <td>False</td>\n",
              "      <td>Night</td>\n",
              "      <td>Night</td>\n",
              "      <td>Night</td>\n",
              "      <td>Night</td>\n",
              "    </tr>\n",
              "    <tr>\n",
              "      <th>1</th>\n",
              "      <td>A-2</td>\n",
              "      <td>2</td>\n",
              "      <td>2016-02-08 05:56:20</td>\n",
              "      <td>2016-02-08 11:56:20</td>\n",
              "      <td>39.865420</td>\n",
              "      <td>-84.062800</td>\n",
              "      <td>39.865010</td>\n",
              "      <td>-84.048730</td>\n",
              "      <td>0.747</td>\n",
              "      <td>At OH-4/OH-235/Exit 41 - Accident.</td>\n",
              "      <td>...</td>\n",
              "      <td>False</td>\n",
              "      <td>False</td>\n",
              "      <td>False</td>\n",
              "      <td>False</td>\n",
              "      <td>False</td>\n",
              "      <td>False</td>\n",
              "      <td>Night</td>\n",
              "      <td>Night</td>\n",
              "      <td>Night</td>\n",
              "      <td>Night</td>\n",
              "    </tr>\n",
              "    <tr>\n",
              "      <th>2</th>\n",
              "      <td>A-3</td>\n",
              "      <td>2</td>\n",
              "      <td>2016-02-08 06:15:39</td>\n",
              "      <td>2016-02-08 12:15:39</td>\n",
              "      <td>39.102660</td>\n",
              "      <td>-84.524680</td>\n",
              "      <td>39.102090</td>\n",
              "      <td>-84.523960</td>\n",
              "      <td>0.055</td>\n",
              "      <td>At I-71/US-50/Exit 1 - Accident.</td>\n",
              "      <td>...</td>\n",
              "      <td>False</td>\n",
              "      <td>False</td>\n",
              "      <td>False</td>\n",
              "      <td>False</td>\n",
              "      <td>False</td>\n",
              "      <td>False</td>\n",
              "      <td>Night</td>\n",
              "      <td>Night</td>\n",
              "      <td>Night</td>\n",
              "      <td>Day</td>\n",
              "    </tr>\n",
              "    <tr>\n",
              "      <th>3</th>\n",
              "      <td>A-4</td>\n",
              "      <td>2</td>\n",
              "      <td>2016-02-08 06:51:45</td>\n",
              "      <td>2016-02-08 12:51:45</td>\n",
              "      <td>41.062130</td>\n",
              "      <td>-81.537840</td>\n",
              "      <td>41.062170</td>\n",
              "      <td>-81.535470</td>\n",
              "      <td>0.123</td>\n",
              "      <td>At Dart Ave/Exit 21 - Accident.</td>\n",
              "      <td>...</td>\n",
              "      <td>False</td>\n",
              "      <td>False</td>\n",
              "      <td>False</td>\n",
              "      <td>False</td>\n",
              "      <td>False</td>\n",
              "      <td>False</td>\n",
              "      <td>Night</td>\n",
              "      <td>Night</td>\n",
              "      <td>Day</td>\n",
              "      <td>Day</td>\n",
              "    </tr>\n",
              "    <tr>\n",
              "      <th>4</th>\n",
              "      <td>A-5</td>\n",
              "      <td>3</td>\n",
              "      <td>2016-02-08 07:53:43</td>\n",
              "      <td>2016-02-08 13:53:43</td>\n",
              "      <td>39.172393</td>\n",
              "      <td>-84.492792</td>\n",
              "      <td>39.170476</td>\n",
              "      <td>-84.501798</td>\n",
              "      <td>0.500</td>\n",
              "      <td>At Mitchell Ave/Exit 6 - Accident.</td>\n",
              "      <td>...</td>\n",
              "      <td>False</td>\n",
              "      <td>False</td>\n",
              "      <td>False</td>\n",
              "      <td>False</td>\n",
              "      <td>False</td>\n",
              "      <td>False</td>\n",
              "      <td>Day</td>\n",
              "      <td>Day</td>\n",
              "      <td>Day</td>\n",
              "      <td>Day</td>\n",
              "    </tr>\n",
              "    <tr>\n",
              "      <th>...</th>\n",
              "      <td>...</td>\n",
              "      <td>...</td>\n",
              "      <td>...</td>\n",
              "      <td>...</td>\n",
              "      <td>...</td>\n",
              "      <td>...</td>\n",
              "      <td>...</td>\n",
              "      <td>...</td>\n",
              "      <td>...</td>\n",
              "      <td>...</td>\n",
              "      <td>...</td>\n",
              "      <td>...</td>\n",
              "      <td>...</td>\n",
              "      <td>...</td>\n",
              "      <td>...</td>\n",
              "      <td>...</td>\n",
              "      <td>...</td>\n",
              "      <td>...</td>\n",
              "      <td>...</td>\n",
              "      <td>...</td>\n",
              "      <td>...</td>\n",
              "    </tr>\n",
              "    <tr>\n",
              "      <th>2845337</th>\n",
              "      <td>A-2845338</td>\n",
              "      <td>2</td>\n",
              "      <td>2019-08-23 18:03:25</td>\n",
              "      <td>2019-08-23 18:32:01</td>\n",
              "      <td>34.002480</td>\n",
              "      <td>-117.379360</td>\n",
              "      <td>33.998880</td>\n",
              "      <td>-117.370940</td>\n",
              "      <td>0.543</td>\n",
              "      <td>At Market St - Accident.</td>\n",
              "      <td>...</td>\n",
              "      <td>False</td>\n",
              "      <td>False</td>\n",
              "      <td>False</td>\n",
              "      <td>False</td>\n",
              "      <td>False</td>\n",
              "      <td>False</td>\n",
              "      <td>Day</td>\n",
              "      <td>Day</td>\n",
              "      <td>Day</td>\n",
              "      <td>Day</td>\n",
              "    </tr>\n",
              "    <tr>\n",
              "      <th>2845338</th>\n",
              "      <td>A-2845339</td>\n",
              "      <td>2</td>\n",
              "      <td>2019-08-23 19:11:30</td>\n",
              "      <td>2019-08-23 19:38:23</td>\n",
              "      <td>32.766960</td>\n",
              "      <td>-117.148060</td>\n",
              "      <td>32.765550</td>\n",
              "      <td>-117.153630</td>\n",
              "      <td>0.338</td>\n",
              "      <td>At Camino Del Rio/Mission Center Rd - Accident.</td>\n",
              "      <td>...</td>\n",
              "      <td>False</td>\n",
              "      <td>False</td>\n",
              "      <td>False</td>\n",
              "      <td>False</td>\n",
              "      <td>False</td>\n",
              "      <td>False</td>\n",
              "      <td>Day</td>\n",
              "      <td>Day</td>\n",
              "      <td>Day</td>\n",
              "      <td>Day</td>\n",
              "    </tr>\n",
              "    <tr>\n",
              "      <th>2845339</th>\n",
              "      <td>A-2845340</td>\n",
              "      <td>2</td>\n",
              "      <td>2019-08-23 19:00:21</td>\n",
              "      <td>2019-08-23 19:28:49</td>\n",
              "      <td>33.775450</td>\n",
              "      <td>-117.847790</td>\n",
              "      <td>33.777400</td>\n",
              "      <td>-117.857270</td>\n",
              "      <td>0.561</td>\n",
              "      <td>At Glassell St/Grand Ave - Accident. in the ri...</td>\n",
              "      <td>...</td>\n",
              "      <td>False</td>\n",
              "      <td>False</td>\n",
              "      <td>False</td>\n",
              "      <td>False</td>\n",
              "      <td>False</td>\n",
              "      <td>False</td>\n",
              "      <td>Day</td>\n",
              "      <td>Day</td>\n",
              "      <td>Day</td>\n",
              "      <td>Day</td>\n",
              "    </tr>\n",
              "    <tr>\n",
              "      <th>2845340</th>\n",
              "      <td>A-2845341</td>\n",
              "      <td>2</td>\n",
              "      <td>2019-08-23 19:00:21</td>\n",
              "      <td>2019-08-23 19:29:42</td>\n",
              "      <td>33.992460</td>\n",
              "      <td>-118.403020</td>\n",
              "      <td>33.983110</td>\n",
              "      <td>-118.395650</td>\n",
              "      <td>0.772</td>\n",
              "      <td>At CA-90/Marina Fwy/Jefferson Blvd - Accident.</td>\n",
              "      <td>...</td>\n",
              "      <td>False</td>\n",
              "      <td>False</td>\n",
              "      <td>False</td>\n",
              "      <td>False</td>\n",
              "      <td>False</td>\n",
              "      <td>False</td>\n",
              "      <td>Day</td>\n",
              "      <td>Day</td>\n",
              "      <td>Day</td>\n",
              "      <td>Day</td>\n",
              "    </tr>\n",
              "    <tr>\n",
              "      <th>2845341</th>\n",
              "      <td>A-2845342</td>\n",
              "      <td>2</td>\n",
              "      <td>2019-08-23 18:52:06</td>\n",
              "      <td>2019-08-23 19:21:31</td>\n",
              "      <td>34.133930</td>\n",
              "      <td>-117.230920</td>\n",
              "      <td>34.137360</td>\n",
              "      <td>-117.239340</td>\n",
              "      <td>0.537</td>\n",
              "      <td>At Highland Ave/Arden Ave - Accident.</td>\n",
              "      <td>...</td>\n",
              "      <td>False</td>\n",
              "      <td>False</td>\n",
              "      <td>False</td>\n",
              "      <td>False</td>\n",
              "      <td>False</td>\n",
              "      <td>False</td>\n",
              "      <td>Day</td>\n",
              "      <td>Day</td>\n",
              "      <td>Day</td>\n",
              "      <td>Day</td>\n",
              "    </tr>\n",
              "  </tbody>\n",
              "</table>\n",
              "<p>2845342 rows × 47 columns</p>\n",
              "</div>\n",
              "      <button class=\"colab-df-convert\" onclick=\"convertToInteractive('df-990b6fc8-119e-4b20-8da7-1bf794974d35')\"\n",
              "              title=\"Convert this dataframe to an interactive table.\"\n",
              "              style=\"display:none;\">\n",
              "        \n",
              "  <svg xmlns=\"http://www.w3.org/2000/svg\" height=\"24px\"viewBox=\"0 0 24 24\"\n",
              "       width=\"24px\">\n",
              "    <path d=\"M0 0h24v24H0V0z\" fill=\"none\"/>\n",
              "    <path d=\"M18.56 5.44l.94 2.06.94-2.06 2.06-.94-2.06-.94-.94-2.06-.94 2.06-2.06.94zm-11 1L8.5 8.5l.94-2.06 2.06-.94-2.06-.94L8.5 2.5l-.94 2.06-2.06.94zm10 10l.94 2.06.94-2.06 2.06-.94-2.06-.94-.94-2.06-.94 2.06-2.06.94z\"/><path d=\"M17.41 7.96l-1.37-1.37c-.4-.4-.92-.59-1.43-.59-.52 0-1.04.2-1.43.59L10.3 9.45l-7.72 7.72c-.78.78-.78 2.05 0 2.83L4 21.41c.39.39.9.59 1.41.59.51 0 1.02-.2 1.41-.59l7.78-7.78 2.81-2.81c.8-.78.8-2.07 0-2.86zM5.41 20L4 18.59l7.72-7.72 1.47 1.35L5.41 20z\"/>\n",
              "  </svg>\n",
              "      </button>\n",
              "      \n",
              "  <style>\n",
              "    .colab-df-container {\n",
              "      display:flex;\n",
              "      flex-wrap:wrap;\n",
              "      gap: 12px;\n",
              "    }\n",
              "\n",
              "    .colab-df-convert {\n",
              "      background-color: #E8F0FE;\n",
              "      border: none;\n",
              "      border-radius: 50%;\n",
              "      cursor: pointer;\n",
              "      display: none;\n",
              "      fill: #1967D2;\n",
              "      height: 32px;\n",
              "      padding: 0 0 0 0;\n",
              "      width: 32px;\n",
              "    }\n",
              "\n",
              "    .colab-df-convert:hover {\n",
              "      background-color: #E2EBFA;\n",
              "      box-shadow: 0px 1px 2px rgba(60, 64, 67, 0.3), 0px 1px 3px 1px rgba(60, 64, 67, 0.15);\n",
              "      fill: #174EA6;\n",
              "    }\n",
              "\n",
              "    [theme=dark] .colab-df-convert {\n",
              "      background-color: #3B4455;\n",
              "      fill: #D2E3FC;\n",
              "    }\n",
              "\n",
              "    [theme=dark] .colab-df-convert:hover {\n",
              "      background-color: #434B5C;\n",
              "      box-shadow: 0px 1px 3px 1px rgba(0, 0, 0, 0.15);\n",
              "      filter: drop-shadow(0px 1px 2px rgba(0, 0, 0, 0.3));\n",
              "      fill: #FFFFFF;\n",
              "    }\n",
              "  </style>\n",
              "\n",
              "      <script>\n",
              "        const buttonEl =\n",
              "          document.querySelector('#df-990b6fc8-119e-4b20-8da7-1bf794974d35 button.colab-df-convert');\n",
              "        buttonEl.style.display =\n",
              "          google.colab.kernel.accessAllowed ? 'block' : 'none';\n",
              "\n",
              "        async function convertToInteractive(key) {\n",
              "          const element = document.querySelector('#df-990b6fc8-119e-4b20-8da7-1bf794974d35');\n",
              "          const dataTable =\n",
              "            await google.colab.kernel.invokeFunction('convertToInteractive',\n",
              "                                                     [key], {});\n",
              "          if (!dataTable) return;\n",
              "\n",
              "          const docLinkHtml = 'Like what you see? Visit the ' +\n",
              "            '<a target=\"_blank\" href=https://colab.research.google.com/notebooks/data_table.ipynb>data table notebook</a>'\n",
              "            + ' to learn more about interactive tables.';\n",
              "          element.innerHTML = '';\n",
              "          dataTable['output_type'] = 'display_data';\n",
              "          await google.colab.output.renderOutput(dataTable, element);\n",
              "          const docLink = document.createElement('div');\n",
              "          docLink.innerHTML = docLinkHtml;\n",
              "          element.appendChild(docLink);\n",
              "        }\n",
              "      </script>\n",
              "    </div>\n",
              "  </div>\n",
              "  "
            ]
          },
          "metadata": {},
          "execution_count": 5
        }
      ]
    },
    {
      "cell_type": "code",
      "source": [
        "from google.colab import drive\n",
        "drive.mount('/content/drive')"
      ],
      "metadata": {
        "id": "vga2b0yshmn9"
      },
      "execution_count": null,
      "outputs": []
    },
    {
      "cell_type": "code",
      "source": [
        "df.info()"
      ],
      "metadata": {
        "colab": {
          "base_uri": "https://localhost:8080/"
        },
        "id": "7QsF3tk89Gx1",
        "outputId": "096a8fb4-27cd-4fb0-a065-a2b1b22959af"
      },
      "execution_count": null,
      "outputs": [
        {
          "output_type": "stream",
          "name": "stdout",
          "text": [
            "<class 'pandas.core.frame.DataFrame'>\n",
            "RangeIndex: 2845342 entries, 0 to 2845341\n",
            "Data columns (total 47 columns):\n",
            " #   Column                 Dtype  \n",
            "---  ------                 -----  \n",
            " 0   ID                     object \n",
            " 1   Severity               int64  \n",
            " 2   Start_Time             object \n",
            " 3   End_Time               object \n",
            " 4   Start_Lat              float64\n",
            " 5   Start_Lng              float64\n",
            " 6   End_Lat                float64\n",
            " 7   End_Lng                float64\n",
            " 8   Distance(mi)           float64\n",
            " 9   Description            object \n",
            " 10  Number                 float64\n",
            " 11  Street                 object \n",
            " 12  Side                   object \n",
            " 13  City                   object \n",
            " 14  County                 object \n",
            " 15  State                  object \n",
            " 16  Zipcode                object \n",
            " 17  Country                object \n",
            " 18  Timezone               object \n",
            " 19  Airport_Code           object \n",
            " 20  Weather_Timestamp      object \n",
            " 21  Temperature(F)         float64\n",
            " 22  Wind_Chill(F)          float64\n",
            " 23  Humidity(%)            float64\n",
            " 24  Pressure(in)           float64\n",
            " 25  Visibility(mi)         float64\n",
            " 26  Wind_Direction         object \n",
            " 27  Wind_Speed(mph)        float64\n",
            " 28  Precipitation(in)      float64\n",
            " 29  Weather_Condition      object \n",
            " 30  Amenity                bool   \n",
            " 31  Bump                   bool   \n",
            " 32  Crossing               bool   \n",
            " 33  Give_Way               bool   \n",
            " 34  Junction               bool   \n",
            " 35  No_Exit                bool   \n",
            " 36  Railway                bool   \n",
            " 37  Roundabout             bool   \n",
            " 38  Station                bool   \n",
            " 39  Stop                   bool   \n",
            " 40  Traffic_Calming        bool   \n",
            " 41  Traffic_Signal         bool   \n",
            " 42  Turning_Loop           bool   \n",
            " 43  Sunrise_Sunset         object \n",
            " 44  Civil_Twilight         object \n",
            " 45  Nautical_Twilight      object \n",
            " 46  Astronomical_Twilight  object \n",
            "dtypes: bool(13), float64(13), int64(1), object(20)\n",
            "memory usage: 773.4+ MB\n"
          ]
        }
      ]
    },
    {
      "cell_type": "code",
      "source": [
        "df.describe()"
      ],
      "metadata": {
        "colab": {
          "base_uri": "https://localhost:8080/",
          "height": 364
        },
        "id": "rEBeVH62DB_E",
        "outputId": "2edbdb1c-7c46-49f5-b6d2-d131f33c91ef"
      },
      "execution_count": null,
      "outputs": [
        {
          "output_type": "execute_result",
          "data": {
            "text/plain": [
              "           Severity     Start_Lat     Start_Lng       End_Lat       End_Lng  \\\n",
              "count  2.845342e+06  2.845342e+06  2.845342e+06  2.845342e+06  2.845342e+06   \n",
              "mean   2.137572e+00  3.624520e+01 -9.711463e+01  3.624532e+01 -9.711439e+01   \n",
              "std    4.787216e-01  5.363797e+00  1.831782e+01  5.363873e+00  1.831763e+01   \n",
              "min    1.000000e+00  2.456603e+01 -1.245481e+02  2.456601e+01 -1.245457e+02   \n",
              "25%    2.000000e+00  3.344517e+01 -1.180331e+02  3.344628e+01 -1.180333e+02   \n",
              "50%    2.000000e+00  3.609861e+01 -9.241808e+01  3.609799e+01 -9.241772e+01   \n",
              "75%    2.000000e+00  4.016024e+01 -8.037243e+01  4.016105e+01 -8.037338e+01   \n",
              "max    4.000000e+00  4.900058e+01 -6.711317e+01  4.907500e+01 -6.710924e+01   \n",
              "\n",
              "       Distance(mi)        Number  Temperature(F)  Wind_Chill(F)  \\\n",
              "count  2.845342e+06  1.101431e+06    2.776068e+06   2.375699e+06   \n",
              "mean   7.026779e-01  8.089408e+03    6.179356e+01   5.965823e+01   \n",
              "std    1.560361e+00  1.836009e+04    1.862263e+01   2.116097e+01   \n",
              "min    0.000000e+00  0.000000e+00   -8.900000e+01  -8.900000e+01   \n",
              "25%    5.200000e-02  1.270000e+03    5.000000e+01   4.600000e+01   \n",
              "50%    2.440000e-01  4.007000e+03    6.400000e+01   6.300000e+01   \n",
              "75%    7.640000e-01  9.567000e+03    7.600000e+01   7.600000e+01   \n",
              "max    1.551860e+02  9.999997e+06    1.960000e+02   1.960000e+02   \n",
              "\n",
              "        Humidity(%)  Pressure(in)  Visibility(mi)  Wind_Speed(mph)  \\\n",
              "count  2.772250e+06  2.786142e+06    2.774796e+06     2.687398e+06   \n",
              "mean   6.436545e+01  2.947234e+01    9.099391e+00     7.395044e+00   \n",
              "std    2.287457e+01  1.045286e+00    2.717546e+00     5.527454e+00   \n",
              "min    1.000000e+00  0.000000e+00    0.000000e+00     0.000000e+00   \n",
              "25%    4.800000e+01  2.931000e+01    1.000000e+01     3.500000e+00   \n",
              "50%    6.700000e+01  2.982000e+01    1.000000e+01     7.000000e+00   \n",
              "75%    8.300000e+01  3.001000e+01    1.000000e+01     1.000000e+01   \n",
              "max    1.000000e+02  5.890000e+01    1.400000e+02     1.087000e+03   \n",
              "\n",
              "       Precipitation(in)  \n",
              "count       2.295884e+06  \n",
              "mean        7.016940e-03  \n",
              "std         9.348831e-02  \n",
              "min         0.000000e+00  \n",
              "25%         0.000000e+00  \n",
              "50%         0.000000e+00  \n",
              "75%         0.000000e+00  \n",
              "max         2.400000e+01  "
            ],
            "text/html": [
              "\n",
              "  <div id=\"df-519d76ca-0a10-4b32-b65a-55b0cc87ba74\">\n",
              "    <div class=\"colab-df-container\">\n",
              "      <div>\n",
              "<style scoped>\n",
              "    .dataframe tbody tr th:only-of-type {\n",
              "        vertical-align: middle;\n",
              "    }\n",
              "\n",
              "    .dataframe tbody tr th {\n",
              "        vertical-align: top;\n",
              "    }\n",
              "\n",
              "    .dataframe thead th {\n",
              "        text-align: right;\n",
              "    }\n",
              "</style>\n",
              "<table border=\"1\" class=\"dataframe\">\n",
              "  <thead>\n",
              "    <tr style=\"text-align: right;\">\n",
              "      <th></th>\n",
              "      <th>Severity</th>\n",
              "      <th>Start_Lat</th>\n",
              "      <th>Start_Lng</th>\n",
              "      <th>End_Lat</th>\n",
              "      <th>End_Lng</th>\n",
              "      <th>Distance(mi)</th>\n",
              "      <th>Number</th>\n",
              "      <th>Temperature(F)</th>\n",
              "      <th>Wind_Chill(F)</th>\n",
              "      <th>Humidity(%)</th>\n",
              "      <th>Pressure(in)</th>\n",
              "      <th>Visibility(mi)</th>\n",
              "      <th>Wind_Speed(mph)</th>\n",
              "      <th>Precipitation(in)</th>\n",
              "    </tr>\n",
              "  </thead>\n",
              "  <tbody>\n",
              "    <tr>\n",
              "      <th>count</th>\n",
              "      <td>2.845342e+06</td>\n",
              "      <td>2.845342e+06</td>\n",
              "      <td>2.845342e+06</td>\n",
              "      <td>2.845342e+06</td>\n",
              "      <td>2.845342e+06</td>\n",
              "      <td>2.845342e+06</td>\n",
              "      <td>1.101431e+06</td>\n",
              "      <td>2.776068e+06</td>\n",
              "      <td>2.375699e+06</td>\n",
              "      <td>2.772250e+06</td>\n",
              "      <td>2.786142e+06</td>\n",
              "      <td>2.774796e+06</td>\n",
              "      <td>2.687398e+06</td>\n",
              "      <td>2.295884e+06</td>\n",
              "    </tr>\n",
              "    <tr>\n",
              "      <th>mean</th>\n",
              "      <td>2.137572e+00</td>\n",
              "      <td>3.624520e+01</td>\n",
              "      <td>-9.711463e+01</td>\n",
              "      <td>3.624532e+01</td>\n",
              "      <td>-9.711439e+01</td>\n",
              "      <td>7.026779e-01</td>\n",
              "      <td>8.089408e+03</td>\n",
              "      <td>6.179356e+01</td>\n",
              "      <td>5.965823e+01</td>\n",
              "      <td>6.436545e+01</td>\n",
              "      <td>2.947234e+01</td>\n",
              "      <td>9.099391e+00</td>\n",
              "      <td>7.395044e+00</td>\n",
              "      <td>7.016940e-03</td>\n",
              "    </tr>\n",
              "    <tr>\n",
              "      <th>std</th>\n",
              "      <td>4.787216e-01</td>\n",
              "      <td>5.363797e+00</td>\n",
              "      <td>1.831782e+01</td>\n",
              "      <td>5.363873e+00</td>\n",
              "      <td>1.831763e+01</td>\n",
              "      <td>1.560361e+00</td>\n",
              "      <td>1.836009e+04</td>\n",
              "      <td>1.862263e+01</td>\n",
              "      <td>2.116097e+01</td>\n",
              "      <td>2.287457e+01</td>\n",
              "      <td>1.045286e+00</td>\n",
              "      <td>2.717546e+00</td>\n",
              "      <td>5.527454e+00</td>\n",
              "      <td>9.348831e-02</td>\n",
              "    </tr>\n",
              "    <tr>\n",
              "      <th>min</th>\n",
              "      <td>1.000000e+00</td>\n",
              "      <td>2.456603e+01</td>\n",
              "      <td>-1.245481e+02</td>\n",
              "      <td>2.456601e+01</td>\n",
              "      <td>-1.245457e+02</td>\n",
              "      <td>0.000000e+00</td>\n",
              "      <td>0.000000e+00</td>\n",
              "      <td>-8.900000e+01</td>\n",
              "      <td>-8.900000e+01</td>\n",
              "      <td>1.000000e+00</td>\n",
              "      <td>0.000000e+00</td>\n",
              "      <td>0.000000e+00</td>\n",
              "      <td>0.000000e+00</td>\n",
              "      <td>0.000000e+00</td>\n",
              "    </tr>\n",
              "    <tr>\n",
              "      <th>25%</th>\n",
              "      <td>2.000000e+00</td>\n",
              "      <td>3.344517e+01</td>\n",
              "      <td>-1.180331e+02</td>\n",
              "      <td>3.344628e+01</td>\n",
              "      <td>-1.180333e+02</td>\n",
              "      <td>5.200000e-02</td>\n",
              "      <td>1.270000e+03</td>\n",
              "      <td>5.000000e+01</td>\n",
              "      <td>4.600000e+01</td>\n",
              "      <td>4.800000e+01</td>\n",
              "      <td>2.931000e+01</td>\n",
              "      <td>1.000000e+01</td>\n",
              "      <td>3.500000e+00</td>\n",
              "      <td>0.000000e+00</td>\n",
              "    </tr>\n",
              "    <tr>\n",
              "      <th>50%</th>\n",
              "      <td>2.000000e+00</td>\n",
              "      <td>3.609861e+01</td>\n",
              "      <td>-9.241808e+01</td>\n",
              "      <td>3.609799e+01</td>\n",
              "      <td>-9.241772e+01</td>\n",
              "      <td>2.440000e-01</td>\n",
              "      <td>4.007000e+03</td>\n",
              "      <td>6.400000e+01</td>\n",
              "      <td>6.300000e+01</td>\n",
              "      <td>6.700000e+01</td>\n",
              "      <td>2.982000e+01</td>\n",
              "      <td>1.000000e+01</td>\n",
              "      <td>7.000000e+00</td>\n",
              "      <td>0.000000e+00</td>\n",
              "    </tr>\n",
              "    <tr>\n",
              "      <th>75%</th>\n",
              "      <td>2.000000e+00</td>\n",
              "      <td>4.016024e+01</td>\n",
              "      <td>-8.037243e+01</td>\n",
              "      <td>4.016105e+01</td>\n",
              "      <td>-8.037338e+01</td>\n",
              "      <td>7.640000e-01</td>\n",
              "      <td>9.567000e+03</td>\n",
              "      <td>7.600000e+01</td>\n",
              "      <td>7.600000e+01</td>\n",
              "      <td>8.300000e+01</td>\n",
              "      <td>3.001000e+01</td>\n",
              "      <td>1.000000e+01</td>\n",
              "      <td>1.000000e+01</td>\n",
              "      <td>0.000000e+00</td>\n",
              "    </tr>\n",
              "    <tr>\n",
              "      <th>max</th>\n",
              "      <td>4.000000e+00</td>\n",
              "      <td>4.900058e+01</td>\n",
              "      <td>-6.711317e+01</td>\n",
              "      <td>4.907500e+01</td>\n",
              "      <td>-6.710924e+01</td>\n",
              "      <td>1.551860e+02</td>\n",
              "      <td>9.999997e+06</td>\n",
              "      <td>1.960000e+02</td>\n",
              "      <td>1.960000e+02</td>\n",
              "      <td>1.000000e+02</td>\n",
              "      <td>5.890000e+01</td>\n",
              "      <td>1.400000e+02</td>\n",
              "      <td>1.087000e+03</td>\n",
              "      <td>2.400000e+01</td>\n",
              "    </tr>\n",
              "  </tbody>\n",
              "</table>\n",
              "</div>\n",
              "      <button class=\"colab-df-convert\" onclick=\"convertToInteractive('df-519d76ca-0a10-4b32-b65a-55b0cc87ba74')\"\n",
              "              title=\"Convert this dataframe to an interactive table.\"\n",
              "              style=\"display:none;\">\n",
              "        \n",
              "  <svg xmlns=\"http://www.w3.org/2000/svg\" height=\"24px\"viewBox=\"0 0 24 24\"\n",
              "       width=\"24px\">\n",
              "    <path d=\"M0 0h24v24H0V0z\" fill=\"none\"/>\n",
              "    <path d=\"M18.56 5.44l.94 2.06.94-2.06 2.06-.94-2.06-.94-.94-2.06-.94 2.06-2.06.94zm-11 1L8.5 8.5l.94-2.06 2.06-.94-2.06-.94L8.5 2.5l-.94 2.06-2.06.94zm10 10l.94 2.06.94-2.06 2.06-.94-2.06-.94-.94-2.06-.94 2.06-2.06.94z\"/><path d=\"M17.41 7.96l-1.37-1.37c-.4-.4-.92-.59-1.43-.59-.52 0-1.04.2-1.43.59L10.3 9.45l-7.72 7.72c-.78.78-.78 2.05 0 2.83L4 21.41c.39.39.9.59 1.41.59.51 0 1.02-.2 1.41-.59l7.78-7.78 2.81-2.81c.8-.78.8-2.07 0-2.86zM5.41 20L4 18.59l7.72-7.72 1.47 1.35L5.41 20z\"/>\n",
              "  </svg>\n",
              "      </button>\n",
              "      \n",
              "  <style>\n",
              "    .colab-df-container {\n",
              "      display:flex;\n",
              "      flex-wrap:wrap;\n",
              "      gap: 12px;\n",
              "    }\n",
              "\n",
              "    .colab-df-convert {\n",
              "      background-color: #E8F0FE;\n",
              "      border: none;\n",
              "      border-radius: 50%;\n",
              "      cursor: pointer;\n",
              "      display: none;\n",
              "      fill: #1967D2;\n",
              "      height: 32px;\n",
              "      padding: 0 0 0 0;\n",
              "      width: 32px;\n",
              "    }\n",
              "\n",
              "    .colab-df-convert:hover {\n",
              "      background-color: #E2EBFA;\n",
              "      box-shadow: 0px 1px 2px rgba(60, 64, 67, 0.3), 0px 1px 3px 1px rgba(60, 64, 67, 0.15);\n",
              "      fill: #174EA6;\n",
              "    }\n",
              "\n",
              "    [theme=dark] .colab-df-convert {\n",
              "      background-color: #3B4455;\n",
              "      fill: #D2E3FC;\n",
              "    }\n",
              "\n",
              "    [theme=dark] .colab-df-convert:hover {\n",
              "      background-color: #434B5C;\n",
              "      box-shadow: 0px 1px 3px 1px rgba(0, 0, 0, 0.15);\n",
              "      filter: drop-shadow(0px 1px 2px rgba(0, 0, 0, 0.3));\n",
              "      fill: #FFFFFF;\n",
              "    }\n",
              "  </style>\n",
              "\n",
              "      <script>\n",
              "        const buttonEl =\n",
              "          document.querySelector('#df-519d76ca-0a10-4b32-b65a-55b0cc87ba74 button.colab-df-convert');\n",
              "        buttonEl.style.display =\n",
              "          google.colab.kernel.accessAllowed ? 'block' : 'none';\n",
              "\n",
              "        async function convertToInteractive(key) {\n",
              "          const element = document.querySelector('#df-519d76ca-0a10-4b32-b65a-55b0cc87ba74');\n",
              "          const dataTable =\n",
              "            await google.colab.kernel.invokeFunction('convertToInteractive',\n",
              "                                                     [key], {});\n",
              "          if (!dataTable) return;\n",
              "\n",
              "          const docLinkHtml = 'Like what you see? Visit the ' +\n",
              "            '<a target=\"_blank\" href=https://colab.research.google.com/notebooks/data_table.ipynb>data table notebook</a>'\n",
              "            + ' to learn more about interactive tables.';\n",
              "          element.innerHTML = '';\n",
              "          dataTable['output_type'] = 'display_data';\n",
              "          await google.colab.output.renderOutput(dataTable, element);\n",
              "          const docLink = document.createElement('div');\n",
              "          docLink.innerHTML = docLinkHtml;\n",
              "          element.appendChild(docLink);\n",
              "        }\n",
              "      </script>\n",
              "    </div>\n",
              "  </div>\n",
              "  "
            ]
          },
          "metadata": {},
          "execution_count": 19
        }
      ]
    },
    {
      "cell_type": "code",
      "source": [
        "# get numeric columns\n",
        "\n",
        "numerics = ['int16', 'int32', 'int64', 'float16', 'float32', 'float64']\n",
        "\n",
        "numeric_df = df.select_dtypes(include=numerics)\n",
        "len(numeric_df.columns)"
      ],
      "metadata": {
        "colab": {
          "base_uri": "https://localhost:8080/"
        },
        "id": "e8djoqTYDB4E",
        "outputId": "fb416aa5-8c46-4812-c19d-053606583f81"
      },
      "execution_count": null,
      "outputs": [
        {
          "output_type": "execute_result",
          "data": {
            "text/plain": [
              "14"
            ]
          },
          "metadata": {},
          "execution_count": 20
        }
      ]
    },
    {
      "cell_type": "markdown",
      "source": [
        "Percentage of missing values per column\n",
        "\n"
      ],
      "metadata": {
        "id": "BWKKAieOrw-e"
      }
    },
    {
      "cell_type": "code",
      "source": [
        "missing_percentages = df.isna().sum().sort_values(ascending=False) / len(df)\n",
        "missing_percentages\n"
      ],
      "metadata": {
        "colab": {
          "base_uri": "https://localhost:8080/"
        },
        "id": "Qri0fF-mK6vY",
        "outputId": "ca780f5b-d2d1-40e9-a286-eb104a77c00c"
      },
      "execution_count": null,
      "outputs": [
        {
          "output_type": "execute_result",
          "data": {
            "text/plain": [
              "Number                   6.129003e-01\n",
              "Precipitation(in)        1.931079e-01\n",
              "Wind_Chill(F)            1.650568e-01\n",
              "Wind_Speed(mph)          5.550967e-02\n",
              "Wind_Direction           2.592834e-02\n",
              "Humidity(%)              2.568830e-02\n",
              "Weather_Condition        2.482514e-02\n",
              "Visibility(mi)           2.479350e-02\n",
              "Temperature(F)           2.434646e-02\n",
              "Pressure(in)             2.080593e-02\n",
              "Weather_Timestamp        1.783125e-02\n",
              "Airport_Code             3.356011e-03\n",
              "Timezone                 1.285961e-03\n",
              "Nautical_Twilight        1.007612e-03\n",
              "Civil_Twilight           1.007612e-03\n",
              "Sunrise_Sunset           1.007612e-03\n",
              "Astronomical_Twilight    1.007612e-03\n",
              "Zipcode                  4.635647e-04\n",
              "City                     4.814887e-05\n",
              "Street                   7.029032e-07\n",
              "Country                  0.000000e+00\n",
              "Junction                 0.000000e+00\n",
              "Start_Time               0.000000e+00\n",
              "End_Time                 0.000000e+00\n",
              "Start_Lat                0.000000e+00\n",
              "Turning_Loop             0.000000e+00\n",
              "Traffic_Signal           0.000000e+00\n",
              "Traffic_Calming          0.000000e+00\n",
              "Stop                     0.000000e+00\n",
              "Station                  0.000000e+00\n",
              "Roundabout               0.000000e+00\n",
              "Railway                  0.000000e+00\n",
              "No_Exit                  0.000000e+00\n",
              "Crossing                 0.000000e+00\n",
              "Give_Way                 0.000000e+00\n",
              "Bump                     0.000000e+00\n",
              "Amenity                  0.000000e+00\n",
              "Start_Lng                0.000000e+00\n",
              "End_Lat                  0.000000e+00\n",
              "End_Lng                  0.000000e+00\n",
              "Distance(mi)             0.000000e+00\n",
              "Description              0.000000e+00\n",
              "Severity                 0.000000e+00\n",
              "Side                     0.000000e+00\n",
              "County                   0.000000e+00\n",
              "State                    0.000000e+00\n",
              "ID                       0.000000e+00\n",
              "dtype: float64"
            ]
          },
          "metadata": {},
          "execution_count": 21
        }
      ]
    },
    {
      "cell_type": "code",
      "source": [
        "type(missing_percentages)"
      ],
      "metadata": {
        "colab": {
          "base_uri": "https://localhost:8080/"
        },
        "id": "uqhDkWHitIjT",
        "outputId": "e13e95e2-f02c-4578-b24c-5dfaa795bef1"
      },
      "execution_count": null,
      "outputs": [
        {
          "output_type": "execute_result",
          "data": {
            "text/plain": [
              "pandas.core.series.Series"
            ]
          },
          "metadata": {},
          "execution_count": 22
        }
      ]
    },
    {
      "cell_type": "code",
      "source": [
        "missing_percentages[missing_percentages != 0].plot(kind='barh')"
      ],
      "metadata": {
        "colab": {
          "base_uri": "https://localhost:8080/",
          "height": 282
        },
        "id": "0r8p4eB4K6sg",
        "outputId": "3e8ab003-1407-429b-f18e-56b6ce7f957e"
      },
      "execution_count": null,
      "outputs": [
        {
          "output_type": "execute_result",
          "data": {
            "text/plain": [
              "<matplotlib.axes._subplots.AxesSubplot at 0x7fc3e2377ad0>"
            ]
          },
          "metadata": {},
          "execution_count": 23
        },
        {
          "output_type": "display_data",
          "data": {
            "text/plain": [
              "<Figure size 432x288 with 1 Axes>"
            ],
            "image/png": "[encoded data removed]"
          },
          "metadata": {
            "needs_background": "light"
          }
        }
      ]
    },
    {
      "cell_type": "markdown",
      "source": [
        "Consider removing columns with over 50% of missing data."
      ],
      "metadata": {
        "id": "sBePCzpkt3ut"
      }
    },
    {
      "cell_type": "markdown",
      "source": [
        "# Exploratory and Visualization\n",
        "\n",
        "Columns analyze:\n",
        "\n",
        "1.   City\n",
        "2.   Missing States\n",
        "1.   New York City\n",
        "3.   Start Time\n",
        "4.   Start_Lat, Start_Lng\n",
        "5.   Temperature\n",
        "6.   Weather Condition\n",
        "\n",
        "\n",
        "\n",
        "\n",
        "\n"
      ],
      "metadata": {
        "id": "n-tFE360uKic"
      }
    },
    {
      "cell_type": "markdown",
      "source": [
        "## 1. City"
      ],
      "metadata": {
        "id": "LsoTb8RxMy80"
      }
    },
    {
      "cell_type": "code",
      "source": [
        "# number of uniqe cities in City feild\n",
        "\n",
        "cities = df.City.unique()\n",
        "len(cities)"
      ],
      "metadata": {
        "colab": {
          "base_uri": "https://localhost:8080/"
        },
        "id": "9QsG2ydw269z",
        "outputId": "27382e5e-5334-4c85-d615-a1d0761ae7ef"
      },
      "execution_count": null,
      "outputs": [
        {
          "output_type": "execute_result",
          "data": {
            "text/plain": [
              "11682"
            ]
          },
          "metadata": {},
          "execution_count": 38
        }
      ]
    },
    {
      "cell_type": "code",
      "source": [
        "# 1. Accidents among Cities\n",
        "\n",
        "cities_by_accident = df.County.value_counts()\n",
        "cities_by_accident[:30]"
      ],
      "metadata": {
        "colab": {
          "base_uri": "https://localhost:8080/"
        },
        "id": "XowDGsqJuLqd",
        "outputId": "d29e0f12-a494-4633-9100-13a3f86c2816"
      },
      "execution_count": null,
      "outputs": [
        {
          "output_type": "execute_result",
          "data": {
            "text/plain": [
              "Los Angeles         234122\n",
              "Miami-Dade          143939\n",
              "Orange              114917\n",
              "San Bernardino       55018\n",
              "Dallas               50050\n",
              "San Diego            48366\n",
              "Sacramento           46708\n",
              "Harris               42559\n",
              "Riverside            42176\n",
              "Montgomery           41476\n",
              "Alameda              38997\n",
              "Mecklenburg          35191\n",
              "Maricopa             33539\n",
              "Wake                 31662\n",
              "Santa Clara          27415\n",
              "Hennepin             26560\n",
              "Davidson             26259\n",
              "Lake                 23584\n",
              "Marion               22437\n",
              "Cook                 21335\n",
              "Kern                 21310\n",
              "Broward              21217\n",
              "Jackson              20832\n",
              "Travis               20689\n",
              "Hillsborough         20499\n",
              "Salt Lake            20059\n",
              "Contra Costa         19726\n",
              "Multnomah            19303\n",
              "East Baton Rouge     19021\n",
              "Fairfax County       17948\n",
              "Name: County, dtype: int64"
            ]
          },
          "metadata": {},
          "execution_count": 20
        }
      ]
    },
    {
      "cell_type": "code",
      "source": [
        "type(cities_by_accident)"
      ],
      "metadata": {
        "colab": {
          "base_uri": "https://localhost:8080/"
        },
        "id": "p-4efuELfK4k",
        "outputId": "8037b063-d6d5-4138-dd43-4b581bfdeaec"
      },
      "execution_count": null,
      "outputs": [
        {
          "output_type": "execute_result",
          "data": {
            "text/plain": [
              "pandas.core.series.Series"
            ]
          },
          "metadata": {},
          "execution_count": 131
        }
      ]
    },
    {
      "cell_type": "code",
      "source": [
        "cities_by_accident[:30].plot(kind='barh')"
      ],
      "metadata": {
        "colab": {
          "base_uri": "https://localhost:8080/",
          "height": 283
        },
        "id": "MTkDVxZhckGo",
        "outputId": "2d25ec5a-4fe5-4f1a-ebfb-1bcdbdce14ae"
      },
      "execution_count": null,
      "outputs": [
        {
          "output_type": "execute_result",
          "data": {
            "text/plain": [
              "<matplotlib.axes._subplots.AxesSubplot at 0x7f3a50e45610>"
            ]
          },
          "metadata": {},
          "execution_count": 133
        },
        {
          "output_type": "display_data",
          "data": {
            "text/plain": [
              "<Figure size 432x288 with 1 Axes>"
            ],
            "image/png": "[encoded data removed]"
          },
          "metadata": {
            "needs_background": "light"
          }
        }
      ]
    },
    {
      "cell_type": "code",
      "source": [
        "import seaborn as sns\n",
        "sns.set_style(\"darkgrid\")"
      ],
      "metadata": {
        "id": "oOSTsRz7Vk1x"
      },
      "execution_count": null,
      "outputs": []
    },
    {
      "cell_type": "code",
      "source": [
        "sns.histplot(cities_by_accident, log_scale=True)\n"
      ],
      "metadata": {
        "colab": {
          "base_uri": "https://localhost:8080/",
          "height": 302
        },
        "id": "rwWvAuAAVllr",
        "outputId": "830a6cbc-72ff-440b-f625-bb6d3fae8669"
      },
      "execution_count": null,
      "outputs": [
        {
          "output_type": "execute_result",
          "data": {
            "text/plain": [
              "<matplotlib.axes._subplots.AxesSubplot at 0x7f3a42abab90>"
            ]
          },
          "metadata": {},
          "execution_count": 163
        },
        {
          "output_type": "display_data",
          "data": {
            "text/plain": [
              "<Figure size 432x288 with 1 Axes>"
            ],
            "image/png": "[encoded data removed]"
          },
          "metadata": {}
        }
      ]
    },
    {
      "cell_type": "code",
      "source": [
        "cities_by_accident[cities_by_accident <= 1 ].sum()"
      ],
      "metadata": {
        "colab": {
          "base_uri": "https://localhost:8080/"
        },
        "id": "dPpMOkc7V2Ht",
        "outputId": "2e351d50-6bfe-42fd-a62d-3e4fc856fef6"
      },
      "execution_count": null,
      "outputs": [
        {
          "output_type": "execute_result",
          "data": {
            "text/plain": [
              "66"
            ]
          },
          "metadata": {},
          "execution_count": 180
        }
      ]
    },
    {
      "cell_type": "code",
      "source": [
        ""
      ],
      "metadata": {
        "id": "fdY63-1DQ_45"
      },
      "execution_count": null,
      "outputs": []
    },
    {
      "cell_type": "markdown",
      "source": [
        "## 2.   Missing States\n"
      ],
      "metadata": {
        "id": "aXbaeA37MrYh"
      }
    },
    {
      "cell_type": "code",
      "source": [
        "df['State'].unique()"
      ],
      "metadata": {
        "colab": {
          "base_uri": "https://localhost:8080/"
        },
        "id": "OGDUrFoGi1hp",
        "outputId": "bffeb404-195c-4a73-8ece-45544a34e6a9"
      },
      "execution_count": null,
      "outputs": [
        {
          "output_type": "execute_result",
          "data": {
            "text/plain": [
              "array(['OH', 'IN', 'KY', 'WV', 'MI', 'PA', 'CA', 'NV', 'MN', 'TX', 'MO',\n",
              "       'CO', 'OK', 'LA', 'KS', 'WI', 'IA', 'MS', 'NE', 'ND', 'WY', 'SD',\n",
              "       'MT', 'NM', 'AR', 'IL', 'NJ', 'GA', 'FL', 'NY', 'CT', 'RI', 'SC',\n",
              "       'NC', 'MD', 'MA', 'TN', 'VA', 'DE', 'DC', 'ME', 'AL', 'NH', 'VT',\n",
              "       'AZ', 'UT', 'ID', 'OR', 'WA'], dtype=object)"
            ]
          },
          "metadata": {},
          "execution_count": 82
        }
      ]
    },
    {
      "cell_type": "code",
      "source": [
        "pd.Series(df['State'].unique()).count()\n"
      ],
      "metadata": {
        "colab": {
          "base_uri": "https://localhost:8080/"
        },
        "id": "uH9IFCdMkMRt",
        "outputId": "a4101ad0-a116-4eab-e0fb-d9720fcc962a"
      },
      "execution_count": null,
      "outputs": [
        {
          "output_type": "execute_result",
          "data": {
            "text/plain": [
              "49"
            ]
          },
          "metadata": {},
          "execution_count": 22
        }
      ]
    },
    {
      "cell_type": "code",
      "source": [
        "# import data for comparing missing States\n",
        "\n",
        "all_50_states= [ 'AK', 'AL', 'AR', 'AZ', 'CA', 'CO', 'CT', 'DC', 'DE', 'FL', 'GA',\n",
        "'HI', 'IA', 'ID', 'IL', 'IN', 'KS', 'KY', 'LA', 'MA', 'MD', 'ME',\n",
        "'MI', 'MN', 'MO', 'MS', 'MT', 'NC', 'ND', 'NE', 'NH', 'NJ', 'NM',\n",
        "'NV', 'NY', 'OH', 'OK', 'OR', 'PA', 'RI', 'SC', 'SD', 'TN', 'TX',\n",
        "'UT', 'VA', 'VT', 'WA', 'WI', 'WV', 'WY']\n",
        "\n",
        "from numpy.ma.core import count\n",
        "count(all_50_states)\n"
      ],
      "metadata": {
        "colab": {
          "base_uri": "https://localhost:8080/"
        },
        "id": "87pjpLHwnkN-",
        "outputId": "9830ea91-8502-4c0c-ed3a-3ee5f6a636da"
      },
      "execution_count": null,
      "outputs": [
        {
          "output_type": "execute_result",
          "data": {
            "text/plain": [
              "51"
            ]
          },
          "metadata": {},
          "execution_count": 31
        }
      ]
    },
    {
      "cell_type": "code",
      "source": [
        "import numpy as np\n",
        "\n",
        "df1 = pd.Series({'col1': all_50_states})\n",
        "df2 = pd.Series({'col2': df['State'].unique()})\n",
        "\n",
        "print(\"df.State is missing\",np.setdiff1d(df1['col1'], df2['col2']))"
      ],
      "metadata": {
        "colab": {
          "base_uri": "https://localhost:8080/"
        },
        "id": "jSBXgG9c4FQO",
        "outputId": "e95ccc79-9b69-4b72-de66-e5652437f4d7"
      },
      "execution_count": null,
      "outputs": [
        {
          "output_type": "stream",
          "name": "stdout",
          "text": [
            "df.State is missing ['AK' 'HI']\n"
          ]
        }
      ]
    },
    {
      "cell_type": "markdown",
      "source": [
        "## 3. Number of accidents New York City"
      ],
      "metadata": {
        "id": "BX9Fj1g2TI6t"
      }
    },
    {
      "cell_type": "code",
      "source": [
        "# Accidents in New York City (5 Boroughs)\n",
        "\n",
        "NYC_county = ['Bronx', 'New York', 'Kings', 'Richmond','Queens']\n",
        "\n",
        "Accidents_NY = df[df['State']=='NY']\n",
        "\n",
        "Accidents_NY[Accidents_NY['County'].isin(NYC_county)]['County'].value_counts()\n"
      ],
      "metadata": {
        "colab": {
          "base_uri": "https://localhost:8080/"
        },
        "id": "1Tf9b_FdPbzx",
        "outputId": "0baf3e77-9427-46d6-ada1-6c4c71f5a4e1"
      },
      "execution_count": null,
      "outputs": [
        {
          "output_type": "execute_result",
          "data": {
            "text/plain": [
              "Queens      12556\n",
              "Bronx        9461\n",
              "New York     7155\n",
              "Kings        5983\n",
              "Richmond     1561\n",
              "Name: County, dtype: int64"
            ]
          },
          "metadata": {},
          "execution_count": 24
        }
      ]
    },
    {
      "cell_type": "code",
      "source": [
        "Accidents_NY[Accidents_NY['County'].isin(NYC_county)]['County'].count()\n"
      ],
      "metadata": {
        "colab": {
          "base_uri": "https://localhost:8080/"
        },
        "id": "7k1RS6O-R5CF",
        "outputId": "4c6c0d34-995f-4413-b0b4-bc2c639fbe25"
      },
      "execution_count": null,
      "outputs": [
        {
          "output_type": "execute_result",
          "data": {
            "text/plain": [
              "36716"
            ]
          },
          "metadata": {},
          "execution_count": 25
        }
      ]
    },
    {
      "cell_type": "markdown",
      "source": [
        "## 4. Start Time"
      ],
      "metadata": {
        "id": "dtSnjTuVYNjG"
      }
    },
    {
      "cell_type": "code",
      "source": [
        "df.Start_Time\n"
      ],
      "metadata": {
        "colab": {
          "base_uri": "https://localhost:8080/"
        },
        "id": "H2UFwTfMYOj5",
        "outputId": "577bcbac-e7d7-4974-aed8-e7a86d51ab29"
      },
      "execution_count": null,
      "outputs": [
        {
          "output_type": "execute_result",
          "data": {
            "text/plain": [
              "0          2016-02-08 00:37:08\n",
              "1          2016-02-08 05:56:20\n",
              "2          2016-02-08 06:15:39\n",
              "3          2016-02-08 06:51:45\n",
              "4          2016-02-08 07:53:43\n",
              "                  ...         \n",
              "2845337    2019-08-23 18:03:25\n",
              "2845338    2019-08-23 19:11:30\n",
              "2845339    2019-08-23 19:00:21\n",
              "2845340    2019-08-23 19:00:21\n",
              "2845341    2019-08-23 18:52:06\n",
              "Name: Start_Time, Length: 2845342, dtype: object"
            ]
          },
          "metadata": {},
          "execution_count": 26
        }
      ]
    },
    {
      "cell_type": "code",
      "source": [
        "# covert 'Start_Time' to datetime \n",
        "df.Start_Time = pd.to_datetime(df.Start_Time)\n",
        "\n",
        "import seaborn as sns\n",
        "\n",
        "sns.distplot(df.Start_Time.dt.hour, bins=24, kde=False, norm_hist=True)\n"
      ],
      "metadata": {
        "colab": {
          "base_uri": "https://localhost:8080/",
          "height": 352
        },
        "id": "rz7TWt95YY2K",
        "outputId": "f897ba4b-bf42-429f-aa55-2e24ed111105"
      },
      "execution_count": null,
      "outputs": [
        {
          "output_type": "stream",
          "name": "stderr",
          "text": [
            "/usr/local/lib/python3.7/dist-packages/seaborn/distributions.py:2619: FutureWarning: `distplot` is a deprecated function and will be removed in a future version. Please adapt your code to use either `displot` (a figure-level function with similar flexibility) or `histplot` (an axes-level function for histograms).\n",
            "  warnings.warn(msg, FutureWarning)\n"
          ]
        },
        {
          "output_type": "execute_result",
          "data": {
            "text/plain": [
              "<matplotlib.axes._subplots.AxesSubplot at 0x7f36f23b5890>"
            ]
          },
          "metadata": {},
          "execution_count": 11
        },
        {
          "output_type": "display_data",
          "data": {
            "text/plain": [
              "<Figure size 432x288 with 1 Axes>"
            ],
            "image/png": "[encoded data removed]"
          },
          "metadata": {
            "needs_background": "light"
          }
        }
      ]
    },
    {
      "cell_type": "markdown",
      "source": [
        "1. A high % of accidents occur between 2pm to 6pm (probably people in a hurry to get back home)\n",
        "2. Next higest percentage is 7am to 9am."
      ],
      "metadata": {
        "id": "KHNWMWNgae76"
      }
    },
    {
      "cell_type": "code",
      "source": [
        "# how about accidents occurance during a week?\n",
        "# 0 - 6 indicates Monday to Sunday\n",
        "\n",
        "sns.distplot(df.Start_Time.dt.dayofweek, bins=7, kde=False, norm_hist=True)\n"
      ],
      "metadata": {
        "colab": {
          "base_uri": "https://localhost:8080/",
          "height": 352
        },
        "id": "7KMYpSSMbNkj",
        "outputId": "a8f8aa46-7337-4581-9022-2412d5b14135"
      },
      "execution_count": null,
      "outputs": [
        {
          "output_type": "stream",
          "name": "stderr",
          "text": [
            "/usr/local/lib/python3.7/dist-packages/seaborn/distributions.py:2619: FutureWarning: `distplot` is a deprecated function and will be removed in a future version. Please adapt your code to use either `displot` (a figure-level function with similar flexibility) or `histplot` (an axes-level function for histograms).\n",
            "  warnings.warn(msg, FutureWarning)\n"
          ]
        },
        {
          "output_type": "execute_result",
          "data": {
            "text/plain": [
              "<matplotlib.axes._subplots.AxesSubplot at 0x7f8d6aee6710>"
            ]
          },
          "metadata": {},
          "execution_count": 34
        },
        {
          "output_type": "display_data",
          "data": {
            "text/plain": [
              "<Figure size 432x288 with 1 Axes>"
            ],
            "image/png": "[encoded data removed]"
          },
          "metadata": {
            "needs_background": "light"
          }
        }
      ]
    },
    {
      "cell_type": "code",
      "source": [
        "# on Saturday\n",
        "\n",
        "weekends_start_time = df.Start_Time[df.Start_Time.dt.dayofweek == 5&6]\n",
        "sns.distplot(weekends_start_time.dt.hour, bins=24, kde=False, norm_hist=True)"
      ],
      "metadata": {
        "colab": {
          "base_uri": "https://localhost:8080/",
          "height": 352
        },
        "id": "YHG0huTFb0Vj",
        "outputId": "143195af-e620-4e70-ec40-1c2143312b86"
      },
      "execution_count": null,
      "outputs": [
        {
          "output_type": "stream",
          "name": "stderr",
          "text": [
            "/usr/local/lib/python3.7/dist-packages/seaborn/distributions.py:2619: FutureWarning: `distplot` is a deprecated function and will be removed in a future version. Please adapt your code to use either `displot` (a figure-level function with similar flexibility) or `histplot` (an axes-level function for histograms).\n",
            "  warnings.warn(msg, FutureWarning)\n"
          ]
        },
        {
          "output_type": "execute_result",
          "data": {
            "text/plain": [
              "<matplotlib.axes._subplots.AxesSubplot at 0x7f8d65c79290>"
            ]
          },
          "metadata": {},
          "execution_count": 40
        },
        {
          "output_type": "display_data",
          "data": {
            "text/plain": [
              "<Figure size 432x288 with 1 Axes>"
            ],
            "image/png": "[encoded data removed]"
          },
          "metadata": {
            "needs_background": "light"
          }
        }
      ]
    },
    {
      "cell_type": "markdown",
      "source": [
        "accident in thorught out a year in months\n",
        "\n"
      ],
      "metadata": {
        "id": "wsb3ZZxY-Mcb"
      }
    },
    {
      "cell_type": "code",
      "source": [
        "sns.distplot(df.Start_Time.dt.month, bins=12, kde=False, norm_hist=True)\n"
      ],
      "metadata": {
        "colab": {
          "base_uri": "https://localhost:8080/",
          "height": 352
        },
        "id": "c-bifo02-L-v",
        "outputId": "2b3cb3e1-6bd0-4500-b6d5-661cb7cffab9"
      },
      "execution_count": null,
      "outputs": [
        {
          "output_type": "stream",
          "name": "stderr",
          "text": [
            "/usr/local/lib/python3.7/dist-packages/seaborn/distributions.py:2619: FutureWarning: `distplot` is a deprecated function and will be removed in a future version. Please adapt your code to use either `displot` (a figure-level function with similar flexibility) or `histplot` (an axes-level function for histograms).\n",
            "  warnings.warn(msg, FutureWarning)\n"
          ]
        },
        {
          "output_type": "execute_result",
          "data": {
            "text/plain": [
              "<matplotlib.axes._subplots.AxesSubplot at 0x7f371a9e4a90>"
            ]
          },
          "metadata": {},
          "execution_count": 12
        },
        {
          "output_type": "display_data",
          "data": {
            "text/plain": [
              "<Figure size 432x288 with 1 Axes>"
            ],
            "image/png": "[encoded data removed]"
          },
          "metadata": {
            "needs_background": "light"
          }
        }
      ]
    },
    {
      "cell_type": "markdown",
      "source": [
        ""
      ],
      "metadata": {
        "id": "vyXSSQC7_ao4"
      }
    },
    {
      "cell_type": "code",
      "source": [
        "# df_2019 = \n",
        "# df[df.Start_Time.dt.year == 2021].count()\n",
        "# df_2019_Bing = df_2019[df_2019.Source == 'MapQuest']\n",
        "# sns.distplot(df_2019.Start_Time.dt.month, bins=12, kde=False, norm_hist=True)\n",
        "\n",
        "df.Timezone.count_values()\n"
      ],
      "metadata": {
        "colab": {
          "base_uri": "https://localhost:8080/"
        },
        "id": "B5spJutF_Y76",
        "outputId": "6c28733c-a984-4f37-89ad-65330105c00a"
      },
      "execution_count": null,
      "outputs": [
        {
          "output_type": "execute_result",
          "data": {
            "text/plain": [
              "Index(['ID', 'Severity', 'Start_Time', 'End_Time', 'Start_Lat', 'Start_Lng',\n",
              "       'End_Lat', 'End_Lng', 'Distance(mi)', 'Description', 'Number', 'Street',\n",
              "       'Side', 'City', 'County', 'State', 'Zipcode', 'Country', 'Timezone',\n",
              "       'Airport_Code', 'Weather_Timestamp', 'Temperature(F)', 'Wind_Chill(F)',\n",
              "       'Humidity(%)', 'Pressure(in)', 'Visibility(mi)', 'Wind_Direction',\n",
              "       'Wind_Speed(mph)', 'Precipitation(in)', 'Weather_Condition', 'Amenity',\n",
              "       'Bump', 'Crossing', 'Give_Way', 'Junction', 'No_Exit', 'Railway',\n",
              "       'Roundabout', 'Station', 'Stop', 'Traffic_Calming', 'Traffic_Signal',\n",
              "       'Turning_Loop', 'Sunrise_Sunset', 'Civil_Twilight', 'Nautical_Twilight',\n",
              "       'Astronomical_Twilight'],\n",
              "      dtype='object')"
            ]
          },
          "metadata": {},
          "execution_count": 33
        }
      ]
    },
    {
      "cell_type": "markdown",
      "source": [
        "## 5. Start Latitude & Longitude\n"
      ],
      "metadata": {
        "id": "krJNoyLJNCy1"
      }
    },
    {
      "cell_type": "code",
      "source": [
        "df.Start_Lat"
      ],
      "metadata": {
        "colab": {
          "base_uri": "https://localhost:8080/"
        },
        "id": "ASVaaMp9NE2l",
        "outputId": "ffa6c045-4c77-49e5-e984-4ee1986eba59"
      },
      "execution_count": null,
      "outputs": [
        {
          "output_type": "execute_result",
          "data": {
            "text/plain": [
              "0          40.108910\n",
              "1          39.865420\n",
              "2          39.102660\n",
              "3          41.062130\n",
              "4          39.172393\n",
              "             ...    \n",
              "2845337    34.002480\n",
              "2845338    32.766960\n",
              "2845339    33.775450\n",
              "2845340    33.992460\n",
              "2845341    34.133930\n",
              "Name: Start_Lat, Length: 2845342, dtype: float64"
            ]
          },
          "metadata": {},
          "execution_count": 44
        }
      ]
    },
    {
      "cell_type": "code",
      "source": [
        "df.Start_Lng\n"
      ],
      "metadata": {
        "colab": {
          "base_uri": "https://localhost:8080/"
        },
        "id": "oiFlewIGPW-V",
        "outputId": "1b787277-d1bb-4125-b704-d767af5e4553"
      },
      "execution_count": null,
      "outputs": [
        {
          "output_type": "execute_result",
          "data": {
            "text/plain": [
              "0          -83.092860\n",
              "1          -84.062800\n",
              "2          -84.524680\n",
              "3          -81.537840\n",
              "4          -84.492792\n",
              "              ...    \n",
              "2845337   -117.379360\n",
              "2845338   -117.148060\n",
              "2845339   -117.847790\n",
              "2845340   -118.403020\n",
              "2845341   -117.230920\n",
              "Name: Start_Lng, Length: 2845342, dtype: float64"
            ]
          },
          "metadata": {},
          "execution_count": 45
        }
      ]
    },
    {
      "cell_type": "code",
      "source": [
        "sample_df = df.sample(int(0.1 * len(df)))\n",
        "\n",
        "sns.scatterplot(x=sample_df.Start_Lng, y=sample_df.Start_Lat, size=0.001)\n"
      ],
      "metadata": {
        "colab": {
          "base_uri": "https://localhost:8080/",
          "height": 299
        },
        "id": "8l9x_Q1WPW8Y",
        "outputId": "2bcf802d-5e24-4535-8987-1c8a62705ca2"
      },
      "execution_count": null,
      "outputs": [
        {
          "output_type": "execute_result",
          "data": {
            "text/plain": [
              "<matplotlib.axes._subplots.AxesSubplot at 0x7f36d9193e50>"
            ]
          },
          "metadata": {},
          "execution_count": 47
        },
        {
          "output_type": "display_data",
          "data": {
            "text/plain": [
              "<Figure size 432x288 with 1 Axes>"
            ],
            "image/png": "[encoded data removed]"
          },
          "metadata": {
            "needs_background": "light"
          }
        }
      ]
    },
    {
      "cell_type": "code",
      "source": [
        "for x in df[['Start_Lat', 'Start_Lng']].sample(100).iteritems():\n",
        "    print(x[1])"
      ],
      "metadata": {
        "colab": {
          "base_uri": "https://localhost:8080/"
        },
        "id": "rS5VsszHPW5i",
        "outputId": "7da0836b-48c0-4bad-a5e5-cf4356c4b904"
      },
      "execution_count": null,
      "outputs": [
        {
          "output_type": "stream",
          "name": "stdout",
          "text": [
            "2266021    40.861880\n",
            "537802     38.842903\n",
            "2094795    38.596377\n",
            "349514     32.856192\n",
            "702343     35.964352\n",
            "             ...    \n",
            "2069621    41.801830\n",
            "1211547    30.205403\n",
            "1792776    36.988472\n",
            "545075     34.075030\n",
            "1384306    37.584156\n",
            "Name: Start_Lat, Length: 100, dtype: float64\n",
            "2266021    -73.912560\n",
            "537802     -77.008656\n",
            "2094795   -121.443656\n",
            "349514     -96.904798\n",
            "702343    -119.152082\n",
            "              ...    \n",
            "2069621    -88.069080\n",
            "1211547    -97.758230\n",
            "1792776   -119.893673\n",
            "545075     -80.946074\n",
            "1384306   -122.328289\n",
            "Name: Start_Lng, Length: 100, dtype: float64\n"
          ]
        }
      ]
    },
    {
      "cell_type": "code",
      "source": [
        "# create a list of list with lat & lng\n",
        "zip(list(df.Start_Lat), list(df.Start_Lng))"
      ],
      "metadata": {
        "colab": {
          "base_uri": "https://localhost:8080/"
        },
        "id": "utnhoeNapaW8",
        "outputId": "8a00003c-37c5-47b3-b66a-b205bd24755b"
      },
      "execution_count": 8,
      "outputs": [
        {
          "output_type": "execute_result",
          "data": {
            "text/plain": [
              "<zip at 0x7f84ffe33a50>"
            ]
          },
          "metadata": {},
          "execution_count": 8
        }
      ]
    },
    {
      "cell_type": "code",
      "source": [
        "# put lat & lng on a actual map\n",
        "import folium\n",
        "from folium.plugins import HeatMap\n",
        "\n",
        "# get 0.1% of all data point\n",
        "sample_df = df.sample(int(0.001 * len(df))) \n",
        "\n",
        "# create a list of list with lat & lng\n",
        "lat_lon_pairs = list(zip(list(sample_df.Start_Lat), list(sample_df.Start_Lng)))\n",
        "\n",
        "# center the map with mean Lat and Lng\n",
        "m = folium.Map(location=[df.Start_Lat.mean(), df.Start_Lng.mean()], zoom_start=5)\n",
        "\n",
        "# Heatmap\n",
        "HeatMap(lat_lon_pairs).add_to(m)\n",
        "\n",
        "m\n"
      ],
      "metadata": {
        "colab": {
          "base_uri": "https://localhost:8080/",
          "height": 883
        },
        "id": "P600j0c9TFN3",
        "outputId": "5f61aae3-e289-4f86-ef30-86825f6b92ec"
      },
      "execution_count": 11,
      "outputs": [
        {
          "output_type": "execute_result",
          "data": {
            "text/plain": [
              "<folium.folium.Map at 0x7f84e83f7310>"
            ],
            "text/html": [
              "<div style=\"width:100%;\"><div style=\"position:relative;width:100%;height:0;padding-bottom:60%;\"><span style=\"color:#565656\">Make this Notebook Trusted to load map: File -> Trust Notebook</span><iframe srcdoc=\"&lt;!DOCTYPE html&gt;\n",
              "&lt;head&gt;    \n",
              "    &lt;meta http-equiv=&quot;content-type&quot; content=&quot;text/html; charset=UTF-8&quot; /&gt;\n",
              "    &lt;script&gt;L_PREFER_CANVAS=false; L_NO_TOUCH=false; L_DISABLE_3D=false;&lt;/script&gt;\n",
              "    &lt;script src=&quot;https://cdn.jsdelivr.net/npm/leaflet@1.4.0/dist/leaflet.js&quot;&gt;&lt;/script&gt;\n",
              "    &lt;script src=&quot;https://code.jquery.com/jquery-1.12.4.min.js&quot;&gt;&lt;/script&gt;\n",
              "    &lt;script src=&quot;https://maxcdn.bootstrapcdn.com/bootstrap/3.2.0/js/bootstrap.min.js&quot;&gt;&lt;/script&gt;\n",
              "    &lt;script src=&quot;https://cdnjs.cloudflare.com/ajax/libs/Leaflet.awesome-markers/2.0.2/leaflet.awesome-markers.js&quot;&gt;&lt;/script&gt;\n",
              "    &lt;link rel=&quot;stylesheet&quot; href=&quot;https://cdn.jsdelivr.net/npm/leaflet@1.4.0/dist/leaflet.css&quot;/&gt;\n",
              "    &lt;link rel=&quot;stylesheet&quot; href=&quot;https://maxcdn.bootstrapcdn.com/bootstrap/3.2.0/css/bootstrap.min.css&quot;/&gt;\n",
              "    &lt;link rel=&quot;stylesheet&quot; href=&quot;https://maxcdn.bootstrapcdn.com/bootstrap/3.2.0/css/bootstrap-theme.min.css&quot;/&gt;\n",
              "    &lt;link rel=&quot;stylesheet&quot; href=&quot;https://maxcdn.bootstrapcdn.com/font-awesome/4.6.3/css/font-awesome.min.css&quot;/&gt;\n",
              "    &lt;link rel=&quot;stylesheet&quot; href=&quot;https://cdnjs.cloudflare.com/ajax/libs/Leaflet.awesome-markers/2.0.2/leaflet.awesome-markers.css&quot;/&gt;\n",
              "    &lt;link rel=&quot;stylesheet&quot; href=&quot;https://rawcdn.githack.com/python-visualization/folium/master/folium/templates/leaflet.awesome.rotate.css&quot;/&gt;\n",
              "    &lt;style&gt;html, body {width: 100%;height: 100%;margin: 0;padding: 0;}&lt;/style&gt;\n",
              "    &lt;style&gt;#map {position:absolute;top:0;bottom:0;right:0;left:0;}&lt;/style&gt;\n",
              "    \n",
              "    &lt;meta name=&quot;viewport&quot; content=&quot;width=device-width,\n",
              "        initial-scale=1.0, maximum-scale=1.0, user-scalable=no&quot; /&gt;\n",
              "    &lt;style&gt;#map_9d325004ec529460e422d238cb296143 {\n",
              "        position: relative;\n",
              "        width: 100.0%;\n",
              "        height: 100.0%;\n",
              "        left: 0.0%;\n",
              "        top: 0.0%;\n",
              "        }\n",
              "    &lt;/style&gt;\n",
              "    &lt;script src=&quot;https://leaflet.github.io/Leaflet.heat/dist/leaflet-heat.js&quot;&gt;&lt;/script&gt;\n",
              "&lt;/head&gt;\n",
              "&lt;body&gt;    \n",
              "    \n",
              "    &lt;div class=&quot;folium-map&quot; id=&quot;map_9d325004ec529460e422d238cb296143&quot; &gt;&lt;/div&gt;\n",
              "&lt;/body&gt;\n",
              "&lt;script&gt;    \n",
              "    \n",
              "    \n",
              "        var bounds = null;\n",
              "    \n",
              "\n",
              "    var map_9d325004ec529460e422d238cb296143 = L.map(\n",
              "        &#x27;map_9d325004ec529460e422d238cb296143&#x27;, {\n",
              "        center: [36.245200541858935, -97.11463289012661],\n",
              "        zoom: 5,\n",
              "        maxBounds: bounds,\n",
              "        layers: [],\n",
              "        worldCopyJump: false,\n",
              "        crs: L.CRS.EPSG3857,\n",
              "        zoomControl: true,\n",
              "        });\n",
              "\n",
              "\n",
              "    \n",
              "    var tile_layer_a933674f7407ea6b22dd712ab22631a1 = L.tileLayer(\n",
              "        &#x27;https://{s}.tile.openstreetmap.org/{z}/{x}/{y}.png&#x27;,\n",
              "        {\n",
              "        &quot;attribution&quot;: null,\n",
              "        &quot;detectRetina&quot;: false,\n",
              "        &quot;maxNativeZoom&quot;: 18,\n",
              "        &quot;maxZoom&quot;: 18,\n",
              "        &quot;minZoom&quot;: 0,\n",
              "        &quot;noWrap&quot;: false,\n",
              "        &quot;opacity&quot;: 1,\n",
              "        &quot;subdomains&quot;: &quot;abc&quot;,\n",
              "        &quot;tms&quot;: false\n",
              "}).addTo(map_9d325004ec529460e422d238cb296143);\n",
              "    \n",
              "            var heat_map_bb5ecdaf29d8addfb918fa3f42deec7d = L.heatLayer(\n",
              "                [[45.0696, -93.26326], [35.05292, -78.799041], [28.99817800000001, -82.146571], [41.09247, -79.69927], [39.805631, -86.275475], [40.548813, -111.982107], [38.431, -77.85463], [32.713317, -117.137361], [33.674321, -117.885204], [34.852377000000004, -89.987672], [34.07074, -81.14567], [41.03961, -73.83644], [42.22098, -83.41918000000003], [41.757303, -71.434164], [39.608446, -86.362667], [33.995257, -86.049093], [34.256112, -117.171448], [35.41931, -84.696038], [26.049542, -80.161974], [34.133981, -117.231111], [38.53848, -121.512879], [28.55420100000001, -81.364453], [38.919056, -76.932953], [41.97259, -72.80778000000002], [44.793253, -93.288806], [33.67287, -112.024766], [36.318597, -82.07786999999998], [35.064558, -80.76592099999998], [29.638722, -95.463514], [42.67846, -84.43802600000002], [25.969255, -80.16564], [35.089890000000004, -80.929443], [36.83369, -76.13325999999998], [39.816506, -75.06789599999998], [37.53518, -77.42683000000002], [35.24336, -89.70115], [38.583831, -77.76558100000003], [32.80319, -80.12075], [26.124615, -80.168816], [30.3105, -81.52372], [44.33197, -95.75539], [39.18492, -94.59638], [38.924622, -76.853864], [34.041628, -118.347024], [40.92978, -73.8785], [34.027158, -118.037596], [39.201734, -120.812055], [38.756978, -77.083784], [36.474517, -119.843911], [38.97594, -94.714111], [33.891298, -84.36484899999998], [38.643059, -121.429745], [33.457898, -112.331131], [44.648055, -123.229655], [41.729613, -78.542007], [41.63398, -81.44116], [29.51727, -82.548211], [34.362461, -118.555028], [30.427286, -91.169297], [34.11936, -80.93521], [44.291499, -121.47302], [26.593019, -81.678836], [34.43893, -119.754098], [37.243675, -77.39401], [34.139358, -118.471277], [30.638991, -88.09227299999998], [41.146749, -73.927999], [38.638572, -121.38461399999998], [40.966452, -78.369605], [25.710804, -80.306206], [32.480561, -93.723229], [32.431108, -93.713462], [35.244816, -80.850008], [33.87608, -118.12872], [42.19683, -87.88625], [41.80862, -71.40475], [40.6944, -73.811892], [42.03843, -87.97879], [39.776061, -104.868817], [35.249763, -80.856438], [34.222631, -117.402969], [33.97523, -117.549015], [29.99497, -90.10455], [32.34816, -111.024642], [32.770653, -117.069867], [40.459569, -76.517073], [37.953792, -122.328714], [45.068632, -93.258508], [30.421024, -87.322822], [39.851778, -104.986306], [39.975315, -86.388006], [40.280073, -76.74919], [27.902009000000003, -82.637406], [30.565499, -86.529124], [40.63997, -74.29014000000002], [39.62475900000001, -121.439803], [34.155120000000004, -118.27029], [33.94093400000001, -118.300279], [43.93233, -123.010219], [39.152859, -76.64651500000002], [33.852, -84.4312], [37.404166, -77.667738], [43.071663, -122.336438], [37.68795, -122.0962], [35.017745, -85.194649], [32.812104999999995, -96.731102], [34.116765, -117.519811], [42.480058, -74.975928], [25.817192, -80.242577], [39.220338, -121.054948], [28.57509000000001, -81.31069000000002], [45.152529, -94.542603], [33.818937, -118.287461], [38.524879, -77.356656], [43.048177, -75.234375], [38.93611, -76.91599000000002], [29.702417, -95.356169], [33.57785, -112.23353], [33.989156, -118.28594], [42.89679, -85.678], [35.195734, -80.711546], [38.84215, -76.93678], [33.93527, -118.09308], [33.880311, -117.609478], [44.705268, -93.435597], [35.945633, -78.541049], [33.91126, -84.4266], [45.37283, -122.715788], [37.983995, -77.492591], [39.527424, -119.709252], [45.24005, -121.69964], [40.71071, -73.9818], [38.61897, -90.1867], [30.44345, -91.182558], [40.84665, -73.92532299999998], [37.34195, -121.84759], [28.342731, -81.403839], [30.311434, -97.707066], [34.15297, -118.3578], [40.52127, -111.89098], [45.783923, -122.672814], [40.066216, -75.314036], [37.331735, -120.529485], [34.676417, -118.131589], [29.37421, -82.203748], [40.552502, -76.009905], [34.06743, -117.41752], [33.997012, -117.932081], [38.464438, -122.427442], [34.785518, -86.662589], [35.846438, -78.573163], [44.893413, -124.017007], [44.709631, -123.934253], [43.14051, -77.54119200000002], [42.913602, -78.766598], [37.5825, -77.469922], [29.901940000000003, -95.41219], [25.714585, -80.413965], [35.044667, -85.187923], [32.441986, -93.786446], [36.963529, -76.412724], [33.960712, -118.282704], [25.885851, -80.210763], [38.739998, -121.273592], [38.949839, -77.008831], [29.937704, -83.649172], [38.74514, -120.631077], [33.427857, -79.138948], [28.82832, -81.32299], [36.607981, -121.860282], [37.891594, -122.144278], [41.331162, -78.69305], [34.905633, -81.941014], [38.91588, -121.041001], [27.439212, -82.45352], [47.92277, -122.22276], [35.023936, -85.24655899999998], [37.95704600000001, -120.424138], [38.421429, -122.846098], [40.760465, -73.857747], [34.282397, -118.747884], [44.862698, -93.492823], [28.610092, -81.386799], [38.872343, -76.990138], [35.020646, -82.293486], [39.951763, -112.027221], [34.13223, -117.681112], [34.15283, -118.33566], [44.963115, -92.958504], [35.388343, -118.983005], [34.479496999999995, -79.415976], [33.876381, -118.102337], [36.623329, -119.68066], [25.731832, -80.415874], [39.68159, -75.48291], [39.628323, -84.226039], [34.068501, -117.861099], [35.112390000000005, -106.70374], [33.731506, -117.812189], [45.675305, -121.275275], [38.88594000000001, -77.03194599999998], [32.852457, -96.701242], [38.387455, -78.915437], [47.56619, -122.18278], [36.06821, -86.7191], [35.216388, -80.921865], [34.0549, -118.21202], [33.98963, -117.36002], [33.915792, -118.189276], [42.972291, -85.645928], [34.015643, -118.157517], [27.585422, -82.618363], [47.118304, -122.557164], [39.01855, -76.97125], [38.87508, -77.26456], [30.205771, -81.38031600000002], [36.1914, -86.181317], [33.76621, -117.93115], [38.477116, -122.732308], [36.07967, -86.959887], [37.67326, -122.46817], [39.34032, -120.346445], [33.823003, -118.08136], [45.112278, -123.793784], [39.12807, -121.58321], [35.015061, -85.180806], [41.05199, -111.96042], [34.067636, -117.981714], [28.523332, -81.330957], [38.117536, -122.22245], [33.87379, -118.22944], [44.86266, -93.14519], [29.85664, -95.56372], [32.461024, -81.060322], [45.00047, -93.08942], [44.76771, -93.84904], [39.988119, -75.089088], [45.583837, -122.67901], [33.700806, -117.731469], [35.412557, -118.844255], [33.52376, -112.0475], [32.801996, -96.738334], [41.82172, -71.42016], [38.618112, -76.918898], [34.318896, -118.443142], [26.30375, -80.16935], [25.732556, -80.36068900000002], [28.548164, -81.430336], [33.969501, -117.549], [32.805514, -117.151064], [38.013053, -122.273595], [27.734125, -82.674003], [34.442143, -119.784885], [38.50995, -121.459602], [33.46213, -112.05922], [34.272528, -118.42893], [36.686815, -119.751931], [40.027408, -76.303688], [28.03701, -82.04553], [42.19177, -71.85766], [37.50456, -121.96379], [34.106604, -117.85613700000002], [28.618129, -81.74333399999998], [41.07131, -73.48294], [26.587487, -81.628232], [30.727489, -85.499872], [32.8171, -96.86826], [26.70157, -81.76018], [33.87897, -117.55805], [34.196426, -119.096072], [28.444296, -81.294152], [45.12255, -93.04962], [39.926913, -74.975223], [37.550325, -77.43621999999998], [37.81886, -122.20508999999998], [34.798784000000005, -92.377879], [37.896959, -122.080078], [41.771018, -72.679909], [38.691856, -121.444447], [34.136484, -117.448064], [40.111973, -75.123211], [33.895958, -117.49733], [40.168992, -74.918673], [35.892723, -78.796842], [45.038999, -93.285223], [42.28009, -87.92489], [43.17135800000001, -77.603838], [37.66777800000001, -122.11948999999998], [28.026829, -82.189314], [26.749531, -81.861587], [27.440499, -82.595837], [38.916824, -104.816209], [39.968916, -123.79693799999998], [38.555561, -121.441157], [48.095886, -114.547379], [33.87717, -118.14815], [34.093891, -118.242452], [42.381955, -88.00418], [38.881235, -77.008126], [41.06207, -81.50519], [41.639881, -91.56093], [40.50437, -111.890974], [44.863303, -93.350003], [33.579823, -86.810998], [46.943741, -95.07936], [28.207343, -81.307357], [28.482248, -81.396664], [42.35444, -121.39837], [34.540797, -110.079358], [38.318098, -81.56304399999998], [39.537429, -119.786427], [39.16386, -84.40338], [44.84797, -93.29827], [28.170612, -82.366982], [34.404641, -118.450888], [28.27624, -81.5984], [40.66796400000001, -111.49238], [44.06991, -70.17627], [29.773556, -95.351304], [33.930894, -118.298352], [30.449884, -91.169293], [32.67024, -96.829123], [38.553104, -121.436602], [43.072727, -86.073048], [36.09827, -79.76539], [33.880977, -117.651318], [47.55233, -122.07057], [38.574467, -121.415244], [39.686624, -75.682785], [37.928312, -122.515251], [40.1219, -86.51621], [25.963884, -80.16560799999998], [35.81163, -78.60274], [27.942378, -82.335954], [35.85104699999999, -78.58078], [37.683584, -97.312976], [33.814442, -117.832165], [39.30925, -75.59666999999997], [27.937815000000004, -82.27154300000002], [29.78476, -95.66375], [34.067478, -117.592127], [36.229263, -86.59465300000002], [27.819596, -82.704053], [33.854603000000004, -117.806622], [42.34077, -88.0534], [27.347433, -80.37418199999998], [44.145609, -121.331295], [34.024733000000005, -117.735811], [30.544175, -87.087383], [38.78735, -76.89731], [38.678421, -121.225561], [41.35818, -74.19119], [33.383746, -117.579012], [38.941136, -94.847642], [34.136297, -117.459343], [37.513767, -77.242798], [34.032393, -118.262919], [34.07887, -118.21998], [39.188516, -94.604447], [38.551692, -76.034464], [42.30874, -121.42979], [34.488137, -81.857292], [39.832621, -83.00018], [37.444142, -122.267693], [27.821091, -82.68211600000002], [30.257601, -97.76011], [33.979704, -118.12861399999998], [45.23865, -123.06152], [33.321264, -80.252087], [33.857251, -117.976272], [32.680546, -117.086484], [39.330053, -120.58593700000002], [26.657305, -80.069802], [34.242267, -118.840117], [45.24, -121.69961], [41.28032, -73.68117], [24.595842, -81.659419], [35.304, -80.84886], [40.779394, -76.182686], [28.54033, -81.41062], [44.641517, -123.146369], [34.114187, -117.899171], [41.20772, -73.09662], [33.892193, -118.043833], [34.086773, -117.941901], [33.369305, -117.251017], [40.084143, -75.391756], [41.480282, -122.457804], [30.262945, -92.007691], [40.785012, -73.53430999999998], [27.639353000000003, -82.66935600000002], [30.445466, -87.24435600000002], [38.918458, -76.930474], [47.21196, -122.46247], [37.508475, -77.124698], [40.275396, -75.24494200000002], [33.987327, -117.905914], [36.11056, -86.740249], [39.153116, -74.747704], [47.60415, -122.32806], [33.007017, -96.972659], [30.811485, -86.583748], [37.769464, -122.413199], [25.94244, -80.30685], [25.477318, -80.46384499999998], [28.640225, -81.440126], [30.72035, -85.17995], [34.035522, -118.268828], [40.731318, -74.050015], [36.955958, -121.727271], [45.708881, -121.514379], [39.647008, -75.748018], [33.86315, -118.04432], [37.91249000000001, -122.06706], [37.593587, -77.547216], [34.762157, -82.202359], [37.652138, -122.098724], [42.23975, -87.99993], [35.24525999999999, -80.95846], [40.002859, -75.223008], [41.6845, -87.66234], [25.840245, -80.317802], [39.105851, -94.621665], [32.645037, -96.788882], [40.84738, -73.92541999999997], [41.051309, -75.316503], [42.27664, -88.04030999999998], [35.030215000000005, -118.959027], [37.352139, -121.838061], [48.228932, -114.276083], [35.086029, -82.032176], [29.392729, -98.511453], [39.420625, -76.648297], [40.581079, -74.153374], [42.24286, -85.5658], [29.690473, -95.54903], [40.773516, -73.674974], [30.35021, -81.66854000000002], [34.031886, -118.260938], [29.014265, -82.454583], [33.93828, -118.09807], [34.03805, -118.04262], [45.064941, -93.16212], [40.691589, -74.161373], [37.833222, -122.294673], [43.648113, -118.611134], [39.87475900000001, -75.096627], [40.639494, -111.903402], [32.864297, -96.858274], [33.436875, -112.03779], [34.03474, -118.34277], [27.461521, -82.58755500000002], [41.048647, -122.701332], [34.1006, -118.478], [40.06453, -74.65311], [43.212177, -85.57494], [32.763311, -96.666071], [35.518187, -120.576528], [43.207028, -75.45770999999998], [33.989317, -118.247728], [46.936681, -122.358881], [37.70129, -121.866606], [41.41864, -81.73444], [36.96673, -76.294566], [28.209484000000003, -82.666251], [42.248389, -85.550436], [37.115729, -76.467605], [28.502383, -81.742687], [29.297346, -82.529117], [35.345278, -118.878611], [36.06075, -80.19381], [33.93916, -117.19936], [33.674095, -117.171034], [39.026221, -104.39615], [25.572467, -80.375484], [34.868639, -82.28568800000002], [25.970307, -80.165737], [42.211187, -83.40079899999998], [34.066724, -117.216063], [29.659192, -82.418735], [38.097378000000006, -85.828574], [33.83242, -118.20899], [45.178286, -93.118082], [42.539093, -88.9752], [33.88909, -118.10523], [29.982009, -95.422611], [38.683777, -121.438433], [30.138258, -97.66015], [40.194629, -75.127507], [28.449406, -81.40097800000002], [41.21706, -73.25771999999998], [30.262559000000003, -97.722154], [44.9712, -93.46055], [40.020582, -75.141663], [32.980115999999995, -117.082464], [34.836514, -82.291308], [42.38346, -83.066], [33.864534, -118.047114], [39.800083, -79.35415], [40.025714, -79.051542], [38.925923, -75.54191], [40.610758, -74.096249], [25.811598, -80.138919], [30.375641, -84.270211], [42.15364, -87.99958000000002], [43.59026, -116.374208], [42.97402, -77.12133], [41.96339, -87.97882], [35.317411, -120.848863], [37.332111, -122.057236], [45.492466, -122.792176], [25.903321, -80.210128], [44.86522100000001, -93.426096], [28.191703000000004, -81.150377], [39.10644600000001, -94.820455], [40.74977, -111.6051], [44.60122, -92.93412], [28.40519500000001, -81.456036], [41.873848, -87.80814699999998], [42.20649, -121.73676], [37.732124, -122.43164], [32.400323, -80.55828100000002], [48.238146, -114.324363], [38.23983, -104.61179], [33.813958, -118.300539], [41.87162, -87.75895], [34.15201500000001, -118.140197], [28.192899, -82.469029], [37.85627, -78.26754], [33.49859, -112.0438], [29.61983, -95.38725], [40.708766, -73.999278], [36.766512, -76.270614], [37.290642, -120.460646], [33.715813, -85.033156], [28.01401, -82.73654499999998], [25.626061, -80.419123], [39.042288, -94.362441], [45.30498, -93.555315], [44.568046, -123.257838], [25.595791, -80.36437099999998], [43.303307, -73.639045], [45.628892, -106.505179], [28.552293, -81.369623], [27.447754, -82.57080699999999], [33.762046000000005, -84.48737], [40.74152, -73.95071999999998], [34.012219, -118.418573], [36.048544, -86.654216], [39.117926, -77.070947], [34.135428999999995, -117.977487], [39.419323, -74.495999], [35.839238, -78.675899], [47.13297, -122.29304], [38.022723, -78.816935], [29.91252, -81.41063299999998], [33.773807, -117.485293], [33.45009, -112.4268], [42.403106, -122.940945], [33.087720000000004, -97.36259], [25.718294, -80.30433599999998], [27.954443, -82.50639], [38.885806, -76.918976], [34.19871, -117.417414], [40.9574, -77.77844], [40.70581, -73.45575], [33.974655, -118.280989], [42.44621, -82.91727], [37.077447, -76.447061], [40.75969, -74.08117], [34.145109999999995, -118.36818999999998], [37.678984, -97.3119], [35.59167100000001, -120.646387], [32.801796, -96.816362], [40.40208300000001, -74.19064200000003], [46.887772, -122.68991499999998], [43.219934, -77.914099], [38.951097, -122.731348], [47.57567, -122.31952], [46.444777, -116.847056], [38.301659, -122.303118], [41.306546, -112.005313], [33.598398, -117.677327], [34.21221, -118.228669], [42.15371, -88.040318], [35.26664, -80.84484], [36.069713, -80.31687099999998], [33.449431, -86.818009], [25.963083, -80.15353499999998], [43.752958, -118.478575], [37.764849, -121.354996], [38.573255, -121.583142], [45.166436, -122.946828], [35.412322, -119.048586], [35.068662, -81.657652], [39.955643, -75.613664], [33.670595, -117.889147], [43.63326, -93.39383], [39.019135, -76.959067], [42.29526, -83.20432], [45.560034, -121.101898], [28.419187, -81.404635], [35.149255, -80.829888], [40.141138, -86.52611800000004], [35.841482, -78.67874599999998], [40.022038, -76.190648], [39.3794, -76.46005500000003], [45.49731, -122.67353], [34.051607000000004, -117.988917], [32.769126, -96.826652], [34.120811, -117.88642], [26.38611, -80.08498], [39.261757, -76.708141], [33.932096, -117.556282], [34.03326, -118.13007], [47.60775, -122.18757], [38.637076, -121.383059], [37.08439600000001, -120.865204], [41.016982, -74.29744000000002], [36.148366, -86.780384], [45.212465, -93.624173], [29.500926, -98.481796], [38.613991, -121.530137], [40.20929, -74.08484], [34.037239, -118.309471], [41.71342, -87.55975], [41.717227, -88.005765], [33.713716, -84.27225200000002], [34.021914, -118.141818], [39.047064, -94.439163], [25.937157, -80.341499], [33.641628000000004, -111.541432], [38.862525, -77.06900999999998], [32.822318, -96.862462], [34.14556, -117.300804], [26.088868, -80.201515], [33.659937, -84.497757], [38.93366, -94.53121], [27.992037, -82.37015600000002], [45.372322, -122.590845], [25.65637000000001, -80.41119300000003], [29.74363, -98.06073], [32.9252, -96.78807], [43.10905, -89.07866999999996], [33.824535, -118.301836], [41.198567, -73.119501], [27.864558, -82.32668100000002], [33.68865, -117.357599], [35.352686, -118.956847], [40.186441, -75.18341], [35.022244, -85.253281], [35.296398, -120.630356], [34.186118, -82.17355500000002], [30.636488, -84.951387], [28.597574, -81.296796], [35.210548, -85.14450699999998], [39.105005, -94.76042], [33.875417, -118.19304], [37.540429, -121.924564], [28.55253, -81.38238], [27.937661, -82.28897099999998], [40.844065, -73.925967], [29.731564, -95.475618], [45.49479, -122.49666], [47.225, -122.4635], [41.91741, -87.70696], [34.274153000000005, -118.373216], [44.502936, -122.86297], [25.925931, -80.166015], [40.229047, -111.680284], [40.971335, -73.725184], [43.60208, -70.37567], [38.25187, -122.577984], [41.94678, -88.20805], [32.28277, -110.97811000000002], [29.98032000000001, -90.046892], [39.534945, -112.2829], [38.928764, -94.756419], [36.72565, -121.728933], [41.56951, -87.36229], [43.03012800000001, -77.889843], [36.326733, -119.270985], [33.638749, -117.730141], [40.634534, -74.295159], [33.609284, -117.68599], [41.14814000000001, -80.15589], [37.62221, -77.52659], [37.668653000000006, -77.588249], [39.02792, -94.50051], [34.030719, -117.592655], [39.53487, -119.75221], [32.74355, -96.822833], [29.122265, -82.446324], [27.4492, -82.530501], [33.740032, -84.230643], [34.054515, -118.210178], [25.654473, -80.41564], [35.75494699999999, -78.585403], [26.323724, -80.11636999999997], [29.970458, -90.037605], [25.823117, -80.206385], [33.981957, -118.39443], [33.50946, -112.133742], [35.120285, -81.082604], [42.808024, -121.835043], [36.180609, -86.796257], [46.67188, -119.90068], [34.978096, -81.603532], [33.656890000000004, -112.3735], [36.599106, -119.412955], [45.50777, -122.68412], [44.87756, -122.99943], [43.01491, -91.220849], [32.925266, -96.797734], [38.801683, -90.65198], [42.596172, -73.51051899999999], [34.32367, -118.45559], [27.124825, -82.453476], [29.7792, -95.4455], [37.869523, -122.304749], [34.029869, -118.392458], [33.59319, -84.500025], [38.957651, -77.009086], [37.48221, -76.930603], [33.062259999999995, -112.04792], [34.261253, -118.331147], [33.98915, -118.280795], [37.327405, -77.319158], [41.386348, -73.58895600000002], [37.60944, -120.997017], [33.878704, -117.657711], [38.314932, -77.956024], [40.843702, -73.895577], [44.52571, -119.893616], [46.29202, -96.122077], [33.050776, -96.697297], [44.022437, -92.73562], [25.812555, -80.20620799999998], [29.941544, -90.093869], [34.107426000000004, -118.47961399999998], [45.50986, -122.56534], [33.018501, -80.216911], [33.32803, -117.16262], [44.06219, -123.04913], [34.141159, -117.248622], [33.60449000000001, -117.69057], [38.749066, -77.18570799999998], [32.75993, -97.17262], [35.382381, -119.044343], [34.052534, -118.26371], [32.91722, -96.76663], [45.151844, -122.555571], [39.882206, -75.103126], [25.938061, -80.27735600000003], [29.723201, -95.499142], [40.04977, -75.56492], [29.722018, -95.387467], [40.124513, -75.335334], [25.68692, -80.416652], [42.7498, -73.77211], [26.702071000000004, -80.072653], [38.75265, -77.746394], [33.450313, -81.850076], [44.057282, -123.795382], [32.790716, -117.166614], [37.48231, -121.935882], [32.1633, -110.9863], [43.11332, -123.440083], [35.106672, -92.432388], [34.771532, -82.57511600000002], [25.532328, -80.371967], [44.052654, -123.291867], [39.93085, -74.960027], [33.70985, -84.24579], [38.681033, -121.329489], [28.452261, -81.030403], [38.688244, -121.429256], [33.397868, -117.59436200000002], [45.83372, -123.50772], [40.42979, -79.9569], [34.076441, -80.944486], [32.779197, -117.070123], [38.878524, -77.26781899999997], [34.00268, -117.35116], [34.821883, -92.19586], [28.41475, -81.470447], [35.079377, -90.057109], [38.542367, -81.63900699999998], [36.435075, -121.339761], [40.3773, -79.80131999999998], [38.98392, -76.544914], [45.124057, -93.336943], [26.346505, -80.117944], [40.546641, -77.439538], [39.853112, -75.37071999999998], [31.77787600000001, -106.449852], [34.171257000000004, -118.527141], [37.967055, -121.349314], [38.003385, -120.49818], [38.027284, -121.95734], [32.831509999999994, -96.78069], [44.8619, -93.30224], [25.685973, -80.394262], [37.799528, -122.27772], [28.078955, -82.739032], [32.78798, -117.114116], [45.06892, -93.29695], [34.078001, -117.813898], [35.240922, -80.813422], [40.143095, -75.060592], [33.111237, -117.096437], [40.902024, -74.135667], [34.127088, -118.474797], [34.137756, -118.013927], [45.632897, -121.098255], [25.913472, -80.244314], [34.790278, -82.416268], [33.92517, -117.88029], [25.957175, -80.262635], [32.922238, -117.115255], [37.798903, -122.22938], [35.017427000000005, -85.28391500000002], [41.47982800000001, -112.021152], [38.15519000000001, -121.676441], [34.2525, -119.210833], [37.67266, -97.418006], [36.900142, -76.23531], [40.83649000000001, -73.87673000000002], [34.036777, -118.288225], [34.75383, -86.741], [45.196993, -93.55726], [38.800846, -77.083286], [40.742837, -73.830086], [33.39255, -112.0126], [38.851866, -77.330547], [25.87189200000001, -80.210767], [40.66001, -111.95277], [33.811117, -118.010731], [36.963797, -121.551788], [35.0114, -81.21654000000002], [38.810647, -121.309055], [40.704405, -73.488714], [28.001471, -82.304326], [37.912074, -122.06533600000002], [39.41313, -76.60363000000002], [36.484199, -119.288319], [28.691546, -81.387359], [36.001757, -79.746633], [32.8125, -96.861587], [38.683822, -121.456895], [40.724611, -73.724653], [46.905141, -109.080833], [45.584346, -122.46903], [33.981302, -118.438426], [25.842076, -80.23350500000002], [41.70476, -72.64453], [34.064797, -118.245546], [28.196657, -81.709731], [41.332239, -73.818013], [25.862898, -80.20836800000002], [41.667891, -72.665301], [28.449102000000003, -81.473685], [28.380437, -81.507473], [33.742033, -117.836873], [33.505768, -117.190815], [29.212957, -81.100827], [38.750503, -104.743383], [27.443438, -82.595956], [34.409533, -83.190053], [36.207026, -119.10693899999998], [38.660746, -121.34131200000002], [35.09137, -82.03907099999998], [39.91399000000001, -104.96026], [45.773437, -123.381931], [32.06357, -110.77712], [44.80012, -93.28996], [25.74307, -80.431166], [27.475482, -82.546591], [40.436561, -79.973876], [28.148914, -82.407878], [34.365320000000004, -118.55666], [29.39257000000001, -98.4765], [41.86414, -87.91763], [40.567023, -122.359851], [34.546519, -92.628489], [38.373018, -121.358499], [42.37937, -83.21279], [35.78935999999999, -78.74707], [48.386203, -92.996038], [39.703162, -105.246609], [36.880205, -76.206626], [38.900753, -76.77603], [40.69021, -73.56028], [37.836427, -122.011894], [44.552897, -117.423795], [44.668508, -123.850775], [29.97758, -90.0611], [39.441207, -77.493706], [38.93004000000001, -77.10678], [25.692212, -80.405691], [30.398904, -91.155161], [43.615623, -93.346224], [46.11583, -122.931618], [40.4275, -79.950909], [37.854243, -122.02491299999998], [45.78969, -118.2663], [33.82817, -84.48709000000002], [45.289152, -93.557456], [37.461934, -77.638515], [34.036589, -118.317611], [38.595329, -121.345856], [38.988655, -77.03629000000002], [34.167559999999995, -118.61456], [30.191427, -81.715525], [27.836314, -82.663892], [34.511835, -118.235905], [38.540304, -77.34916199999998], [42.84506500000001, -78.792521], [36.159546, -86.780637], [42.4445, -83.43174], [26.202575, -80.13255500000002], [37.31473, -121.88727], [34.09552, -118.24371], [40.77610900000001, -73.828452], [38.025172, -121.071553], [30.335641, -97.758696], [39.93151, -82.90964], [46.34023300000001, -94.496191], [34.068589, -118.151171], [36.560636, -118.051061], [40.311295, -78.325074], [25.890143, -80.189184], [25.760401, -80.48131], [38.958157, -77.192121], [41.901851, -72.63660899999998], [34.12052, -118.23041], [29.992352, -90.042973], [36.146727, -86.625973], [40.699451, -74.18592], [35.207438, -86.081406], [44.95683, -122.99002], [33.103877000000004, -80.12666999999998], [41.426138, -72.69195], [34.018935, -118.23367], [34.427107, -119.728435], [33.48618, -86.82567], [33.871245, -118.275512], [34.422129, -119.637368], [25.942425, -80.310903], [38.45362, -81.91017], [35.873282, -78.583652], [36.089092, -86.68815699999998], [38.62207, -121.11412], [33.703233000000004, -84.175111], [28.552389, -81.44928900000002], [44.9929, -93.28398], [32.637749, -117.099159], [28.54454, -81.41651999999998], [39.09612, -94.56048], [37.680139, -122.09398600000002], [39.00797, -76.608783], [41.22258, -96.04978], [28.496411, -81.718151], [33.935913, -117.29048799999998], [37.29945900000001, -77.413326], [39.475397, -123.79774], [45.849678, -119.258554], [37.457123, -121.923147], [25.745975, -80.384654], [38.890982, -77.217119], [37.2142, -93.31197], [32.820142, -96.691607], [38.802202, -77.090363], [34.041414, -117.39631599999998], [36.13213, -95.8702], [37.405532, -121.909805], [40.598655, -74.23173299999998], [33.29603, -111.964985], [27.821040000000004, -82.666776], [28.14648, -82.69561800000002], [33.39685, -117.59383], [45.635242, -120.915075], [25.767445, -80.376938], [33.876989, -118.14768], [40.739427, -74.216437], [25.862425, -80.322603], [32.894381, -80.018556], [34.142466, -80.91272], [47.77769, -122.318281], [28.487584, -81.42847900000002], [30.428808, -84.21633100000003], [39.192041, -76.711617], [36.60206, -119.65738600000002], [35.40860100000001, -119.020929], [32.408221999999995, -93.690795], [25.75604, -80.32021800000003], [39.902697, -74.21220600000002], [37.650691, -122.453011], [25.926599, -80.276822], [40.08162, -83.12223], [38.608733, -121.429246], [29.729355, -95.501107], [32.685862, -96.790786], [32.999695, -79.93354599999998], [30.374034, -81.78782199999998], [34.041057, -118.015026], [25.890169, -80.188806], [42.42835, -87.937901], [34.372359, -118.915955], [28.449879, -81.492915], [45.276358, -122.77233], [39.680751, -75.473447], [35.35337, -80.728451], [34.071803, -118.122867], [39.927963, -75.146363], [40.26267100000001, -76.814314], [34.06654, -117.23452], [39.291237, -123.269124], [28.568395, -81.28406899999997], [41.518567, -73.969992], [28.287816, -82.683679], [26.543665, -80.071696], [36.314581, -86.69886899999999], [37.50788, -77.26164], [34.028661, -118.21613899999998], [37.66721, -122.46588], [25.931224, -80.204313], [29.830587, -95.393752], [37.50505, -77.50455], [37.06641, -121.21912], [40.355668, -76.423751], [45.152005, -122.87948], [27.791833, -82.337406], [47.57839, -122.1326], [35.225202, -120.626325], [45.496952, -122.6733], [39.110629, -104.865319], [39.06442, -76.91229], [36.03802, -86.64671], [43.597387, -116.29598], [40.723623, -111.984694], [41.61027, -87.432665], [47.264276, -122.3357], [41.4303, -72.56016], [38.550917, -121.422347], [27.352358, -82.506989], [45.27926, -117.207492], [33.8764, -117.660162], [33.60258, -112.289844], [33.79483, -118.10495], [38.01913, -121.93727], [32.922238, -117.115255], [33.461726, -112.412592], [42.571494, -71.42246800000002], [26.566506, -81.9049], [30.465228000000003, -91.142286], [45.03211, -92.96586], [34.43157, -118.397029], [37.491713, -121.91907], [44.19623, -94.72633], [31.507941, -86.92098399999998], [38.950718, -77.071732], [47.719749, -122.324234], [25.94282, -80.18824000000002], [34.429612, -92.36084], [33.969844, -79.749098], [42.40631, -82.95625], [40.353687, -78.937372], [34.681017, -80.63895], [38.485161, -121.512426], [32.225238, -90.023899], [45.535076, -122.66677], [36.606563, -78.14911], [37.369054, -79.814316], [29.916012, -90.121414], [33.978759000000004, -117.266134], [34.199020000000004, -117.41729], [38.647425, -121.434816], [34.147040000000004, -118.27903], [32.783302, -96.626584], [30.156589, -81.549509], [39.294077, -102.756962], [45.904855, -123.876667], [28.451617, -81.17934100000002], [34.203475, -118.192905], [33.934337, -118.36849], [25.809265, -80.317236], [33.491864, -80.866088], [40.853732, -73.96695799999998], [25.865788, -80.242363], [37.48764, -122.20732], [32.755748, -117.201944], [40.84584, -73.9302], [25.898031, -80.24231], [26.92632, -80.148149], [33.74334, -117.10621], [30.09272, -95.4189], [43.20705, -77.67769], [33.772914, -80.432971], [44.03347, -75.841801], [44.46042, -117.332499], [38.980526, -77.319354], [38.509364, -121.521776], [29.230449, -82.16883299999998], [44.95143, -93.02203], [30.478466, -84.357715], [43.51374000000001, -76.22322], [39.08418, -94.56776], [40.809293, -111.949296], [31.70921, -106.29315], [28.067598, -82.749718], [28.574033, -81.476004], [29.929733, -90.03159699999998], [33.97289, -117.851259], [36.753293, -119.713146], [25.584812, -80.363569], [34.240083, -117.429931], [25.788227, -80.20334799999998], [34.087166, -117.674068], [27.88025, -80.50112], [41.8833, -87.66685], [34.049437, -118.264132], [32.688851, -96.634486], [32.976820000000004, -86.68589], [45.54079, -122.29839], [34.35145, -79.323184], [41.589313, -86.905449], [25.899671, -80.181294], [34.110858, -117.302934], [37.392654, -121.94815], [32.831509999999994, -96.78069], [39.72573, -105.058798], [42.979068, -117.075581], [38.244679, -85.69729], [35.037490000000005, -85.19051800000003], [39.2522, -94.65828], [34.015725, -118.171537], [34.053178, -118.229234], [40.71351, -73.82404], [32.583759, -117.085371], [37.626151, -120.986977], [43.042932, -83.67451], [33.987573, -118.364719], [41.664512, -78.784725], [30.618005, -84.82763800000002], [33.540275, -81.943163], [34.845188, -92.349325], [34.154496, -118.398382], [43.24981500000001, -73.671194], [34.153022, -118.367458], [44.966025, -93.264631], [32.831509999999994, -96.78069], [27.59654, -82.50698], [34.467426, -117.34835], [25.943229, -80.245517], [27.406938, -82.505374], [30.507036, -84.293571], [44.922531, -93.274947], [42.51998, -71.62844], [37.973562, -120.34278700000002], [34.028620000000004, -118.446865], [28.57133300000001, -81.452166], [32.755432, -96.66021], [25.73417, -80.302918], [37.26626, -79.75813000000002], [38.599119, -121.473936], [43.633108, -93.393819], [37.542197, -121.270688], [39.048167, -77.151092], [39.389601, -76.533776], [38.883492, -77.403409], [39.77543, -104.86141], [41.94016, -88.14355], [37.618592, -79.432574], [44.88775, -93.37276], [32.817363, -96.80348], [32.79503, -96.71833], [26.390715000000004, -81.772323], [33.656609, -117.084551], [33.9164, -118.36712], [45.602764, -94.457518], [29.49, -98.56195], [30.417886, -91.142289], [26.35566, -80.11868], [45.760126, -93.62889], [39.951861, -85.764715], [30.235674, -92.35724], [39.033039, -76.944133], [41.37685, -81.10828000000002], [34.635724, -118.74023400000002], [34.07244, -118.06925], [44.711047, -111.102589], [45.50539000000001, -122.67333], [34.06402, -118.007022], [40.58091, -75.61920699999997], [41.284689, -72.842575], [33.960643, -118.28051], [38.416947, -77.825742], [31.904232, -106.421839], [42.68651, -73.80488000000003], [35.6306, -118.800235], [41.773828, -107.109113], [28.206816, -82.175451], [36.903315, -76.240385], [27.91545300000001, -82.787706], [25.860955, -80.248447], [39.348529, -123.530712], [41.217861, -77.223575], [38.93129, -94.66332], [27.93786, -82.21958000000002], [35.55092, -117.71363], [40.686653, -76.829828], [38.018752, -121.937094], [34.255509, -79.971756], [40.49182, -74.30083], [30.504531, -87.183104], [39.907869, -76.70344200000002], [34.984599, -120.432718], [34.120962, -117.832797], [45.01972, -123.08414], [36.113236, -86.802084], [25.92184, -80.21123], [30.182666, -97.754064], [40.006016, -122.092334], [34.288555, -118.464921], [41.656269, -73.930511], [43.175441, -77.591233], [27.269306, -82.448785], [45.04389000000001, -93.40074], [37.538117, -122.281823], [33.960014, -118.280502], [30.382662, -81.556219], [48.0623, -94.48697], [40.17517, -110.59325], [32.73679, -97.29896], [25.889454, -80.204769], [47.15839, -122.32812], [38.465397, -121.371946], [45.781622, -111.168593], [40.880979, -73.901392], [47.723197, -122.324455], [33.524297999999995, -117.55523], [38.883501, -77.22688000000002], [27.8516, -82.64695], [28.967271000000004, -81.970675], [37.41516, -121.913035], [25.809819, -80.359588], [35.13071, -80.92307], [38.139971, -121.623748], [33.949721999999994, -118.091853], [30.320206, -81.526147], [37.882594, -121.298256], [30.402775, -91.018449], [25.92685, -80.23311], [32.85842, -96.65275], [42.37685, -83.03948000000003], [41.42196, -81.84302], [44.970334, -93.34878], [48.791712, -114.934781], [33.91639, -118.364175], [30.2814, -81.52149], [40.801094, -73.930112], [44.9668, -93.22419], [33.67505, -117.83893], [31.635915, -83.476964], [33.979872, -117.921679], [42.34357, -83.09484], [46.10738900000001, -112.796619], [28.94309, -82.44680799999998], [42.16322, -87.96511], [42.32871, -83.15735], [37.553794, -120.9067], [42.346941, -121.828433], [29.02986, -82.15896], [42.23811, -85.63157], [42.37139000000001, -71.06708], [34.889352, -82.399666], [33.685520000000004, -117.8637], [37.82538, -122.306166], [35.685816, -78.575159], [38.606805, -121.386964], [26.12226, -80.15028199999998], [47.63634, -122.13993], [37.548667, -77.39268], [40.0506, -74.1959], [29.73575, -95.500841], [40.756744, -103.065024], [42.732857, -73.789147], [29.71491, -95.26631], [25.602192, -80.34832800000002], [37.525058, -122.3573], [39.729727, -104.825159], [34.703207, -117.454395], [34.026270000000004, -118.23513], [33.01882, -117.0788], [37.869523, -122.304749], [34.053272, -117.547928], [32.724121000000004, -117.164699], [38.499524, -112.616084], [32.879998, -96.770278], [34.709255, -82.885536], [35.312632, -80.81326], [32.783203, -117.162266], [41.81917, -87.91039], [33.874425, -118.193473], [37.288468, -120.456752], [39.78797, -86.16663], [38.116245, -121.173468], [32.69655, -96.9365], [39.014135, -76.612998], [26.36321, -80.11973], [41.48568, -112.05295], [47.366684, -122.618054], [39.440688, -77.976936], [36.574673, -87.046607], [25.86554, -80.20855], [39.364717, -122.193052], [35.271674, -80.884254], [42.11021, -88.02372199999998], [46.031438, -94.428831], [47.504179, -114.09691200000002], [35.11517, -80.962376], [38.626832, -121.513927], [42.0903, -83.24166], [43.05042, -88.32557], [28.5656, -81.195948], [45.144056, -122.83763], [39.963771, -76.767318], [34.037448, -117.320755], [35.77427, -78.55044000000002], [39.21647, -108.8717], [41.319879, -73.979824], [40.524324, -124.14946100000002], [38.580654, -77.774728], [35.89821, -78.86738000000003], [38.836825, -104.682801], [36.593774, -78.158401], [28.530867, -81.397113], [26.533881, -80.073605], [30.190752000000003, -81.677883], [38.346358, -81.634796], [41.64302, -86.30149], [25.685183, -80.418839], [41.37557, -88.84079], [30.489385, -83.999624], [35.121256, -81.571894], [39.886636, -76.98478100000001], [45.020501, -93.189106], [30.47205, -85.964916], [28.474753000000003, -81.40911899999998], [32.816831, -96.811247], [28.52399, -81.311709], [29.645484000000003, -95.536072], [44.815581, -89.669247], [39.660175, -77.374672], [39.517573, -76.34362800000002], [33.057628, -117.289877], [40.037836, -76.363672], [40.686825, -111.79603], [34.02506, -118.20447], [38.547286, -121.363289], [43.63800000000001, -95.7291], [38.79302, -77.334137], [32.891843, -96.878995], [30.202263, -85.622875], [38.94563, -121.09657], [36.13152, -115.08526], [38.905569, -77.216666], [44.999045, -123.359116], [34.598962, -82.657002], [28.506349, -81.396989], [37.803901, -80.82295], [29.7329, -95.45993], [26.52556, -81.871071], [30.433190000000003, -83.46021], [45.214605, -93.034325], [35.791016, -78.715262], [45.43021, -122.63466], [36.04414000000001, -86.65718000000004], [32.648974, -96.823152], [34.227308, -117.404045], [33.88746, -118.10453], [40.89399, -73.81679], [34.018184999999995, -117.339819], [25.769981, -80.315351], [40.116515, -75.349041], [33.7111, -84.21372], [30.26118, -82.10818], [28.552621, -81.446831], [30.403532, -97.638393], [25.925863, -80.167362], [38.0182, -122.54042], [43.180782, -124.259953], [34.09208, -118.20634], [33.933554, -81.213785], [42.99933, -78.80421], [38.427647, -122.341146], [25.687068, -80.43012900000002], [40.307829, -75.29979], [44.98062, -93.24416], [35.214633, -80.831405], [37.45227, -122.12716], [25.920192, -80.244365], [35.430086, -119.071453], [34.865376, -82.242189], [44.709631, -123.934253], [45.4097, -122.5079], [29.736998, -95.559818], [43.011635, -77.43890400000002], [45.61154000000001, -118.64526], [45.431674, -122.758494], [39.75343400000001, -86.150713], [33.818696, -117.240225], [38.204938, -86.865965], [36.532702, -119.82016000000002], [25.88249, -80.25126999999998], [36.144156, -86.73865699999998], [33.995464, -118.145272], [34.047046, -118.168219], [38.942315, -77.158107], [44.17077800000001, -93.892797], [45.107717, -93.465989], [37.46634, -113.224801], [40.867477, -72.646118], [32.476412, -93.779949], [39.743031, -122.018591], [29.80597, -95.56354], [40.64443, -74.64341999999998], [34.061128000000004, -118.247667], [34.018645, -117.515496], [33.56592, -79.033517], [33.017229, -80.388346], [40.480939, -74.402879], [34.063678, -117.284985], [33.696289, -117.083475], [42.2209, -71.11878], [29.915531, -90.046824], [41.87317, -87.73521], [28.423823, -81.579176], [44.94849, -92.96001], [36.08505, -79.76827], [25.884496, -80.16516800000002], [39.1736, -84.4908], [30.444777, -97.667529], [34.274983, -118.493414], [41.82811, -87.6304], [35.907429, -90.588101], [38.76840900000001, -94.947017], [33.902054, -118.289329], [42.337493, -88.039477], [42.209504, -122.697617], [34.381173, -118.413408], [33.803174, -118.067988], [32.94933, -96.56668], [40.313811, -123.91626399999998], [36.78688, -76.40383100000003], [34.066489000000004, -117.21336], [37.623307, -120.943974], [36.208375, -121.737859], [33.609124, -117.699497], [37.471786, -77.52694], [40.753658, -73.83753399999998], [34.236177000000005, -117.424782], [38.592921, -121.551715], [33.145856, -117.190283], [31.13518, -103.2679], [34.8804, -117.086223], [35.41225, -119.052883], [45.76661, -95.03565], [46.01597, -122.87541], [36.257811, -90.997534], [25.764375, -80.265059], [27.25539, -81.302592], [41.980248, -87.880335], [35.77202600000001, -78.719685], [39.09479, -94.59018], [42.735233, -73.69868699999998], [29.95428, -90.130209], [25.946578, -80.294275], [44.862245, -93.260528], [41.137059, -79.094158], [35.003631, -120.518569], [33.987201, -117.869957], [28.43338, -81.40903], [33.987739000000005, -118.398953], [33.93759, -117.40198], [41.549897, -72.81406199999998], [38.604424, -121.506852], [40.650994, -74.01100799999998], [41.024168, -77.928434], [37.014138, -121.340442], [44.071111, -116.97988], [30.387887, -97.708645], [25.944337, -80.18015], [25.807791, -80.305909], [41.38352, -79.321842], [34.842420000000004, -82.282737], [35.26215999999999, -80.77322], [37.04731, -120.671766], [36.7745, -119.835538], [25.873601, -80.323406], [35.78082, -78.74861], [33.928561, -118.280741], [45.311083, -121.643522], [38.595514, -121.522962], [33.00875300000001, -96.708038], [40.591684, -112.294101], [39.353347, -77.12145], [36.808453, -119.808117], [41.101344, -73.985656], [33.949123, -118.32648600000002], [42.57746, -123.374052], [37.733484, -122.032275], [29.63144, -95.38728], [39.016672, -94.554881], [39.232081, -119.932111], [33.93338, -118.35241], [40.81699, -111.91889], [25.797751, -80.245855], [43.042517, -70.816732], [40.79235, -73.50617], [40.809077, -73.204657], [28.769195, -81.3589], [34.88061, -78.96188000000002], [35.83872, -78.675063], [38.550553, -121.474073], [32.406502, -85.95955], [25.712548, -80.382427], [35.843975, -78.68062900000002], [41.789075, -124.204698], [37.028179, -76.332932], [33.71134, -84.21434], [29.767814, -95.356795], [39.757812, -84.202349], [44.86864, -124.03531], [30.091978000000005, -81.80976700000002], [40.915343, -73.782489], [33.989208000000005, -118.062964], [33.856485, -117.785579], [28.493792, -81.459929], [38.008253, -78.508945], [34.029589, -118.232217], [38.312145, -77.7784], [29.290119, -94.874464], [34.148920000000004, -118.06323], [34.229525, -79.799755], [41.21303, -73.80954], [28.486455, -81.417346], [33.431359, -112.349536], [39.77836, -104.895773], [38.556979, -112.424606], [35.675528, -120.347557], [35.403109, -119.045244], [33.904385999999995, -84.276802], [40.853329, -73.961325], [34.746944, -92.37645], [30.691868, -88.029372], [33.33461, -111.9457], [30.41935, -91.120873], [40.41328, -76.58858000000002], [29.622640000000004, -82.38999], [33.569663, -117.672066], [33.18719, -117.359879], [38.925729, -76.90199], [37.71915300000001, -122.448268], [32.834345, -96.634641], [37.845334, -122.249267], [27.924469, -80.588295], [38.610168, -122.875741], [41.071852, -76.915541], [40.585438, -75.599337], [41.93962, -87.70819], [44.25982800000001, -117.18113], [26.667909, -81.985843], [25.945941, -80.16774000000002], [33.869015000000005, -117.730573], [35.265656, -118.914435], [33.939181, -117.13851499999998], [27.39525200000001, -82.450445], [36.233012, -86.768387], [28.384371, -81.486417], [38.518813, -90.389936], [33.945573, -118.27387], [33.54395, -84.58199], [36.09964, -86.73946], [37.328632, -121.926474], [40.687381, -73.62074], [43.578639, -119.070933], [30.431587, -91.080756], [38.89386500000001, -76.841801], [37.692474, -122.052785], [36.173999, -86.60286500000002], [34.143048, -118.18546], [32.650583000000005, -96.869212], [40.96295900000001, -75.274372], [33.80795, -84.65405], [38.219645, -85.751768], [29.715849, -95.152014], [42.131792, -86.372438], [44.741553, -124.055747], [32.177033, -110.944369], [29.94488, -90.090098], [40.72576, -112.00129], [39.65926, -79.505063], [34.059622, -118.04013], [37.62975, -120.463596], [25.716733, -80.39909899999998], [37.061423, -76.420673], [38.01491, -122.541495], [25.59848, -80.358147], [26.08883, -80.16774000000002], [39.869584, -75.327261], [38.906023, -122.671399], [34.900317, -110.158781], [36.161681, -86.793263], [45.077601, -93.366483], [35.60533, -97.62075], [41.437001, -75.618879], [33.928490000000004, -118.2916], [34.206282, -81.37475699999997], [45.704487, -121.479552], [36.759402, -76.328572], [33.530559999999994, -112.17653], [42.373548, -83.05986999999998], [45.34039, -118.0858], [25.890179, -80.188488], [34.055567, -118.198074], [45.09187, -93.188014], [29.67927, -95.44094], [34.147385, -118.798245], [36.133357, -95.86053], [25.701616, -80.35255500000002], [38.80647, -90.83317], [39.436036, -121.604543], [33.015475, -80.239139], [34.1207, -117.745329], [41.90906, -87.92896], [42.47721, -83.105016], [43.959301, -123.012106], [41.131572, -73.428762], [32.74559, -117.10903], [25.946635, -80.148646], [38.469712, -121.416597], [29.98226, -81.45935], [34.00354, -117.93046499999998], [42.593842, -73.503429], [40.422564, -76.534071], [40.049423, -74.725612], [34.019186, -117.493927], [38.437879, -122.806468], [39.572837, -119.807709], [40.65772, -73.57115], [30.43245, -86.649262], [33.46218, -112.03522], [40.803317, -73.316694], [45.53135, -122.25486], [34.177125, -118.163141], [40.725749, -111.992815], [45.59852, -122.55072], [46.638867, -111.947787], [33.776858000000004, -84.39061600000002], [36.098356, -86.71005600000002], [38.64322, -90.4493], [37.727673, -121.106364], [40.852452, -111.92968], [35.78643800000001, -78.712678], [42.98807, -82.93623199999998], [43.144072, -77.717961], [38.561893, -121.487084], [41.07681, -95.8911], [39.067164, -121.87298], [30.281993, -97.703612], [35.075188, -82.444259], [37.407817, -77.504283], [45.534879, -122.686668], [25.748356, -80.335763], [45.449092, -122.641762], [34.143737, -118.226977], [45.37506, -122.7557], [33.941195, -118.096723], [34.066468, -117.331656], [32.689207, -96.6341], [34.0608, -117.96355], [33.502278999999994, -111.930774], [33.87422, -117.88052], [39.881518, -76.53567], [39.028002, -77.444507], [28.50816, -81.39702], [41.791657, -88.117882], [41.86571, -88.11815], [38.973529, -77.401832], [32.391231, -111.304126], [38.11298, -85.69445999999998], [29.783684, -95.483808], [40.23431400000001, -76.969353], [35.113101, -81.146387], [33.194239, -117.258455], [32.671762, -117.111221], [38.744692, -120.637066], [34.650225, -118.753807], [34.786811, -82.391335], [39.700074, -86.16993199999996], [32.177901, -110.994811], [34.114940999999995, -118.241311], [44.056062, -121.237664], [30.561367, -91.041051], [35.716495, -78.633874], [32.354575, -108.745669], [33.96644000000001, -117.07396], [34.154153, -118.344016], [37.38859, -121.86752], [36.091355, -86.828501], [42.138706, -89.24511], [41.6171, -72.69575999999998], [34.813216, -118.884719], [37.196906, -119.771192], [37.92972, -79.23121], [45.664986, -111.167405], [25.788217000000003, -80.20866600000002], [36.617855, -120.406494], [41.984653, -87.75035], [37.622104, -120.66397], [29.520662, -98.499369], [34.02535, -117.33431000000002], [33.84598, -118.0923], [33.776272, -84.597149], [33.912956, -118.17988], [30.533497, -87.089625], [32.816389, -96.78883], [40.82368, -73.87745], [38.790808, -121.292095], [30.392688, -85.872962], [28.551423, -81.396277], [36.568089, -119.127491], [40.946831, -73.850171], [39.38686, -76.53157], [34.938218, -120.417899], [25.77004, -80.313908], [29.991095, -90.061081], [33.855694, -117.787199], [31.78987, -106.5193], [36.152169, -86.79518900000002], [33.40616, -112.30619], [32.934841, -80.04736], [37.672863, -122.467482], [42.96382, -115.325046], [29.76653, -95.398113], [41.202304, -74.181519], [37.57818, -77.4665], [34.121164, -117.832242], [34.071889, -117.872551], [42.816048, -78.791853], [33.870606, -98.533798], [41.632014, -93.575438], [32.881574, -84.669348], [39.956806, -76.735605], [26.153439, -80.16662099999998], [37.83337, -122.26556], [42.42858, -121.309888], [32.219456, -90.227504], [37.783543, -121.308856], [38.797687, -77.134721], [33.615008, -117.678236], [28.524305, -81.314523], [40.83185, -111.91686], [42.354709, -83.43628199999998], [32.772915999999995, -96.700157], [44.88592, -93.295952], [35.134415999999995, -91.817067], [37.497562, -122.237033], [38.61038, -121.379334], [32.812108, -109.590947], [36.839762, -121.401987], [41.93962, -87.70819], [38.92006, -94.52797], [36.875148, -81.398437], [41.106661, -73.418809], [38.847736, -77.07871800000002], [38.684357, -121.726582], [33.989163, -118.284854], [43.16464000000001, -77.63243], [40.848999, -73.939483], [43.35007, -124.19843], [34.233709000000005, -117.661785], [36.075228, -80.114761], [32.792253, -96.604367], [33.430321, -81.597029], [33.504135, -117.15312], [34.156673, -118.416789], [42.962696, -85.589937], [33.858146999999995, -117.257952], [28.090492, -82.451402], [43.124995, -77.476013], [38.80302800000001, -77.16282], [41.06077, -73.85531], [39.015229, -77.12276800000002], [37.877766, -120.448971], [35.347142, -80.857066], [32.711756, -96.830032], [35.20213, -80.78862099999998], [33.864551, -87.430776], [37.674453, -122.46878999999998], [41.136283, -112.025564], [40.63459, -111.89526], [34.640944, -82.582649], [30.603672, -87.132257], [37.566191, -77.36025], [25.961542, -80.146741], [30.517948, -91.133344], [47.60172, -122.33199], [39.79296, -84.18654000000002], [40.792191, -74.19274300000002], [37.48374, -122.216927], [33.888155, -117.552532], [36.15733, -86.80275], [28.4527, -80.97414], [39.639703, -84.23217], [36.176465, -86.80070699999996], [34.695747, -82.057806], [28.25480300000001, -81.479617], [44.975895, -93.281223], [35.23048, -80.94518000000002], [29.52036, -98.494051], [33.855211, -118.282745], [35.764242, -119.249628], [40.627083, -75.483435], [29.356123, -82.22184], [33.699263, -84.57696999999997], [46.472604, -111.906085], [38.43221, -78.87274000000002], [33.873757, -118.230153], [41.205529, -111.994118], [33.921917, -118.368911], [42.977541, -72.483387], [40.020273, -75.651605], [40.743151, -73.28002], [35.889789, -78.562477], [29.696484, -95.552195], [25.868504, -80.227103], [38.740307, -77.18996], [36.676105, -119.73902], [33.509448, -86.879657], [38.66057, -77.248395], [45.429083, -122.578799], [39.257143, -76.695224], [41.98372, -88.11035], [45.68563, -121.39671], [28.470598, -81.458861], [25.958451, -80.17046500000002], [32.672449, -96.956722], [29.055887, -81.008023], [35.844764, -78.569266], [33.929203, -117.416456], [37.48793, -121.931566], [25.59683, -80.348108], [41.95356, -87.88176], [41.66166, -87.73852600000002], [42.641233, -73.752089], [30.280127, -81.984377], [40.96551, -85.28805], [33.895958, -117.49733], [37.65035, -77.41877], [37.679532, -77.45055500000002], [28.24045, -82.35193000000002], [38.38808, -81.76843000000002], [44.401738, -122.563789], [29.120896, -82.18494], [33.862028, -117.990282], [44.872211, -122.838796], [39.83087800000001, -77.235022], [30.435242, -87.271304], [38.8156, -76.96275], [34.020302, -118.192255], [36.04265, -86.78211], [31.92629, -81.33306], [26.582879, -81.852438], [36.798688, -76.42835], [38.638102, -121.203072], [35.37605999999999, -80.84743], [27.894569, -82.80205500000002], [34.034171, -118.308974], [44.966204, -93.255142], [39.230185, -75.579791], [39.28762, -76.59352], [32.864402, -117.189972], [40.128305, -76.45222700000002], [33.947331, -118.279698], [39.77468, -86.10221], [39.882538, -83.35583100000002], [40.72796, -74.024151], [38.217117, -122.225457], [34.3844, -119.480164], [28.493326, -81.41752], [29.506371, -98.550422], [37.702551, -122.04713999999998], [45.60162, -122.04261], [28.3929, -81.37201400000002], [37.53001, -77.32137], [32.435857, -82.686098], [30.22023, -97.910408], [44.20056, -93.5821], [43.093208, -75.793456], [34.07173, -118.102222], [25.990616, -80.16565899999998], [45.486605, -122.566303], [28.128287, -81.950614], [40.81248, -73.10809], [33.779269, -117.278572], [25.685529, -80.366022], [32.79347, -96.72633], [38.801464, -77.518244], [33.873513, -118.248766], [31.340507, -87.106808], [32.297185, -111.020577], [32.693606, -117.123194], [43.657768, -111.921898], [32.880087, -96.510231], [36.049897, -95.886306], [32.692781, -117.094803], [30.175556, -84.375922], [37.2501, -121.090074], [36.20352000000001, -86.77684], [39.737709, -84.268237], [34.174188, -118.850338], [41.784393, -72.461426], [35.75299000000001, -78.63155], [26.330562, -81.81880799999998], [34.917320000000004, -82.316124], [45.595175, -122.684002], [34.057848, -117.80436], [33.965709000000004, -84.099642], [35.010964, -80.874196], [32.798324, -96.818726], [33.392072, -117.174211], [45.11056, -123.272019], [34.868963, -82.356358], [25.859022, -80.208134], [34.193927, -118.392463], [40.675839, -74.279412], [35.25834000000001, -80.79479], [38.53825, -121.47365], [35.24952000000001, -80.78106], [32.715740999999994, -96.617924], [38.880876, -77.221376], [33.839592, -118.207363], [39.63474, -105.17002], [38.915895, -121.041018], [37.609428, -120.993582], [33.687204, -117.87893400000002], [47.28959, -122.31208], [39.848495, -111.835809], [32.818618, -117.1837], [37.458304, -122.13738], [35.66311599999999, -78.775878], [37.47807, -121.93342], [35.92556300000001, -78.1915], [42.35061, -71.059473], [45.995938, -95.726941], [43.184831, -112.37573], [41.730931, -74.06665], [39.65345, -105.0049], [32.922571999999995, -96.819104], [39.119578, -77.080625], [40.926765, -74.918335], [40.11207, -83.031883], [30.402936, -86.93552199999998], [42.874658, -78.860889], [33.921192, -118.298602], [42.75705, -73.61668], [30.393992, -91.055423], [35.63500900000001, -78.875404], [33.629424, -111.8903], [38.05822, -84.43448000000002], [38.491908, -121.41401299999998], [38.79460200000001, -111.289998], [34.078544, -79.811438], [27.951797, -82.797163], [33.450403, -112.054212], [33.961338, -84.519405], [34.12105, -117.82875], [25.714569, -80.414261], [33.81041, -118.08132], [37.527793, -121.998233], [40.761045, -74.004674], [45.058315, -123.623258], [35.20874699999999, -80.757451], [34.221566, -119.098801], [34.067409999999995, -118.1635], [40.89769, -73.79689], [29.942663, -90.067472], [42.22238, -71.74448000000002], [39.705587, -74.968847], [33.896214, -118.187654], [38.556046, -122.679261], [38.37885900000001, -121.477342], [29.084812, -82.218593], [30.148855, -97.792986], [33.95644, -117.306328], [34.2731, -118.55087], [48.18461, -122.20012], [29.790424, -95.318629], [39.65201, -84.18614000000002], [33.825520000000004, -118.21563], [34.000497, -117.063037], [38.427487, -82.101461], [38.947305, -94.896622], [28.37306400000001, -81.404696], [33.18233, -117.35585], [37.55187, -122.30963], [34.03217, -117.13604], [25.89805, -80.33344], [45.44453, -122.57894], [34.049667, -118.448485], [35.027557, -81.871737], [45.512573, -118.431365], [39.94321, -83.0839], [32.122017, -110.869706], [30.070365, -81.77135600000003], [43.98149, -117.12762], [39.68897, -74.99325], [35.162511, -89.868996], [47.777599, -122.316101], [28.213205, -82.748857], [39.32936, -76.48458000000002], [34.506611, -117.974896], [38.33373, -87.594319], [38.680724, -120.982548], [38.611099, -121.43035], [33.854094, -117.794617], [41.85065, -71.42499000000002], [28.588882, -81.208742], [37.7392, -121.59158], [33.937, -118.279674], [34.06121, -118.17395], [35.119803999999995, -80.906378], [30.267956, -97.755574], [32.6423, -96.83391], [32.647574, -96.877854], [41.713296, -87.80117800000002], [32.812144, -96.803553], [45.36275300000001, -122.610305], [41.047614, -73.834487], [34.06983, -118.26133], [28.23297, -81.649715], [32.895221, -96.881395], [33.789864, -118.218716], [25.835548, -80.235214], [38.14129000000001, -122.22435], [36.300212, -119.744485], [33.743872, -84.390801], [40.45116, -86.84586999999998], [35.2393, -120.772764], [36.74403, -119.819767], [38.895809, -77.096409], [40.661171, -74.18465], [28.42575, -81.465673], [38.682161, -90.215097], [44.916132, -93.350282], [33.88468, -78.68731], [25.672423, -80.400222], [34.83939, -118.86332], [45.09583, -122.65733], [36.77235200000001, -76.457327], [34.87088, -82.42997], [27.486146999999995, -82.45621], [41.210457, -75.88968100000002], [35.800851, -78.562899], [37.059386, -121.584344], [39.938789, -75.45885899999998], [27.446269, -82.504292], [33.966795, -117.377108], [35.3374, -119.03948], [45.52501, -122.68728], [44.461511, -123.061727], [45.911595, -118.384144], [39.87282, -75.07866], [33.922117, -117.88004], [30.459153000000004, -91.166288], [32.765933000000004, -96.597492], [33.956886, -118.280563], [25.829508, -80.23696899999999], [33.3857, -111.93489], [39.85712, -75.360794], [39.91625, -83.00026], [26.08325, -80.17908], [37.32132, -121.8345], [34.135567, -118.000752], [32.181039, -110.82378500000002], [39.7873, -104.98933999999998], [33.751313, -84.496521], [37.20547, -122.04828], [30.444808, -97.667739], [33.094285, -117.084335], [40.019483, -75.14619499999998], [28.05456, -82.4511], [33.974652, -118.280597], [35.47876, -97.60107], [38.68913, -77.2066], [37.360457, -120.760034], [25.840028, -80.313236], [37.276871, -122.007286], [40.03149000000001, -76.36081], [27.339034, -82.452415], [45.12482, -93.21324], [25.843623, -80.206304], [37.827109, -122.279787], [40.450404, -78.605428], [35.101132, -119.370611], [35.022867, -85.159536], [40.66697, -111.8883], [32.779140000000005, -96.812], [27.949386, -82.354107], [44.63995, -93.296853], [30.495761, -88.339036], [39.61441, -74.82865799999998], [38.311043, -122.714341], [27.727636, -82.383245], [33.666203, -81.67412], [34.913975, -82.332619], [41.10487, -78.53341999999998], [33.89083, -118.18853], [45.223367, -93.438785], [40.68972, -74.27068], [37.700575, -122.10942], [29.945014, -90.037808], [33.77324, -117.827068], [40.853374, -73.961688], [29.940518, -90.077936], [26.635453, -81.64508599999998], [32.368237, -95.328282], [29.51124, -98.5525], [42.401994, -82.970835], [29.78461, -95.522988], [44.15368400000001, -94.041783], [28.150358, -82.493128], [26.685256, -80.06891], [25.73566, -80.318751], [40.012982, -122.378081], [33.419776, -81.879859], [33.873406, -117.39264], [40.834198, -74.021878], [37.825468, -122.303498], [37.800532, -122.18742], [25.897513, -80.324483], [42.401505, -120.293034], [39.615722, -105.23238700000002], [33.43592, -111.94436], [43.062812, -71.466601], [36.751445, -119.793559], [37.513192, -121.980977], [35.593482, -78.718437], [39.888375, -123.747835], [25.842204, -80.241517], [41.97589, -87.68915], [32.714252, -117.088844], [29.730215, -95.42118], [43.010672, -83.676621], [27.94053, -82.32637], [33.913661, -118.104754], [25.931221, -80.20430400000002], [28.295341, -80.742806], [45.5448, -122.40058], [34.104420000000005, -118.858381], [34.067366, -117.564127], [39.93108, -86.33908000000002], [25.779754, -80.19974599999998], [32.442141, -93.861913], [35.850598, -78.58072800000002], [33.975133, -117.549037], [45.13531, -93.18876], [37.758116, -121.501329], [34.120874, -117.881399], [41.161587, -112.06446], [38.68589, -121.33342], [33.936424, -117.12023700000002], [46.094903, -123.732881], [39.10004, -121.08501], [33.80312, -117.972964], [29.864448, -95.349971], [47.64499, -122.29775], [28.20175, -82.739868], [36.837399, -119.649078], [44.6393, -123.06224], [34.318303, -119.365412], [26.226714, -80.13651899999998], [28.428348, -81.40653499999998], [29.078424, -81.314116], [35.281778, -118.860711], [30.376754, -97.779505], [41.074661, -102.462193], [40.59261, -73.995251], [45.046156, -93.060283], [34.26878, -118.06455], [33.873236, -118.058429], [39.743567, -105.450779], [32.85217, -83.64152], [45.427879, -122.754469], [39.513235, -77.59487299999998], [25.625595, -80.32636600000002], [34.095181, -83.818401], [42.328737, -71.32879], [40.129654, -76.316406], [37.68294, -122.12694], [25.874722, -80.17314499999998], [43.637496, -95.793642], [39.88012, -76.13261999999997], [38.867514, -77.187251], [32.643445, -96.779667], [26.328236, -80.11668900000002], [32.905079, -80.25333499999998], [40.354768, -122.283335], [42.242206, -124.390865], [33.960867, -118.282705], [37.60225, -77.50055], [33.942636, -117.279733], [38.351479, -121.983679], [35.727824, -78.585977], [33.44732, -111.9785], [37.312875, -121.885776], [33.901609, -117.467397], [29.671504, -82.923776], [33.204390000000004, -84.0599], [34.017575, -118.164643], [37.489166, -121.943778], [25.761455, -80.366167], [45.118886, -93.188612], [25.785271, -80.215059], [33.390101, -86.793676], [39.52015, -76.199122], [47.61851, -122.32831000000002], [25.950942, -80.18128100000001], [32.95176, -96.785421], [34.087754, -117.67], [34.198297, -118.473954], [33.384597, -117.24809], [33.676297, -84.413291], [38.87216, -104.71844], [37.593502, -77.49290500000002], [29.223185, -82.153182], [45.52661, -123.08425], [45.54264000000001, -122.6773], [25.812147, -80.321555], [33.854005, -117.95924], [36.140601, -86.732024], [33.935751, -118.03985], [38.655841, -121.003746], [41.563199, -72.914232], [35.79082899999999, -78.679784], [38.53679, -121.47342], [43.157005, -77.550687], [38.703801, -121.363654], [30.234028, -97.864906], [40.630459, -111.876063], [39.01596, -76.92723000000002], [35.89237199999999, -78.558448], [35.030411, -80.820289], [40.031955, -76.196547], [35.64436, -78.42334], [33.894459999999995, -84.46392], [25.81646, -80.324814], [38.879739, -77.031762], [25.77549, -80.378642], [33.71785, -79.02511], [26.26948, -80.12606], [40.854469, -77.798176], [28.370696, -81.503227], [43.154543, -77.620006], [37.856467, -122.030089], [42.368126, -83.05888900000002], [32.399484, -80.62171500000002], [28.602656, -81.386615], [43.884341, -95.101083], [39.406233, -77.433291], [42.3354, -83.06371999999998], [34.756568, -92.443317], [25.974203, -80.153752], [40.352595, -111.773328], [34.242824, -118.473098], [33.59663, -84.42896999999998], [33.783029, -117.156379], [37.136873, -122.100285], [30.021184, -90.073478], [34.08874, -118.60272], [37.336596, -121.85723], [30.432117, -91.007532], [36.220024, -86.774772], [41.86737, -87.62751], [27.844865, -82.677238], [25.78784, -80.209907], [34.705915999999995, -81.208712], [35.376139, -119.044527], [36.984877, -120.087171], [38.557425, -77.340265], [33.543638, -81.88268199999997], [29.153332, -81.106001], [26.439639, -80.088175], [29.717857, -95.512106], [30.32408, -81.527598], [39.2354, -111.66062], [34.347993, -83.314486], [34.120724, -117.909129], [40.638675, -111.976689], [38.496535, -122.769036], [40.624061, -74.216068], [39.056316, -94.629685], [37.32509, -121.88677], [25.732097, -80.33571500000002], [34.112749, -117.992929], [33.802448, -118.11673600000002], [37.250556, -121.840591], [33.892905, -81.32315799999998], [42.814742, -87.95307], [37.50788, -77.2617], [34.078539, -118.123028], [33.98061, -117.97818999999998], [29.594511, -95.742112], [37.94475, -120.84377], [33.91479, -118.185352], [40.478836, -80.04313499999998], [27.300548, -82.49762700000002], [37.44423, -122.26905], [39.630256, -84.195522], [34.035463, -118.02544], [41.278111, -77.22721999999997], [34.05516, -118.2154], [41.246091, -73.095896], [44.950271, -93.005501], [26.381634, -81.80788000000003], [40.591617, -111.901577], [43.5259, -111.988924], [45.066764, -93.240454], [34.047051, -118.268072], [33.538491, -112.090527], [26.18066, -80.15328000000002], [33.876591, -118.068959], [40.848314, -111.913497], [37.675117, -78.592676], [30.20651, -90.94332], [43.71768, -123.21272], [33.782892, -117.278581], [29.33501, -98.41883], [34.692945, -118.169802], [29.755111, -95.501231], [25.874851, -80.388067], [33.65314, -111.9015], [28.574033, -81.476004], [34.129039, -118.347419], [37.96978, -122.04807], [28.065897, -82.738771], [44.709982, -122.197562], [33.889848, -117.646279], [45.562552, -122.56928], [45.07916, -93.17658], [39.294805, -84.464221], [32.907459, -96.906958], [38.805004, -121.358541], [37.63419, -122.1053], [45.85848, -123.55248], [42.19220900000001, -121.798743], [30.386327, -91.170397], [25.840751, -80.369437], [33.926, -84.48739], [35.070481, -85.110004], [33.247005, -84.258849], [37.747035, -121.45302], [34.223025, -118.248799], [40.11733, -79.33921], [35.789632, -78.676434], [38.888565, -77.218576], [35.29190999999999, -80.79678], [33.563264000000004, -117.203768], [37.66344, -122.48473], [25.880411, -80.242889], [32.304539, -110.789817], [33.973921000000004, -117.373734], [41.97573, -88.28206], [45.522986, -122.665396], [33.668342, -112.113236], [40.788257, -73.453273], [38.609174, -121.415347], [36.144815, -77.785896], [45.448738, -123.14262], [47.22942000000001, -123.06385], [33.92587, -118.10578999999998], [36.962792, -76.27172900000002], [38.902496, -77.406149], [35.665064, -78.56106199999998], [37.596331, -122.054205], [42.92347, -124.45004], [42.344201, -124.417684], [25.964249, -80.246524], [44.741713, -124.055775], [37.863905, -122.303047], [33.941182, -118.096502], [34.004554, -117.399714], [37.364781, -121.818931], [43.65530800000001, -123.913632], [44.9723, -93.28779], [33.09915, -117.307949], [25.823117, -80.206385], [39.105337, -94.572038], [25.813626, -80.32122700000002], [28.42435900000001, -81.40478399999998], [42.4057, -83.07491], [26.23337, -80.29457], [34.057919, -118.254011], [32.837667, -96.770107], [35.3982, -119.53646], [34.232507, -118.47298899999998], [41.628948, -72.291682], [34.072078000000005, -118.266829], [26.63648400000001, -81.745722], [35.79996, -78.69364], [45.520226, -123.08177], [33.531034000000005, -111.951779], [34.180343, -118.313033], [33.594609000000005, -112.372121], [37.613056, -77.363137], [40.396188, -76.487652], [43.662984, -116.468468], [34.237035, -119.177273], [33.289178, -117.149196], [40.894708, -73.79856600000002], [40.5359, -74.30315999999998], [37.783197, -121.195691], [36.758719, -76.341215], [37.546173, -121.195732], [25.749612, -80.303579], [25.371755, -80.462654], [29.926442, -95.411922], [34.338615999999995, -118.5073], [38.41957, -92.828237], [38.898722, -77.073608], [33.197497, -117.368413], [35.325449, -85.085237], [34.229015999999994, -112.116111], [37.256065, -121.871026], [41.740768, -87.82924100000002], [35.234035, -80.836157], [33.974646, -118.285946], [43.04794, -124.12798], [45.12399, -93.04983], [39.15457, -77.222952], [37.966634, -122.048958], [38.190474, -121.161263], [41.545175, -123.528546], [29.965866, -95.420242], [45.235991, -93.028609], [47.549342, -111.499181], [39.70262, -105.245201], [33.673564, -117.886115], [37.81909, -121.9934], [27.749106, -82.378394], [36.313612, -119.690996], [28.598166, -81.244775], [26.535149, -80.17277], [25.88019, -80.20895], [33.87979, -117.56176], [29.061448, -82.174276], [41.41046400000001, -111.558448], [25.520841, -80.41148000000003], [43.622621, -116.35436599999998], [33.711283, -84.218338], [44.213604, -116.984465], [38.882212, -77.028604], [35.15625, -80.796498], [38.132413, -77.511059], [36.970179, -119.581375], [27.918996000000003, -82.787769], [40.73201, -74.16735], [26.007216, -80.167018], [33.65326, -117.77005], [33.448017, -111.995442], [39.24740900000001, -76.57565100000002], [44.553347, -117.424503], [33.892661, -117.504669], [33.042802, -80.119785], [37.776155, -77.462117], [41.68556, -87.66197], [34.013133, -80.48916700000002], [40.827937, -74.02548], [35.061685, -80.950923], [32.800615, -96.766624], [41.244292, -111.981688], [25.761405, -80.36845500000003], [40.860381, -76.002673], [40.79559, -73.34637], [41.098748, -74.03745500000002], [33.75544, -84.46677], [34.015781, -117.977744], [32.782205, -117.140404], [40.81952, -73.05704], [36.31594000000001, -117.678068], [40.84508, -73.9192], [39.80706, -75.182071], [27.854807, -82.694927], [40.061816, -75.136829], [34.02335, -117.81174], [32.36142, -86.16739100000002], [47.404621, -122.292283], [32.774635, -97.061654], [27.388202000000003, -82.47063299999998], [40.138483, -75.384988], [34.055563, -118.445882], [38.916251, -77.00908100000002], [27.893885, -82.33635100000002], [28.496312, -81.330917], [41.7733, -87.99395], [37.926418, -122.057525], [39.557765, -107.246378], [32.875984, -96.684316], [38.876091, -76.802791], [39.794817, -75.113646], [33.978694, -118.077723], [44.83021, -95.48353], [41.210899, -122.646251], [33.898132000000004, -117.562819], [42.36083, -71.05368], [40.29495900000001, -74.73200200000002], [44.646103, -123.06228], [37.91822, -78.54997], [25.714607, -80.413569], [41.824278, -72.494682], [30.39299, -81.56066], [41.706006, -87.6529], [39.577084, -77.881489], [39.367423, -77.19626600000002], [33.20608, -97.16374], [33.997012, -117.932081], [33.899365, -118.327606], [33.880794, -117.574586], [25.89870100000001, -80.308224], [39.900221, -104.988178], [28.185825, -82.206323], [29.81105800000001, -95.47521], [39.419279, -105.549728], [28.44667, -81.470866], [38.933111, -77.209328], [30.01692, -90.02152099999998], [42.09077, -71.06007], [34.249376, -117.442305], [35.758074, -78.78099499999998], [34.738556, -120.508423], [41.808699, -71.404752], [34.225625, -82.197314], [32.698541, -117.120984], [33.864642, -118.198178], [34.01605, -118.12958], [41.319262, -73.001343], [33.058440000000004, -96.69348], [36.327194, -119.348156], [33.876298, -118.10301], [45.29177, -121.68893], [34.02834, -118.2296], [37.355904, -77.41350200000002], [34.09595, -118.24477], [33.507796, -112.116997], [30.315517, -81.76168], [39.1873, -121.098159], [38.15337, -85.83579], [34.072223, -117.907517], [39.99332, -85.84832], [47.160069, -122.467781], [39.631494, -107.102839], [40.031922, -76.496289], [38.164099, -122.20798], [30.534618, -87.338663], [30.651152000000003, -88.124266], [33.778213, -117.871876], [40.11649600000001, -88.21935], [35.91782, -86.82392], [42.40698, -87.855024], [32.814766, -96.809059], [34.954043, -83.02000100000002], [33.41738, -111.89146], [45.388222, -119.598337], [35.20374, -80.74849], [27.916578, -82.790813], [38.389125, -122.71609], [41.87355, -93.57105], [25.464352, -80.477138], [30.174106, -97.798869], [29.69245, -82.449742], [37.689258, -122.106008], [37.610979, -79.61024499999998], [45.543979, -122.67553999999998], [30.726424, -86.568573], [34.031771, -118.429666], [40.737837, -74.059741], [33.65225, -117.74096000000002], [44.207686, -123.203977], [37.70141, -121.76983], [30.007218, -90.016228], [45.50651, -122.74943], [32.758779, -97.06348], [38.483852, -121.074475], [41.0694, -75.689728], [38.785902, -121.225576], [33.00589, -111.75548], [33.7745, -118.06948], [33.923741, -118.025518], [34.03706, -118.30533], [45.693072, -121.835428], [37.101291, -80.466367], [43.00086, -78.84894], [37.955533, -122.053652], [40.650549, -111.952034], [33.880114, -118.34726299999998], [44.03545, -117.00059], [39.294909, -81.493288], [41.185626, -75.920953], [28.18426, -81.303606], [39.6736, -104.79114], [45.643719, -121.925314], [35.146679, -80.81915500000002], [25.934767, -80.20084200000002], [32.84365, -96.77463], [36.50215, -80.74123900000002], [40.12402, -87.25007], [32.817894, -96.787763], [39.129322, -120.92234], [32.840398, -117.138344], [34.250482, -92.10242], [45.41768, -122.448173], [28.452261, -81.030403], [33.2828, -111.79674], [44.91521, -93.114952], [39.029885, -76.947416], [33.55709, -80.83610300000002], [27.59786, -82.506327], [38.33462, -77.49722], [45.539903, -122.443002], [42.959372, -85.655564], [34.03699, -118.164792], [34.044896, -81.100202], [33.920685, -117.431756], [35.228079, -80.861274], [34.842420000000004, -82.282737], [37.784997, -77.89254], [29.975974, -90.100507], [47.302992, -122.226772], [33.924791, -118.254395], [33.451327, -112.126046], [35.847038, -78.58009799999998], [38.933213, -76.919866], [44.899139, -94.218221], [33.913776, -118.11041000000002], [32.19968, -110.87512], [33.751054, -117.845706], [35.154709000000004, -78.86988000000002], [33.631768, -117.724528], [33.978615999999995, -118.370318], [42.245768, -122.773772], [44.055488, -93.106123], [33.93858, -84.156121], [44.999689, -123.07793999999998], [35.76639, -78.73574], [45.56539, -118.45886000000002], [43.347851, -121.747754], [41.03896, -75.31223], [33.065579, -117.069194], [39.95075, -75.12231], [28.357347, -80.678185], [33.147194, -117.107974], [41.8003, -88.08469000000002], [34.421264, -117.299731], [33.970531, -80.9544], [43.47787, -70.50186], [39.18182, -76.78424], [42.368634, -83.216604], [33.29184, -111.74972], [30.691176, -88.023544], [40.14718, -75.79366], [40.731, -74.08483000000003], [33.891333, -118.36176], [34.015778000000005, -118.135357], [36.325939, -86.706193], [44.149347, -122.587291], [45.52301, -122.66543], [42.48071, -76.48779], [25.802205, -80.205557], [38.917147, -121.561751], [28.610838, -81.428926], [41.210821, -95.823536], [44.033203, -91.632807], [37.371186, -81.04508], [48.271677, -114.330363], [34.528138, -79.652232], [42.227773, -85.887045], [40.146254, -75.106652], [40.563548, -75.98062900000002], [25.972552, -80.165937], [46.79449, -92.106983], [38.750951, -121.540495], [38.87782, -77.26996], [33.68821, -117.91469], [37.49189000000001, -121.91919], [43.016356, -83.683623], [36.19297, -119.328446], [39.418388, -119.747324], [45.414861, -122.57371100000002], [34.378971, -118.99003799999998], [47.27266, -122.30602], [26.099131, -80.252872], [29.87547, -95.3272], [33.91435, -117.88273], [34.344247, -117.448174], [25.831765, -80.205805], [34.290885, -80.114509], [36.124931, -86.845611], [25.702145, -80.339336], [33.803412, -117.233045], [38.712558, -120.71095], [27.996318, -82.548337], [32.183389, -111.003115], [29.898035, -95.425225], [34.2671, -118.443966], [42.517414, -73.61692099999998], [39.30956, -80.26995], [35.824209, -78.58758900000002], [47.395954, -121.51216200000002], [39.885439, -104.98767], [40.07105, -76.26947], [29.741189, -95.455588], [38.418558, -78.884028], [44.04344, -92.48789], [34.65869, -111.791227], [45.816682, -112.698173], [47.13147100000001, -122.431954], [40.59970300000001, -112.412798], [34.067793, -117.973035], [38.889191, -77.062292], [30.646742, -87.099609], [34.172117, -118.46771], [39.8693, -84.86461], [38.907963, -78.500887], [35.15282, -80.87631], [25.846101, -80.24181899999998], [25.8588, -80.20801999999998], [33.880151, -117.565244], [35.871684, -78.66131700000003], [28.453387, -81.40002700000002], [27.486161, -82.45676800000003], [33.76704, -117.976289], [38.290378, -77.471822], [38.63853, -90.48529], [28.609264000000003, -81.41595600000002], [37.78699, -122.389859], [38.496013, -121.451281], [25.829393, -80.228831], [38.189642, -104.63292], [29.652358000000003, -95.251745], [28.449397, -81.46578199999998], [25.670618, -80.420785], [34.067816, -117.516838], [34.03031, -117.698141], [25.923287, -80.293068], [38.58842, -121.73033999999998], [42.33292, -83.08145], [34.77647, -118.27267], [32.78514000000001, -96.812686], [39.26905, -76.98623], [28.06774, -82.70566], [27.303558, -82.530259], [28.382065, -81.404628], [38.34285300000001, -121.335271], [25.62733, -80.382224], [29.933255, -90.022918], [32.954188, -117.244647], [33.869111, -118.053999], [37.691222, -122.13888], [33.9627, -118.11827], [33.638283, -117.28128], [33.84659, -118.217177], [40.737216, -73.852761], [35.842343, -78.57462], [30.208823, -82.061001], [46.146453, -112.859281], [33.789584999999995, -118.207759], [38.431645, -121.398892], [28.451938, -81.400468], [25.807926, -80.27806], [33.9053, -118.06583], [40.146023, -75.322099], [30.426823, -91.16825], [37.987707, -121.750928], [34.068189000000004, -118.035979], [25.843462, -80.24982], [37.962745, -121.236734], [41.843415, -72.664845], [25.859796, -80.324814], [29.753023, -95.409741], [28.09185, -82.45446899999997], [40.0585, -76.40371999999998], [26.014923, -80.167252], [36.045249, -86.714732], [34.165009999999995, -118.47489], [38.852056, -122.723442], [34.040739, -118.056716], [28.82585, -81.32866], [33.95973, -118.28053], [45.072913, -93.303376], [35.49329, -97.61007], [28.4698, -81.45744], [25.813036, -80.23323], [43.337692, -122.765741], [42.476061, -88.152652], [30.27182, -97.7323], [46.9657, -122.35772], [43.049079, -73.770049], [33.336009999999995, -111.44021], [41.53649, -87.96914], [38.110801, -121.394449], [34.683905, -83.00938000000002], [39.470168, -121.453264], [39.966877, -76.736859], [39.09603, -94.563728], [34.186608, -118.401233], [42.95478, -71.44201], [34.098848, -118.247239], [42.37994000000001, -83.14619], [43.576558, -119.93289], [40.756381, -73.953604], [34.06974, -118.26155], [27.77979, -82.66044000000002], [39.098775, -94.622799], [37.784868, -121.306689], [36.962792, -76.27172900000002], [37.074043, -77.57252], [33.748129, -117.832086], [30.563365, -81.829362], [30.44475, -84.292767], [38.457076, -77.406329], [44.58672, -95.79807], [39.205398, -121.07713], [43.392733, -123.33693], [35.553249, -77.986847], [44.97, -93.08848], [35.317376, -120.621347], [25.858664, -80.233941], [40.6965, -112.06309], [47.371619, -92.509442], [36.061162, -118.997274], [34.316692, -117.479754], [34.347021000000005, -117.476956]],\n",
              "                {\n",
              "                    minOpacity: 0.5,\n",
              "                    maxZoom: 18,\n",
              "                    max: 1.0,\n",
              "                    radius: 25,\n",
              "                    blur: 15,\n",
              "                    gradient: null\n",
              "                    })\n",
              "                .addTo(map_9d325004ec529460e422d238cb296143);\n",
              "        \n",
              "&lt;/script&gt;\" style=\"position:absolute;width:100%;height:100%;left:0;top:0;border:none !important;\" allowfullscreen webkitallowfullscreen mozallowfullscreen></iframe></div></div>"
            ]
          },
          "metadata": {},
          "execution_count": 11
        }
      ]
    },
    {
      "cell_type": "code",
      "source": [
        "# comparing distribution with heatmap and different zones\n",
        "\n",
        "Time_zone = df.groupby('Timezone')[\"ID\"].count().sort_values(ascending=False)\n",
        "\n",
        "Time_zone"
      ],
      "metadata": {
        "colab": {
          "base_uri": "https://localhost:8080/"
        },
        "id": "CCWUf1niD-PS",
        "outputId": "ea254205-a429-4c69-bfe3-c2c2f39f1f75"
      },
      "execution_count": null,
      "outputs": [
        {
          "output_type": "execute_result",
          "data": {
            "text/plain": [
              "Timezone\n",
              "US/Eastern     1221927\n",
              "US/Pacific      967094\n",
              "US/Central      488065\n",
              "US/Mountain     164597\n",
              "Name: ID, dtype: int64"
            ]
          },
          "metadata": {},
          "execution_count": 31
        }
      ]
    },
    {
      "cell_type": "code",
      "source": [
        "# dTime_zonef['%'] = scaler.fit_transform(df[[\"TOTAL\"]])\n",
        "\n",
        "Time_zone/Time_zone.sum()*100\n"
      ],
      "metadata": {
        "colab": {
          "base_uri": "https://localhost:8080/"
        },
        "id": "4APYcKbQ0PT2",
        "outputId": "996dcd14-15d7-47cf-991c-d784576fcfb1"
      },
      "execution_count": null,
      "outputs": [
        {
          "output_type": "execute_result",
          "data": {
            "text/plain": [
              "Timezone\n",
              "US/Eastern     43.000116\n",
              "US/Pacific     34.032438\n",
              "US/Central     17.175209\n",
              "US/Mountain     5.792237\n",
              "Name: ID, dtype: float64"
            ]
          },
          "metadata": {},
          "execution_count": 33
        }
      ]
    },
    {
      "cell_type": "markdown",
      "source": [
        "## 6. Temperature"
      ],
      "metadata": {
        "id": "Ko_U7t5exuVj"
      }
    },
    {
      "cell_type": "code",
      "source": [
        ""
      ],
      "metadata": {
        "id": "WqVu1LlxPWu-"
      },
      "execution_count": null,
      "outputs": []
    },
    {
      "cell_type": "markdown",
      "source": [
        "# Ask and Answer question \n",
        "- are there more accidents in warmer or colder area ?\n",
        "- which 5 states have the highest number of accidents/per capita? (needs population from other DB) \n",
        "- Among the top 100 cities in the # of accidents, which state have higher frequency? \n",
        "- New York City is splited into different neighbours, calculate population vs 3 of accidents is difficult\n",
        "- 'AK' 'HI' \n",
        "- What time of the day are accidents most frequent in? - ANSWERED\n",
        "- Which days of the week have the most accidents?\n",
        "- Which months have the most accidents?\n",
        "- What is the trend of accidents year over year (decreasing/increasing?) ? in New York?\n",
        "When is accidents per unit of traffic the highest.\n",
        "\n"
      ],
      "metadata": {
        "id": "XT2ThBJkB2k2"
      }
    },
    {
      "cell_type": "markdown",
      "source": [
        "# Summary and conclusion\n",
        "- data on 2016 is not complete !"
      ],
      "metadata": {
        "id": "U4iNenKf7mKz"
      }
    }
  ]
}