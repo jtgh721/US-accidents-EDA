{
  "nbformat": 4,
  "nbformat_minor": 0,
  "metadata": {
    "colab": {
      "name": "US_car_accidents.ipynb",
      "provenance": []
    },
    "kernelspec": {
      "name": "python3",
      "display_name": "Python 3"
    },
    "language_info": {
      "name": "python"
    }
  },
  "cells": [
    {
      "cell_type": "code",
      "execution_count": 2,
      "metadata": {
        "colab": {
          "base_uri": "https://localhost:8080/"
        },
        "id": "80yk13C3zRnn",
        "outputId": "d326fd2a-4cdb-49c3-a5f6-7a71dffd01d4"
      },
      "outputs": [
        {
          "output_type": "stream",
          "name": "stdout",
          "text": [
            "Looking in indexes: https://pypi.org/simple, https://us-python.pkg.dev/colab-wheels/public/simple/\n",
            "Collecting opendatasets\n",
            "  Downloading opendatasets-0.1.22-py3-none-any.whl (15 kB)\n",
            "Requirement already satisfied: click in /usr/local/lib/python3.7/dist-packages (from opendatasets) (7.1.2)\n",
            "Requirement already satisfied: tqdm in /usr/local/lib/python3.7/dist-packages (from opendatasets) (4.64.0)\n",
            "Requirement already satisfied: kaggle in /usr/local/lib/python3.7/dist-packages (from opendatasets) (1.5.12)\n",
            "Requirement already satisfied: python-slugify in /usr/local/lib/python3.7/dist-packages (from kaggle->opendatasets) (6.1.2)\n",
            "Requirement already satisfied: six>=1.10 in /usr/local/lib/python3.7/dist-packages (from kaggle->opendatasets) (1.15.0)\n",
            "Requirement already satisfied: requests in /usr/local/lib/python3.7/dist-packages (from kaggle->opendatasets) (2.23.0)\n",
            "Requirement already satisfied: python-dateutil in /usr/local/lib/python3.7/dist-packages (from kaggle->opendatasets) (2.8.2)\n",
            "Requirement already satisfied: urllib3 in /usr/local/lib/python3.7/dist-packages (from kaggle->opendatasets) (1.24.3)\n",
            "Requirement already satisfied: certifi in /usr/local/lib/python3.7/dist-packages (from kaggle->opendatasets) (2022.6.15)\n",
            "Requirement already satisfied: text-unidecode>=1.3 in /usr/local/lib/python3.7/dist-packages (from python-slugify->kaggle->opendatasets) (1.3)\n",
            "Requirement already satisfied: idna<3,>=2.5 in /usr/local/lib/python3.7/dist-packages (from requests->kaggle->opendatasets) (2.10)\n",
            "Requirement already satisfied: chardet<4,>=3.0.2 in /usr/local/lib/python3.7/dist-packages (from requests->kaggle->opendatasets) (3.0.4)\n",
            "Installing collected packages: opendatasets\n",
            "Successfully installed opendatasets-0.1.22\n"
          ]
        }
      ],
      "source": [
        "pip install opendatasets --upgrade\n"
      ]
    },
    {
      "cell_type": "markdown",
      "source": [
        "##Download the data"
      ],
      "metadata": {
        "id": "kvcmmaRC3A-s"
      }
    },
    {
      "cell_type": "code",
      "source": [
        "import opendatasets as od\n",
        "\n",
        "download_url = 'https://www.kaggle.com/sobhanmoosavi/us-accidents'\n",
        "\n",
        "od.download(download_url)"
      ],
      "metadata": {
        "colab": {
          "base_uri": "https://localhost:8080/"
        },
        "id": "Ona4fPRN3ACl",
        "outputId": "53c49c06-c75c-43fc-8939-10591ff6bf7f"
      },
      "execution_count": 3,
      "outputs": [
        {
          "output_type": "stream",
          "name": "stdout",
          "text": [
            "Please provide your Kaggle credentials to download this dataset. Learn more: http://bit.ly/kaggle-creds\n",
            "Your Kaggle username: jtgh721\n",
            "Your Kaggle Key: ··········\n",
            "Downloading us-accidents.zip to ./us-accidents\n"
          ]
        },
        {
          "output_type": "stream",
          "name": "stderr",
          "text": [
            "100%|██████████| 269M/269M [00:02<00:00, 131MB/s]\n"
          ]
        },
        {
          "output_type": "stream",
          "name": "stdout",
          "text": [
            "\n"
          ]
        }
      ]
    },
    {
      "cell_type": "code",
      "source": [
        "data_filename = './us-accidents/US_Accidents_Dec21_updated.csv'\n"
      ],
      "metadata": {
        "id": "_IMJbgyC7RQq"
      },
      "execution_count": 4,
      "outputs": []
    },
    {
      "cell_type": "markdown",
      "source": [
        "##Data preparation and cleaning\n",
        "\n",
        "\n",
        "- Load the file using Pandas\n",
        "- Look at some information about the data & the columns\n",
        "- Fix any missing or incorrect values\n",
        "\n",
        "df.head(10)\n",
        "df.info()\n",
        "df.describe()\n",
        "df.select_dtypes()\n"
      ],
      "metadata": {
        "id": "Nm3h-w687pz2"
      }
    },
    {
      "cell_type": "code",
      "source": [
        "import pandas as pd\n",
        "\n",
        "df = pd.read_csv(data_filename)\n",
        "\n",
        "df"
      ],
      "metadata": {
        "colab": {
          "base_uri": "https://localhost:8080/",
          "height": 939
        },
        "id": "C_Eupte27tvS",
        "outputId": "eaf4c836-fb6d-40d9-f957-442cd54c61af"
      },
      "execution_count": 5,
      "outputs": [
        {
          "output_type": "execute_result",
          "data": {
            "text/plain": [
              "                ID  Severity           Start_Time             End_Time  \\\n",
              "0              A-1         3  2016-02-08 00:37:08  2016-02-08 06:37:08   \n",
              "1              A-2         2  2016-02-08 05:56:20  2016-02-08 11:56:20   \n",
              "2              A-3         2  2016-02-08 06:15:39  2016-02-08 12:15:39   \n",
              "3              A-4         2  2016-02-08 06:51:45  2016-02-08 12:51:45   \n",
              "4              A-5         3  2016-02-08 07:53:43  2016-02-08 13:53:43   \n",
              "...            ...       ...                  ...                  ...   \n",
              "2845337  A-2845338         2  2019-08-23 18:03:25  2019-08-23 18:32:01   \n",
              "2845338  A-2845339         2  2019-08-23 19:11:30  2019-08-23 19:38:23   \n",
              "2845339  A-2845340         2  2019-08-23 19:00:21  2019-08-23 19:28:49   \n",
              "2845340  A-2845341         2  2019-08-23 19:00:21  2019-08-23 19:29:42   \n",
              "2845341  A-2845342         2  2019-08-23 18:52:06  2019-08-23 19:21:31   \n",
              "\n",
              "         Start_Lat   Start_Lng    End_Lat     End_Lng  Distance(mi)  \\\n",
              "0        40.108910  -83.092860  40.112060  -83.031870         3.230   \n",
              "1        39.865420  -84.062800  39.865010  -84.048730         0.747   \n",
              "2        39.102660  -84.524680  39.102090  -84.523960         0.055   \n",
              "3        41.062130  -81.537840  41.062170  -81.535470         0.123   \n",
              "4        39.172393  -84.492792  39.170476  -84.501798         0.500   \n",
              "...            ...         ...        ...         ...           ...   \n",
              "2845337  34.002480 -117.379360  33.998880 -117.370940         0.543   \n",
              "2845338  32.766960 -117.148060  32.765550 -117.153630         0.338   \n",
              "2845339  33.775450 -117.847790  33.777400 -117.857270         0.561   \n",
              "2845340  33.992460 -118.403020  33.983110 -118.395650         0.772   \n",
              "2845341  34.133930 -117.230920  34.137360 -117.239340         0.537   \n",
              "\n",
              "                                               Description  ...  Roundabout  \\\n",
              "0        Between Sawmill Rd/Exit 20 and OH-315/Olentang...  ...       False   \n",
              "1                       At OH-4/OH-235/Exit 41 - Accident.  ...       False   \n",
              "2                         At I-71/US-50/Exit 1 - Accident.  ...       False   \n",
              "3                          At Dart Ave/Exit 21 - Accident.  ...       False   \n",
              "4                       At Mitchell Ave/Exit 6 - Accident.  ...       False   \n",
              "...                                                    ...  ...         ...   \n",
              "2845337                           At Market St - Accident.  ...       False   \n",
              "2845338    At Camino Del Rio/Mission Center Rd - Accident.  ...       False   \n",
              "2845339  At Glassell St/Grand Ave - Accident. in the ri...  ...       False   \n",
              "2845340     At CA-90/Marina Fwy/Jefferson Blvd - Accident.  ...       False   \n",
              "2845341              At Highland Ave/Arden Ave - Accident.  ...       False   \n",
              "\n",
              "        Station   Stop Traffic_Calming Traffic_Signal Turning_Loop  \\\n",
              "0         False  False           False          False        False   \n",
              "1         False  False           False          False        False   \n",
              "2         False  False           False          False        False   \n",
              "3         False  False           False          False        False   \n",
              "4         False  False           False          False        False   \n",
              "...         ...    ...             ...            ...          ...   \n",
              "2845337   False  False           False          False        False   \n",
              "2845338   False  False           False          False        False   \n",
              "2845339   False  False           False          False        False   \n",
              "2845340   False  False           False          False        False   \n",
              "2845341   False  False           False          False        False   \n",
              "\n",
              "        Sunrise_Sunset Civil_Twilight Nautical_Twilight Astronomical_Twilight  \n",
              "0                Night          Night             Night                 Night  \n",
              "1                Night          Night             Night                 Night  \n",
              "2                Night          Night             Night                   Day  \n",
              "3                Night          Night               Day                   Day  \n",
              "4                  Day            Day               Day                   Day  \n",
              "...                ...            ...               ...                   ...  \n",
              "2845337            Day            Day               Day                   Day  \n",
              "2845338            Day            Day               Day                   Day  \n",
              "2845339            Day            Day               Day                   Day  \n",
              "2845340            Day            Day               Day                   Day  \n",
              "2845341            Day            Day               Day                   Day  \n",
              "\n",
              "[2845342 rows x 47 columns]"
            ],
            "text/html": [
              "\n",
              "  <div id=\"df-990b6fc8-119e-4b20-8da7-1bf794974d35\">\n",
              "    <div class=\"colab-df-container\">\n",
              "      <div>\n",
              "<style scoped>\n",
              "    .dataframe tbody tr th:only-of-type {\n",
              "        vertical-align: middle;\n",
              "    }\n",
              "\n",
              "    .dataframe tbody tr th {\n",
              "        vertical-align: top;\n",
              "    }\n",
              "\n",
              "    .dataframe thead th {\n",
              "        text-align: right;\n",
              "    }\n",
              "</style>\n",
              "<table border=\"1\" class=\"dataframe\">\n",
              "  <thead>\n",
              "    <tr style=\"text-align: right;\">\n",
              "      <th></th>\n",
              "      <th>ID</th>\n",
              "      <th>Severity</th>\n",
              "      <th>Start_Time</th>\n",
              "      <th>End_Time</th>\n",
              "      <th>Start_Lat</th>\n",
              "      <th>Start_Lng</th>\n",
              "      <th>End_Lat</th>\n",
              "      <th>End_Lng</th>\n",
              "      <th>Distance(mi)</th>\n",
              "      <th>Description</th>\n",
              "      <th>...</th>\n",
              "      <th>Roundabout</th>\n",
              "      <th>Station</th>\n",
              "      <th>Stop</th>\n",
              "      <th>Traffic_Calming</th>\n",
              "      <th>Traffic_Signal</th>\n",
              "      <th>Turning_Loop</th>\n",
              "      <th>Sunrise_Sunset</th>\n",
              "      <th>Civil_Twilight</th>\n",
              "      <th>Nautical_Twilight</th>\n",
              "      <th>Astronomical_Twilight</th>\n",
              "    </tr>\n",
              "  </thead>\n",
              "  <tbody>\n",
              "    <tr>\n",
              "      <th>0</th>\n",
              "      <td>A-1</td>\n",
              "      <td>3</td>\n",
              "      <td>2016-02-08 00:37:08</td>\n",
              "      <td>2016-02-08 06:37:08</td>\n",
              "      <td>40.108910</td>\n",
              "      <td>-83.092860</td>\n",
              "      <td>40.112060</td>\n",
              "      <td>-83.031870</td>\n",
              "      <td>3.230</td>\n",
              "      <td>Between Sawmill Rd/Exit 20 and OH-315/Olentang...</td>\n",
              "      <td>...</td>\n",
              "      <td>False</td>\n",
              "      <td>False</td>\n",
              "      <td>False</td>\n",
              "      <td>False</td>\n",
              "      <td>False</td>\n",
              "      <td>False</td>\n",
              "      <td>Night</td>\n",
              "      <td>Night</td>\n",
              "      <td>Night</td>\n",
              "      <td>Night</td>\n",
              "    </tr>\n",
              "    <tr>\n",
              "      <th>1</th>\n",
              "      <td>A-2</td>\n",
              "      <td>2</td>\n",
              "      <td>2016-02-08 05:56:20</td>\n",
              "      <td>2016-02-08 11:56:20</td>\n",
              "      <td>39.865420</td>\n",
              "      <td>-84.062800</td>\n",
              "      <td>39.865010</td>\n",
              "      <td>-84.048730</td>\n",
              "      <td>0.747</td>\n",
              "      <td>At OH-4/OH-235/Exit 41 - Accident.</td>\n",
              "      <td>...</td>\n",
              "      <td>False</td>\n",
              "      <td>False</td>\n",
              "      <td>False</td>\n",
              "      <td>False</td>\n",
              "      <td>False</td>\n",
              "      <td>False</td>\n",
              "      <td>Night</td>\n",
              "      <td>Night</td>\n",
              "      <td>Night</td>\n",
              "      <td>Night</td>\n",
              "    </tr>\n",
              "    <tr>\n",
              "      <th>2</th>\n",
              "      <td>A-3</td>\n",
              "      <td>2</td>\n",
              "      <td>2016-02-08 06:15:39</td>\n",
              "      <td>2016-02-08 12:15:39</td>\n",
              "      <td>39.102660</td>\n",
              "      <td>-84.524680</td>\n",
              "      <td>39.102090</td>\n",
              "      <td>-84.523960</td>\n",
              "      <td>0.055</td>\n",
              "      <td>At I-71/US-50/Exit 1 - Accident.</td>\n",
              "      <td>...</td>\n",
              "      <td>False</td>\n",
              "      <td>False</td>\n",
              "      <td>False</td>\n",
              "      <td>False</td>\n",
              "      <td>False</td>\n",
              "      <td>False</td>\n",
              "      <td>Night</td>\n",
              "      <td>Night</td>\n",
              "      <td>Night</td>\n",
              "      <td>Day</td>\n",
              "    </tr>\n",
              "    <tr>\n",
              "      <th>3</th>\n",
              "      <td>A-4</td>\n",
              "      <td>2</td>\n",
              "      <td>2016-02-08 06:51:45</td>\n",
              "      <td>2016-02-08 12:51:45</td>\n",
              "      <td>41.062130</td>\n",
              "      <td>-81.537840</td>\n",
              "      <td>41.062170</td>\n",
              "      <td>-81.535470</td>\n",
              "      <td>0.123</td>\n",
              "      <td>At Dart Ave/Exit 21 - Accident.</td>\n",
              "      <td>...</td>\n",
              "      <td>False</td>\n",
              "      <td>False</td>\n",
              "      <td>False</td>\n",
              "      <td>False</td>\n",
              "      <td>False</td>\n",
              "      <td>False</td>\n",
              "      <td>Night</td>\n",
              "      <td>Night</td>\n",
              "      <td>Day</td>\n",
              "      <td>Day</td>\n",
              "    </tr>\n",
              "    <tr>\n",
              "      <th>4</th>\n",
              "      <td>A-5</td>\n",
              "      <td>3</td>\n",
              "      <td>2016-02-08 07:53:43</td>\n",
              "      <td>2016-02-08 13:53:43</td>\n",
              "      <td>39.172393</td>\n",
              "      <td>-84.492792</td>\n",
              "      <td>39.170476</td>\n",
              "      <td>-84.501798</td>\n",
              "      <td>0.500</td>\n",
              "      <td>At Mitchell Ave/Exit 6 - Accident.</td>\n",
              "      <td>...</td>\n",
              "      <td>False</td>\n",
              "      <td>False</td>\n",
              "      <td>False</td>\n",
              "      <td>False</td>\n",
              "      <td>False</td>\n",
              "      <td>False</td>\n",
              "      <td>Day</td>\n",
              "      <td>Day</td>\n",
              "      <td>Day</td>\n",
              "      <td>Day</td>\n",
              "    </tr>\n",
              "    <tr>\n",
              "      <th>...</th>\n",
              "      <td>...</td>\n",
              "      <td>...</td>\n",
              "      <td>...</td>\n",
              "      <td>...</td>\n",
              "      <td>...</td>\n",
              "      <td>...</td>\n",
              "      <td>...</td>\n",
              "      <td>...</td>\n",
              "      <td>...</td>\n",
              "      <td>...</td>\n",
              "      <td>...</td>\n",
              "      <td>...</td>\n",
              "      <td>...</td>\n",
              "      <td>...</td>\n",
              "      <td>...</td>\n",
              "      <td>...</td>\n",
              "      <td>...</td>\n",
              "      <td>...</td>\n",
              "      <td>...</td>\n",
              "      <td>...</td>\n",
              "      <td>...</td>\n",
              "    </tr>\n",
              "    <tr>\n",
              "      <th>2845337</th>\n",
              "      <td>A-2845338</td>\n",
              "      <td>2</td>\n",
              "      <td>2019-08-23 18:03:25</td>\n",
              "      <td>2019-08-23 18:32:01</td>\n",
              "      <td>34.002480</td>\n",
              "      <td>-117.379360</td>\n",
              "      <td>33.998880</td>\n",
              "      <td>-117.370940</td>\n",
              "      <td>0.543</td>\n",
              "      <td>At Market St - Accident.</td>\n",
              "      <td>...</td>\n",
              "      <td>False</td>\n",
              "      <td>False</td>\n",
              "      <td>False</td>\n",
              "      <td>False</td>\n",
              "      <td>False</td>\n",
              "      <td>False</td>\n",
              "      <td>Day</td>\n",
              "      <td>Day</td>\n",
              "      <td>Day</td>\n",
              "      <td>Day</td>\n",
              "    </tr>\n",
              "    <tr>\n",
              "      <th>2845338</th>\n",
              "      <td>A-2845339</td>\n",
              "      <td>2</td>\n",
              "      <td>2019-08-23 19:11:30</td>\n",
              "      <td>2019-08-23 19:38:23</td>\n",
              "      <td>32.766960</td>\n",
              "      <td>-117.148060</td>\n",
              "      <td>32.765550</td>\n",
              "      <td>-117.153630</td>\n",
              "      <td>0.338</td>\n",
              "      <td>At Camino Del Rio/Mission Center Rd - Accident.</td>\n",
              "      <td>...</td>\n",
              "      <td>False</td>\n",
              "      <td>False</td>\n",
              "      <td>False</td>\n",
              "      <td>False</td>\n",
              "      <td>False</td>\n",
              "      <td>False</td>\n",
              "      <td>Day</td>\n",
              "      <td>Day</td>\n",
              "      <td>Day</td>\n",
              "      <td>Day</td>\n",
              "    </tr>\n",
              "    <tr>\n",
              "      <th>2845339</th>\n",
              "      <td>A-2845340</td>\n",
              "      <td>2</td>\n",
              "      <td>2019-08-23 19:00:21</td>\n",
              "      <td>2019-08-23 19:28:49</td>\n",
              "      <td>33.775450</td>\n",
              "      <td>-117.847790</td>\n",
              "      <td>33.777400</td>\n",
              "      <td>-117.857270</td>\n",
              "      <td>0.561</td>\n",
              "      <td>At Glassell St/Grand Ave - Accident. in the ri...</td>\n",
              "      <td>...</td>\n",
              "      <td>False</td>\n",
              "      <td>False</td>\n",
              "      <td>False</td>\n",
              "      <td>False</td>\n",
              "      <td>False</td>\n",
              "      <td>False</td>\n",
              "      <td>Day</td>\n",
              "      <td>Day</td>\n",
              "      <td>Day</td>\n",
              "      <td>Day</td>\n",
              "    </tr>\n",
              "    <tr>\n",
              "      <th>2845340</th>\n",
              "      <td>A-2845341</td>\n",
              "      <td>2</td>\n",
              "      <td>2019-08-23 19:00:21</td>\n",
              "      <td>2019-08-23 19:29:42</td>\n",
              "      <td>33.992460</td>\n",
              "      <td>-118.403020</td>\n",
              "      <td>33.983110</td>\n",
              "      <td>-118.395650</td>\n",
              "      <td>0.772</td>\n",
              "      <td>At CA-90/Marina Fwy/Jefferson Blvd - Accident.</td>\n",
              "      <td>...</td>\n",
              "      <td>False</td>\n",
              "      <td>False</td>\n",
              "      <td>False</td>\n",
              "      <td>False</td>\n",
              "      <td>False</td>\n",
              "      <td>False</td>\n",
              "      <td>Day</td>\n",
              "      <td>Day</td>\n",
              "      <td>Day</td>\n",
              "      <td>Day</td>\n",
              "    </tr>\n",
              "    <tr>\n",
              "      <th>2845341</th>\n",
              "      <td>A-2845342</td>\n",
              "      <td>2</td>\n",
              "      <td>2019-08-23 18:52:06</td>\n",
              "      <td>2019-08-23 19:21:31</td>\n",
              "      <td>34.133930</td>\n",
              "      <td>-117.230920</td>\n",
              "      <td>34.137360</td>\n",
              "      <td>-117.239340</td>\n",
              "      <td>0.537</td>\n",
              "      <td>At Highland Ave/Arden Ave - Accident.</td>\n",
              "      <td>...</td>\n",
              "      <td>False</td>\n",
              "      <td>False</td>\n",
              "      <td>False</td>\n",
              "      <td>False</td>\n",
              "      <td>False</td>\n",
              "      <td>False</td>\n",
              "      <td>Day</td>\n",
              "      <td>Day</td>\n",
              "      <td>Day</td>\n",
              "      <td>Day</td>\n",
              "    </tr>\n",
              "  </tbody>\n",
              "</table>\n",
              "<p>2845342 rows × 47 columns</p>\n",
              "</div>\n",
              "      <button class=\"colab-df-convert\" onclick=\"convertToInteractive('df-990b6fc8-119e-4b20-8da7-1bf794974d35')\"\n",
              "              title=\"Convert this dataframe to an interactive table.\"\n",
              "              style=\"display:none;\">\n",
              "        \n",
              "  <svg xmlns=\"http://www.w3.org/2000/svg\" height=\"24px\"viewBox=\"0 0 24 24\"\n",
              "       width=\"24px\">\n",
              "    <path d=\"M0 0h24v24H0V0z\" fill=\"none\"/>\n",
              "    <path d=\"M18.56 5.44l.94 2.06.94-2.06 2.06-.94-2.06-.94-.94-2.06-.94 2.06-2.06.94zm-11 1L8.5 8.5l.94-2.06 2.06-.94-2.06-.94L8.5 2.5l-.94 2.06-2.06.94zm10 10l.94 2.06.94-2.06 2.06-.94-2.06-.94-.94-2.06-.94 2.06-2.06.94z\"/><path d=\"M17.41 7.96l-1.37-1.37c-.4-.4-.92-.59-1.43-.59-.52 0-1.04.2-1.43.59L10.3 9.45l-7.72 7.72c-.78.78-.78 2.05 0 2.83L4 21.41c.39.39.9.59 1.41.59.51 0 1.02-.2 1.41-.59l7.78-7.78 2.81-2.81c.8-.78.8-2.07 0-2.86zM5.41 20L4 18.59l7.72-7.72 1.47 1.35L5.41 20z\"/>\n",
              "  </svg>\n",
              "      </button>\n",
              "      \n",
              "  <style>\n",
              "    .colab-df-container {\n",
              "      display:flex;\n",
              "      flex-wrap:wrap;\n",
              "      gap: 12px;\n",
              "    }\n",
              "\n",
              "    .colab-df-convert {\n",
              "      background-color: #E8F0FE;\n",
              "      border: none;\n",
              "      border-radius: 50%;\n",
              "      cursor: pointer;\n",
              "      display: none;\n",
              "      fill: #1967D2;\n",
              "      height: 32px;\n",
              "      padding: 0 0 0 0;\n",
              "      width: 32px;\n",
              "    }\n",
              "\n",
              "    .colab-df-convert:hover {\n",
              "      background-color: #E2EBFA;\n",
              "      box-shadow: 0px 1px 2px rgba(60, 64, 67, 0.3), 0px 1px 3px 1px rgba(60, 64, 67, 0.15);\n",
              "      fill: #174EA6;\n",
              "    }\n",
              "\n",
              "    [theme=dark] .colab-df-convert {\n",
              "      background-color: #3B4455;\n",
              "      fill: #D2E3FC;\n",
              "    }\n",
              "\n",
              "    [theme=dark] .colab-df-convert:hover {\n",
              "      background-color: #434B5C;\n",
              "      box-shadow: 0px 1px 3px 1px rgba(0, 0, 0, 0.15);\n",
              "      filter: drop-shadow(0px 1px 2px rgba(0, 0, 0, 0.3));\n",
              "      fill: #FFFFFF;\n",
              "    }\n",
              "  </style>\n",
              "\n",
              "      <script>\n",
              "        const buttonEl =\n",
              "          document.querySelector('#df-990b6fc8-119e-4b20-8da7-1bf794974d35 button.colab-df-convert');\n",
              "        buttonEl.style.display =\n",
              "          google.colab.kernel.accessAllowed ? 'block' : 'none';\n",
              "\n",
              "        async function convertToInteractive(key) {\n",
              "          const element = document.querySelector('#df-990b6fc8-119e-4b20-8da7-1bf794974d35');\n",
              "          const dataTable =\n",
              "            await google.colab.kernel.invokeFunction('convertToInteractive',\n",
              "                                                     [key], {});\n",
              "          if (!dataTable) return;\n",
              "\n",
              "          const docLinkHtml = 'Like what you see? Visit the ' +\n",
              "            '<a target=\"_blank\" href=https://colab.research.google.com/notebooks/data_table.ipynb>data table notebook</a>'\n",
              "            + ' to learn more about interactive tables.';\n",
              "          element.innerHTML = '';\n",
              "          dataTable['output_type'] = 'display_data';\n",
              "          await google.colab.output.renderOutput(dataTable, element);\n",
              "          const docLink = document.createElement('div');\n",
              "          docLink.innerHTML = docLinkHtml;\n",
              "          element.appendChild(docLink);\n",
              "        }\n",
              "      </script>\n",
              "    </div>\n",
              "  </div>\n",
              "  "
            ]
          },
          "metadata": {},
          "execution_count": 5
        }
      ]
    },
    {
      "cell_type": "code",
      "source": [
        "from google.colab import drive\n",
        "drive.mount('/content/drive')"
      ],
      "metadata": {
        "id": "vga2b0yshmn9"
      },
      "execution_count": null,
      "outputs": []
    },
    {
      "cell_type": "code",
      "source": [
        "df.info()"
      ],
      "metadata": {
        "colab": {
          "base_uri": "https://localhost:8080/"
        },
        "id": "7QsF3tk89Gx1",
        "outputId": "096a8fb4-27cd-4fb0-a065-a2b1b22959af"
      },
      "execution_count": null,
      "outputs": [
        {
          "output_type": "stream",
          "name": "stdout",
          "text": [
            "<class 'pandas.core.frame.DataFrame'>\n",
            "RangeIndex: 2845342 entries, 0 to 2845341\n",
            "Data columns (total 47 columns):\n",
            " #   Column                 Dtype  \n",
            "---  ------                 -----  \n",
            " 0   ID                     object \n",
            " 1   Severity               int64  \n",
            " 2   Start_Time             object \n",
            " 3   End_Time               object \n",
            " 4   Start_Lat              float64\n",
            " 5   Start_Lng              float64\n",
            " 6   End_Lat                float64\n",
            " 7   End_Lng                float64\n",
            " 8   Distance(mi)           float64\n",
            " 9   Description            object \n",
            " 10  Number                 float64\n",
            " 11  Street                 object \n",
            " 12  Side                   object \n",
            " 13  City                   object \n",
            " 14  County                 object \n",
            " 15  State                  object \n",
            " 16  Zipcode                object \n",
            " 17  Country                object \n",
            " 18  Timezone               object \n",
            " 19  Airport_Code           object \n",
            " 20  Weather_Timestamp      object \n",
            " 21  Temperature(F)         float64\n",
            " 22  Wind_Chill(F)          float64\n",
            " 23  Humidity(%)            float64\n",
            " 24  Pressure(in)           float64\n",
            " 25  Visibility(mi)         float64\n",
            " 26  Wind_Direction         object \n",
            " 27  Wind_Speed(mph)        float64\n",
            " 28  Precipitation(in)      float64\n",
            " 29  Weather_Condition      object \n",
            " 30  Amenity                bool   \n",
            " 31  Bump                   bool   \n",
            " 32  Crossing               bool   \n",
            " 33  Give_Way               bool   \n",
            " 34  Junction               bool   \n",
            " 35  No_Exit                bool   \n",
            " 36  Railway                bool   \n",
            " 37  Roundabout             bool   \n",
            " 38  Station                bool   \n",
            " 39  Stop                   bool   \n",
            " 40  Traffic_Calming        bool   \n",
            " 41  Traffic_Signal         bool   \n",
            " 42  Turning_Loop           bool   \n",
            " 43  Sunrise_Sunset         object \n",
            " 44  Civil_Twilight         object \n",
            " 45  Nautical_Twilight      object \n",
            " 46  Astronomical_Twilight  object \n",
            "dtypes: bool(13), float64(13), int64(1), object(20)\n",
            "memory usage: 773.4+ MB\n"
          ]
        }
      ]
    },
    {
      "cell_type": "code",
      "source": [
        "df.describe()"
      ],
      "metadata": {
        "colab": {
          "base_uri": "https://localhost:8080/",
          "height": 364
        },
        "id": "rEBeVH62DB_E",
        "outputId": "2edbdb1c-7c46-49f5-b6d2-d131f33c91ef"
      },
      "execution_count": null,
      "outputs": [
        {
          "output_type": "execute_result",
          "data": {
            "text/plain": [
              "           Severity     Start_Lat     Start_Lng       End_Lat       End_Lng  \\\n",
              "count  2.845342e+06  2.845342e+06  2.845342e+06  2.845342e+06  2.845342e+06   \n",
              "mean   2.137572e+00  3.624520e+01 -9.711463e+01  3.624532e+01 -9.711439e+01   \n",
              "std    4.787216e-01  5.363797e+00  1.831782e+01  5.363873e+00  1.831763e+01   \n",
              "min    1.000000e+00  2.456603e+01 -1.245481e+02  2.456601e+01 -1.245457e+02   \n",
              "25%    2.000000e+00  3.344517e+01 -1.180331e+02  3.344628e+01 -1.180333e+02   \n",
              "50%    2.000000e+00  3.609861e+01 -9.241808e+01  3.609799e+01 -9.241772e+01   \n",
              "75%    2.000000e+00  4.016024e+01 -8.037243e+01  4.016105e+01 -8.037338e+01   \n",
              "max    4.000000e+00  4.900058e+01 -6.711317e+01  4.907500e+01 -6.710924e+01   \n",
              "\n",
              "       Distance(mi)        Number  Temperature(F)  Wind_Chill(F)  \\\n",
              "count  2.845342e+06  1.101431e+06    2.776068e+06   2.375699e+06   \n",
              "mean   7.026779e-01  8.089408e+03    6.179356e+01   5.965823e+01   \n",
              "std    1.560361e+00  1.836009e+04    1.862263e+01   2.116097e+01   \n",
              "min    0.000000e+00  0.000000e+00   -8.900000e+01  -8.900000e+01   \n",
              "25%    5.200000e-02  1.270000e+03    5.000000e+01   4.600000e+01   \n",
              "50%    2.440000e-01  4.007000e+03    6.400000e+01   6.300000e+01   \n",
              "75%    7.640000e-01  9.567000e+03    7.600000e+01   7.600000e+01   \n",
              "max    1.551860e+02  9.999997e+06    1.960000e+02   1.960000e+02   \n",
              "\n",
              "        Humidity(%)  Pressure(in)  Visibility(mi)  Wind_Speed(mph)  \\\n",
              "count  2.772250e+06  2.786142e+06    2.774796e+06     2.687398e+06   \n",
              "mean   6.436545e+01  2.947234e+01    9.099391e+00     7.395044e+00   \n",
              "std    2.287457e+01  1.045286e+00    2.717546e+00     5.527454e+00   \n",
              "min    1.000000e+00  0.000000e+00    0.000000e+00     0.000000e+00   \n",
              "25%    4.800000e+01  2.931000e+01    1.000000e+01     3.500000e+00   \n",
              "50%    6.700000e+01  2.982000e+01    1.000000e+01     7.000000e+00   \n",
              "75%    8.300000e+01  3.001000e+01    1.000000e+01     1.000000e+01   \n",
              "max    1.000000e+02  5.890000e+01    1.400000e+02     1.087000e+03   \n",
              "\n",
              "       Precipitation(in)  \n",
              "count       2.295884e+06  \n",
              "mean        7.016940e-03  \n",
              "std         9.348831e-02  \n",
              "min         0.000000e+00  \n",
              "25%         0.000000e+00  \n",
              "50%         0.000000e+00  \n",
              "75%         0.000000e+00  \n",
              "max         2.400000e+01  "
            ],
            "text/html": [
              "\n",
              "  <div id=\"df-519d76ca-0a10-4b32-b65a-55b0cc87ba74\">\n",
              "    <div class=\"colab-df-container\">\n",
              "      <div>\n",
              "<style scoped>\n",
              "    .dataframe tbody tr th:only-of-type {\n",
              "        vertical-align: middle;\n",
              "    }\n",
              "\n",
              "    .dataframe tbody tr th {\n",
              "        vertical-align: top;\n",
              "    }\n",
              "\n",
              "    .dataframe thead th {\n",
              "        text-align: right;\n",
              "    }\n",
              "</style>\n",
              "<table border=\"1\" class=\"dataframe\">\n",
              "  <thead>\n",
              "    <tr style=\"text-align: right;\">\n",
              "      <th></th>\n",
              "      <th>Severity</th>\n",
              "      <th>Start_Lat</th>\n",
              "      <th>Start_Lng</th>\n",
              "      <th>End_Lat</th>\n",
              "      <th>End_Lng</th>\n",
              "      <th>Distance(mi)</th>\n",
              "      <th>Number</th>\n",
              "      <th>Temperature(F)</th>\n",
              "      <th>Wind_Chill(F)</th>\n",
              "      <th>Humidity(%)</th>\n",
              "      <th>Pressure(in)</th>\n",
              "      <th>Visibility(mi)</th>\n",
              "      <th>Wind_Speed(mph)</th>\n",
              "      <th>Precipitation(in)</th>\n",
              "    </tr>\n",
              "  </thead>\n",
              "  <tbody>\n",
              "    <tr>\n",
              "      <th>count</th>\n",
              "      <td>2.845342e+06</td>\n",
              "      <td>2.845342e+06</td>\n",
              "      <td>2.845342e+06</td>\n",
              "      <td>2.845342e+06</td>\n",
              "      <td>2.845342e+06</td>\n",
              "      <td>2.845342e+06</td>\n",
              "      <td>1.101431e+06</td>\n",
              "      <td>2.776068e+06</td>\n",
              "      <td>2.375699e+06</td>\n",
              "      <td>2.772250e+06</td>\n",
              "      <td>2.786142e+06</td>\n",
              "      <td>2.774796e+06</td>\n",
              "      <td>2.687398e+06</td>\n",
              "      <td>2.295884e+06</td>\n",
              "    </tr>\n",
              "    <tr>\n",
              "      <th>mean</th>\n",
              "      <td>2.137572e+00</td>\n",
              "      <td>3.624520e+01</td>\n",
              "      <td>-9.711463e+01</td>\n",
              "      <td>3.624532e+01</td>\n",
              "      <td>-9.711439e+01</td>\n",
              "      <td>7.026779e-01</td>\n",
              "      <td>8.089408e+03</td>\n",
              "      <td>6.179356e+01</td>\n",
              "      <td>5.965823e+01</td>\n",
              "      <td>6.436545e+01</td>\n",
              "      <td>2.947234e+01</td>\n",
              "      <td>9.099391e+00</td>\n",
              "      <td>7.395044e+00</td>\n",
              "      <td>7.016940e-03</td>\n",
              "    </tr>\n",
              "    <tr>\n",
              "      <th>std</th>\n",
              "      <td>4.787216e-01</td>\n",
              "      <td>5.363797e+00</td>\n",
              "      <td>1.831782e+01</td>\n",
              "      <td>5.363873e+00</td>\n",
              "      <td>1.831763e+01</td>\n",
              "      <td>1.560361e+00</td>\n",
              "      <td>1.836009e+04</td>\n",
              "      <td>1.862263e+01</td>\n",
              "      <td>2.116097e+01</td>\n",
              "      <td>2.287457e+01</td>\n",
              "      <td>1.045286e+00</td>\n",
              "      <td>2.717546e+00</td>\n",
              "      <td>5.527454e+00</td>\n",
              "      <td>9.348831e-02</td>\n",
              "    </tr>\n",
              "    <tr>\n",
              "      <th>min</th>\n",
              "      <td>1.000000e+00</td>\n",
              "      <td>2.456603e+01</td>\n",
              "      <td>-1.245481e+02</td>\n",
              "      <td>2.456601e+01</td>\n",
              "      <td>-1.245457e+02</td>\n",
              "      <td>0.000000e+00</td>\n",
              "      <td>0.000000e+00</td>\n",
              "      <td>-8.900000e+01</td>\n",
              "      <td>-8.900000e+01</td>\n",
              "      <td>1.000000e+00</td>\n",
              "      <td>0.000000e+00</td>\n",
              "      <td>0.000000e+00</td>\n",
              "      <td>0.000000e+00</td>\n",
              "      <td>0.000000e+00</td>\n",
              "    </tr>\n",
              "    <tr>\n",
              "      <th>25%</th>\n",
              "      <td>2.000000e+00</td>\n",
              "      <td>3.344517e+01</td>\n",
              "      <td>-1.180331e+02</td>\n",
              "      <td>3.344628e+01</td>\n",
              "      <td>-1.180333e+02</td>\n",
              "      <td>5.200000e-02</td>\n",
              "      <td>1.270000e+03</td>\n",
              "      <td>5.000000e+01</td>\n",
              "      <td>4.600000e+01</td>\n",
              "      <td>4.800000e+01</td>\n",
              "      <td>2.931000e+01</td>\n",
              "      <td>1.000000e+01</td>\n",
              "      <td>3.500000e+00</td>\n",
              "      <td>0.000000e+00</td>\n",
              "    </tr>\n",
              "    <tr>\n",
              "      <th>50%</th>\n",
              "      <td>2.000000e+00</td>\n",
              "      <td>3.609861e+01</td>\n",
              "      <td>-9.241808e+01</td>\n",
              "      <td>3.609799e+01</td>\n",
              "      <td>-9.241772e+01</td>\n",
              "      <td>2.440000e-01</td>\n",
              "      <td>4.007000e+03</td>\n",
              "      <td>6.400000e+01</td>\n",
              "      <td>6.300000e+01</td>\n",
              "      <td>6.700000e+01</td>\n",
              "      <td>2.982000e+01</td>\n",
              "      <td>1.000000e+01</td>\n",
              "      <td>7.000000e+00</td>\n",
              "      <td>0.000000e+00</td>\n",
              "    </tr>\n",
              "    <tr>\n",
              "      <th>75%</th>\n",
              "      <td>2.000000e+00</td>\n",
              "      <td>4.016024e+01</td>\n",
              "      <td>-8.037243e+01</td>\n",
              "      <td>4.016105e+01</td>\n",
              "      <td>-8.037338e+01</td>\n",
              "      <td>7.640000e-01</td>\n",
              "      <td>9.567000e+03</td>\n",
              "      <td>7.600000e+01</td>\n",
              "      <td>7.600000e+01</td>\n",
              "      <td>8.300000e+01</td>\n",
              "      <td>3.001000e+01</td>\n",
              "      <td>1.000000e+01</td>\n",
              "      <td>1.000000e+01</td>\n",
              "      <td>0.000000e+00</td>\n",
              "    </tr>\n",
              "    <tr>\n",
              "      <th>max</th>\n",
              "      <td>4.000000e+00</td>\n",
              "      <td>4.900058e+01</td>\n",
              "      <td>-6.711317e+01</td>\n",
              "      <td>4.907500e+01</td>\n",
              "      <td>-6.710924e+01</td>\n",
              "      <td>1.551860e+02</td>\n",
              "      <td>9.999997e+06</td>\n",
              "      <td>1.960000e+02</td>\n",
              "      <td>1.960000e+02</td>\n",
              "      <td>1.000000e+02</td>\n",
              "      <td>5.890000e+01</td>\n",
              "      <td>1.400000e+02</td>\n",
              "      <td>1.087000e+03</td>\n",
              "      <td>2.400000e+01</td>\n",
              "    </tr>\n",
              "  </tbody>\n",
              "</table>\n",
              "</div>\n",
              "      <button class=\"colab-df-convert\" onclick=\"convertToInteractive('df-519d76ca-0a10-4b32-b65a-55b0cc87ba74')\"\n",
              "              title=\"Convert this dataframe to an interactive table.\"\n",
              "              style=\"display:none;\">\n",
              "        \n",
              "  <svg xmlns=\"http://www.w3.org/2000/svg\" height=\"24px\"viewBox=\"0 0 24 24\"\n",
              "       width=\"24px\">\n",
              "    <path d=\"M0 0h24v24H0V0z\" fill=\"none\"/>\n",
              "    <path d=\"M18.56 5.44l.94 2.06.94-2.06 2.06-.94-2.06-.94-.94-2.06-.94 2.06-2.06.94zm-11 1L8.5 8.5l.94-2.06 2.06-.94-2.06-.94L8.5 2.5l-.94 2.06-2.06.94zm10 10l.94 2.06.94-2.06 2.06-.94-2.06-.94-.94-2.06-.94 2.06-2.06.94z\"/><path d=\"M17.41 7.96l-1.37-1.37c-.4-.4-.92-.59-1.43-.59-.52 0-1.04.2-1.43.59L10.3 9.45l-7.72 7.72c-.78.78-.78 2.05 0 2.83L4 21.41c.39.39.9.59 1.41.59.51 0 1.02-.2 1.41-.59l7.78-7.78 2.81-2.81c.8-.78.8-2.07 0-2.86zM5.41 20L4 18.59l7.72-7.72 1.47 1.35L5.41 20z\"/>\n",
              "  </svg>\n",
              "      </button>\n",
              "      \n",
              "  <style>\n",
              "    .colab-df-container {\n",
              "      display:flex;\n",
              "      flex-wrap:wrap;\n",
              "      gap: 12px;\n",
              "    }\n",
              "\n",
              "    .colab-df-convert {\n",
              "      background-color: #E8F0FE;\n",
              "      border: none;\n",
              "      border-radius: 50%;\n",
              "      cursor: pointer;\n",
              "      display: none;\n",
              "      fill: #1967D2;\n",
              "      height: 32px;\n",
              "      padding: 0 0 0 0;\n",
              "      width: 32px;\n",
              "    }\n",
              "\n",
              "    .colab-df-convert:hover {\n",
              "      background-color: #E2EBFA;\n",
              "      box-shadow: 0px 1px 2px rgba(60, 64, 67, 0.3), 0px 1px 3px 1px rgba(60, 64, 67, 0.15);\n",
              "      fill: #174EA6;\n",
              "    }\n",
              "\n",
              "    [theme=dark] .colab-df-convert {\n",
              "      background-color: #3B4455;\n",
              "      fill: #D2E3FC;\n",
              "    }\n",
              "\n",
              "    [theme=dark] .colab-df-convert:hover {\n",
              "      background-color: #434B5C;\n",
              "      box-shadow: 0px 1px 3px 1px rgba(0, 0, 0, 0.15);\n",
              "      filter: drop-shadow(0px 1px 2px rgba(0, 0, 0, 0.3));\n",
              "      fill: #FFFFFF;\n",
              "    }\n",
              "  </style>\n",
              "\n",
              "      <script>\n",
              "        const buttonEl =\n",
              "          document.querySelector('#df-519d76ca-0a10-4b32-b65a-55b0cc87ba74 button.colab-df-convert');\n",
              "        buttonEl.style.display =\n",
              "          google.colab.kernel.accessAllowed ? 'block' : 'none';\n",
              "\n",
              "        async function convertToInteractive(key) {\n",
              "          const element = document.querySelector('#df-519d76ca-0a10-4b32-b65a-55b0cc87ba74');\n",
              "          const dataTable =\n",
              "            await google.colab.kernel.invokeFunction('convertToInteractive',\n",
              "                                                     [key], {});\n",
              "          if (!dataTable) return;\n",
              "\n",
              "          const docLinkHtml = 'Like what you see? Visit the ' +\n",
              "            '<a target=\"_blank\" href=https://colab.research.google.com/notebooks/data_table.ipynb>data table notebook</a>'\n",
              "            + ' to learn more about interactive tables.';\n",
              "          element.innerHTML = '';\n",
              "          dataTable['output_type'] = 'display_data';\n",
              "          await google.colab.output.renderOutput(dataTable, element);\n",
              "          const docLink = document.createElement('div');\n",
              "          docLink.innerHTML = docLinkHtml;\n",
              "          element.appendChild(docLink);\n",
              "        }\n",
              "      </script>\n",
              "    </div>\n",
              "  </div>\n",
              "  "
            ]
          },
          "metadata": {},
          "execution_count": 19
        }
      ]
    },
    {
      "cell_type": "code",
      "source": [
        "# get numeric columns\n",
        "\n",
        "numerics = ['int16', 'int32', 'int64', 'float16', 'float32', 'float64']\n",
        "\n",
        "numeric_df = df.select_dtypes(include=numerics)\n",
        "len(numeric_df.columns)"
      ],
      "metadata": {
        "colab": {
          "base_uri": "https://localhost:8080/"
        },
        "id": "e8djoqTYDB4E",
        "outputId": "fb416aa5-8c46-4812-c19d-053606583f81"
      },
      "execution_count": null,
      "outputs": [
        {
          "output_type": "execute_result",
          "data": {
            "text/plain": [
              "14"
            ]
          },
          "metadata": {},
          "execution_count": 20
        }
      ]
    },
    {
      "cell_type": "markdown",
      "source": [
        "Percentage of missing values per column\n",
        "\n"
      ],
      "metadata": {
        "id": "BWKKAieOrw-e"
      }
    },
    {
      "cell_type": "code",
      "source": [
        "missing_percentages = df.isna().sum().sort_values(ascending=False) / len(df)\n",
        "missing_percentages\n"
      ],
      "metadata": {
        "colab": {
          "base_uri": "https://localhost:8080/"
        },
        "id": "Qri0fF-mK6vY",
        "outputId": "ca780f5b-d2d1-40e9-a286-eb104a77c00c"
      },
      "execution_count": null,
      "outputs": [
        {
          "output_type": "execute_result",
          "data": {
            "text/plain": [
              "Number                   6.129003e-01\n",
              "Precipitation(in)        1.931079e-01\n",
              "Wind_Chill(F)            1.650568e-01\n",
              "Wind_Speed(mph)          5.550967e-02\n",
              "Wind_Direction           2.592834e-02\n",
              "Humidity(%)              2.568830e-02\n",
              "Weather_Condition        2.482514e-02\n",
              "Visibility(mi)           2.479350e-02\n",
              "Temperature(F)           2.434646e-02\n",
              "Pressure(in)             2.080593e-02\n",
              "Weather_Timestamp        1.783125e-02\n",
              "Airport_Code             3.356011e-03\n",
              "Timezone                 1.285961e-03\n",
              "Nautical_Twilight        1.007612e-03\n",
              "Civil_Twilight           1.007612e-03\n",
              "Sunrise_Sunset           1.007612e-03\n",
              "Astronomical_Twilight    1.007612e-03\n",
              "Zipcode                  4.635647e-04\n",
              "City                     4.814887e-05\n",
              "Street                   7.029032e-07\n",
              "Country                  0.000000e+00\n",
              "Junction                 0.000000e+00\n",
              "Start_Time               0.000000e+00\n",
              "End_Time                 0.000000e+00\n",
              "Start_Lat                0.000000e+00\n",
              "Turning_Loop             0.000000e+00\n",
              "Traffic_Signal           0.000000e+00\n",
              "Traffic_Calming          0.000000e+00\n",
              "Stop                     0.000000e+00\n",
              "Station                  0.000000e+00\n",
              "Roundabout               0.000000e+00\n",
              "Railway                  0.000000e+00\n",
              "No_Exit                  0.000000e+00\n",
              "Crossing                 0.000000e+00\n",
              "Give_Way                 0.000000e+00\n",
              "Bump                     0.000000e+00\n",
              "Amenity                  0.000000e+00\n",
              "Start_Lng                0.000000e+00\n",
              "End_Lat                  0.000000e+00\n",
              "End_Lng                  0.000000e+00\n",
              "Distance(mi)             0.000000e+00\n",
              "Description              0.000000e+00\n",
              "Severity                 0.000000e+00\n",
              "Side                     0.000000e+00\n",
              "County                   0.000000e+00\n",
              "State                    0.000000e+00\n",
              "ID                       0.000000e+00\n",
              "dtype: float64"
            ]
          },
          "metadata": {},
          "execution_count": 21
        }
      ]
    },
    {
      "cell_type": "code",
      "source": [
        "type(missing_percentages)"
      ],
      "metadata": {
        "colab": {
          "base_uri": "https://localhost:8080/"
        },
        "id": "uqhDkWHitIjT",
        "outputId": "e13e95e2-f02c-4578-b24c-5dfaa795bef1"
      },
      "execution_count": null,
      "outputs": [
        {
          "output_type": "execute_result",
          "data": {
            "text/plain": [
              "pandas.core.series.Series"
            ]
          },
          "metadata": {},
          "execution_count": 22
        }
      ]
    },
    {
      "cell_type": "code",
      "source": [
        "missing_percentages[missing_percentages != 0].plot(kind='barh')"
      ],
      "metadata": {
        "colab": {
          "base_uri": "https://localhost:8080/",
          "height": 282
        },
        "id": "0r8p4eB4K6sg",
        "outputId": "3e8ab003-1407-429b-f18e-56b6ce7f957e"
      },
      "execution_count": null,
      "outputs": [
        {
          "output_type": "execute_result",
          "data": {
            "text/plain": [
              "<matplotlib.axes._subplots.AxesSubplot at 0x7fc3e2377ad0>"
            ]
          },
          "metadata": {},
          "execution_count": 23
        },
        {
          "output_type": "display_data",
          "data": {
            "text/plain": [
              "<Figure size 432x288 with 1 Axes>"
            ],
            "image/png": "[encoded data removed]"
          },
          "metadata": {
            "needs_background": "light"
          }
        }
      ]
    },
    {
      "cell_type": "markdown",
      "source": [
        "Consider removing columns with over 50% of missing data."
      ],
      "metadata": {
        "id": "sBePCzpkt3ut"
      }
    },
    {
      "cell_type": "markdown",
      "source": [
        "# Exploratory and Visualization\n",
        "\n",
        "Columns analyze:\n",
        "\n",
        "1.   City\n",
        "2.   Missing States\n",
        "1.   New York City\n",
        "3.   Start Time\n",
        "4.   Start_Lat, Start_Lng\n",
        "5.   Temperature\n",
        "6.   Weather Condition\n",
        "\n",
        "\n",
        "\n",
        "\n",
        "\n"
      ],
      "metadata": {
        "id": "n-tFE360uKic"
      }
    },
    {
      "cell_type": "markdown",
      "source": [
        "## 1. City"
      ],
      "metadata": {
        "id": "LsoTb8RxMy80"
      }
    },
    {
      "cell_type": "code",
      "source": [
        "# number of uniqe cities in City feild\n",
        "\n",
        "cities = df.City.unique()\n",
        "len(cities)"
      ],
      "metadata": {
        "colab": {
          "base_uri": "https://localhost:8080/"
        },
        "id": "9QsG2ydw269z",
        "outputId": "27382e5e-5334-4c85-d615-a1d0761ae7ef"
      },
      "execution_count": null,
      "outputs": [
        {
          "output_type": "execute_result",
          "data": {
            "text/plain": [
              "11682"
            ]
          },
          "metadata": {},
          "execution_count": 38
        }
      ]
    },
    {
      "cell_type": "code",
      "source": [
        "# 1. Accidents among Cities\n",
        "\n",
        "cities_by_accident = df.County.value_counts()\n",
        "cities_by_accident[:30]"
      ],
      "metadata": {
        "colab": {
          "base_uri": "https://localhost:8080/"
        },
        "id": "XowDGsqJuLqd",
        "outputId": "d29e0f12-a494-4633-9100-13a3f86c2816"
      },
      "execution_count": null,
      "outputs": [
        {
          "output_type": "execute_result",
          "data": {
            "text/plain": [
              "Los Angeles         234122\n",
              "Miami-Dade          143939\n",
              "Orange              114917\n",
              "San Bernardino       55018\n",
              "Dallas               50050\n",
              "San Diego            48366\n",
              "Sacramento           46708\n",
              "Harris               42559\n",
              "Riverside            42176\n",
              "Montgomery           41476\n",
              "Alameda              38997\n",
              "Mecklenburg          35191\n",
              "Maricopa             33539\n",
              "Wake                 31662\n",
              "Santa Clara          27415\n",
              "Hennepin             26560\n",
              "Davidson             26259\n",
              "Lake                 23584\n",
              "Marion               22437\n",
              "Cook                 21335\n",
              "Kern                 21310\n",
              "Broward              21217\n",
              "Jackson              20832\n",
              "Travis               20689\n",
              "Hillsborough         20499\n",
              "Salt Lake            20059\n",
              "Contra Costa         19726\n",
              "Multnomah            19303\n",
              "East Baton Rouge     19021\n",
              "Fairfax County       17948\n",
              "Name: County, dtype: int64"
            ]
          },
          "metadata": {},
          "execution_count": 20
        }
      ]
    },
    {
      "cell_type": "code",
      "source": [
        "type(cities_by_accident)"
      ],
      "metadata": {
        "colab": {
          "base_uri": "https://localhost:8080/"
        },
        "id": "p-4efuELfK4k",
        "outputId": "8037b063-d6d5-4138-dd43-4b581bfdeaec"
      },
      "execution_count": null,
      "outputs": [
        {
          "output_type": "execute_result",
          "data": {
            "text/plain": [
              "pandas.core.series.Series"
            ]
          },
          "metadata": {},
          "execution_count": 131
        }
      ]
    },
    {
      "cell_type": "code",
      "source": [
        "cities_by_accident[:30].plot(kind='barh')"
      ],
      "metadata": {
        "colab": {
          "base_uri": "https://localhost:8080/",
          "height": 283
        },
        "id": "MTkDVxZhckGo",
        "outputId": "2d25ec5a-4fe5-4f1a-ebfb-1bcdbdce14ae"
      },
      "execution_count": null,
      "outputs": [
        {
          "output_type": "execute_result",
          "data": {
            "text/plain": [
              "<matplotlib.axes._subplots.AxesSubplot at 0x7f3a50e45610>"
            ]
          },
          "metadata": {},
          "execution_count": 133
        },
        {
          "output_type": "display_data",
          "data": {
            "text/plain": [
              "<Figure size 432x288 with 1 Axes>"
            ],
            "image/png": "[encoded data removed]"
          },
          "metadata": {
            "needs_background": "light"
          }
        }
      ]
    },
    {
      "cell_type": "code",
      "source": [
        "import seaborn as sns\n",
        "sns.set_style(\"darkgrid\")"
      ],
      "metadata": {
        "id": "oOSTsRz7Vk1x"
      },
      "execution_count": null,
      "outputs": []
    },
    {
      "cell_type": "code",
      "source": [
        "sns.histplot(cities_by_accident, log_scale=True)\n"
      ],
      "metadata": {
        "colab": {
          "base_uri": "https://localhost:8080/",
          "height": 302
        },
        "id": "rwWvAuAAVllr",
        "outputId": "830a6cbc-72ff-440b-f625-bb6d3fae8669"
      },
      "execution_count": null,
      "outputs": [
        {
          "output_type": "execute_result",
          "data": {
            "text/plain": [
              "<matplotlib.axes._subplots.AxesSubplot at 0x7f3a42abab90>"
            ]
          },
          "metadata": {},
          "execution_count": 163
        },
        {
          "output_type": "display_data",
          "data": {
            "text/plain": [
              "<Figure size 432x288 with 1 Axes>"
            ],
            "image/png": "[encoded data removed]"
          },
          "metadata": {}
        }
      ]
    },
    {
      "cell_type": "code",
      "source": [
        "cities_by_accident[cities_by_accident <= 1 ].sum()"
      ],
      "metadata": {
        "colab": {
          "base_uri": "https://localhost:8080/"
        },
        "id": "dPpMOkc7V2Ht",
        "outputId": "2e351d50-6bfe-42fd-a62d-3e4fc856fef6"
      },
      "execution_count": null,
      "outputs": [
        {
          "output_type": "execute_result",
          "data": {
            "text/plain": [
              "66"
            ]
          },
          "metadata": {},
          "execution_count": 180
        }
      ]
    },
    {
      "cell_type": "code",
      "source": [
        ""
      ],
      "metadata": {
        "id": "fdY63-1DQ_45"
      },
      "execution_count": null,
      "outputs": []
    },
    {
      "cell_type": "markdown",
      "source": [
        "## 2.   Missing States\n"
      ],
      "metadata": {
        "id": "aXbaeA37MrYh"
      }
    },
    {
      "cell_type": "code",
      "source": [
        "df['State'].unique()"
      ],
      "metadata": {
        "colab": {
          "base_uri": "https://localhost:8080/"
        },
        "id": "OGDUrFoGi1hp",
        "outputId": "bffeb404-195c-4a73-8ece-45544a34e6a9"
      },
      "execution_count": null,
      "outputs": [
        {
          "output_type": "execute_result",
          "data": {
            "text/plain": [
              "array(['OH', 'IN', 'KY', 'WV', 'MI', 'PA', 'CA', 'NV', 'MN', 'TX', 'MO',\n",
              "       'CO', 'OK', 'LA', 'KS', 'WI', 'IA', 'MS', 'NE', 'ND', 'WY', 'SD',\n",
              "       'MT', 'NM', 'AR', 'IL', 'NJ', 'GA', 'FL', 'NY', 'CT', 'RI', 'SC',\n",
              "       'NC', 'MD', 'MA', 'TN', 'VA', 'DE', 'DC', 'ME', 'AL', 'NH', 'VT',\n",
              "       'AZ', 'UT', 'ID', 'OR', 'WA'], dtype=object)"
            ]
          },
          "metadata": {},
          "execution_count": 82
        }
      ]
    },
    {
      "cell_type": "code",
      "source": [
        "pd.Series(df['State'].unique()).count()\n"
      ],
      "metadata": {
        "colab": {
          "base_uri": "https://localhost:8080/"
        },
        "id": "uH9IFCdMkMRt",
        "outputId": "a4101ad0-a116-4eab-e0fb-d9720fcc962a"
      },
      "execution_count": null,
      "outputs": [
        {
          "output_type": "execute_result",
          "data": {
            "text/plain": [
              "49"
            ]
          },
          "metadata": {},
          "execution_count": 22
        }
      ]
    },
    {
      "cell_type": "code",
      "source": [
        "# import data for comparing missing States\n",
        "\n",
        "all_50_states= [ 'AK', 'AL', 'AR', 'AZ', 'CA', 'CO', 'CT', 'DC', 'DE', 'FL', 'GA',\n",
        "'HI', 'IA', 'ID', 'IL', 'IN', 'KS', 'KY', 'LA', 'MA', 'MD', 'ME',\n",
        "'MI', 'MN', 'MO', 'MS', 'MT', 'NC', 'ND', 'NE', 'NH', 'NJ', 'NM',\n",
        "'NV', 'NY', 'OH', 'OK', 'OR', 'PA', 'RI', 'SC', 'SD', 'TN', 'TX',\n",
        "'UT', 'VA', 'VT', 'WA', 'WI', 'WV', 'WY']\n",
        "\n",
        "from numpy.ma.core import count\n",
        "count(all_50_states)\n"
      ],
      "metadata": {
        "colab": {
          "base_uri": "https://localhost:8080/"
        },
        "id": "87pjpLHwnkN-",
        "outputId": "9830ea91-8502-4c0c-ed3a-3ee5f6a636da"
      },
      "execution_count": null,
      "outputs": [
        {
          "output_type": "execute_result",
          "data": {
            "text/plain": [
              "51"
            ]
          },
          "metadata": {},
          "execution_count": 31
        }
      ]
    },
    {
      "cell_type": "code",
      "source": [
        "import numpy as np\n",
        "\n",
        "df1 = pd.Series({'col1': all_50_states})\n",
        "df2 = pd.Series({'col2': df['State'].unique()})\n",
        "\n",
        "print(\"df.State is missing\",np.setdiff1d(df1['col1'], df2['col2']))"
      ],
      "metadata": {
        "colab": {
          "base_uri": "https://localhost:8080/"
        },
        "id": "jSBXgG9c4FQO",
        "outputId": "e95ccc79-9b69-4b72-de66-e5652437f4d7"
      },
      "execution_count": null,
      "outputs": [
        {
          "output_type": "stream",
          "name": "stdout",
          "text": [
            "df.State is missing ['AK' 'HI']\n"
          ]
        }
      ]
    },
    {
      "cell_type": "markdown",
      "source": [
        "## 3. Number of accidents New York City"
      ],
      "metadata": {
        "id": "BX9Fj1g2TI6t"
      }
    },
    {
      "cell_type": "code",
      "source": [
        "# Accidents in New York City (5 Boroughs)\n",
        "\n",
        "NYC_county = ['Bronx', 'New York', 'Kings', 'Richmond','Queens']\n",
        "\n",
        "Accidents_NY = df[df['State']=='NY']\n",
        "\n",
        "Accidents_NY[Accidents_NY['County'].isin(NYC_county)]['County'].value_counts()\n"
      ],
      "metadata": {
        "colab": {
          "base_uri": "https://localhost:8080/"
        },
        "id": "1Tf9b_FdPbzx",
        "outputId": "0baf3e77-9427-46d6-ada1-6c4c71f5a4e1"
      },
      "execution_count": null,
      "outputs": [
        {
          "output_type": "execute_result",
          "data": {
            "text/plain": [
              "Queens      12556\n",
              "Bronx        9461\n",
              "New York     7155\n",
              "Kings        5983\n",
              "Richmond     1561\n",
              "Name: County, dtype: int64"
            ]
          },
          "metadata": {},
          "execution_count": 24
        }
      ]
    },
    {
      "cell_type": "code",
      "source": [
        "Accidents_NY[Accidents_NY['County'].isin(NYC_county)]['County'].count()\n"
      ],
      "metadata": {
        "colab": {
          "base_uri": "https://localhost:8080/"
        },
        "id": "7k1RS6O-R5CF",
        "outputId": "4c6c0d34-995f-4413-b0b4-bc2c639fbe25"
      },
      "execution_count": null,
      "outputs": [
        {
          "output_type": "execute_result",
          "data": {
            "text/plain": [
              "36716"
            ]
          },
          "metadata": {},
          "execution_count": 25
        }
      ]
    },
    {
      "cell_type": "markdown",
      "source": [
        "## 4. Start Time"
      ],
      "metadata": {
        "id": "dtSnjTuVYNjG"
      }
    },
    {
      "cell_type": "code",
      "source": [
        "df.Start_Time\n"
      ],
      "metadata": {
        "colab": {
          "base_uri": "https://localhost:8080/"
        },
        "id": "H2UFwTfMYOj5",
        "outputId": "577bcbac-e7d7-4974-aed8-e7a86d51ab29"
      },
      "execution_count": null,
      "outputs": [
        {
          "output_type": "execute_result",
          "data": {
            "text/plain": [
              "0          2016-02-08 00:37:08\n",
              "1          2016-02-08 05:56:20\n",
              "2          2016-02-08 06:15:39\n",
              "3          2016-02-08 06:51:45\n",
              "4          2016-02-08 07:53:43\n",
              "                  ...         \n",
              "2845337    2019-08-23 18:03:25\n",
              "2845338    2019-08-23 19:11:30\n",
              "2845339    2019-08-23 19:00:21\n",
              "2845340    2019-08-23 19:00:21\n",
              "2845341    2019-08-23 18:52:06\n",
              "Name: Start_Time, Length: 2845342, dtype: object"
            ]
          },
          "metadata": {},
          "execution_count": 26
        }
      ]
    },
    {
      "cell_type": "code",
      "source": [
        "# covert 'Start_Time' to datetime \n",
        "df.Start_Time = pd.to_datetime(df.Start_Time)\n",
        "\n",
        "import seaborn as sns\n",
        "\n",
        "sns.distplot(df.Start_Time.dt.hour, bins=24, kde=False, norm_hist=True)\n"
      ],
      "metadata": {
        "colab": {
          "base_uri": "https://localhost:8080/",
          "height": 352
        },
        "id": "rz7TWt95YY2K",
        "outputId": "f897ba4b-bf42-429f-aa55-2e24ed111105"
      },
      "execution_count": null,
      "outputs": [
        {
          "output_type": "stream",
          "name": "stderr",
          "text": [
            "/usr/local/lib/python3.7/dist-packages/seaborn/distributions.py:2619: FutureWarning: `distplot` is a deprecated function and will be removed in a future version. Please adapt your code to use either `displot` (a figure-level function with similar flexibility) or `histplot` (an axes-level function for histograms).\n",
            "  warnings.warn(msg, FutureWarning)\n"
          ]
        },
        {
          "output_type": "execute_result",
          "data": {
            "text/plain": [
              "<matplotlib.axes._subplots.AxesSubplot at 0x7f36f23b5890>"
            ]
          },
          "metadata": {},
          "execution_count": 11
        },
        {
          "output_type": "display_data",
          "data": {
            "text/plain": [
              "<Figure size 432x288 with 1 Axes>"
            ],
            "image/png": "[encoded data removed]"
          },
          "metadata": {
            "needs_background": "light"
          }
        }
      ]
    },
    {
      "cell_type": "markdown",
      "source": [
        "1. A high % of accidents occur between 2pm to 6pm (probably people in a hurry to get back home)\n",
        "2. Next higest percentage is 7am to 9am."
      ],
      "metadata": {
        "id": "KHNWMWNgae76"
      }
    },
    {
      "cell_type": "code",
      "source": [
        "# how about accidents occurance during a week?\n",
        "# 0 - 6 indicates Monday to Sunday\n",
        "\n",
        "sns.distplot(df.Start_Time.dt.dayofweek, bins=7, kde=False, norm_hist=True)\n"
      ],
      "metadata": {
        "colab": {
          "base_uri": "https://localhost:8080/",
          "height": 352
        },
        "id": "7KMYpSSMbNkj",
        "outputId": "a8f8aa46-7337-4581-9022-2412d5b14135"
      },
      "execution_count": null,
      "outputs": [
        {
          "output_type": "stream",
          "name": "stderr",
          "text": [
            "/usr/local/lib/python3.7/dist-packages/seaborn/distributions.py:2619: FutureWarning: `distplot` is a deprecated function and will be removed in a future version. Please adapt your code to use either `displot` (a figure-level function with similar flexibility) or `histplot` (an axes-level function for histograms).\n",
            "  warnings.warn(msg, FutureWarning)\n"
          ]
        },
        {
          "output_type": "execute_result",
          "data": {
            "text/plain": [
              "<matplotlib.axes._subplots.AxesSubplot at 0x7f8d6aee6710>"
            ]
          },
          "metadata": {},
          "execution_count": 34
        },
        {
          "output_type": "display_data",
          "data": {
            "text/plain": [
              "<Figure size 432x288 with 1 Axes>"
            ],
            "image/png": "[encoded data removed]"
          },
          "metadata": {
            "needs_background": "light"
          }
        }
      ]
    },
    {
      "cell_type": "code",
      "source": [
        "# on Saturday\n",
        "\n",
        "weekends_start_time = df.Start_Time[df.Start_Time.dt.dayofweek == 5&6]\n",
        "sns.distplot(weekends_start_time.dt.hour, bins=24, kde=False, norm_hist=True)"
      ],
      "metadata": {
        "colab": {
          "base_uri": "https://localhost:8080/",
          "height": 352
        },
        "id": "YHG0huTFb0Vj",
        "outputId": "143195af-e620-4e70-ec40-1c2143312b86"
      },
      "execution_count": null,
      "outputs": [
        {
          "output_type": "stream",
          "name": "stderr",
          "text": [
            "/usr/local/lib/python3.7/dist-packages/seaborn/distributions.py:2619: FutureWarning: `distplot` is a deprecated function and will be removed in a future version. Please adapt your code to use either `displot` (a figure-level function with similar flexibility) or `histplot` (an axes-level function for histograms).\n",
            "  warnings.warn(msg, FutureWarning)\n"
          ]
        },
        {
          "output_type": "execute_result",
          "data": {
            "text/plain": [
              "<matplotlib.axes._subplots.AxesSubplot at 0x7f8d65c79290>"
            ]
          },
          "metadata": {},
          "execution_count": 40
        },
        {
          "output_type": "display_data",
          "data": {
            "text/plain": [
              "<Figure size 432x288 with 1 Axes>"
            ],
            "image/png": "[encoded data removed]"
          },
          "metadata": {
            "needs_background": "light"
          }
        }
      ]
    },
    {
      "cell_type": "markdown",
      "source": [
        "accident in thorught out a year in months\n",
        "\n"
      ],
      "metadata": {
        "id": "wsb3ZZxY-Mcb"
      }
    },
    {
      "cell_type": "code",
      "source": [
        "sns.distplot(df.Start_Time.dt.month, bins=12, kde=False, norm_hist=True)\n"
      ],
      "metadata": {
        "colab": {
          "base_uri": "https://localhost:8080/",
          "height": 352
        },
        "id": "c-bifo02-L-v",
        "outputId": "2b3cb3e1-6bd0-4500-b6d5-661cb7cffab9"
      },
      "execution_count": null,
      "outputs": [
        {
          "output_type": "stream",
          "name": "stderr",
          "text": [
            "/usr/local/lib/python3.7/dist-packages/seaborn/distributions.py:2619: FutureWarning: `distplot` is a deprecated function and will be removed in a future version. Please adapt your code to use either `displot` (a figure-level function with similar flexibility) or `histplot` (an axes-level function for histograms).\n",
            "  warnings.warn(msg, FutureWarning)\n"
          ]
        },
        {
          "output_type": "execute_result",
          "data": {
            "text/plain": [
              "<matplotlib.axes._subplots.AxesSubplot at 0x7f371a9e4a90>"
            ]
          },
          "metadata": {},
          "execution_count": 12
        },
        {
          "output_type": "display_data",
          "data": {
            "text/plain": [
              "<Figure size 432x288 with 1 Axes>"
            ],
            "image/png": "[encoded data removed]"
          },
          "metadata": {
            "needs_background": "light"
          }
        }
      ]
    },
    {
      "cell_type": "markdown",
      "source": [
        ""
      ],
      "metadata": {
        "id": "vyXSSQC7_ao4"
      }
    },
    {
      "cell_type": "code",
      "source": [
        "# df_2019 = \n",
        "# df[df.Start_Time.dt.year == 2021].count()\n",
        "# df_2019_Bing = df_2019[df_2019.Source == 'MapQuest']\n",
        "# sns.distplot(df_2019.Start_Time.dt.month, bins=12, kde=False, norm_hist=True)\n",
        "\n",
        "df.Timezone.count_values()\n"
      ],
      "metadata": {
        "colab": {
          "base_uri": "https://localhost:8080/"
        },
        "id": "B5spJutF_Y76",
        "outputId": "6c28733c-a984-4f37-89ad-65330105c00a"
      },
      "execution_count": null,
      "outputs": [
        {
          "output_type": "execute_result",
          "data": {
            "text/plain": [
              "Index(['ID', 'Severity', 'Start_Time', 'End_Time', 'Start_Lat', 'Start_Lng',\n",
              "       'End_Lat', 'End_Lng', 'Distance(mi)', 'Description', 'Number', 'Street',\n",
              "       'Side', 'City', 'County', 'State', 'Zipcode', 'Country', 'Timezone',\n",
              "       'Airport_Code', 'Weather_Timestamp', 'Temperature(F)', 'Wind_Chill(F)',\n",
              "       'Humidity(%)', 'Pressure(in)', 'Visibility(mi)', 'Wind_Direction',\n",
              "       'Wind_Speed(mph)', 'Precipitation(in)', 'Weather_Condition', 'Amenity',\n",
              "       'Bump', 'Crossing', 'Give_Way', 'Junction', 'No_Exit', 'Railway',\n",
              "       'Roundabout', 'Station', 'Stop', 'Traffic_Calming', 'Traffic_Signal',\n",
              "       'Turning_Loop', 'Sunrise_Sunset', 'Civil_Twilight', 'Nautical_Twilight',\n",
              "       'Astronomical_Twilight'],\n",
              "      dtype='object')"
            ]
          },
          "metadata": {},
          "execution_count": 33
        }
      ]
    },
    {
      "cell_type": "markdown",
      "source": [
        "## 5. Start Latitude & Longitude\n"
      ],
      "metadata": {
        "id": "krJNoyLJNCy1"
      }
    },
    {
      "cell_type": "code",
      "source": [
        "df.Start_Lat"
      ],
      "metadata": {
        "colab": {
          "base_uri": "https://localhost:8080/"
        },
        "id": "ASVaaMp9NE2l",
        "outputId": "ffa6c045-4c77-49e5-e984-4ee1986eba59"
      },
      "execution_count": null,
      "outputs": [
        {
          "output_type": "execute_result",
          "data": {
            "text/plain": [
              "0          40.108910\n",
              "1          39.865420\n",
              "2          39.102660\n",
              "3          41.062130\n",
              "4          39.172393\n",
              "             ...    \n",
              "2845337    34.002480\n",
              "2845338    32.766960\n",
              "2845339    33.775450\n",
              "2845340    33.992460\n",
              "2845341    34.133930\n",
              "Name: Start_Lat, Length: 2845342, dtype: float64"
            ]
          },
          "metadata": {},
          "execution_count": 44
        }
      ]
    },
    {
      "cell_type": "code",
      "source": [
        "df.Start_Lng\n"
      ],
      "metadata": {
        "colab": {
          "base_uri": "https://localhost:8080/"
        },
        "id": "oiFlewIGPW-V",
        "outputId": "1b787277-d1bb-4125-b704-d767af5e4553"
      },
      "execution_count": null,
      "outputs": [
        {
          "output_type": "execute_result",
          "data": {
            "text/plain": [
              "0          -83.092860\n",
              "1          -84.062800\n",
              "2          -84.524680\n",
              "3          -81.537840\n",
              "4          -84.492792\n",
              "              ...    \n",
              "2845337   -117.379360\n",
              "2845338   -117.148060\n",
              "2845339   -117.847790\n",
              "2845340   -118.403020\n",
              "2845341   -117.230920\n",
              "Name: Start_Lng, Length: 2845342, dtype: float64"
            ]
          },
          "metadata": {},
          "execution_count": 45
        }
      ]
    },
    {
      "cell_type": "code",
      "source": [
        "sample_df = df.sample(int(0.1 * len(df)))\n",
        "\n",
        "sns.scatterplot(x=sample_df.Start_Lng, y=sample_df.Start_Lat, size=0.001)\n"
      ],
      "metadata": {
        "colab": {
          "base_uri": "https://localhost:8080/",
          "height": 299
        },
        "id": "8l9x_Q1WPW8Y",
        "outputId": "2bcf802d-5e24-4535-8987-1c8a62705ca2"
      },
      "execution_count": null,
      "outputs": [
        {
          "output_type": "execute_result",
          "data": {
            "text/plain": [
              "<matplotlib.axes._subplots.AxesSubplot at 0x7f36d9193e50>"
            ]
          },
          "metadata": {},
          "execution_count": 47
        },
        {
          "output_type": "display_data",
          "data": {
            "text/plain": [
              "<Figure size 432x288 with 1 Axes>"
            ],
            "image/png": "[encoded data removed]"
          },
          "metadata": {
            "needs_background": "light"
          }
        }
      ]
    },
    {
      "cell_type": "code",
      "source": [
        "for x in df[['Start_Lat', 'Start_Lng']].sample(100).iteritems():\n",
        "    print(x[1])"
      ],
      "metadata": {
        "colab": {
          "base_uri": "https://localhost:8080/"
        },
        "id": "rS5VsszHPW5i",
        "outputId": "7da0836b-48c0-4bad-a5e5-cf4356c4b904"
      },
      "execution_count": null,
      "outputs": [
        {
          "output_type": "stream",
          "name": "stdout",
          "text": [
            "2266021    40.861880\n",
            "537802     38.842903\n",
            "2094795    38.596377\n",
            "349514     32.856192\n",
            "702343     35.964352\n",
            "             ...    \n",
            "2069621    41.801830\n",
            "1211547    30.205403\n",
            "1792776    36.988472\n",
            "545075     34.075030\n",
            "1384306    37.584156\n",
            "Name: Start_Lat, Length: 100, dtype: float64\n",
            "2266021    -73.912560\n",
            "537802     -77.008656\n",
            "2094795   -121.443656\n",
            "349514     -96.904798\n",
            "702343    -119.152082\n",
            "              ...    \n",
            "2069621    -88.069080\n",
            "1211547    -97.758230\n",
            "1792776   -119.893673\n",
            "545075     -80.946074\n",
            "1384306   -122.328289\n",
            "Name: Start_Lng, Length: 100, dtype: float64\n"
          ]
        }
      ]
    },
    {
      "cell_type": "code",
      "source": [
        "# create a list of list with lat & lng\n",
        "zip(list(df.Start_Lat), list(df.Start_Lng))"
      ],
      "metadata": {
        "colab": {
          "base_uri": "https://localhost:8080/"
        },
        "id": "utnhoeNapaW8",
        "outputId": "8a00003c-37c5-47b3-b66a-b205bd24755b"
      },
      "execution_count": 8,
      "outputs": [
        {
          "output_type": "execute_result",
          "data": {
            "text/plain": [
              "<zip at 0x7f84ffe33a50>"
            ]
          },
          "metadata": {},
          "execution_count": 8
        }
      ]
    },
    {
      "cell_type": "code",
      "source": [
        "# put lat & lng on a actual map\n",
        "import folium\n",
        "from folium.plugins import HeatMap\n",
        "\n",
        "# get 0.1% of all data point\n",
        "sample_df = df.sample(int(0.001 * len(df))) \n",
        "\n",
        "# create a list of list with lat & lng\n",
        "lat_lon_pairs = list(zip(list(sample_df.Start_Lat), list(sample_df.Start_Lng)))\n",
        "\n",
        "# center the map with mean Lat and Lng\n",
        "m = folium.Map(location=[df.Start_Lat.mean(), df.Start_Lng.mean()], zoom_start=5)\n",
        "\n",
        "# Heatmap\n",
        "HeatMap(lat_lon_pairs).add_to(m)\n",
        "\n",
        "m\n"
      ],
      "metadata": {
        "colab": {
          "base_uri": "https://localhost:8080/",
          "height": 1000
        },
        "id": "P600j0c9TFN3",
        "outputId": "d7fbc1dd-6965-4eb0-e5a7-629fbbee6326"
      },
      "execution_count": 10,
      "outputs": [
        {
          "output_type": "execute_result",
          "data": {
            "text/plain": [
              "<folium.folium.Map at 0x7f84ffef2f90>"
            ],
            "text/html": [
              "<div style=\"width:100%;\"><div style=\"position:relative;width:100%;height:0;padding-bottom:60%;\"><span style=\"color:#565656\">Make this Notebook Trusted to load map: File -> Trust Notebook</span><iframe srcdoc=\"&lt;!DOCTYPE html&gt;\n",
              "&lt;head&gt;    \n",
              "    &lt;meta http-equiv=&quot;content-type&quot; content=&quot;text/html; charset=UTF-8&quot; /&gt;\n",
              "    &lt;script&gt;L_PREFER_CANVAS=false; L_NO_TOUCH=false; L_DISABLE_3D=false;&lt;/script&gt;\n",
              "    &lt;script src=&quot;https://cdn.jsdelivr.net/npm/leaflet@1.4.0/dist/leaflet.js&quot;&gt;&lt;/script&gt;\n",
              "    &lt;script src=&quot;https://code.jquery.com/jquery-1.12.4.min.js&quot;&gt;&lt;/script&gt;\n",
              "    &lt;script src=&quot;https://maxcdn.bootstrapcdn.com/bootstrap/3.2.0/js/bootstrap.min.js&quot;&gt;&lt;/script&gt;\n",
              "    &lt;script src=&quot;https://cdnjs.cloudflare.com/ajax/libs/Leaflet.awesome-markers/2.0.2/leaflet.awesome-markers.js&quot;&gt;&lt;/script&gt;\n",
              "    &lt;link rel=&quot;stylesheet&quot; href=&quot;https://cdn.jsdelivr.net/npm/leaflet@1.4.0/dist/leaflet.css&quot;/&gt;\n",
              "    &lt;link rel=&quot;stylesheet&quot; href=&quot;https://maxcdn.bootstrapcdn.com/bootstrap/3.2.0/css/bootstrap.min.css&quot;/&gt;\n",
              "    &lt;link rel=&quot;stylesheet&quot; href=&quot;https://maxcdn.bootstrapcdn.com/bootstrap/3.2.0/css/bootstrap-theme.min.css&quot;/&gt;\n",
              "    &lt;link rel=&quot;stylesheet&quot; href=&quot;https://maxcdn.bootstrapcdn.com/font-awesome/4.6.3/css/font-awesome.min.css&quot;/&gt;\n",
              "    &lt;link rel=&quot;stylesheet&quot; href=&quot;https://cdnjs.cloudflare.com/ajax/libs/Leaflet.awesome-markers/2.0.2/leaflet.awesome-markers.css&quot;/&gt;\n",
              "    &lt;link rel=&quot;stylesheet&quot; href=&quot;https://rawcdn.githack.com/python-visualization/folium/master/folium/templates/leaflet.awesome.rotate.css&quot;/&gt;\n",
              "    &lt;style&gt;html, body {width: 100%;height: 100%;margin: 0;padding: 0;}&lt;/style&gt;\n",
              "    &lt;style&gt;#map {position:absolute;top:0;bottom:0;right:0;left:0;}&lt;/style&gt;\n",
              "    \n",
              "    &lt;meta name=&quot;viewport&quot; content=&quot;width=device-width,\n",
              "        initial-scale=1.0, maximum-scale=1.0, user-scalable=no&quot; /&gt;\n",
              "    &lt;style&gt;#map_648a17fdb702c3466741875876d9c220 {\n",
              "        position: relative;\n",
              "        width: 100.0%;\n",
              "        height: 100.0%;\n",
              "        left: 0.0%;\n",
              "        top: 0.0%;\n",
              "        }\n",
              "    &lt;/style&gt;\n",
              "    &lt;script src=&quot;https://leaflet.github.io/Leaflet.heat/dist/leaflet-heat.js&quot;&gt;&lt;/script&gt;\n",
              "&lt;/head&gt;\n",
              "&lt;body&gt;    \n",
              "    \n",
              "    &lt;div class=&quot;folium-map&quot; id=&quot;map_648a17fdb702c3466741875876d9c220&quot; &gt;&lt;/div&gt;\n",
              "&lt;/body&gt;\n",
              "&lt;script&gt;    \n",
              "    \n",
              "    \n",
              "        var bounds = null;\n",
              "    \n",
              "\n",
              "    var map_648a17fdb702c3466741875876d9c220 = L.map(\n",
              "        &#x27;map_648a17fdb702c3466741875876d9c220&#x27;, {\n",
              "        center: [36.245200541858935, -97.11463289012661],\n",
              "        zoom: 5,\n",
              "        maxBounds: bounds,\n",
              "        layers: [],\n",
              "        worldCopyJump: false,\n",
              "        crs: L.CRS.EPSG3857,\n",
              "        zoomControl: true,\n",
              "        });\n",
              "\n",
              "\n",
              "    \n",
              "    var tile_layer_1e67665e0bca57829460496be9387c14 = L.tileLayer(\n",
              "        &#x27;https://{s}.tile.openstreetmap.org/{z}/{x}/{y}.png&#x27;,\n",
              "        {\n",
              "        &quot;attribution&quot;: null,\n",
              "        &quot;detectRetina&quot;: false,\n",
              "        &quot;maxNativeZoom&quot;: 18,\n",
              "        &quot;maxZoom&quot;: 18,\n",
              "        &quot;minZoom&quot;: 0,\n",
              "        &quot;noWrap&quot;: false,\n",
              "        &quot;opacity&quot;: 1,\n",
              "        &quot;subdomains&quot;: &quot;abc&quot;,\n",
              "        &quot;tms&quot;: false\n",
              "}).addTo(map_648a17fdb702c3466741875876d9c220);\n",
              "    \n",
              "            var heat_map_818561befc4179c0d7f7979fdf9f017d = L.heatLayer(\n",
              "                [[42.132411, -122.633351], [26.045011, -80.162547], [47.97651, -122.20998], [33.19536, -80.60518], [43.71537, -123.21491], [34.177111, -118.4685], [32.70274000000001, -96.82516], [47.81333, -121.57059], [38.552366, -121.433815], [29.399896, -81.15365600000001], [39.990185, -75.205469], [32.66676, -97.35022], [38.48162, -121.37188], [38.709425, -121.085405], [34.15247, -118.654199], [30.423449, -91.144627], [37.74287, -121.56186], [32.92465, -96.7682], [34.03568, -118.09821], [30.484035, -91.058598], [40.900121, -73.796591], [36.30561, -86.70688], [40.72593, -112.001379], [32.914891, -96.866675], [26.848935, -80.107743], [44.67674, -117.64206], [27.321593, -82.448015], [37.41317, -122.154074], [37.54773, -121.98646], [40.67223, -73.73549], [37.207807, -121.72071499999998], [42.912696, -85.63438199999999], [38.24909, -121.290376], [39.107928, -74.797514], [39.859138, -75.078388], [38.281568, -121.306493], [30.45627, -84.276482], [40.75072, -73.75083000000002], [27.82195, -82.67961], [28.379308, -81.36545600000002], [35.277922, -80.79660799999998], [41.569943, -87.398026], [43.180876, -77.582313], [34.061361, -117.176839], [33.901609, -117.467397], [38.411831, -122.716146], [33.497074, -117.14847], [38.341241, -81.663196], [39.708332, -75.58739399999997], [35.005962, -85.293074], [38.766624, -77.37495200000002], [38.57567, -90.23165], [39.297333, -76.502877], [26.547113, -81.80579200000003], [28.390563, -81.24428], [38.676308, -121.364068], [34.064633, -118.002853], [41.05199, -111.96073], [34.28755, -118.407132], [41.854616, -88.517907], [34.13637, -118.36072], [36.828348, -76.210633], [42.55912, -83.14924], [28.431684000000004, -82.564743], [40.746949, -74.061766], [33.779753, -118.089952], [36.173391, -115.173201], [34.067349, -117.430739], [41.61280900000001, -109.127282], [34.024537, -118.23924], [38.541072, -121.475776], [32.717188, -117.117983], [38.882555, -77.021997], [35.19552, -80.88391], [30.628862, -81.559791], [43.027679, -71.175524], [40.70751, -74.255851], [39.84529000000001, -110.770779], [38.607111, -77.292123], [36.663166, -119.54642], [44.930912, -123.115998], [36.67312, -82.047526], [35.554922, -86.19880500000002], [40.679333, -74.27808], [40.591188, -75.554276], [33.50339, -117.15281], [40.123174, -75.30989], [37.44402, -77.43029], [42.414132, -83.764822], [28.042217, -82.45496999999997], [34.42279, -118.428635], [30.478282, -84.09183399999998], [30.472959000000003, -91.173079], [41.161678, -112.035333], [34.15815, -118.46925], [34.059409, -118.175733], [25.469699, -80.499011], [33.898375, -118.370277], [25.814415, -80.35871800000002], [38.015567, -121.751611], [34.841927, -119.085284], [36.062525, -79.569524], [37.617044, -122.154355], [27.543831, -82.469835], [42.652968, -85.343401], [34.118749, -117.841112], [38.64147, -121.30037], [41.581031, -87.247377], [41.725392, -72.65389], [42.145475, -87.81418199999996], [25.959157, -80.169381], [39.376083, -76.65597700000002], [40.63508, -74.23541999999998], [32.386851, -86.384022], [39.799816, -84.253568], [32.759506, -97.085552], [34.072628, -118.220131], [36.161331, -86.776526], [39.87251, -75.0456], [33.417713, -84.85228199999997], [34.18092, -118.136047], [44.736279, -92.85246], [30.170871, -97.690848], [45.37791, -123.14925], [32.800253999999995, -96.822514], [40.05272, -111.73519], [43.113136, -76.146374], [34.030711, -117.585855], [37.882216, -121.280458], [44.995, -93.08931], [36.121383, -86.750417], [34.154523, -118.395776], [33.93119, -117.99323], [34.028549, -118.447859], [45.20509000000001, -93.38976], [38.740512, -120.85582], [33.12706, -117.10498], [40.846029, -73.930224], [30.428918, -91.078818], [41.8061, -88.11746], [42.196272, -87.931234], [43.15957, -76.12103], [34.219167, -119.069722], [40.834987, -73.838633], [33.699846, -117.084864], [41.129022, -73.299289], [45.621296, -111.062683], [30.464819, -91.019893], [38.060238, -84.54862800000002], [37.717341, -77.447959], [37.16826, -77.35077700000002], [36.141524, -86.71421], [34.021157, -118.477548], [25.901705, -80.21748000000002], [34.02378, -118.24271], [42.334066, -87.838512], [39.809958, -86.166816], [33.705249, -117.954418], [34.117490000000004, -117.863428], [33.870228000000004, -117.669681], [27.907603, -82.80774100000002], [34.439946, -83.110055], [32.888490000000004, -96.98229], [34.266711, -118.472024], [41.19076, -96.02383], [28.748506, -81.365894], [33.762314, -117.863979], [25.74771, -80.3356], [30.435658, -85.427402], [39.77956, -104.98507], [41.16505, -112.021925], [30.34756, -97.703206], [36.03862, -86.64787], [38.924063, -77.210566], [36.258833, -86.713404], [34.064017, -117.81199], [39.97325, -104.988237], [39.697457, -84.22975100000002], [45.57744, -117.53784], [37.70186, -121.90237], [34.063762, -118.247549], [25.648546, -80.408715], [32.77917, -117.10134], [40.78125, -73.94421899999998], [35.82078, -78.74436999999998], [32.221131, -110.840871], [33.89202, -118.04371], [40.278674, -76.818983], [38.900032, -120.854374], [42.941144, -85.64920500000002], [42.002838, -87.679079], [26.486331, -81.434687], [28.54288, -81.38198], [31.737724, -106.322473], [34.051362, -118.006079], [44.950765, -93.106104], [28.44864, -81.473754], [40.562085, -111.899088], [40.554852, -78.62159], [43.01148, -87.91595], [42.221054, -87.872997], [40.031911, -76.238919], [25.770374, -80.30731899999998], [39.156995, -121.47021200000002], [34.056709999999995, -118.333047], [45.268377, -122.779392], [34.084987, -117.396489], [38.355265, -77.515984], [33.017119, -117.120546], [42.219525, -120.208765], [41.117329, -81.490531], [41.81849, -88.4666], [25.689389, -80.382675], [45.043983, -123.953581], [34.8761, -82.36461], [38.757416, -90.43397], [25.698611, -80.38217900000002], [30.445504, -83.736674], [25.82284, -80.32151999999998], [29.78058, -95.454179], [27.134417, -82.408007], [40.56181, -111.977], [33.466478, -117.677421], [36.151678, -86.851116], [38.894929, -77.170609], [25.94343, -80.187717], [40.76274, -111.39659], [29.618759000000004, -95.410535], [30.460837, -87.29050500000002], [33.66917, -112.05912], [46.875711, -92.341617], [41.07525, -73.46636], [37.48922, -120.86802], [38.907723, -120.83758], [33.94661, -117.29843], [44.85328, -68.72501], [28.523914, -81.143811], [43.076238, -83.659207], [28.064657, -82.73877], [25.788989, -80.401022], [33.46498, -112.10985], [46.571162, -95.574434], [40.89376, -74.22883], [30.438951, -86.638646], [32.83733, -96.92496], [41.193364, -73.13160400000002], [40.142146, -76.408314], [35.998624, -86.601737], [44.649392, -117.563248], [45.01013, -93.16], [37.312552, -78.064334], [46.645361, -117.000964], [35.60621, -97.5315], [45.087361, -123.404106], [44.144442, -94.08981], [38.62162100000001, -77.692922], [33.784107, -117.49201200000002], [38.013625, -121.996839], [33.8981, -84.46864000000002], [37.73235, -122.4141], [25.714607, -80.413569], [35.081703999999995, -118.846521], [30.314737, -81.668869], [47.63234, -122.39051], [30.434827, -86.66651], [44.915683, -93.144538], [32.71516, -117.12687], [37.648548, -77.901735], [39.88313, -86.047602], [36.8374, -76.10122], [43.018, -73.796061], [47.73407, -122.326027], [33.913668, -118.104754], [27.815992, -82.717123], [37.72161, -122.17944], [28.565744, -81.229226], [35.801149, -78.68379200000003], [29.870941, -95.329465], [40.618375, -112.053884], [29.664705, -95.445354], [39.55079, -77.60889399999998], [38.948775, -76.839934], [34.299242, -118.419515], [25.728743, -80.430194], [41.77576, -88.0493], [37.896357, -121.696306], [44.96522, -93.28783], [35.850886, -80.112718], [44.01602000000001, -123.921192], [44.01896, -123.87003], [28.453295, -81.477674], [39.08578, -94.59224], [42.49197, -73.68217], [34.134370000000004, -118.35626], [43.073117, -77.457286], [43.132798, -77.491676], [34.012219, -118.418573], [47.913786, -122.063576], [41.764491, -72.631127], [25.683394, -80.41639599999998], [35.728064, -119.736245], [33.094026, -80.27018100000002], [41.11225, -73.79624], [39.100489, -121.547308], [39.847327, -86.044562], [34.263606, -117.449277], [45.08932, -93.44778], [42.34106, -87.96363000000002], [39.65961, -84.18441999999997], [40.450104, -78.84021800000002], [35.745917, -78.59321899999998], [26.583378000000003, -80.069071], [42.52688, -70.95715], [38.343051, -122.024625], [39.552067, -74.73499], [33.937742, -118.326547], [28.381167, -81.425351], [34.89219, -82.28546], [40.822781, -73.88510500000002], [40.727423, -113.266285], [39.250246, -76.67897099999998], [38.962438, -76.867143], [40.76594, -111.94209], [38.625688, -121.309826], [34.025593, -117.806131], [34.273291, -118.564709], [46.97508, -123.61955], [34.132901000000004, -92.405287], [36.779662, -119.748154], [34.014509999999994, -117.81937], [28.536103000000004, -81.364204], [30.288290000000003, -81.39395], [36.981522, -121.993012], [35.24172, -80.84956], [39.085779, -94.570398], [32.74837, -117.108965], [28.5682, -81.27784], [35.41806300000001, -119.041187], [27.597656, -82.636738], [47.798444, -122.583825], [25.761807, -80.33846899999998], [30.314056, -81.66433], [33.928740000000005, -118.25041], [47.863169, -122.120269], [34.148565000000005, -118.063078], [35.223372, -118.563653], [39.156542, -76.829796], [37.895372, -122.113724], [43.68701, -124.1447], [28.163179, -82.537704], [33.18946, -117.36143], [35.839791, -78.578709], [28.186166, -82.42863299999998], [31.52914, -81.44505], [34.03823, -118.27392], [34.034901, -118.367529], [33.868990000000004, -117.67733], [40.04902, -74.99763], [37.101101, -76.46818], [25.933324, -80.121862], [34.055226, -118.190177], [33.838938, -117.153563], [37.30774, -77.40912800000002], [25.905339, -80.292387], [40.779587, -73.57100799999998], [34.037690000000005, -81.113351], [46.579023, -112.147894], [44.79663400000001, -121.33201], [29.399822, -98.533231], [34.003757, -118.282706], [32.759409999999995, -97.03692], [34.11198, -118.26547], [36.35963, -82.648176], [30.525855, -83.872209], [34.170902000000005, -118.574205], [40.431344, -74.302633], [25.76413, -80.32054000000002], [40.90739, -123.720542], [46.236953, -114.150108], [28.449065, -81.363827], [35.42907899999999, -80.666003], [37.839902, -120.225883], [32.29112, -90.26186], [38.677187, -121.342927], [39.690175, -121.773328], [34.026214, -117.333269], [34.030426, -117.583967], [39.7806, -84.16353000000002], [34.108783, -118.259721], [46.47144, -122.88389], [45.58352, -122.76803999999998], [28.714009000000004, -80.88950200000002], [41.655565, -83.69521999999998], [35.27962, -80.73564], [37.955289, -121.265567], [39.069594, -77.159839], [37.581557, -77.446708], [28.566902, -81.208647], [42.030526, -93.570996], [38.612518, -121.510978], [25.627759, -80.37463100000002], [25.70846400000001, -80.284446], [28.436917, -81.404464], [25.939421, -80.292374], [38.390981, -122.318486], [44.50469, -88.08211999999996], [34.431306, -117.628615], [40.77622, -111.94933], [39.100714, -84.503761], [35.074301, -120.590049], [36.946366, -80.94923399999998], [29.68833, -95.2806], [40.847633, -73.934977], [29.954221, -90.08645], [32.915647, -96.741914], [32.936466, -117.238693], [34.1611, -118.469614], [36.16799, -86.76581], [34.948642, -82.493783], [38.56655, -121.469682], [35.39020700000001, -118.971048], [34.032059999999994, -118.21963999999998], [42.44761, -94.45593], [34.069309999999994, -80.9303], [32.791418, -96.736902], [39.776144, -84.25371], [39.084181, -94.80014], [42.872289, -78.789879], [42.350969, -121.980849], [40.540818, -122.351585], [37.50629, -77.715189], [26.080973, -80.168582], [29.781178000000004, -95.368419], [25.688642, -80.367767], [43.12157, -77.55374], [42.71191, -84.54776], [29.200664, -82.184499], [34.152546, -118.11683], [39.78007, -104.93703], [47.30283, -122.24396000000002], [25.778343, -80.23922900000002], [29.33584500000001, -98.569604], [37.988614, -120.441553], [36.153947, -86.758278], [35.383448, -119.083292], [32.87805, -96.89795], [25.628105, -80.341342], [44.4238, -121.87844], [41.87769, -87.64553000000002], [29.469512, -82.22442099999998], [46.226445, -92.827745], [37.301641, -121.815451], [34.082228, -117.698189], [25.67973, -80.38875], [44.938897, -93.074941], [34.06395, -117.28691], [33.899713, -84.44719], [41.432565, -72.805355], [40.729363, -112.587226], [37.945176, -121.231869], [35.06013, -80.765851], [28.608364, -81.517454], [40.177705, -86.555829], [35.155481, -80.851609], [41.35905, -75.099855], [33.54916, -84.26865], [25.683923, -80.416415], [44.824532, -93.227707], [43.131214, -78.66087399999998], [26.617893, -81.766862], [42.381122, -73.83654], [37.6316, -122.08971499999998], [28.040692, -82.73814499999997], [32.43381, -82.61329], [40.39264, -123.226765], [34.065098, -118.344024], [42.43339, -83.18974], [42.841283, -73.37340400000002], [47.46399, -122.27165], [39.672199, -79.855037], [33.918775, -84.48328599999998], [34.12344, -117.69349], [32.597947999999995, -88.222779], [32.743537, -96.874132], [40.372, -76.68113000000002], [39.942888, -75.143169], [25.568365, -80.518913], [39.55009, -110.66349], [44.67527000000001, -92.792962], [35.14779, -90.29791], [40.70785, -73.52563], [45.972129, -119.005225], [28.007669, -82.45293000000002], [32.272751, -95.268096], [44.950228, -93.103948], [37.54998300000001, -122.025213], [39.77836, -104.895773], [32.883662, -96.838531], [27.964673, -82.434442], [39.2132, -94.64117], [25.782608, -80.231865], [39.105005, -94.76042], [40.77144600000001, -73.946566], [32.838531, -117.151991], [34.068844, -117.346438], [38.55892100000001, -121.473624], [34.17328, -118.540816], [37.703039, -121.923399], [25.847364, -80.387467], [33.83511, -84.19717], [34.113551, -79.34098], [34.02827, -118.22923], [27.521985, -82.521282], [38.918455, -76.930464], [34.145990000000005, -117.189456], [38.641927, -77.288051], [44.118599, -116.944563], [35.263119, -119.022027], [37.398615, -121.908189], [26.83497, -80.0987], [47.58926500000001, -122.253273], [38.77207, -121.24548], [40.565968, -111.976978], [29.816646, -95.66545], [33.19018, -111.998308], [28.519536, -81.288619], [38.21955, -85.82226], [34.419664000000004, -119.290935], [40.958332, -75.292828], [28.375719, -81.24457], [33.978896, -81.028098], [38.057803, -121.259612], [38.52867, -121.75691], [40.55018, -111.89602], [34.218506, -79.818656], [33.93096, -118.291913], [45.17217, -93.52671], [29.637641, -98.615109], [34.03683, -118.43853], [33.678191, -117.881122], [42.53713, -71.133], [27.828383, -82.674266], [37.541646, -77.426964], [34.087143, -117.683056], [34.710632000000004, -92.271233], [39.300074, -123.28888], [40.68289, -73.80563000000002], [47.364367, -93.872541], [28.25573, -81.48618], [40.790086, -73.537082], [25.845626, -80.251921], [37.890568, -121.51219], [45.31204, -121.797045], [35.35313400000001, -119.039386], [41.280183, -95.784622], [28.392791, -81.373927], [34.184706, -117.1812], [35.150023, -120.651045], [32.768034, -97.318645], [25.946946, -80.27821999999998], [42.482174, -95.780239], [40.73232700000001, -73.34325799999998], [46.094563, -122.95898400000002], [40.58607, -83.21739000000002], [33.982374, -118.280422], [34.88402, -82.42352], [40.256774, -75.586462], [42.928198, -83.63087], [34.03455, -118.34275], [39.73333, -75.5238], [25.92923900000001, -80.289932], [34.280787, -119.1447], [40.88947, -74.13428], [36.173935, -119.475212], [29.681148, -95.61428], [41.02010300000001, -73.624949], [38.536466, -76.781462], [40.624279, -74.01939300000002], [30.441394, -86.617572], [28.240942, -81.637969], [33.008755, -117.079936], [37.524225, -77.428061], [38.604292, -78.786446], [36.523513, -121.463673], [34.608396, -79.679438], [33.700958, -117.859064], [25.946648, -80.147074], [25.764586, -80.303949], [44.05589000000001, -93.2497], [38.42381, -121.39346], [40.669209, -73.99683900000002], [42.746096, -73.698037], [27.884217, -80.991217], [33.341091, -86.78030799999998], [36.718479, -76.65528499999998], [35.276737, -80.845539], [33.16025, -117.34058], [41.28068, -112.093], [37.853445, -122.221386], [25.703794, -80.453356], [40.934782, -73.865086], [36.76235, -119.77531], [34.068574, -117.974744], [41.50924000000001, -74.21137], [36.004633, -86.79068000000002], [41.79382, -87.68348], [32.64206, -96.81208], [41.696195, -93.576196], [33.945563, -117.868934], [35.016739, -82.338433], [33.930918, -118.178692], [35.333957, -92.080078], [38.731044, -120.749047], [38.671375, -121.567172], [27.069035, -82.095412], [39.909146, -86.076594], [45.753188, -123.195045], [29.3198, -98.60513], [36.089417, -120.114478], [37.753182, -121.351908], [33.928169, -118.239164], [33.584544, -84.013717], [33.096874, -117.087547], [29.87198900000001, -95.408865], [38.94637, -76.84841], [34.145373, -117.289551], [39.456495, -112.009574], [37.21335300000001, -119.699854], [35.195683, -84.84451899999998], [32.176777, -111.00316200000002], [40.498249, -111.938731], [34.309884000000004, -118.427077], [36.145201, -79.164487], [33.989208000000005, -118.062964], [45.937839, -94.354737], [38.010023, -122.021809], [34.426558, -117.486042], [44.29816, -88.35514], [30.432654, -83.62094499999998], [44.422167, -121.857274], [44.861752, -93.297951], [33.07306, -96.68745], [42.38334, -83.21757], [35.551233, -120.707396], [44.99156, -93.23665], [40.30149, -111.72563], [27.9504, -82.52413], [42.905529, -71.36547], [26.149984, -80.168475], [38.988643, -76.883236], [39.909178, -75.15316800000002], [40.796731, -73.477581], [34.143352, -117.257364], [33.772989, -81.392798], [43.84168, -117.62257], [30.412303, -91.145946], [34.145887, -118.47051100000002], [34.029203, -118.012453], [40.74574000000001, -74.25798], [29.94441500000001, -90.090851], [38.84852100000001, -77.080647], [42.428373, -83.184281], [40.686959, -111.888355], [27.429077000000003, -82.521883], [37.267076, -81.12181700000002], [44.93927, -123.05959], [43.390282, -118.58933], [38.28099, -121.30624], [44.87477, -93.06057], [34.133266, -117.308396], [28.091994, -80.837408], [40.988054, -73.67158], [38.610714, -121.403585], [26.847068, -80.129642], [30.534149, -97.691835], [38.6732, -121.637451], [33.42965, -112.08782], [29.684832, -95.558716], [33.581477, -112.146731], [25.937175, -80.27730799999998], [34.05745, -118.45299], [40.758959, -111.939031], [42.03783, -87.86975], [40.973598, -74.321108], [37.71790900000001, -121.701825], [45.399638, -122.745963], [25.884642000000003, -80.210705], [39.113186, -76.691847], [38.446023, -121.915588], [40.541731, -74.33596700000002], [33.898057, -117.559875], [27.464213, -82.636898], [43.89873, -94.17367], [34.159796, -79.756359], [36.77562, -119.784837], [38.113685, -79.02984000000002], [32.2209, -110.8238], [26.398571, -80.090813], [43.04733, -122.352296], [46.06344, -94.32492], [34.10925, -118.33313], [38.637497, -121.282483], [32.948411, -96.78531], [38.582088, -121.18668], [39.603216, -74.880046], [28.240176, -82.33472900000002], [36.739106, -118.964075], [33.902054, -118.289329], [44.70203400000001, -124.061184], [39.81215200000001, -86.179698], [34.04603, -118.208278], [37.560377, -121.909202], [42.66533, -84.28788], [45.31206, -122.7691], [36.752938, -119.827103], [35.176479, -85.21333299999998], [44.89004, -93.281661], [45.007827, -93.204578], [33.858713, -118.033968], [42.67595900000001, -84.65283199999998], [33.51957, -117.16081], [34.030522, -117.655301], [32.250233, -110.944029], [43.027493, -82.46378100000003], [33.68858, -85.18319], [42.41797, -83.21895], [38.630903, -121.217125], [38.239686, -121.55735], [33.939184000000004, -117.14808], [47.039564, -122.871093], [44.43297000000001, -121.958209], [25.888473, -80.32400799999998], [33.91581, -84.40314000000002], [35.24822800000001, -82.331682], [33.994052, -117.905103], [37.027516, -121.604485], [44.8476, -93.24732], [38.907117, -94.524003], [33.90965, -118.1049], [45.115701, -93.188368], [34.16596, -118.83795], [25.580829, -80.405058], [28.34569, -81.38237], [37.364135, -122.124481], [34.144006, -117.262785], [32.930681, -83.5019], [25.98034, -80.1657], [32.73832, -97.47495], [28.570209, -81.40436899999997], [37.349739, -121.908608], [34.127609, -117.918166], [39.447665, -77.38569], [28.604769, -81.30631], [28.259693, -81.622977], [45.055993, -123.746577], [40.74491, -73.84745], [40.098347, -75.298647], [33.56757, -112.12121], [35.262875, -118.907524], [43.647507, -123.64558], [37.857874, -122.213163], [29.704767, -81.329094], [40.622586, -111.903572], [37.328871, -122.01078], [34.166611, -80.96731700000002], [35.237147, -80.800993], [39.708814, -84.028083], [38.629154, -121.215842], [40.845191, -73.926724], [29.520419, -98.481542], [40.81648300000001, -74.31345999999998], [40.108046, -120.209358], [40.839847, -73.929351], [34.04674, -118.2148], [41.503132, -112.015915], [32.705651, -96.857145], [35.051351000000004, -78.264374], [39.869274, -75.10205], [47.29463, -93.69811], [35.053391, -80.84999499999998], [41.06213, -81.53784], [39.99182, -74.87747], [37.320394, -120.539296], [42.15364, -87.99958000000002], [38.683151, -121.335808], [40.082198, -75.29807199999998], [40.376865, -111.805614], [39.155452, -94.588215], [35.49997000000001, -119.152485], [33.66092800000001, -111.93799], [25.735167, -80.447928], [36.148487, -86.74557800000002], [25.813523, -80.26478399999998], [33.69892, -84.27089000000002], [34.15036, -117.479249], [32.841359999999995, -117.10252], [38.575648, -121.568267], [27.663686, -82.677481], [34.492020000000004, -118.62112], [30.39711, -91.067653], [36.667955, -121.249518], [47.304633, -122.251471], [28.507014, -81.396861], [38.694902, -120.806672], [45.83161, -95.20728], [28.040187, -82.783683], [40.859516, -73.975313], [33.744875, -84.389957], [40.483256, -78.00715500000003], [32.92459, -96.78684], [40.80602, -111.92282], [33.801941, -117.274372], [38.61279, -121.401484], [44.9524, -93.03519], [41.749003, -124.180503], [34.204179, -117.100832], [41.066506, -74.056379], [33.395839, -81.39508599999998], [37.888842, -122.175766], [33.643262, -112.069415], [42.354709, -83.43628199999998], [37.97603400000001, -120.359355], [40.106754, -75.111203], [43.03595, -87.90299999999998], [27.767527, -82.65130500000002], [33.759867, -117.919413], [41.517939, -73.97372299999998], [39.284373, -76.53815300000002], [38.824363, -121.390846], [38.496035, -121.398629], [38.30032, -77.50444], [42.583931, -71.157737], [40.616011, -74.285197], [44.59104, -124.06414], [33.854437, -117.79064], [34.941233000000004, -118.931196], [40.853024, -73.959204], [30.23549, -97.85802], [41.966275, -87.873473], [39.098983, -122.804316], [43.661879, -94.097873], [34.47876, -82.559296], [45.526328, -122.565485], [34.033659, -118.220089], [34.03408, -84.31521], [39.77841, -104.91383], [35.835999, -77.960001], [40.283571, -75.167459], [45.11466, -93.18833], [36.05972, -86.67107], [34.067464, -117.58678700000002], [30.236716, -98.007707], [40.079509, -75.122209], [38.57304, -121.50931], [38.41715, -121.96604], [27.799291, -82.661124], [47.66366, -122.373297], [25.685123, -80.425634], [42.360663, -87.99966500000002], [37.002671, -76.319907], [25.81098, -80.344912], [40.002776, -75.194453], [38.029483, -78.80703199999998], [25.884154, -80.35106999999998], [34.210578000000005, -80.243438], [46.600015, -112.947443], [36.106878, -94.17621], [34.144915000000005, -81.235907], [40.70148, -73.52115], [33.75609, -84.23243000000002], [42.426806, -123.045254], [40.64863, -74.798129], [40.618857, -75.50067800000002], [42.46218, -83.22624], [43.511151, -112.043934], [38.746074, -85.821512], [34.214157, -80.973973], [25.670988, -80.413044], [27.344626, -81.414528], [25.78457, -80.23617], [34.019996, -117.544472], [37.701417, -121.894393], [28.50935, -81.40055], [36.191872, -86.780587], [25.879232, -80.323237], [34.328101000000004, -118.505412], [35.798445, -78.560794], [28.069319, -82.464409], [36.430571, -94.232167], [41.121068, -73.366363], [27.81168, -82.6645], [35.73749, -81.607795], [42.547048, -73.781337], [39.889372, -75.218786], [39.09875, -84.52119], [40.199078, -75.256665], [35.25234000000001, -80.97758], [27.207376, -82.442231], [34.13538, -117.99076], [38.505622, -121.455968], [39.905937, -76.70395699999997], [38.882342, -77.012947], [29.67739000000001, -95.4237], [40.084308, -76.118928], [30.026782, -90.00765600000004], [43.794496, -70.315373], [37.132061, -77.518898], [44.99905, -93.08964], [33.66917, -112.05912], [39.2411, -94.458233], [35.840001, -78.677142], [33.18243, -117.30018], [33.712836, -117.847336], [33.6473, -112.23358], [40.09267, -75.12541999999998], [38.434879, -122.716702], [42.69805, -73.83694], [25.685735, -80.401713], [38.783937, -76.998079], [34.06832, -117.34095], [34.04994, -81.10564000000002], [36.15599, -86.808706], [34.270308, -118.632872], [37.185041, -93.317785], [40.79934, -109.46635], [35.871275, -78.666567], [33.017969, -117.114698], [34.199783000000004, -118.396456], [27.80302, -82.66237], [35.084058, -85.208325], [42.490042, -83.05358199999998], [36.912764, -76.26325899999998], [32.272653000000005, -80.872558], [38.87439000000001, -104.81948], [38.03058, -78.659759], [34.0453, -118.27086], [43.03875, -83.70134], [29.72693, -95.46451], [37.583571, -122.050399], [32.829037, -96.707942], [28.346805, -81.651224], [29.926233, -90.015162], [25.70218, -80.335789], [27.63464, -80.51595], [37.899677, -122.51585], [33.538694, -111.925231], [42.33921, -83.21616], [29.753027000000003, -95.409506], [33.946451, -118.226413], [39.71102, -105.08138], [37.824545, -122.308876], [37.254013, -121.952527], [34.069724, -118.137096], [38.26224000000001, -122.461722], [34.17111, -118.512772], [28.64619, -81.985384], [46.129696, -123.372858], [33.774421000000004, -118.007437], [28.629191, -81.386804], [35.804736, -78.597024], [34.34276, -92.17051], [43.15105, -87.91626], [34.124457, -117.916326], [43.651117, -93.816279], [44.83285, -92.96439], [39.843908, -75.186044], [40.03888, -74.05034], [34.044281, -81.099553], [35.642887, -118.461894], [34.198931, -118.337948], [43.816475, -91.612144], [27.444485, -82.530242], [42.37891, -87.9408], [26.072485, -80.167198], [37.318645, -80.045601], [34.835570000000004, -82.30611999999998], [38.55342, -121.43682], [39.799838, -123.542897], [32.387362, -90.195683], [25.645931, -80.333263], [30.35021, -81.66854000000002], [40.605299, -111.90506], [41.73148, -87.62443], [41.213673, -112.02577], [45.19726, -123.82919], [35.015213, -85.163684], [33.96042, -118.226558], [25.783259, -80.233288], [40.849636, -73.942853], [45.482615, -122.565804], [33.385911, -84.83045], [34.0675, -117.982794], [44.870779, -120.92765], [35.754693, -78.514904], [29.619785, -95.331615], [34.262570000000004, -118.994658], [29.967814, -90.02205500000002], [33.96106, -84.35354699999998], [45.906828, -123.715106], [30.19349, -85.82540999999998], [25.601998, -80.35269699999998], [39.99464, -82.93366], [30.47336, -90.8018], [45.042411, -93.10206], [33.1713, -87.5481], [37.966062, -112.471296], [34.060539, -118.215215], [45.026224, -93.190706], [28.55495800000001, -81.66643], [25.570485, -80.33159599999998], [32.786706, -96.765207], [25.807949, -80.31314499999998], [37.559283, -77.294086], [32.90681, -96.728259], [38.220059, -122.455558], [34.144388, -117.266165], [34.067556, -117.526792], [42.90151, -83.69077], [33.835541, -117.941498], [40.7066, -73.43034], [26.613201, -81.658905], [32.924059, -96.758118], [33.4616, -112.09909], [25.702455, -80.332105], [36.979549, -120.08213], [40.59498, -74.23519399999998], [33.85115, -84.24648], [36.153947, -86.758278], [44.96605, -93.2478], [45.27951, -93.003238], [29.746925, -95.463245], [39.958273, -75.164047], [27.983757, -82.453847], [43.214123, -77.73028599999998], [34.813433, -92.32219], [32.870837, -96.898599], [28.60439, -81.30731999999998], [40.71884, -74.23523], [38.90137100000001, -76.850247], [41.750369, -88.040058], [40.92705, -111.89119], [40.90564000000001, -74.1048], [25.86727, -80.26687], [25.689706, -80.33366600000002], [33.990838000000004, -118.342008], [32.348009999999995, -111.09931], [33.829987, -80.391865], [37.966743, -122.321894], [28.029992, -82.746424], [36.046311, -86.676956], [30.404366, -98.098664], [28.567086, -81.210645], [39.229565, -77.532943], [25.78099, -80.4183], [37.47666, -77.51434], [39.638077, -84.226407], [36.080396, -86.901135], [33.13754, -117.13836], [32.669745, -96.937319], [39.986595, -123.796066], [42.177246, -88.13574], [31.825836, -106.437188], [26.790043, -80.13197], [45.212888, -93.58725], [37.553543, -121.916971], [43.479398, -83.97544], [36.70575, -119.97005], [33.031221, -87.774249], [45.36818, -93.97875], [40.78746500000001, -73.928664], [25.686047, -80.397987], [26.444381, -81.812265], [42.489098, -83.08107], [43.66205, -88.77533000000004], [30.648478000000004, -91.156508], [45.397043, -108.912904], [40.729724, -74.03619], [45.51913, -122.579024], [25.842203, -80.257961], [37.695457, -122.073794], [45.5284, -122.65357], [39.684711, -77.667807], [47.62455, -116.87134], [33.743858, -84.38736800000002], [30.093436, -81.705986], [30.254946, -97.613197], [33.106842, -117.312652], [33.876612, -118.106564], [43.176358, -124.196475], [33.682765, -117.85678500000002], [42.153752, -88.028632], [37.594357, -79.628631], [40.443595, -79.854744], [39.131228, -121.073659], [34.538035, -92.718932], [41.327818, -77.743964], [34.07189, -117.8707], [32.565096000000004, -117.073433], [37.360856, -118.395261], [32.72078, -97.06241], [35.21934, -80.824662], [40.765686, -73.839446], [44.330105, -92.410932], [32.587348, -96.321011], [28.567991, -81.216828], [45.690378, -93.641034], [29.410448, -82.2125], [34.246349, -80.817756], [39.78139, -105.13389], [28.450912, -81.46547199999998], [28.443238, -81.406816], [45.661784, -108.78475], [43.1572, -77.65909], [26.714255, -81.816009], [32.134054, -110.93009], [38.61531, -80.76034], [36.349921, -119.232279], [35.859832, -78.342586], [37.766743, -121.199791], [39.76142, -104.90348], [34.064384999999994, -117.27863700000002], [36.763924, -121.755589], [34.056743, -117.689267], [32.664896, -96.72066], [42.35988, -72.63727], [40.52657, -74.35685], [44.758962, -122.357658], [41.751624, -87.86749499999998], [35.66892199999999, -78.389736], [26.108139, -80.286272], [34.14569, -81.237577], [35.83872, -78.675063], [43.087338, -76.053744], [39.72374, -105.18149], [34.42143, -119.61597], [40.215465, -75.51232399999998], [32.27212, -110.95299], [28.599931, -81.270319], [38.737267, -77.192484], [37.725087, -77.449826], [38.988364, -76.889094], [33.11261, -117.09718], [45.24112, -93.66326], [38.499816, -112.616036], [38.339522, -75.08065699999999], [33.972487, -118.073568], [42.33524600000001, -83.215888], [35.898794, -77.636604], [34.616615, -117.813755], [37.596482, -77.466121], [34.407062, -79.433318], [32.360577, -80.872589], [43.79317, -84.36703], [33.798140000000004, -112.13778], [32.450209, -93.722043], [37.702277, -121.74492], [35.39195, -97.50217], [40.319112, -122.813995], [37.657905, -122.405584], [30.27391, -97.591027], [42.381198, -88.13988], [27.871127, -80.496368], [36.71767, -119.784523], [40.629364, -74.301552], [37.288302, -120.322637], [31.78366, -106.44136], [42.974277, -77.17939399999999], [39.361345, -120.132168], [47.918297, -97.09141], [39.675752, -75.654971], [33.974486, -118.281004], [31.74929, -106.33977], [42.962839, -85.69488100000002], [38.799522, -123.01299], [38.09645, -122.56181], [39.29188900000001, -76.553943], [34.186640000000004, -118.47399], [41.651528000000006, -93.755821], [33.325007, -117.235559], [34.03265, -118.26385], [44.804944, -119.536364], [47.90186, -116.84215], [40.464673, -77.13760500000002], [39.547939, -110.749442], [34.766459999999995, -120.424114], [37.35478, -122.11216], [34.231971, -117.13873], [34.055138, -118.22007], [30.433984, -89.088445], [43.958764, -92.465425], [35.01638, -90.00246], [42.63484, -84.4771], [45.527648, -122.60476], [40.154316, -75.224385], [41.23083, -111.94794], [33.95285, -80.96435600000002], [33.869708, -117.681936], [37.783216, -121.210259], [33.64157, -117.18863600000002], [42.403785, -122.047211], [35.849659, -78.58235400000002], [28.058642, -82.454613], [38.875757, -77.04185600000002], [34.194575, -80.281798], [40.258561, -74.081222], [45.54313, -122.55935], [44.34332, -121.600261], [41.882296, -122.472914], [43.05019, -88.04021], [39.404536, -77.38890699999997], [25.9406, -80.19075], [25.895086, -80.209411], [28.54913, -81.48319000000002], [36.976983, -120.079343], [39.076739, -94.5624], [38.369439, -122.712682], [29.873726, -95.458318], [39.40486, -74.55707], [35.23684, -80.92036999999998], [35.21955999999999, -120.693579], [37.09300800000001, -120.289294], [36.091835, -95.841586], [33.896703, -80.20488399999998], [47.58663, -122.17931000000002], [30.44578, -84.29278599999998], [37.50585, -121.934714], [38.010294, -122.017282], [33.974872999999995, -118.383335], [36.180513, -86.801389], [34.97305, -80.853974], [34.165265000000005, -117.285], [25.97950100000001, -80.165787], [34.135047, -117.621227], [32.821622999999995, -117.162591], [34.996928000000004, -85.39796], [30.419577, -91.141176], [33.910222999999995, -84.220343], [35.439881, -119.021526], [41.866138, -71.430436], [40.730699, -111.759764], [33.873721999999994, -118.231435], [36.306422, -115.27865], [25.940785, -80.205027], [40.344489, -75.32079499999998], [36.760372, -76.272054], [28.09328, -80.62186], [34.18438, -118.91917], [25.57818, -80.3451], [25.854395, -80.322773], [38.858419, -94.528004], [38.223755, -122.611696], [37.77304, -122.40657], [41.337416, -79.68515699999998], [39.256542, -76.69374300000001], [37.56422, -77.48579000000002], [25.932495, -80.39814799999998], [45.079247, -93.015488], [36.334758, -121.190325], [32.74868, -96.622199], [38.880544, -77.23670200000002], [34.540716, -117.308173], [28.342053000000003, -81.42513000000002], [40.215784, -74.620492], [38.937496, -94.744667], [39.007803, -77.08685600000003], [34.136075, -117.328855], [38.809629, -77.491816], [45.21486, -118.02496], [40.74195, -73.897596], [34.229933, -117.415856], [39.45361, -76.316345], [41.55122, -87.78658], [32.395195, -93.800529], [33.33794, -86.92367], [35.048756, -85.248456], [25.807569, -80.313137], [38.64133, -121.065655], [29.767535, -95.409426], [37.18579, -93.282353], [33.94506, -118.094733], [28.301068, -81.375636], [35.123034999999994, -78.73880799999998], [42.397896, -83.218111], [30.164587, -81.746107], [35.089594, -89.87092700000002], [33.872748, -118.268734], [33.914491, -117.88268], [46.765912, -92.121852], [33.878108000000005, -78.60951999999997], [38.95440900000001, -76.078486], [40.229669, -76.932138], [36.988064, -121.995299], [35.342686, -82.441406], [28.357505, -81.499578], [33.978056, -117.371476], [34.498749, -82.695389], [38.189759, -85.76743], [37.100154, -80.511728], [42.933084, -85.671872], [41.84636, -87.63839], [30.60248, -87.07368000000002], [45.149943, -93.176088], [34.567333000000005, -82.738282], [40.1496, -111.949556], [42.975165, -83.62223399999998], [33.18108, -117.33574], [28.431443, -81.40793599999998], [34.031833, -118.428011], [38.67083, -104.70717], [30.431671, -87.291852], [34.015892, -118.280407], [32.91168, -96.880306], [47.579281, -122.144029], [34.024932, -117.807923], [42.59057, -70.96092], [29.950672, -90.085338], [30.502376, -91.131187], [36.160482, -86.77526999999998], [39.302298, -76.71690799999998], [39.08673, -94.54109], [32.917932, -96.424879], [32.461067, -93.707574], [32.49268, -93.797249], [28.428348, -81.40653499999998], [28.067419, -82.748649], [34.067237, -118.163261], [25.970622, -80.165766], [34.135841, -117.330068], [38.663835, -121.273545], [38.120981, -78.4478], [32.665393, -97.34392], [41.83242, -71.41703000000003], [44.78219, -93.28855], [44.12514, -94.19111], [43.186109, -77.50285799999997], [39.406231, -77.43328199999998], [32.448231, -93.785896], [44.962395, -92.766913], [38.068196, -122.806129], [30.192701, -97.777569], [39.205144, -121.205099], [42.344967, -122.880631], [26.234263, -80.13635500000002], [38.875111, -121.131123], [34.14628, -118.075089], [44.882293, -93.003784], [25.783594, -80.30463], [36.789485, -76.425776], [25.950745, -80.29746999999998], [45.52396, -122.66549], [40.004345, -75.22099399999998], [39.94867, -82.67851999999998], [28.428786, -81.38609], [38.91992, -104.98708], [25.867955, -80.24910899999998], [44.862488, -93.2157], [35.051755, -80.849523], [36.17694, -115.1518], [39.864417, -75.048197], [35.83492000000001, -78.60642], [34.0031, -118.06523], [32.16799, -110.948684], [37.844049, -122.297903], [32.65841, -96.73422], [40.847092, -73.933364], [40.585328, -75.599949], [37.952872, -122.328007], [33.574556, -117.633422], [40.072792, -75.307298], [33.882659000000004, -117.643637], [37.6826, -113.07957], [34.069909, -117.545059], [44.966104, -93.255346], [45.191048, -93.545976], [33.9654, -84.100382], [32.928111, -96.803616], [42.689314, -73.842445], [28.451637, -81.470822], [28.219831, -82.715314], [29.614290000000004, -98.46684], [35.21400999999999, -80.77125], [38.299831, -122.034062], [25.627895, -80.414635], [37.965243, -122.3256], [41.02253, -73.782988], [39.068815, -121.010393], [33.577332, -117.181005], [28.486455, -81.417346], [34.135584, -118.000884], [25.8466, -80.38754], [43.05054000000001, -71.43746], [41.83151, -88.01677], [29.966667, -90.076792], [34.063585, -118.011632], [33.821958, -117.875994], [41.0321, -73.72348000000002], [40.74158, -73.94954], [40.117064, -75.349977], [28.08724500000001, -82.459535], [35.838295, -78.674359], [41.10133, -73.57068000000002], [38.515588, -90.334321], [45.069133, -93.054288], [41.52082, -74.01019000000002], [36.902837, -121.699343], [43.100524, -83.61729], [39.94333, -74.09133], [25.884377, -80.165214], [25.761791, -80.82146999999998], [40.862136, -73.912263], [42.297043, -84.972786], [41.09747, -115.1164], [38.03212, -122.11675], [38.916987, -104.982836], [25.941346, -80.18984300000002], [35.871148, -80.02628299999998], [40.700434, -73.499789], [35.16437, -80.74106], [29.83503, -82.16656], [42.85197, -114.4335], [35.412109, -119.163123], [38.159841, -79.014669], [42.887352, -78.886739], [33.486940000000004, -117.14279], [34.133694, -117.393275], [34.67642, -82.53336], [37.411841, -122.078095], [36.758719, -76.341215], [34.01667, -118.054247], [35.352808, -118.914106], [34.071849, -117.887757], [37.15882, -121.98263], [34.030376000000004, -117.684227], [34.61027, -120.054954], [37.690692, -122.09335], [35.777025, -78.709451], [38.21758, -122.13596], [41.061514, -121.489933], [27.751969, -82.684433], [38.452188, -121.408189], [33.123677, -80.0993], [40.233794, -111.670981], [29.921125, -90.042926], [29.512292, -98.695732], [32.175554, -110.910512], [34.008842, -118.158573], [34.069959999999995, -117.60993899999998], [30.487972, -97.771464], [41.363493, -72.099827], [34.007027, -117.928659], [33.902075, -118.105066], [43.796235, -121.442452], [25.636248, -80.341093], [33.790951, -118.285867], [35.193371, -80.725833], [36.891964, -119.795696], [30.565489000000003, -84.27763399999998], [40.48603, -111.89707], [37.42262, -120.766342], [28.947144, -81.98479300000002], [40.682995, -73.65226899999998], [47.462746, -122.248746], [37.08364, -120.490303], [36.071081, -86.94714499999998], [28.191744, -82.46525600000002], [33.7311, -117.81164], [34.944344, -79.845489], [35.731284, -78.655826], [33.617863, -85.761054], [38.560435, -121.481534], [34.768502000000005, -92.261756], [39.050205, -94.471124], [25.753773, -80.384241], [41.027895, -124.107474], [37.81117, -122.36401200000002], [28.385739, -81.50255200000002], [37.332477, -122.017696], [43.597387, -116.346148], [38.116132, -121.392756], [39.00169, -77.40325], [37.838302, -121.612188], [34.687586, -111.979597], [34.263085, -118.440916], [43.095921, -75.848675], [41.60827000000001, -72.90091], [35.27332, -80.83193], [32.807686, -117.245902], [37.680134, -122.093973], [47.14112, -122.43458], [46.556035, -112.864254], [35.146377, -80.62956700000002], [29.610153000000004, -95.420965], [34.795238, -80.700477], [33.971608, -117.331018], [32.7909, -96.805957], [33.90834, -117.45344], [45.678333, -108.699244], [34.635192, -119.372769], [29.46352000000001, -95.04431], [48.160425, -112.443147], [42.932714, -76.127454], [37.98992, -122.52869], [33.988082, -117.899895], [35.201193, -78.67154000000002], [33.926347, -117.883068], [43.050262, -88.040261], [30.42783, -91.119352], [37.051696, -120.572098], [34.00379, -117.064164], [39.018555, -76.970547], [40.39955, -79.559431], [40.81255, -115.82153999999998], [38.40346, -122.816438], [39.09423, -94.89533], [37.983275, -122.041624], [39.140714, -77.212396], [33.793997999999995, -117.230075], [25.963059, -80.154208], [29.857540000000004, -95.40148], [38.675818, -121.952104], [41.68811, -83.64446], [26.114418, -80.311194], [33.78327, -84.6098], [33.928259999999995, -118.28576], [40.061098, -76.35619200000002], [40.541964, -74.297972], [44.03545, -117.00059], [42.886065, -74.3467], [32.557049, -96.663154], [41.099462, -73.95084], [39.904818, -75.112817], [39.991387, -76.467463], [28.522744, -81.308059], [42.31888, -122.85936], [34.066275, -118.216208], [37.581763, -122.325968], [42.62837, -124.39878], [33.890236, -79.755667], [37.771843, -122.423304], [33.669175, -80.501271], [38.42520800000001, -105.568817], [33.87605, -84.27490999999998], [32.72316, -96.82691], [33.606196000000004, -86.689898], [42.687953, -124.433613], [29.520574, -98.493214], [46.712932, -92.259032], [37.890165, -122.308298], [40.428541, -79.937848], [42.18268, -87.94966], [39.82727, -105.00703], [37.332004, -122.017368], [33.599948, -117.249006], [37.085621, -121.597401], [34.355221, -118.96833], [24.66279500000001, -81.467063], [25.83108, -80.24199], [30.266792, -97.738272], [46.626908, -99.142565], [33.963302, -117.323767], [38.614507, -121.345998], [38.076006, -104.707335], [34.066513, -117.509984], [41.034054, -73.81796899999998], [45.12911, -93.36251], [40.430912, -74.24449399999997], [33.98936, -117.36038], [35.02706, -82.03522], [33.665531, -117.644509], [40.92256, -73.8611], [35.30573, -80.74985], [40.77884, -73.82647], [38.039264, -122.24666], [41.137947, -111.871883], [34.196301, -119.06708], [29.683558, -83.398198], [30.281283, -81.620649], [33.916114, -118.189254], [30.187672, -97.646688], [37.590256, -122.362182], [41.819897, -113.422819], [34.044588, -118.248971], [34.007020000000004, -117.82629], [30.503925, -91.158587], [44.97, -93.30883], [35.84181500000001, -78.537689], [42.017151, -87.758391], [37.739313, -121.590853], [32.193469, -110.875099], [42.49517, -83.52322], [36.141189, -86.66338499999998], [34.006021999999994, -117.92963799999998], [45.281847, -120.747775], [38.900966, -77.01848000000003], [36.065079, -80.251906], [29.741618, -95.439875], [38.805666, -77.064462], [26.41672, -80.08977], [37.372228, -120.678244], [32.803244, -96.793263], [34.85835, -82.13691999999998], [41.05784, -73.81695], [25.946072, -80.147246], [25.904321, -80.24255500000002], [41.57922, -81.54484000000002], [37.714728, -121.710007], [33.805049, -118.207494], [30.450101, -91.138971], [39.82806, -104.98484], [43.987023, -123.01125], [47.834118, -122.266341], [39.979206, -75.203876], [30.306039, -81.848512], [27.884090000000004, -82.48579000000002], [34.630779, -86.87558299999998], [35.184376, -113.461791], [43.565969, -119.079906], [39.5019, -76.226014], [26.54637, -81.87144], [32.798336, -117.238423], [47.42228, -114.84114], [40.24608, -75.34214], [40.28346, -74.08644], [32.883851, -79.937812], [39.099563, -94.572527], [30.017834000000004, -82.608808], [34.029352, -118.017141], [39.77989, -104.98547], [38.69287, -121.351608], [39.03517100000001, -122.74498], [40.6967, -111.93893], [35.332568, -80.800611], [33.974762, -118.2512], [29.80895, -95.44116], [34.155504, -118.44473899999998], [27.999494, -82.79142399999998], [44.779361, -95.029474], [28.384523, -81.486358], [32.285137, -81.11621600000002], [45.81111, -118.47477], [31.723497, -106.308361], [29.510167, -98.539477], [38.449133, -122.151907], [28.541368, -81.53524300000002], [36.801849, -76.37353], [28.338919, -81.409591], [34.043, -118.22074], [33.422124, -112.289608], [36.011477, -77.857199], [39.93972, -83.01474], [40.61093, -74.11198], [38.160668, -122.571795], [25.816086, -80.206008], [42.665687, -84.51823], [44.69792, -122.06047], [25.926627, -80.23997800000002], [41.71499, -72.648453], [45.43181, -122.54386], [44.859641, -93.102225], [34.024534, -118.469516], [38.055922, -122.218132], [30.401226, -87.31783100000001], [44.361235, -120.92864099999998], [34.19923, -118.337917], [29.028969, -82.15871700000002], [40.099958, -75.461665], [30.626328000000004, -85.562398], [35.164778000000005, -80.961315], [37.30546, -77.408857], [39.78254, -86.14619], [44.757302, -122.335864], [32.984701, -117.254676], [39.002976, -122.713248], [42.19356, -122.67154], [38.019658, -120.24668], [40.201731, -77.380346], [39.38185, -77.26555], [47.15541, -122.43171], [33.816572, -117.83181299999998], [37.552988, -77.48010699999998], [37.648818, -77.598752], [35.11473, -89.90276], [36.140684, -86.73218299999998], [27.945088, -82.32842], [37.98026, -122.05598], [30.369924, -91.079628], [41.539837, -72.817166], [38.299469, -122.486883], [41.83341, -88.02733], [37.765283, -122.404835], [30.307974, -97.707454], [45.53844, -122.85883], [40.789483, -73.82249200000003], [38.324019, -121.32807], [39.55705, -84.27569], [37.20709, -93.292335], [47.500792, -121.885335], [40.81795, -111.94952], [36.897035, -121.676083], [47.23488, -122.468913], [43.74712, -87.94105], [34.095884000000005, -117.925381], [35.23515, -80.94093000000002], [25.872203, -80.228323], [41.300067, -73.950344], [32.92622, -96.81746], [32.760566, -117.1942], [33.972555, -118.079507], [30.403206, -86.603287], [33.774965, -118.086841], [37.4362, -77.43890999999998], [45.25117, -92.909], [38.264341, -78.940484], [27.96547, -82.43388], [26.55882, -80.06969699999998], [30.166386, -81.550129], [39.995518, -75.74891600000002], [33.73834, -117.82658], [33.48618, -86.82567], [45.530452, -118.44828400000002], [36.152855, -119.259553], [35.754821, -78.714489], [29.749163, -95.368505], [34.392394, -118.472478], [39.815443, -104.98299], [39.300921, -76.501704], [42.6126, -83.98709000000002], [45.231558, -123.161012], [33.383961, -111.685139], [25.704529, -80.366353], [33.911829, -118.177594], [35.129022, -80.87617900000002], [41.958354, -76.992526], [25.656381, -80.41443199999998], [29.7357, -95.369647], [32.895497, -96.911752], [30.416477, -91.143324], [39.495107, -74.660046], [30.457302, -91.169672], [40.953716, -76.666127], [38.52798, -121.26107], [33.989912, -118.064015], [34.162255, -118.294011], [30.521022, -91.164762], [41.92884, -88.10104], [39.442104, -76.34869599999998], [25.734508, -80.367766], [44.952524, -92.958524], [41.05492, -81.56661], [35.866968, -78.620678], [26.36321, -80.11973], [26.9749, -82.020975], [34.026258, -118.431424], [37.321555, -120.531441], [44.658898, -93.670302], [32.350368, -111.027805], [27.328384000000003, -82.530599], [25.866297, -80.24238199999998], [38.45549000000001, -81.93082], [33.751054, -117.845706], [40.601988, -80.23227299999998], [34.417677000000005, -119.589309], [38.74745, -90.58935], [39.73758, -75.00249000000002], [26.13648, -80.153891], [35.28340700000001, -80.748822], [34.06876, -117.84253], [43.02113, -71.44235], [40.83541, -73.88211], [34.17413, -118.84971000000002], [34.136641999999995, -81.217212], [43.953734, -93.262091], [32.049168, -87.786115], [25.80482, -80.313055], [25.867668, -80.24240400000002], [27.441691, -80.391286], [25.700057, -80.412909], [43.25303, -77.69645], [30.185037, -81.63715400000002], [42.641697, -73.752227], [45.47653, -122.5371], [35.893867, -78.56135], [39.173968, -76.637761], [44.95185, -93.15679], [34.153721000000004, -118.340115], [29.98272, -90.055219], [37.824778, -77.455308], [25.732244, -80.367769], [35.821548, -78.590266], [33.20707, -117.38531], [30.32250100000001, -81.54213], [40.584021, -73.96518499999998], [37.70101, -122.39318], [36.808156, -119.879606], [37.939524, -121.297861], [37.62036, -122.4257], [34.087151, -117.680551], [32.722939000000004, -117.162634], [30.19215, -81.73926999999998], [35.420465, -119.0301], [34.473807, -118.467641], [28.35967, -81.38773], [34.153207, -118.352799], [42.647079, -73.748923], [34.282783, -118.415161], [36.157592, -86.801528], [25.687695, -80.384231], [29.752961, -81.348427], [43.642332, -70.286295], [30.407157, -86.886398], [28.193511, -82.298776], [37.605305, -120.993531], [33.804212, -117.506128], [28.577378000000003, -81.479244], [38.573604, -121.348388], [39.73964, -84.281116], [36.596307, -118.05123], [34.345251, -82.061463], [34.042949, -118.272635], [29.635878, -95.256509], [36.018, -83.860777], [47.64496, -122.30474], [45.370541, -122.176455], [42.917764, -83.726941], [32.811731, -117.155703], [38.001081, -122.282196], [34.499689000000004, -118.223807], [37.299241, -120.69912], [40.494242, -77.104614], [34.0099, -117.823332], [34.199839000000004, -118.856772], [40.999871, -78.347077], [34.920843, -81.992132], [39.80026, -75.05362], [33.77275, -84.55190999999998], [28.428665, -81.406997], [37.769669, -122.416109], [27.794061, -82.334977], [33.782047, -86.82567], [36.758856, -76.308552], [30.255368, -97.482163], [39.95812, -75.65381], [34.064054, -117.54509], [41.82811, -87.6304], [32.825351, -116.622543], [42.804976, -73.948427], [37.329685, -121.867957], [34.555724, -92.53708], [34.953298, -80.85039599999998], [34.066494, -117.213363], [33.974651, -118.28396], [44.897875, -93.350038], [40.731963, -74.115911], [28.41931, -81.4227], [36.259391, -86.713204], [34.085614, -117.689069], [33.337465, -117.159329], [25.858814, -80.3229], [33.74071, -117.83391], [41.43661, -72.1097], [43.013867, -74.928442], [34.027198, -117.800458], [33.973312, -81.134721], [48.10459, -123.38094], [42.385243, -83.157824], [39.953337, -75.581313], [40.501801, -80.131304], [37.769161, -84.316366], [36.127219, -86.844415], [25.990616, -80.16565899999998], [45.149943, -93.176088], [35.236555, -112.224944], [29.845554, -95.394316], [25.577199, -80.364526], [34.06446, -118.00388], [42.057056, -85.635811], [39.672006, -79.855638], [42.98944, -85.67721999999998], [38.643988, -78.609916], [36.95983, -81.06149], [25.769722, -80.333529], [34.050096, -117.997408], [38.163722, -79.004237], [42.35788400000001, -83.216388], [40.706012, -111.90388], [37.074241, -122.082559], [39.840391, -86.040577], [34.156108, -118.468562], [30.702484, -84.787234], [41.93555, -86.36657], [39.172021, -76.733976], [37.76432, -122.21711], [47.761446, -117.407297], [39.87475900000001, -75.096627], [37.278467, -121.86413799999998], [25.565997, -80.38181800000002], [37.335002, -121.855965], [45.103811, -93.18847], [41.72926, -88.01181], [39.016667, -94.554873], [32.449311, -93.877389], [41.547341, -72.630676], [33.854073, -117.892176], [37.593584, -121.869433], [40.012098, -111.7623], [34.63839, -78.96197], [34.029457, -118.224896], [42.47749, -71.11332], [34.151201, -118.28118], [39.18353, -104.85036], [34.013935, -84.330219], [33.930712, -117.422431], [34.075781, -117.619897], [25.685208, -80.422887], [30.448186, -84.26111800000002], [34.135857, -117.39838799999998], [39.06898, -94.511646], [33.592517, -80.356748], [39.77779, -75.04898], [39.27808, -77.32361999999998], [37.40788, -77.656], [37.980369, -122.065426], [25.848725, -80.24176800000002], [43.717142, -123.213247], [45.730258, -108.601847], [33.936984, -117.102949], [28.60856, -82.359735], [37.688011, -122.09629], [38.568606, -121.331279], [37.634557, -122.086375], [35.394167, -118.9675], [38.244381, -77.49897], [45.444442, -111.731791], [41.007596, -76.548839], [36.964648, -120.068238], [40.52267, -74.29006], [34.994521, -82.78327], [34.092606, -118.205133], [38.505622, -121.455968], [34.57247, -118.69176000000002], [34.028438, -118.214722], [38.630744, -121.401403], [38.955424, -78.45083299999997], [35.283015, -109.215353], [37.413054, -122.081111], [25.810261, -80.33999399999998], [28.376268, -81.42591999999998], [33.681389, -117.853614], [42.245958, -123.142818], [46.165913, -95.33237], [41.358042, -93.779586], [38.552566, -121.414915], [38.57599, -112.335543], [33.755878, -78.968721], [41.080729, -111.910989], [34.691938, -85.003098], [25.714894, -80.43121], [41.059729, -74.185052], [34.152084, -118.126834], [36.967123, -76.296145], [27.950643, -82.517649], [40.90681, -124.03287], [40.293511, -111.7255], [43.822671, -122.609041], [33.039386, -117.283419], [34.045075, -118.445159], [48.33364, -114.262377], [34.723547, -82.388164], [45.23862, -122.80355], [25.748334, -80.28935899999998], [26.788541, -80.098732], [37.553706, -77.482117], [41.633194, -90.904709], [33.809749, -118.289155], [33.91581, -84.40314000000002], [37.756871, -122.403428], [33.426323, -112.590307], [34.022806, -117.33662], [30.324111, -81.52738000000002], [37.739335, -121.59082], [44.886671, -93.399249], [35.655519, -120.399759], [37.72323, -97.42619], [40.853952, -73.967221], [45.618991, -119.441257], [34.64177, -118.153055], [38.80321, -90.67476], [29.80408, -95.44794], [39.199937, -94.49271], [40.441766, -111.901849], [35.02609, -80.80952099999998], [40.726323, -73.83192], [41.751138, -72.657046], [45.880889, -95.48743], [33.970857, -117.330529], [33.658553000000005, -80.76393900000002], [45.588753, -93.780443], [27.865737, -82.326532], [33.689635, -117.920249], [34.548643, -117.29513500000002], [41.68589, -73.785], [30.36296, -97.668542], [38.116132, -121.401189], [30.42524, -91.00753], [30.484172, -91.089619], [33.70644, -117.779], [36.571494, -121.808415], [34.433908, -118.384426], [27.440387, -82.587683], [37.443502, -77.581315], [34.273556, -118.58944], [39.59465, -106.25116], [45.41013, -122.51764], [39.494129, -77.331179], [45.19431, -123.21048], [34.153464, -118.464023], [43.15525, -77.64395], [34.495803, -118.62392], [37.26637, -79.75824], [39.555222, -123.430321], [38.964718, -76.193929], [30.535093, -91.173037], [36.300171, -86.696017], [27.76875200000001, -82.391925], [34.144572, -117.268838], [26.97318, -82.35369], [33.689265, -117.91931], [42.695087, -73.834907], [33.4413, -112.03758], [44.246671, -121.189008], [25.92859, -80.244635], [43.604885, -116.291914], [33.853715, -117.963498], [31.383545, -94.772311], [34.896463, -80.99163100000001], [38.270549, -122.051892], [34.061331, -117.185993], [41.351197, -72.86766800000002], [41.911685, -72.63127800000002], [36.320747, -86.874145], [40.60938400000001, -74.09082], [33.998748, -118.147584], [30.386133, -91.073035], [28.595618, -81.20769200000002], [34.154354, -118.322273], [42.974064, -73.974882], [38.554728, -121.687321], [33.92813, -118.368531], [33.474065, -81.270128], [29.959273, -90.084918], [43.664736, -116.354555], [44.316928, -120.656557], [34.004423, -117.06541], [33.908323, -81.220375], [40.21884, -74.61685], [40.716018, -73.818453], [35.772289, -78.741577], [33.974729, -118.239808], [32.134037, -110.935826], [33.100877000000004, -117.090278], [25.92871, -80.18718100000002], [38.984274, -122.079236], [35.059139, -106.63808], [34.489002, -92.208418], [46.149398, -107.44888], [37.875122, -122.188009], [35.99171, -79.82718], [27.264069, -82.449244], [41.10144, -73.98703], [41.75483, -71.46773], [37.78106500000001, -121.312393], [45.388521, -122.75018], [28.54456, -81.27745999999998], [25.80702, -80.20572], [37.759824, -122.392246], [40.71907, -73.58048000000002], [41.767645, -78.718856], [34.0334, -118.11427], [40.76635200000001, -74.204359], [39.8046, -86.05416], [35.162882, -80.876029], [36.752856, -119.786866], [40.78377, -73.62621999999998], [41.318403, -77.41485], [40.72158, -112.04793], [32.235467, -110.842624], [36.996414, -120.102502], [34.222229, -117.40974], [44.950357, -93.081203], [28.343542, -82.69118399999998], [41.74486, -72.660709], [36.12474, -86.323645], [38.831421, -120.810343], [37.634103, -120.971329], [35.909959, -86.824929], [34.330015, -78.218738], [35.124127, -118.492608], [40.388542, -76.64155799999997], [38.565991, -121.470558], [33.970957, -81.136792], [37.497991, -77.040165], [40.427991, -79.95500200000002], [39.239012, -123.207732], [37.631267, -121.044349], [35.19481, -80.76629], [37.874507, -122.306036], [39.77133, -104.99073], [33.18238, -117.30033], [47.544269, -114.070299], [32.957755, -80.068359], [40.08012, -76.24932], [45.876658, -122.81171], [41.83483, -87.63033], [32.39832, -111.12709], [34.072117, -118.099471], [46.195487, -92.847344], [38.83913, -104.717585], [39.087477, -76.89478000000003], [29.736491, -95.47652], [40.44068400000001, -75.428127], [36.013475, -83.85911899999998], [45.691205, -118.92933899999998], [40.205501, -74.583445], [30.461265, -87.270353], [29.990876, -90.068267], [38.02116, -121.941945], [34.138467, -117.242715], [40.846654, -74.428341], [41.60296, -111.97822], [42.280207, -83.150786], [37.688074, -77.684411], [33.853902000000005, -117.91174], [45.251387, -118.020168], [41.75174000000001, -87.97381999999998], [34.361841, -119.447575], [33.872489, -117.664754], [35.787569, -78.573985], [34.123059999999995, -80.917757], [30.447674, -91.092071], [44.14949, -121.26639], [37.57275, -118.713881], [30.418868, -91.1416], [35.445274, -118.528479], [40.888218, -75.67683000000002], [36.103358, -86.816091], [37.76517, -122.167033], [41.75353, -87.87142], [40.063501, -76.358908], [25.733269, -80.331645], [37.108816, -121.01806299999998], [25.78655, -80.336809], [41.000322, -73.652976], [39.61976, -104.8994], [32.713111, -117.137936], [28.11608, -80.706057], [34.197038, -80.105363], [29.731216, -95.409391], [39.09119000000001, -77.522739], [35.303176, -119.047133], [40.739211, -122.927156], [37.783183, -121.227099], [29.481908, -81.185885], [34.024347, -117.559965], [37.005488, -121.519407], [26.12092, -80.24138], [37.68585, -121.91688], [35.78384600000001, -78.700066], [45.977936, -117.265814], [38.670401, -121.887597], [34.889112, -82.17257], [37.977891, -87.59451999999996], [33.986173, -118.397737], [44.95016, -122.99008], [37.717705, -121.53266], [34.018436, -118.168682], [41.7282, -72.61368], [41.025224, -75.306235], [32.717868, -117.146751], [41.052639, -80.00324], [38.418558, -78.884028], [39.537103, -104.86861], [32.910893, -80.027796], [33.457003, -117.104449], [32.2502, -110.9442], [38.021691, -78.431536], [38.2248, -122.12559], [32.956634, -117.1006], [45.504991, -122.67361], [45.087258, -93.287721], [28.86321, -82.09192], [34.122918, -118.07302], [41.71811, -73.93202], [45.184075, -122.802156], [38.600575, -77.31381999999998], [30.437718, -91.026653], [34.568857, -118.689028], [38.575495, -121.378253], [34.031220000000005, -118.274582], [33.854416, -117.790616], [42.17171, -87.96531], [34.902977, -82.334102], [38.37921, -75.17468000000002], [35.426182, -119.031836], [37.991562, -120.411027], [26.114474, -80.311418], [34.425284000000005, -118.423635], [33.714789, -84.398955], [38.714365, -121.394809], [33.990761, -117.933884], [38.638102, -121.203072], [41.949371, -80.32825], [27.410641, -80.40100799999998], [32.887595000000005, -96.769798], [40.596145, -73.507579], [38.92912000000001, -94.405163], [32.9258, -96.811383], [39.468863, -77.989891], [29.458305, -98.412055], [34.0038, -118.276922], [33.988766, -117.889304], [44.280631, -121.270902], [34.293748, -118.470693], [39.610161, -119.851617], [34.038352, -118.27428], [30.418105, -91.108171], [38.772286, -90.304173], [38.512035, -122.104354], [34.155503, -118.401012], [32.891276, -117.227458], [44.407801, -122.605824], [41.75162, -72.65872], [35.528993, -119.331001], [34.08913, -118.237527], [45.099718, -93.188004], [36.01049000000001, -86.616328], [28.027372, -82.223202], [30.417244, -81.56557600000002], [39.971807, -75.465361], [33.17728, -80.675253], [34.866073, -82.052257], [40.153641, -75.187977], [29.740632, -95.62364], [38.2175, -122.60386], [35.128275, -92.400339], [34.030253, -117.672026], [33.74555, -84.33967], [34.11019, -117.1993], [44.669541, -123.058043], [40.88966, -76.790894], [45.34848, -122.643116], [37.055555, -120.835377], [33.498137, -112.265417], [45.449042, -94.518838], [40.63782, -109.48013], [38.211462, -122.25645], [35.146782, -80.87643299999998], [33.461436, -112.077271], [42.001017, -88.886898], [40.256804, -75.248028], [39.91631, -105.09463999999998], [34.150365, -118.420327], [29.77078, -95.16313], [44.979995, -92.779252], [35.717936, -119.223103], [37.21959, -119.707775], [34.14632, -118.02777], [41.199683, -73.193899], [29.8141, -95.38256], [33.511364, -112.112457], [33.061413, -117.291292], [44.777879, -122.565567], [25.778205, -80.333703], [38.069878, -75.494474], [40.31322, -79.938641], [39.29498, -76.60178], [33.809142, -118.28768], [32.843586, -96.774676], [27.3882, -82.46066400000002], [35.256082, -118.910876], [35.053568, -85.306551], [37.668957, -122.109386], [26.72375, -80.09163000000002], [42.46498, -83.10772], [36.881092, -76.21073100000002], [45.172338, -93.527023], [36.00125, -86.79419], [30.413003000000003, -91.05145], [41.187539, -111.984403], [25.901793, -80.30837199999998], [43.060958, -83.713951], [43.068445, -124.415262], [25.816117, -80.38167], [36.593544, -121.876389], [25.811613, -80.313412], [35.047766, -81.80779100000002], [29.396645, -98.509046], [35.070621, -85.246948], [33.854002, -117.941834], [39.93278, -75.398569], [45.508708, -122.738383], [47.15908, -122.48378], [33.652305, -78.98514300000002], [37.21845, -93.311996], [41.10717, -112.00757], [45.497773, -122.637587], [29.613721, -95.406573], [30.401609000000004, -97.678629], [32.98004, -117.25301], [33.841848, -117.830857], [28.640929, -81.414264], [35.610363, -106.035001], [29.799840000000003, -95.01948], [32.830496999999994, -117.141815], [38.825801, -77.36483199999998], [46.11054, -123.30102], [41.267577, -110.943943], [34.894231, -82.395251], [31.851335, -106.44012], [25.578347, -80.369697], [34.023922, -118.184972], [28.557067, -81.310693], [42.30753, -87.90401], [36.73434500000001, -76.237368], [37.715203, -122.172643], [36.079423, -79.224641], [33.765932, -117.798543], [44.726757, -117.839381], [39.305705, -120.646286], [34.17233, -118.570878], [34.081681, -117.731455], [39.165723, -122.9769], [33.960012, -118.285317], [37.572909, -122.316359], [42.257522, -71.04097], [42.138056, -122.601126], [28.453387, -81.40002700000002], [35.743783, -78.44619499999997], [45.301043, -121.736225], [34.0376, -118.0862], [37.752778, -121.142222], [33.662240999999995, -117.875095], [43.430317, -94.993811], [34.068618, -118.216749], [34.39108, -118.570336], [39.161692, -75.513701], [25.941563, -80.189584], [30.028868, -90.0121], [47.394794, -115.431472], [33.824452, -118.292419], [35.160158, -85.206098], [38.628294, -121.26426], [33.700157, -117.945619], [33.410725, -111.978176], [34.1607, -118.38095], [34.98996, -85.228249], [37.610671, -121.139556], [42.12963900000001, -122.631183], [38.779344, -77.483048], [26.546138, -81.854864], [47.969387, -100.606602], [36.855465, -119.789394], [30.408398, -91.015776], [25.794771, -80.384935], [34.800246, -91.750392], [42.803004, -88.274241], [36.116461, -86.74801500000002], [38.772056, -77.18265500000003], [42.333817, -78.564278], [33.906546, -117.881501], [40.44987800000001, -80.001039], [33.461661, -112.116987], [37.710946, -120.907663], [40.509686, -121.937841], [37.552525, -77.47882800000002], [38.562044, -121.47108500000002], [33.772068, -117.909194], [33.901111, -117.469326], [33.931405, -117.289075], [38.639311, -77.80345200000002], [30.408001, -91.101837], [27.695441, -82.678934], [25.768445, -80.368922], [36.263554, -86.7166], [29.80802000000001, -95.261921], [38.877793, -76.962007], [34.215962, -118.35285], [43.01559, -121.82597], [28.545435, -81.203758], [33.457123, -111.978441], [44.43876, -121.95413], [40.06058, -82.97736], [38.255185, -122.332634], [38.155004, -122.214907], [43.180464, -77.613642], [39.290643, -120.936335], [34.255312, -119.215626], [42.344311, -87.936491], [30.02817000000001, -95.25816], [37.613802, -121.007222], [32.275768, -110.961047], [34.135755, -117.233229], [44.94543, -122.99015], [39.174955, -77.02349699999998], [38.31172, -85.58785], [47.5803, -122.16587], [25.880138, -80.355719], [29.962566, -90.02193100000002], [34.116464, -118.271309], [37.707178000000006, -122.122855], [38.681412, -77.230743], [42.176417, -86.292082], [44.95162, -93.12629], [27.550157, -82.463155], [25.922332, -80.293025], [38.671639, -121.382983], [33.891183000000005, -98.501837], [33.886793, -118.104268], [39.102608, -84.51001], [32.243156, -107.445018], [26.542576, -81.83935799999998], [41.87775, -93.53137], [39.555186, -119.787855], [32.92807, -96.7602], [28.547718, -81.35518499999998], [28.185657, -82.354599], [30.276691, -81.52138000000002], [41.71341, -87.55975], [39.796899, -84.21713299999998], [33.9557, -84.12258], [37.131611, -113.521181], [38.660805, -121.348068], [40.071427, -74.95743900000002], [42.579421, -73.874831], [25.76218900000001, -80.330797], [40.84373, -73.89568], [38.663263, -121.276274], [35.178993, -91.760697], [38.473531, -112.237604], [34.121664, -117.911315], [42.43246, -83.09536999999997], [37.699831, -120.99506], [33.761404, -117.863892], [28.933721, -81.95735400000002], [32.191871, -110.832342], [33.744342, -84.498774], [27.58613900000001, -82.425511], [33.538309000000005, -86.792775], [42.2276, -87.97713], [39.774659, -104.852002], [40.164905, -122.280403], [39.104, -84.60561], [30.168725, -81.535474], [39.157038, -123.59856299999998], [47.60147, -122.32485], [35.738167, -78.780176], [28.439818, -81.470864], [40.420434, -111.925211], [38.87932, -77.25435], [38.560557, -121.464091], [35.95361, -78.52693000000002], [30.550607, -87.89123599999998], [42.36405, -83.07944], [38.44679, -121.851805], [42.07689, -122.60206], [40.496616, -107.243499], [27.821097, -82.67749], [40.452589, -78.082525], [47.700532, -122.34465], [43.150447, -77.635323], [39.790243, -110.930797], [32.697109000000005, -117.137012], [40.87377, -73.98254], [47.70686, -122.34473], [32.102241, -86.06546], [37.854243, -122.02491299999998], [44.75613, -123.05004], [25.685761, -80.446127], [28.547104, -81.228972], [32.762568, -117.163295], [46.847137, -96.768236], [29.951186, -90.109001], [39.968906, -74.208152], [33.97867, -118.07803], [29.139447, -82.053731], [32.827223, -96.623092], [33.973344, -118.077849], [34.425113, -118.423629], [41.807502, -122.4988], [26.978824, -82.094201], [34.256646999999994, -82.138777], [33.869015000000005, -117.730573], [37.622078, -77.526675], [40.087577, -74.972022], [38.473433, -121.418526], [30.313947, -81.658375], [34.76860300000001, -92.411294], [32.840226, -97.236803], [38.41512, -122.71613], [37.830669, -122.293345], [36.00457, -119.30148], [39.04877000000001, -94.3641], [32.893804, -96.744503], [35.35306, -80.84549], [37.438288, -122.246936], [37.664739, -77.481049], [43.186042, -95.683449], [34.481673, -82.663202], [36.55627, -121.550329], [38.46529, -121.40873], [40.925893, -74.962633], [32.070041, -81.202722], [40.939982, -77.728936], [35.258016, -81.011236], [36.576974, -78.655175], [27.462491, -82.58591], [34.13841, -118.27657], [40.259897, -75.338675], [41.46699, -73.82125], [32.94201, -97.31258], [42.380348, -88.139781], [35.161755, -80.800845], [44.628729, -123.06226], [33.84527, -117.87618], [34.493021, -118.206677], [27.432486, -82.575461], [26.07862, -80.21576999999998], [32.1633, -110.94342], [42.86957, -73.72617], [34.172603, -118.551199], [44.932809000000006, -123.148825], [39.51752000000001, -111.48614], [37.55022, -122.02569], [38.85161, -76.95916], [41.038753, -78.40513], [36.0352, -79.794], [32.82871, -96.824978], [46.254914, -122.883893], [33.92938, -117.41643], [41.75952, -72.64124], [32.851122, -96.77735], [33.534209999999995, -111.422556], [35.081089, -80.77242], [33.997167, -117.931182], [34.05941, -118.00142], [38.233505, -121.291047], [44.910961, -122.987362], [35.127933, -81.55364], [34.022265999999995, -117.554393], [40.75777, -73.73823], [33.931389, -78.834222], [39.396661, -77.32964100000002], [38.947205, -77.008627], [28.450912, -81.46547199999998], [38.55921, -121.37961], [29.743773, -95.401286], [33.99853, -117.93673], [33.945179, -84.35818], [39.096302, -94.574011], [34.16505, -118.469498], [34.02811, -117.754173], [40.670388, -74.629515], [36.680463, -119.744271], [39.191568, -94.514026], [42.128404, -88.135442], [36.801034, -77.460039], [30.512648, -87.296784], [34.161438000000004, -79.67542900000002], [34.891494, -82.077229], [26.708103, -81.729509], [44.449417, -92.896435], [41.71854, -87.8179], [44.96178, -92.77324], [39.232982, -121.038984], [44.870064, -123.22904], [43.95366, -121.34905], [33.232711, -117.142], [36.268605, -121.379913], [33.41875, -82.079], [34.08748, -117.646171], [40.82807, -74.12248000000002], [37.36612, -77.49884], [33.87375, -118.22162], [30.433190000000003, -83.46099], [34.06648, -117.20875], [41.408447, -86.755954], [34.16749, -118.38394], [25.702429, -80.33314200000002], [34.145959999999995, -117.281288], [45.232451, -93.640132], [34.064687, -118.251117], [44.942075, -94.563285], [46.58811, -123.28427], [35.024840000000005, -85.29965], [41.91025, -87.694537], [38.985704, -94.356926], [25.937703, -80.12162], [37.488458, -121.931128], [33.97992, -84.53735], [33.89269, -117.880809], [38.598454, -121.34305], [33.531381, -111.925142], [42.135138, -88.016277], [28.084326, -82.45487], [40.06605, -76.202543], [47.491446, -94.920787], [40.645024, -73.97413900000002], [38.83677, -77.44759499999998], [37.303502, -122.03538], [28.450913, -81.36693100000002], [44.85962, -93.41622], [39.723457, -105.011526], [37.670436, -121.453975], [44.267113, -121.174117], [30.457212, -87.309685], [37.078755, -113.584629], [33.994292, -117.88437], [38.577099, -122.842907], [26.100014, -80.169014], [34.153967, -118.344974], [39.333194, -77.696653], [36.156981, -86.790003], [38.20121, -120.692741], [35.142761, -80.930305], [30.426076, -91.166209], [45.06694, -93.40077], [25.801284, -80.32126], [37.70151, -121.7692], [45.36959, -93.98348], [25.761267, -80.303842], [40.522187, -74.3628], [34.817823, -82.419081], [38.072625, -78.48232], [33.31026, -87.636125], [38.77057, -90.22461], [34.066720000000004, -117.238034], [33.569723, -86.819919], [36.10755, -86.807807], [37.391757, -121.997552], [37.710954, -120.954757], [34.128192, -117.920099], [25.814494, -80.205984], [39.888623, -75.218137], [32.831337, -117.130059], [30.504192, -84.124634], [33.840111, -117.249923], [34.01891, -118.17329], [32.810882, -96.849014], [37.598055, -120.964159], [47.494256, -92.723235], [40.247617, -75.656351], [25.627116, -80.3418], [37.76997, -76.46713000000003], [33.790317, -79.009538], [25.988878, -80.16583], [39.281083, -76.730068], [41.17101, -74.08496], [40.849517, -73.942247], [36.988632, -121.978566], [36.137925, -120.10277], [34.311977, -117.475291], [38.80794, -94.89032], [33.175492, -111.352657], [28.452939, -81.400159], [37.097872, -77.359157], [37.49609, -120.8717], [34.08057, -81.155232], [38.508013, -122.92934], [25.613946, -80.347157], [42.1682, -88.06756899999998], [33.967974, -118.166065], [34.43886, -86.94067], [35.415458, -119.036697], [47.28565, -122.30773], [34.019262, -117.49853799999998], [33.77425, -118.07798], [37.778568, -122.169144], [39.16796, -76.72677], [40.781002, -77.800115], [25.912222, -80.229446], [33.830365, -79.057723], [28.553187, -81.367283], [34.152128000000005, -118.121459], [28.568463, -81.25321600000002], [38.856915, -77.841698], [38.366567, -96.274742], [32.757145, -117.22337], [38.543043, -77.338287], [40.742882, -73.830539], [39.38504, -76.57676], [38.519768, -121.458272], [27.337835, -82.480899], [25.854079, -80.32239200000002], [39.70362, -105.24884], [42.83177, -78.79146999999998], [26.200453, -80.13255], [32.686075, -96.848551], [40.974847, -73.703613], [34.275764, -82.666771], [38.00127, -122.28231], [38.798485, -77.562028], [42.80972, -85.66871], [34.02548400000001, -118.205713], [39.827473, -121.602066], [27.521907, -82.518683], [33.634809999999995, -84.39905], [34.017089, -118.174078], [34.220357, -117.402383], [42.381917, -122.865193], [27.821094, -82.677818], [33.16789, -117.344494], [36.155519, -86.779957], [33.909381, -112.674705], [32.133861, -90.285934], [33.963193, -81.216476], [25.889368, -80.206795], [38.80068, -121.720078], [37.714728, -122.104663], [32.780205, -96.783012], [33.189442, -117.361753], [33.93844, -117.13369], [40.84507, -73.91626], [32.9252, -96.78807], [43.162599, -77.622433], [36.149492, -86.857896], [35.23012100000001, -81.460636], [37.700865, -122.026831], [39.76727, -75.543003], [28.678345, -81.428046], [33.37045, -111.89375], [41.188001, -87.284235], [33.824372, -118.287243], [32.963511, -80.804512], [34.032921, -118.14974], [38.957487, -76.905552], [37.649835, -121.615606], [40.96414, -78.60970999999998], [29.600615, -82.37184], [35.19444, -85.165482], [25.881947, -80.166259], [35.942922, -84.000011], [44.846281, -93.771587], [38.477126, -77.399888], [45.14549, -122.88658999999998], [38.23291, -77.50349], [40.43597000000001, -79.97368], [39.955799, -75.180633], [37.573235, -121.06663600000002], [39.897559, -77.42573399999998], [45.708206, -120.69338], [39.203843, -76.63095600000003], [37.42515, -122.09823], [42.37257, -83.05122], [37.182866, -93.345302], [40.573779, -74.330344], [34.384388, -118.571609], [39.798512, -86.112032], [37.474608, -77.429331], [34.60214000000001, -82.112797], [38.958589, -77.088549], [39.77496, -86.14216], [25.68526, -80.416472], [36.15231, -86.76898], [41.776157, -74.93906], [40.050498, -74.195973], [36.923848, -120.056007], [25.947317, -80.151248], [39.016116, -77.020416], [25.898192, -80.213526], [33.13426, -97.20514], [39.80186, -110.93841], [25.92835, -80.192291], [42.345803, -88.96412], [30.47799, -91.10897], [37.459419, -77.49628100000002], [44.69763, -93.28817], [30.358954, -97.681643], [28.312044, -82.69934], [33.733073, -117.81446499999998], [26.667342, -81.904821], [37.578381, -77.466713], [45.97025, -94.14103], [34.303508, -79.871711], [42.495921, -83.365212], [44.269466, -121.186727], [38.657975, -121.350052], [45.662733, -108.76953799999998], [45.121066, -93.049571], [34.889235, -82.35727800000002], [36.01187, -86.61747], [40.640519, -111.808151], [25.990816, -80.16590500000002], [36.7826, -76.08273299999998], [30.141102000000004, -83.900442], [25.905851, -80.210044], [28.565407, -81.17389], [37.33906, -121.85128], [29.964631, -90.009098], [41.10915900000001, -122.329039], [29.769483, -95.575422], [46.18436, -92.853744], [42.50985, -73.79075], [34.892065, -82.096711], [38.903778, -77.216645], [35.78899699999999, -78.68693499999998], [28.56641500000001, -81.286017], [43.00591, -75.98449000000002], [41.378832, -72.90398], [41.62119600000001, -78.828191], [38.87222, -104.71992], [33.882673, -117.624761], [36.858776, -77.41686700000002], [37.84348, -122.254006], [36.150699, -86.749972], [41.87923, -87.64551999999998], [44.98231, -93.2436], [27.960472, -82.748041], [37.249456, -121.089516], [38.88908, -119.976743], [25.984727, -80.17135999999998], [29.017567, -82.013306], [41.240111, -76.813777], [34.011075, -118.280745], [33.96907, -117.328625], [32.19108, -110.98047], [40.165404, -76.830557], [27.461503000000004, -82.526013], [29.628028000000004, -95.208916], [42.96768400000001, -85.590275], [41.097379, -74.530576], [33.992595, -80.32355799999998], [40.257998, -75.643782], [38.84506, -77.54515], [40.065209, -75.14147700000002], [26.544176, -81.871359], [35.257465, -81.022408], [35.38780999999999, -80.850437], [34.152301, -118.466577], [32.805017, -96.709902], [41.87561, -87.64155], [32.855401, -96.877379], [34.030253, -117.672026], [28.140671, -82.462777], [31.64995, -81.39668], [41.30093, -107.74005], [32.53086, -83.71993]],\n",
              "                {\n",
              "                    minOpacity: 0.5,\n",
              "                    maxZoom: 18,\n",
              "                    max: 1.0,\n",
              "                    radius: 25,\n",
              "                    blur: 15,\n",
              "                    gradient: null\n",
              "                    })\n",
              "                .addTo(map_648a17fdb702c3466741875876d9c220);\n",
              "        \n",
              "&lt;/script&gt;\" style=\"position:absolute;width:100%;height:100%;left:0;top:0;border:none !important;\" allowfullscreen webkitallowfullscreen mozallowfullscreen></iframe></div></div>"
            ]
          },
          "metadata": {},
          "execution_count": 10
        }
      ]
    },
    {
      "cell_type": "code",
      "source": [
        "# comparing distribution with heatmap and different zones\n",
        "\n",
        "Time_zone = df.groupby('Timezone')[\"ID\"].count().sort_values(ascending=False)\n",
        "\n",
        "Time_zone"
      ],
      "metadata": {
        "colab": {
          "base_uri": "https://localhost:8080/"
        },
        "id": "CCWUf1niD-PS",
        "outputId": "ea254205-a429-4c69-bfe3-c2c2f39f1f75"
      },
      "execution_count": null,
      "outputs": [
        {
          "output_type": "execute_result",
          "data": {
            "text/plain": [
              "Timezone\n",
              "US/Eastern     1221927\n",
              "US/Pacific      967094\n",
              "US/Central      488065\n",
              "US/Mountain     164597\n",
              "Name: ID, dtype: int64"
            ]
          },
          "metadata": {},
          "execution_count": 31
        }
      ]
    },
    {
      "cell_type": "code",
      "source": [
        "# dTime_zonef['%'] = scaler.fit_transform(df[[\"TOTAL\"]])\n",
        "\n",
        "Time_zone/Time_zone.sum()*100\n"
      ],
      "metadata": {
        "colab": {
          "base_uri": "https://localhost:8080/"
        },
        "id": "4APYcKbQ0PT2",
        "outputId": "996dcd14-15d7-47cf-991c-d784576fcfb1"
      },
      "execution_count": null,
      "outputs": [
        {
          "output_type": "execute_result",
          "data": {
            "text/plain": [
              "Timezone\n",
              "US/Eastern     43.000116\n",
              "US/Pacific     34.032438\n",
              "US/Central     17.175209\n",
              "US/Mountain     5.792237\n",
              "Name: ID, dtype: float64"
            ]
          },
          "metadata": {},
          "execution_count": 33
        }
      ]
    },
    {
      "cell_type": "markdown",
      "source": [
        "## 6. Temperature"
      ],
      "metadata": {
        "id": "Ko_U7t5exuVj"
      }
    },
    {
      "cell_type": "code",
      "source": [
        ""
      ],
      "metadata": {
        "id": "WqVu1LlxPWu-"
      },
      "execution_count": null,
      "outputs": []
    },
    {
      "cell_type": "markdown",
      "source": [
        "# Ask and Answer question \n",
        "- are there more accidents in warmer or colder area ?\n",
        "- which 5 states have the highest number of accidents/per capita? (needs population from other DB) \n",
        "- Among the top 100 cities in the # of accidents, which state have higher frequency? \n",
        "- New York City is splited into different neighbours, calculate population vs 3 of accidents is difficult\n",
        "- 'AK' 'HI' \n",
        "- What time of the day are accidents most frequent in? - ANSWERED\n",
        "- Which days of the week have the most accidents?\n",
        "- Which months have the most accidents?\n",
        "- What is the trend of accidents year over year (decreasing/increasing?) ? in New York?\n",
        "When is accidents per unit of traffic the highest.\n",
        "\n"
      ],
      "metadata": {
        "id": "XT2ThBJkB2k2"
      }
    },
    {
      "cell_type": "markdown",
      "source": [
        "# Summary and conclusion\n",
        "- data on 2016 is not complete !"
      ],
      "metadata": {
        "id": "U4iNenKf7mKz"
      }
    }
  ]
}